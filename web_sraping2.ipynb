{
 "metadata": {
  "language_info": {
   "codemirror_mode": {
    "name": "ipython",
    "version": 3
   },
   "file_extension": ".py",
   "mimetype": "text/x-python",
   "name": "python",
   "nbconvert_exporter": "python",
   "pygments_lexer": "ipython3",
   "version": "3.8.5-final"
  },
  "orig_nbformat": 2,
  "kernelspec": {
   "name": "python3",
   "display_name": "Python 3.8.5 64-bit ('quantTrading': conda)",
   "metadata": {
    "interpreter": {
     "hash": "f12840f8c3ee55eac1a5e8d37cc606a61527ff262478fc717919659d7e61c84d"
    }
   }
  }
 },
 "nbformat": 4,
 "nbformat_minor": 2,
 "cells": [
  {
   "source": [
    "### 目標: 找出 ```AAPL``` 跟 ```MSFT``` 的 balance sheet, income statement, cash flow statement, 與 beta 值:"
   ],
   "cell_type": "markdown",
   "metadata": {}
  },
  {
   "source": [
    "拆分目標:  \n",
    "- 先創一個 dictionary  \n",
    "- 因為有多個股票，所以要迴圈  \n",
    "    - 迴圈內要有另一個 dictionary，用來放各種資訊 \n",
    "    - 迴圈的最後，要把 local 的 dictionary 裡的資訊放入 global 的 dictionary(也就是巢狀 dictionary)  \n",
    "- 將巢狀迴圈轉型成 ```pandas``` 的 ```Data Frame```  \n",
    "- 將 ```NaN``` 刪除"
   ],
   "cell_type": "markdown",
   "metadata": {}
  },
  {
   "cell_type": "code",
   "execution_count": 6,
   "metadata": {},
   "outputs": [],
   "source": [
    "import requests \n",
    "import pandas as pd \n",
    "from bs4 import BeautifulSoup"
   ]
  },
  {
   "cell_type": "code",
   "execution_count": 7,
   "metadata": {},
   "outputs": [],
   "source": [
    "financial_dict = {}\n",
    "tickers = [\"AAPL\", \"MSFT\"]"
   ]
  },
  {
   "cell_type": "code",
   "execution_count": 8,
   "metadata": {
    "tags": []
   },
   "outputs": [
    {
     "output_type": "stream",
     "name": "stdout",
     "text": [
      "                                                           AAPL         MSFT\nTotal Assets                                        323,888,000  301,311,000\nTotal Liabilities Net Minority Interest             258,549,000  183,007,000\nTotal Equity Gross Minority Interest                 65,339,000  118,304,000\nTotal Capitalization                                164,006,000  177,882,000\nCommon Stock Equity                                  65,339,000  118,304,000\nNet Tangible Assets                                  65,339,000   67,915,000\nWorking Capital                                      38,321,000  109,605,000\nInvested Capital                                    177,775,000  181,631,000\nTangible Book Value                                  65,339,000   67,915,000\nTotal Debt                                          112,436,000   70,998,000\nNet Debt                                             74,420,000   49,751,000\nShare Issued                                         16,976,763    7,571,000\nOrdinary Shares Number                               16,976,763    7,571,000\nTotal Revenue                                       273,857,000  147,114,000\nCost of Revenue                                     169,277,000   46,674,000\nGross Profit                                        104,580,000  100,440,000\nOperating Expense                                    37,442,000   44,291,000\nOperating Income                                     67,138,000   56,149,000\nNet Non Operating Interest Income Expense             1,052,000   -2,543,000\nOther Income Expense                                    127,000    2,868,000\nPretax Income                                        68,317,000   56,474,000\nTax Provision                                         9,893,000    8,978,000\nNet Income Common Stockholders                       58,424,000   47,496,000\nDiluted NI Available to Com Stockholders             58,424,000   47,496,000\nBasic EPS                                                     -            -\nDiluted EPS                                                   -            -\nBasic Average Shares                                          -            -\nDiluted Average Shares                                        -            -\nTotal Operating Income as Reported                   67,138,000   56,149,000\nTotal Expenses                                      206,719,000   90,965,000\nNet Income from Continuing & Discontinued Opera...   58,424,000   47,496,000\nNormalized Income                                    58,424,000   45,065,440\nInterest Income                                       4,101,000            -\nInterest Expense                                      3,049,000    2,543,000\nNet Interest Income                                   1,052,000   -2,543,000\nEBIT                                                 71,366,000   59,017,000\nEBITDA                                               82,899,000   71,487,000\nReconciled Cost of Revenue                          169,277,000   46,674,000\nReconciled Depreciation                              11,533,000   12,470,000\nNet Income from Continuing Operation Net Minori...   58,424,000   47,496,000\nNormalized EBITDA                                    82,899,000   68,597,000\nTax Rate for Calcs                                            0            0\nTax Effect of Unusual Items                                   0      459,440\nOperating Cash Flow                                  80,008,000   66,192,000\nInvesting Cash Flow                                 -10,618,000  -15,818,000\nFinancing Cash Flow                                 -86,502,000  -46,111,000\nEnd Cash Position                                    35,039,000   17,380,000\nCapital Expenditure                                  -8,302,000  -16,963,000\nIssuance of Capital Stock                               820,000    1,461,000\nIssuance of Debt                                     22,794,000            -\nRepayment of Debt                                   -13,908,000            -\nRepurchase of Capital Stock                         -72,615,000  -24,799,000\nFree Cash Flow                                       71,706,000   49,229,000\nBeta (5Y Monthly)                                          1.28         0.83\n"
     ]
    }
   ],
   "source": [
    "for ticker in tickers:\n",
    "    # get balance sheet information\n",
    "    temp_dict = {}\n",
    "    url = \"https://finance.yahoo.com/quote/\"+ticker+\"/balance-sheet?p=\"+ticker \n",
    "    page = requests.get(url)\n",
    "    page_content = page.content # getting html code\n",
    "    soup = BeautifulSoup(page_content, \"html\") # getting Beautiful soup instance\n",
    "    temp = soup.find(\"div\", {\"class\":\"D(tbrg)\"}) \n",
    "    rows = temp.find_all(\"div\", {\"data-test\":\"fin-row\"})\n",
    "    for row in rows:\n",
    "        title = row.find(\"span\", {\"class\":\"Va(m)\"})\n",
    "        title = title.get_text() # 取得科目名稱\n",
    "        num = row.find(\"div\", {\"data-test\":\"fin-col\"}) \n",
    "        num = num.get_text() # 取得科目數據\n",
    "        temp_dict[title] = num\n",
    "\n",
    "    # get income statement information\n",
    "    url = \"https://finance.yahoo.com/quote/\"+ticker+\"/financials?p=\"+ticker\n",
    "    page = requests.get(url)\n",
    "    page_content = page.content # getting html code\n",
    "    soup = BeautifulSoup(page_content, \"html\") # gettting Beautiful soup instance\n",
    "    temp = soup.find(\"div\", {\"class\":\"D(tbrg)\"}) \n",
    "    rows = temp.find_all(\"div\", {\"data-test\":\"fin-row\"})\n",
    "    for row in rows:\n",
    "        title = row.find(\"span\", {\"class\":\"Va(m)\"})\n",
    "        title = title.get_text() # 取得科目名稱\n",
    "        num = row.find(\"div\", {\"data-test\":\"fin-col\"}) \n",
    "        num = num.get_text() # 取得科目數據\n",
    "        temp_dict[title] = num\n",
    "\n",
    "    # get cash flow information\n",
    "    url = \"https://finance.yahoo.com/quote/\"+ticker+\"/cash-flow?p=\"+ticker\n",
    "    page = requests.get(url)\n",
    "    page_content = page.content # getting html code\n",
    "    soup = BeautifulSoup(page_content, \"html\") # getting Beautiful soup instance\n",
    "    temp = soup.find(\"div\", {\"class\":\"D(tbrg)\"}) \n",
    "    rows = temp.find_all(\"div\", {\"data-test\":\"fin-row\"})\n",
    "    for row in rows:\n",
    "        title = row.find(\"span\", {\"class\":\"Va(m)\"})\n",
    "        title = title.get_text() # 取得科目名稱\n",
    "        num = row.find(\"div\", {\"data-test\":\"fin-col\"}) \n",
    "        num = num.get_text() # 取得科目數據\n",
    "        temp_dict[title] = num\n",
    "    \n",
    "    # get beta information\n",
    "    url = \"https://finance.yahoo.com/quote/\"+ticker+\"?p=\"+ticker\n",
    "    page = requests.get(url)\n",
    "    page_content = page.content\n",
    "    soup = BeautifulSoup(page_content, \"html\")\n",
    "    temp = soup.find(\"div\", {\"data-test\":\"quote-summary-stats\"})\n",
    "    temp = temp.find_all(\"tr\", {\"class\":\"Bxz(bb) Bdbw(1px) Bdbs(s) Bdc($seperatorColor) H(36px)\"})[8]\n",
    "    title = temp.find(\"td\", {\"class\":\"C($primaryColor) W(51%)\"})\n",
    "    title = title.get_text()\n",
    "    num = temp.find(\"td\", {\"class\", \"Ta(end) Fw(600) Lh(14px)\"})\n",
    "    num = num.get_text()\n",
    "    temp_dict[title] = num\n",
    "    \n",
    "\n",
    "    financial_dict[ticker] = temp_dict # 將最大的 financial_dict 裡的 key 值設為各 ticker，value 則是那個 ticker 裡的財務資訊\n",
    "\n",
    "combined_financials = pd.DataFrame(financial_dict)\n",
    "combined_financials.dropna(axis=0, inplace=True)\n",
    "tickers = combined_financials.columns\n",
    "print(combined_financials)\n",
    "    "
   ]
  },
  {
   "source": [
    "我是用 ```.find()```(而非 ```.find_all()```) 來找 ```\"fin-col\"``` 的數據，如此一來，就可以只取得最新的數據  \n",
    "得注意到可能有很多不同的數據都是同一個 ```class```，這時就要用 ```.find_all()``` 並用 list 取值的方式來取得你要的數據是位於第幾個 ```class```。"
   ],
   "cell_type": "markdown",
   "metadata": {}
  },
  {
   "cell_type": "code",
   "execution_count": null,
   "metadata": {},
   "outputs": [],
   "source": []
  },
  {
   "cell_type": "code",
   "execution_count": 9,
   "metadata": {},
   "outputs": [],
   "source": [
    "\n"
   ]
  },
  {
   "cell_type": "code",
   "execution_count": 10,
   "metadata": {},
   "outputs": [
    {
     "output_type": "execute_result",
     "data": {
      "text/plain": [
       "                                     AAPL          MSFT\n",
       "Cash and cash equivalents     3,80,16,000   1,35,76,000\n",
       "Other short-term investments  5,29,27,000  12,29,51,000\n",
       "Total cash                    9,09,43,000  13,65,27,000\n",
       "Net receivables               1,61,20,000   3,20,11,000\n",
       "Inventory                       -7,75,000       -79,000\n",
       "...                                   ...           ...\n",
       "Cash at end of period         3,50,39,000   1,73,80,000\n",
       "Free cash flow                7,17,06,000   4,92,29,000\n",
       "Operating cash flow           8,00,08,000   6,61,92,000\n",
       "Capital expenditure            -83,02,000  -1,69,63,000\n",
       "Taxes payable                         NaN     21,30,000\n",
       "\n",
       "[78 rows x 2 columns]"
      ],
      "text/html": "<div>\n<style scoped>\n    .dataframe tbody tr th:only-of-type {\n        vertical-align: middle;\n    }\n\n    .dataframe tbody tr th {\n        vertical-align: top;\n    }\n\n    .dataframe thead th {\n        text-align: right;\n    }\n</style>\n<table border=\"1\" class=\"dataframe\">\n  <thead>\n    <tr style=\"text-align: right;\">\n      <th></th>\n      <th>AAPL</th>\n      <th>MSFT</th>\n    </tr>\n  </thead>\n  <tbody>\n    <tr>\n      <th>Cash and cash equivalents</th>\n      <td>3,80,16,000</td>\n      <td>1,35,76,000</td>\n    </tr>\n    <tr>\n      <th>Other short-term investments</th>\n      <td>5,29,27,000</td>\n      <td>12,29,51,000</td>\n    </tr>\n    <tr>\n      <th>Total cash</th>\n      <td>9,09,43,000</td>\n      <td>13,65,27,000</td>\n    </tr>\n    <tr>\n      <th>Net receivables</th>\n      <td>1,61,20,000</td>\n      <td>3,20,11,000</td>\n    </tr>\n    <tr>\n      <th>Inventory</th>\n      <td>-7,75,000</td>\n      <td>-79,000</td>\n    </tr>\n    <tr>\n      <th>...</th>\n      <td>...</td>\n      <td>...</td>\n    </tr>\n    <tr>\n      <th>Cash at end of period</th>\n      <td>3,50,39,000</td>\n      <td>1,73,80,000</td>\n    </tr>\n    <tr>\n      <th>Free cash flow</th>\n      <td>7,17,06,000</td>\n      <td>4,92,29,000</td>\n    </tr>\n    <tr>\n      <th>Operating cash flow</th>\n      <td>8,00,08,000</td>\n      <td>6,61,92,000</td>\n    </tr>\n    <tr>\n      <th>Capital expenditure</th>\n      <td>-83,02,000</td>\n      <td>-1,69,63,000</td>\n    </tr>\n    <tr>\n      <th>Taxes payable</th>\n      <td>NaN</td>\n      <td>21,30,000</td>\n    </tr>\n  </tbody>\n</table>\n<p>78 rows × 2 columns</p>\n</div>"
     },
     "metadata": {},
     "execution_count": 10
    }
   ],
   "source": [
    "combined_financials"
   ]
  },
  {
   "cell_type": "code",
   "execution_count": null,
   "metadata": {},
   "outputs": [],
   "source": []
  }
 ]
}