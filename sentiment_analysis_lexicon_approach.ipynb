{
 "metadata": {
  "language_info": {
   "codemirror_mode": {
    "name": "ipython",
    "version": 3
   },
   "file_extension": ".py",
   "mimetype": "text/x-python",
   "name": "python",
   "nbconvert_exporter": "python",
   "pygments_lexer": "ipython3",
   "version": "3.8.5-final"
  },
  "orig_nbformat": 2,
  "kernelspec": {
   "name": "python3",
   "display_name": "Python 3.8.5 64-bit ('quantTrading': conda)",
   "metadata": {
    "interpreter": {
     "hash": "f12840f8c3ee55eac1a5e8d37cc606a61527ff262478fc717919659d7e61c84d"
    }
   }
  }
 },
 "nbformat": 4,
 "nbformat_minor": 2,
 "cells": [
  {
   "source": [
    "# Sentiment Analysis"
   ],
   "cell_type": "markdown",
   "metadata": {}
  },
  {
   "source": [
    "- 又稱為 opinion mining, polarity detection  \n",
    "- definition: The set of algorithms and techniques used to extract the polarity of a given document  \n",
    "- 屬於 ML，也屬於 DL  \n",
    "- 有兩種 appraoches: Machine Learning Approach 與 Lexicon-based (辭典) Approach"
   ],
   "cell_type": "markdown",
   "metadata": {}
  },
  {
   "source": [
    "Relevant Python Libraries:"
   ],
   "cell_type": "markdown",
   "metadata": {}
  },
  {
   "source": [
    "- ```NLTK``` (Python Natural Language Toolkit): Can perform Tokenization, Stemming, Lemmatization, Punctuation, Character count, word count   \n",
    "- ```VADER``` (Valence Aware Dictionary and sEntiment Reasoner): Better for social media sentiment analysis    \n",
    "- ```Scikit Learn```: Use ML models (Naive Bayes, Decision trees, SVM) to perform sentiment analysis  \n",
    "- ```TextBlob```"
   ],
   "cell_type": "markdown",
   "metadata": {}
  },
  {
   "source": [
    "## 0. Text Vectorization (向量化):"
   ],
   "cell_type": "markdown",
   "metadata": {}
  },
  {
   "source": [
    "- Computers take in vectors and matrices. \n",
    "- A vectorization cotains the following 5 steps:  \n",
    "    - ```Tokenization``` (斷詞): splitting text into relevant units (characters, words, phrases,...)。這些 units 稱為 tokens  \n",
    "    - ```Lemmatization``` (詞幹提取): removing the inflectional forms of the words (把詞形變化去掉，比如將 playing, played, performed 的 -ing, -ed 去掉，往往不簡單，因為要確認 play, perform 這些字是真的英文)  \n",
    "    - ```Stemming``` (詞幹提取): keeping only the root word and rejecting other forms (跟 ```Lemmatization``` 很像，但這次指定好詞形變化是哪些)  \n",
    "    - ```Stop words```: removing non sentiment showing words such as connector words (the,a...), subject verbs etc.  \n",
    "    - ```Normalization```: cleaning data such as removing emoticons (表情符號), extra punctuation marks etc. \n",
    "- 做完上述步驟後的結果是 a vector of words\n"
   ],
   "cell_type": "markdown",
   "metadata": {}
  },
  {
   "source": [
    "### python code:  "
   ],
   "cell_type": "markdown",
   "metadata": {}
  },
  {
   "source": [
    "安裝 ```NLTK```: ```conda install nltk```"
   ],
   "cell_type": "markdown",
   "metadata": {}
  },
  {
   "cell_type": "code",
   "execution_count": 1,
   "metadata": {},
   "outputs": [],
   "source": [
    "text = \"I am not a sentimental person but I believe in the utility of sentiment analysis.\""
   ]
  },
  {
   "cell_type": "code",
   "execution_count": 2,
   "metadata": {},
   "outputs": [],
   "source": [
    "# Tokenization\n",
    "from nltk.tokenize import word_tokenize"
   ]
  },
  {
   "cell_type": "code",
   "execution_count": 3,
   "metadata": {},
   "outputs": [
    {
     "output_type": "error",
     "ename": "LookupError",
     "evalue": "\n**********************************************************************\n  Resource \u001b[93mpunkt\u001b[0m not found.\n  Please use the NLTK Downloader to obtain the resource:\n\n  \u001b[31m>>> import nltk\n  >>> nltk.download('punkt')\n  \u001b[0m\n  For more information see: https://www.nltk.org/data.html\n\n  Attempted to load \u001b[93mtokenizers/punkt/english.pickle\u001b[0m\n\n  Searched in:\n    - 'C:\\\\Users\\\\User/nltk_data'\n    - 'C:\\\\Users\\\\User\\\\Anaconda3\\\\envs\\\\quantTrading\\\\nltk_data'\n    - 'C:\\\\Users\\\\User\\\\Anaconda3\\\\envs\\\\quantTrading\\\\share\\\\nltk_data'\n    - 'C:\\\\Users\\\\User\\\\Anaconda3\\\\envs\\\\quantTrading\\\\lib\\\\nltk_data'\n    - 'C:\\\\Users\\\\User\\\\AppData\\\\Roaming\\\\nltk_data'\n    - 'C:\\\\nltk_data'\n    - 'D:\\\\nltk_data'\n    - 'E:\\\\nltk_data'\n    - ''\n**********************************************************************\n",
     "traceback": [
      "\u001b[1;31m---------------------------------------------------------------------------\u001b[0m",
      "\u001b[1;31mLookupError\u001b[0m                               Traceback (most recent call last)",
      "\u001b[1;32m<ipython-input-3-5347ec462e67>\u001b[0m in \u001b[0;36m<module>\u001b[1;34m\u001b[0m\n\u001b[1;32m----> 1\u001b[1;33m \u001b[0mtokens\u001b[0m \u001b[1;33m=\u001b[0m \u001b[0mword_tokenize\u001b[0m\u001b[1;33m(\u001b[0m\u001b[0mtext\u001b[0m\u001b[1;33m)\u001b[0m\u001b[1;33m\u001b[0m\u001b[1;33m\u001b[0m\u001b[0m\n\u001b[0m",
      "\u001b[1;32m~\\Anaconda3\\envs\\quantTrading\\lib\\site-packages\\nltk\\tokenize\\__init__.py\u001b[0m in \u001b[0;36mword_tokenize\u001b[1;34m(text, language, preserve_line)\u001b[0m\n\u001b[0;32m    127\u001b[0m     \u001b[1;33m:\u001b[0m\u001b[0mtype\u001b[0m \u001b[0mpreserve_line\u001b[0m\u001b[1;33m:\u001b[0m \u001b[0mbool\u001b[0m\u001b[1;33m\u001b[0m\u001b[1;33m\u001b[0m\u001b[0m\n\u001b[0;32m    128\u001b[0m     \"\"\"\n\u001b[1;32m--> 129\u001b[1;33m     \u001b[0msentences\u001b[0m \u001b[1;33m=\u001b[0m \u001b[1;33m[\u001b[0m\u001b[0mtext\u001b[0m\u001b[1;33m]\u001b[0m \u001b[1;32mif\u001b[0m \u001b[0mpreserve_line\u001b[0m \u001b[1;32melse\u001b[0m \u001b[0msent_tokenize\u001b[0m\u001b[1;33m(\u001b[0m\u001b[0mtext\u001b[0m\u001b[1;33m,\u001b[0m \u001b[0mlanguage\u001b[0m\u001b[1;33m)\u001b[0m\u001b[1;33m\u001b[0m\u001b[1;33m\u001b[0m\u001b[0m\n\u001b[0m\u001b[0;32m    130\u001b[0m     return [\n\u001b[0;32m    131\u001b[0m         \u001b[0mtoken\u001b[0m \u001b[1;32mfor\u001b[0m \u001b[0msent\u001b[0m \u001b[1;32min\u001b[0m \u001b[0msentences\u001b[0m \u001b[1;32mfor\u001b[0m \u001b[0mtoken\u001b[0m \u001b[1;32min\u001b[0m \u001b[0m_treebank_word_tokenizer\u001b[0m\u001b[1;33m.\u001b[0m\u001b[0mtokenize\u001b[0m\u001b[1;33m(\u001b[0m\u001b[0msent\u001b[0m\u001b[1;33m)\u001b[0m\u001b[1;33m\u001b[0m\u001b[1;33m\u001b[0m\u001b[0m\n",
      "\u001b[1;32m~\\Anaconda3\\envs\\quantTrading\\lib\\site-packages\\nltk\\tokenize\\__init__.py\u001b[0m in \u001b[0;36msent_tokenize\u001b[1;34m(text, language)\u001b[0m\n\u001b[0;32m    104\u001b[0m     \u001b[1;33m:\u001b[0m\u001b[0mparam\u001b[0m \u001b[0mlanguage\u001b[0m\u001b[1;33m:\u001b[0m \u001b[0mthe\u001b[0m \u001b[0mmodel\u001b[0m \u001b[0mname\u001b[0m \u001b[1;32min\u001b[0m \u001b[0mthe\u001b[0m \u001b[0mPunkt\u001b[0m \u001b[0mcorpus\u001b[0m\u001b[1;33m\u001b[0m\u001b[1;33m\u001b[0m\u001b[0m\n\u001b[0;32m    105\u001b[0m     \"\"\"\n\u001b[1;32m--> 106\u001b[1;33m     \u001b[0mtokenizer\u001b[0m \u001b[1;33m=\u001b[0m \u001b[0mload\u001b[0m\u001b[1;33m(\u001b[0m\u001b[1;34m\"tokenizers/punkt/{0}.pickle\"\u001b[0m\u001b[1;33m.\u001b[0m\u001b[0mformat\u001b[0m\u001b[1;33m(\u001b[0m\u001b[0mlanguage\u001b[0m\u001b[1;33m)\u001b[0m\u001b[1;33m)\u001b[0m\u001b[1;33m\u001b[0m\u001b[1;33m\u001b[0m\u001b[0m\n\u001b[0m\u001b[0;32m    107\u001b[0m     \u001b[1;32mreturn\u001b[0m \u001b[0mtokenizer\u001b[0m\u001b[1;33m.\u001b[0m\u001b[0mtokenize\u001b[0m\u001b[1;33m(\u001b[0m\u001b[0mtext\u001b[0m\u001b[1;33m)\u001b[0m\u001b[1;33m\u001b[0m\u001b[1;33m\u001b[0m\u001b[0m\n\u001b[0;32m    108\u001b[0m \u001b[1;33m\u001b[0m\u001b[0m\n",
      "\u001b[1;32m~\\Anaconda3\\envs\\quantTrading\\lib\\site-packages\\nltk\\data.py\u001b[0m in \u001b[0;36mload\u001b[1;34m(resource_url, format, cache, verbose, logic_parser, fstruct_reader, encoding)\u001b[0m\n\u001b[0;32m    750\u001b[0m \u001b[1;33m\u001b[0m\u001b[0m\n\u001b[0;32m    751\u001b[0m     \u001b[1;31m# Load the resource.\u001b[0m\u001b[1;33m\u001b[0m\u001b[1;33m\u001b[0m\u001b[1;33m\u001b[0m\u001b[0m\n\u001b[1;32m--> 752\u001b[1;33m     \u001b[0mopened_resource\u001b[0m \u001b[1;33m=\u001b[0m \u001b[0m_open\u001b[0m\u001b[1;33m(\u001b[0m\u001b[0mresource_url\u001b[0m\u001b[1;33m)\u001b[0m\u001b[1;33m\u001b[0m\u001b[1;33m\u001b[0m\u001b[0m\n\u001b[0m\u001b[0;32m    753\u001b[0m \u001b[1;33m\u001b[0m\u001b[0m\n\u001b[0;32m    754\u001b[0m     \u001b[1;32mif\u001b[0m \u001b[0mformat\u001b[0m \u001b[1;33m==\u001b[0m \u001b[1;34m\"raw\"\u001b[0m\u001b[1;33m:\u001b[0m\u001b[1;33m\u001b[0m\u001b[1;33m\u001b[0m\u001b[0m\n",
      "\u001b[1;32m~\\Anaconda3\\envs\\quantTrading\\lib\\site-packages\\nltk\\data.py\u001b[0m in \u001b[0;36m_open\u001b[1;34m(resource_url)\u001b[0m\n\u001b[0;32m    875\u001b[0m \u001b[1;33m\u001b[0m\u001b[0m\n\u001b[0;32m    876\u001b[0m     \u001b[1;32mif\u001b[0m \u001b[0mprotocol\u001b[0m \u001b[1;32mis\u001b[0m \u001b[1;32mNone\u001b[0m \u001b[1;32mor\u001b[0m \u001b[0mprotocol\u001b[0m\u001b[1;33m.\u001b[0m\u001b[0mlower\u001b[0m\u001b[1;33m(\u001b[0m\u001b[1;33m)\u001b[0m \u001b[1;33m==\u001b[0m \u001b[1;34m\"nltk\"\u001b[0m\u001b[1;33m:\u001b[0m\u001b[1;33m\u001b[0m\u001b[1;33m\u001b[0m\u001b[0m\n\u001b[1;32m--> 877\u001b[1;33m         \u001b[1;32mreturn\u001b[0m \u001b[0mfind\u001b[0m\u001b[1;33m(\u001b[0m\u001b[0mpath_\u001b[0m\u001b[1;33m,\u001b[0m \u001b[0mpath\u001b[0m \u001b[1;33m+\u001b[0m \u001b[1;33m[\u001b[0m\u001b[1;34m\"\"\u001b[0m\u001b[1;33m]\u001b[0m\u001b[1;33m)\u001b[0m\u001b[1;33m.\u001b[0m\u001b[0mopen\u001b[0m\u001b[1;33m(\u001b[0m\u001b[1;33m)\u001b[0m\u001b[1;33m\u001b[0m\u001b[1;33m\u001b[0m\u001b[0m\n\u001b[0m\u001b[0;32m    878\u001b[0m     \u001b[1;32melif\u001b[0m \u001b[0mprotocol\u001b[0m\u001b[1;33m.\u001b[0m\u001b[0mlower\u001b[0m\u001b[1;33m(\u001b[0m\u001b[1;33m)\u001b[0m \u001b[1;33m==\u001b[0m \u001b[1;34m\"file\"\u001b[0m\u001b[1;33m:\u001b[0m\u001b[1;33m\u001b[0m\u001b[1;33m\u001b[0m\u001b[0m\n\u001b[0;32m    879\u001b[0m         \u001b[1;31m# urllib might not use mode='rb', so handle this one ourselves:\u001b[0m\u001b[1;33m\u001b[0m\u001b[1;33m\u001b[0m\u001b[1;33m\u001b[0m\u001b[0m\n",
      "\u001b[1;32m~\\Anaconda3\\envs\\quantTrading\\lib\\site-packages\\nltk\\data.py\u001b[0m in \u001b[0;36mfind\u001b[1;34m(resource_name, paths)\u001b[0m\n\u001b[0;32m    583\u001b[0m     \u001b[0msep\u001b[0m \u001b[1;33m=\u001b[0m \u001b[1;34m\"*\"\u001b[0m \u001b[1;33m*\u001b[0m \u001b[1;36m70\u001b[0m\u001b[1;33m\u001b[0m\u001b[1;33m\u001b[0m\u001b[0m\n\u001b[0;32m    584\u001b[0m     \u001b[0mresource_not_found\u001b[0m \u001b[1;33m=\u001b[0m \u001b[1;34m\"\\n%s\\n%s\\n%s\\n\"\u001b[0m \u001b[1;33m%\u001b[0m \u001b[1;33m(\u001b[0m\u001b[0msep\u001b[0m\u001b[1;33m,\u001b[0m \u001b[0mmsg\u001b[0m\u001b[1;33m,\u001b[0m \u001b[0msep\u001b[0m\u001b[1;33m)\u001b[0m\u001b[1;33m\u001b[0m\u001b[1;33m\u001b[0m\u001b[0m\n\u001b[1;32m--> 585\u001b[1;33m     \u001b[1;32mraise\u001b[0m \u001b[0mLookupError\u001b[0m\u001b[1;33m(\u001b[0m\u001b[0mresource_not_found\u001b[0m\u001b[1;33m)\u001b[0m\u001b[1;33m\u001b[0m\u001b[1;33m\u001b[0m\u001b[0m\n\u001b[0m\u001b[0;32m    586\u001b[0m \u001b[1;33m\u001b[0m\u001b[0m\n\u001b[0;32m    587\u001b[0m \u001b[1;33m\u001b[0m\u001b[0m\n",
      "\u001b[1;31mLookupError\u001b[0m: \n**********************************************************************\n  Resource \u001b[93mpunkt\u001b[0m not found.\n  Please use the NLTK Downloader to obtain the resource:\n\n  \u001b[31m>>> import nltk\n  >>> nltk.download('punkt')\n  \u001b[0m\n  For more information see: https://www.nltk.org/data.html\n\n  Attempted to load \u001b[93mtokenizers/punkt/english.pickle\u001b[0m\n\n  Searched in:\n    - 'C:\\\\Users\\\\User/nltk_data'\n    - 'C:\\\\Users\\\\User\\\\Anaconda3\\\\envs\\\\quantTrading\\\\nltk_data'\n    - 'C:\\\\Users\\\\User\\\\Anaconda3\\\\envs\\\\quantTrading\\\\share\\\\nltk_data'\n    - 'C:\\\\Users\\\\User\\\\Anaconda3\\\\envs\\\\quantTrading\\\\lib\\\\nltk_data'\n    - 'C:\\\\Users\\\\User\\\\AppData\\\\Roaming\\\\nltk_data'\n    - 'C:\\\\nltk_data'\n    - 'D:\\\\nltk_data'\n    - 'E:\\\\nltk_data'\n    - ''\n**********************************************************************\n"
     ]
    }
   ],
   "source": [
    "tokens = word_tokenize(text)"
   ]
  },
  {
   "source": [
    " 出現 ```LookupError```，原因是要下載字典:"
   ],
   "cell_type": "markdown",
   "metadata": {}
  },
  {
   "cell_type": "code",
   "execution_count": 4,
   "metadata": {},
   "outputs": [
    {
     "output_type": "stream",
     "name": "stderr",
     "text": [
      "[nltk_data] Downloading package punkt to\n",
      "[nltk_data]     C:\\Users\\User\\AppData\\Roaming\\nltk_data...\n",
      "[nltk_data]   Unzipping tokenizers\\punkt.zip.\n"
     ]
    },
    {
     "output_type": "execute_result",
     "data": {
      "text/plain": [
       "True"
      ]
     },
     "metadata": {},
     "execution_count": 4
    }
   ],
   "source": [
    "import nltk\n",
    "nltk.download(\"punkt\")"
   ]
  },
  {
   "cell_type": "code",
   "execution_count": 13,
   "metadata": {},
   "outputs": [
    {
     "output_type": "execute_result",
     "data": {
      "text/plain": [
       "['I',\n",
       " 'am',\n",
       " 'not',\n",
       " 'a',\n",
       " 'sentimental',\n",
       " 'person',\n",
       " 'but',\n",
       " 'I',\n",
       " 'believe',\n",
       " 'in',\n",
       " 'the',\n",
       " 'utility',\n",
       " 'of',\n",
       " 'sentiment',\n",
       " 'analysis',\n",
       " '.']"
      ]
     },
     "metadata": {},
     "execution_count": 13
    }
   ],
   "source": [
    "tokens = word_tokenize(text)\n",
    "tokens"
   ]
  },
  {
   "cell_type": "code",
   "execution_count": 7,
   "metadata": {},
   "outputs": [
    {
     "output_type": "error",
     "ename": "LookupError",
     "evalue": "\n**********************************************************************\n  Resource \u001b[93mwordnet\u001b[0m not found.\n  Please use the NLTK Downloader to obtain the resource:\n\n  \u001b[31m>>> import nltk\n  >>> nltk.download('wordnet')\n  \u001b[0m\n  For more information see: https://www.nltk.org/data.html\n\n  Attempted to load \u001b[93mcorpora/wordnet\u001b[0m\n\n  Searched in:\n    - 'C:\\\\Users\\\\User/nltk_data'\n    - 'C:\\\\Users\\\\User\\\\Anaconda3\\\\envs\\\\quantTrading\\\\nltk_data'\n    - 'C:\\\\Users\\\\User\\\\Anaconda3\\\\envs\\\\quantTrading\\\\share\\\\nltk_data'\n    - 'C:\\\\Users\\\\User\\\\Anaconda3\\\\envs\\\\quantTrading\\\\lib\\\\nltk_data'\n    - 'C:\\\\Users\\\\User\\\\AppData\\\\Roaming\\\\nltk_data'\n    - 'C:\\\\nltk_data'\n    - 'D:\\\\nltk_data'\n    - 'E:\\\\nltk_data'\n**********************************************************************\n",
     "traceback": [
      "\u001b[1;31m---------------------------------------------------------------------------\u001b[0m",
      "\u001b[1;31mLookupError\u001b[0m                               Traceback (most recent call last)",
      "\u001b[1;32m~\\Anaconda3\\envs\\quantTrading\\lib\\site-packages\\nltk\\corpus\\util.py\u001b[0m in \u001b[0;36m__load\u001b[1;34m(self)\u001b[0m\n\u001b[0;32m     82\u001b[0m                 \u001b[1;32mtry\u001b[0m\u001b[1;33m:\u001b[0m\u001b[1;33m\u001b[0m\u001b[1;33m\u001b[0m\u001b[0m\n\u001b[1;32m---> 83\u001b[1;33m                     \u001b[0mroot\u001b[0m \u001b[1;33m=\u001b[0m \u001b[0mnltk\u001b[0m\u001b[1;33m.\u001b[0m\u001b[0mdata\u001b[0m\u001b[1;33m.\u001b[0m\u001b[0mfind\u001b[0m\u001b[1;33m(\u001b[0m\u001b[1;34m\"{}/{}\"\u001b[0m\u001b[1;33m.\u001b[0m\u001b[0mformat\u001b[0m\u001b[1;33m(\u001b[0m\u001b[0mself\u001b[0m\u001b[1;33m.\u001b[0m\u001b[0msubdir\u001b[0m\u001b[1;33m,\u001b[0m \u001b[0mzip_name\u001b[0m\u001b[1;33m)\u001b[0m\u001b[1;33m)\u001b[0m\u001b[1;33m\u001b[0m\u001b[1;33m\u001b[0m\u001b[0m\n\u001b[0m\u001b[0;32m     84\u001b[0m                 \u001b[1;32mexcept\u001b[0m \u001b[0mLookupError\u001b[0m\u001b[1;33m:\u001b[0m\u001b[1;33m\u001b[0m\u001b[1;33m\u001b[0m\u001b[0m\n",
      "\u001b[1;32m~\\Anaconda3\\envs\\quantTrading\\lib\\site-packages\\nltk\\data.py\u001b[0m in \u001b[0;36mfind\u001b[1;34m(resource_name, paths)\u001b[0m\n\u001b[0;32m    584\u001b[0m     \u001b[0mresource_not_found\u001b[0m \u001b[1;33m=\u001b[0m \u001b[1;34m\"\\n%s\\n%s\\n%s\\n\"\u001b[0m \u001b[1;33m%\u001b[0m \u001b[1;33m(\u001b[0m\u001b[0msep\u001b[0m\u001b[1;33m,\u001b[0m \u001b[0mmsg\u001b[0m\u001b[1;33m,\u001b[0m \u001b[0msep\u001b[0m\u001b[1;33m)\u001b[0m\u001b[1;33m\u001b[0m\u001b[1;33m\u001b[0m\u001b[0m\n\u001b[1;32m--> 585\u001b[1;33m     \u001b[1;32mraise\u001b[0m \u001b[0mLookupError\u001b[0m\u001b[1;33m(\u001b[0m\u001b[0mresource_not_found\u001b[0m\u001b[1;33m)\u001b[0m\u001b[1;33m\u001b[0m\u001b[1;33m\u001b[0m\u001b[0m\n\u001b[0m\u001b[0;32m    586\u001b[0m \u001b[1;33m\u001b[0m\u001b[0m\n",
      "\u001b[1;31mLookupError\u001b[0m: \n**********************************************************************\n  Resource \u001b[93mwordnet\u001b[0m not found.\n  Please use the NLTK Downloader to obtain the resource:\n\n  \u001b[31m>>> import nltk\n  >>> nltk.download('wordnet')\n  \u001b[0m\n  For more information see: https://www.nltk.org/data.html\n\n  Attempted to load \u001b[93mcorpora/wordnet.zip/wordnet/\u001b[0m\n\n  Searched in:\n    - 'C:\\\\Users\\\\User/nltk_data'\n    - 'C:\\\\Users\\\\User\\\\Anaconda3\\\\envs\\\\quantTrading\\\\nltk_data'\n    - 'C:\\\\Users\\\\User\\\\Anaconda3\\\\envs\\\\quantTrading\\\\share\\\\nltk_data'\n    - 'C:\\\\Users\\\\User\\\\Anaconda3\\\\envs\\\\quantTrading\\\\lib\\\\nltk_data'\n    - 'C:\\\\Users\\\\User\\\\AppData\\\\Roaming\\\\nltk_data'\n    - 'C:\\\\nltk_data'\n    - 'D:\\\\nltk_data'\n    - 'E:\\\\nltk_data'\n**********************************************************************\n",
      "\nDuring handling of the above exception, another exception occurred:\n",
      "\u001b[1;31mLookupError\u001b[0m                               Traceback (most recent call last)",
      "\u001b[1;32m<ipython-input-7-f45717721ce8>\u001b[0m in \u001b[0;36m<module>\u001b[1;34m\u001b[0m\n\u001b[0;32m      3\u001b[0m \u001b[0mlemmatizer\u001b[0m \u001b[1;33m=\u001b[0m \u001b[0mWordNetLemmatizer\u001b[0m\u001b[1;33m(\u001b[0m\u001b[1;33m)\u001b[0m \u001b[1;31m# create a lemmatizer object\u001b[0m\u001b[1;33m\u001b[0m\u001b[1;33m\u001b[0m\u001b[0m\n\u001b[0;32m      4\u001b[0m \u001b[1;33m\u001b[0m\u001b[0m\n\u001b[1;32m----> 5\u001b[1;33m \u001b[0mtokens\u001b[0m \u001b[1;33m=\u001b[0m \u001b[1;33m[\u001b[0m\u001b[0mlemmatizer\u001b[0m\u001b[1;33m.\u001b[0m\u001b[0mlemmatize\u001b[0m\u001b[1;33m(\u001b[0m\u001b[0mword\u001b[0m\u001b[1;33m)\u001b[0m \u001b[1;32mfor\u001b[0m \u001b[0mword\u001b[0m \u001b[1;32min\u001b[0m \u001b[0mtokens\u001b[0m\u001b[1;33m]\u001b[0m\u001b[1;33m\u001b[0m\u001b[1;33m\u001b[0m\u001b[0m\n\u001b[0m",
      "\u001b[1;32m<ipython-input-7-f45717721ce8>\u001b[0m in \u001b[0;36m<listcomp>\u001b[1;34m(.0)\u001b[0m\n\u001b[0;32m      3\u001b[0m \u001b[0mlemmatizer\u001b[0m \u001b[1;33m=\u001b[0m \u001b[0mWordNetLemmatizer\u001b[0m\u001b[1;33m(\u001b[0m\u001b[1;33m)\u001b[0m \u001b[1;31m# create a lemmatizer object\u001b[0m\u001b[1;33m\u001b[0m\u001b[1;33m\u001b[0m\u001b[0m\n\u001b[0;32m      4\u001b[0m \u001b[1;33m\u001b[0m\u001b[0m\n\u001b[1;32m----> 5\u001b[1;33m \u001b[0mtokens\u001b[0m \u001b[1;33m=\u001b[0m \u001b[1;33m[\u001b[0m\u001b[0mlemmatizer\u001b[0m\u001b[1;33m.\u001b[0m\u001b[0mlemmatize\u001b[0m\u001b[1;33m(\u001b[0m\u001b[0mword\u001b[0m\u001b[1;33m)\u001b[0m \u001b[1;32mfor\u001b[0m \u001b[0mword\u001b[0m \u001b[1;32min\u001b[0m \u001b[0mtokens\u001b[0m\u001b[1;33m]\u001b[0m\u001b[1;33m\u001b[0m\u001b[1;33m\u001b[0m\u001b[0m\n\u001b[0m",
      "\u001b[1;32m~\\Anaconda3\\envs\\quantTrading\\lib\\site-packages\\nltk\\stem\\wordnet.py\u001b[0m in \u001b[0;36mlemmatize\u001b[1;34m(self, word, pos)\u001b[0m\n\u001b[0;32m     36\u001b[0m \u001b[1;33m\u001b[0m\u001b[0m\n\u001b[0;32m     37\u001b[0m     \u001b[1;32mdef\u001b[0m \u001b[0mlemmatize\u001b[0m\u001b[1;33m(\u001b[0m\u001b[0mself\u001b[0m\u001b[1;33m,\u001b[0m \u001b[0mword\u001b[0m\u001b[1;33m,\u001b[0m \u001b[0mpos\u001b[0m\u001b[1;33m=\u001b[0m\u001b[0mNOUN\u001b[0m\u001b[1;33m)\u001b[0m\u001b[1;33m:\u001b[0m\u001b[1;33m\u001b[0m\u001b[1;33m\u001b[0m\u001b[0m\n\u001b[1;32m---> 38\u001b[1;33m         \u001b[0mlemmas\u001b[0m \u001b[1;33m=\u001b[0m \u001b[0mwordnet\u001b[0m\u001b[1;33m.\u001b[0m\u001b[0m_morphy\u001b[0m\u001b[1;33m(\u001b[0m\u001b[0mword\u001b[0m\u001b[1;33m,\u001b[0m \u001b[0mpos\u001b[0m\u001b[1;33m)\u001b[0m\u001b[1;33m\u001b[0m\u001b[1;33m\u001b[0m\u001b[0m\n\u001b[0m\u001b[0;32m     39\u001b[0m         \u001b[1;32mreturn\u001b[0m \u001b[0mmin\u001b[0m\u001b[1;33m(\u001b[0m\u001b[0mlemmas\u001b[0m\u001b[1;33m,\u001b[0m \u001b[0mkey\u001b[0m\u001b[1;33m=\u001b[0m\u001b[0mlen\u001b[0m\u001b[1;33m)\u001b[0m \u001b[1;32mif\u001b[0m \u001b[0mlemmas\u001b[0m \u001b[1;32melse\u001b[0m \u001b[0mword\u001b[0m\u001b[1;33m\u001b[0m\u001b[1;33m\u001b[0m\u001b[0m\n\u001b[0;32m     40\u001b[0m \u001b[1;33m\u001b[0m\u001b[0m\n",
      "\u001b[1;32m~\\Anaconda3\\envs\\quantTrading\\lib\\site-packages\\nltk\\corpus\\util.py\u001b[0m in \u001b[0;36m__getattr__\u001b[1;34m(self, attr)\u001b[0m\n\u001b[0;32m    118\u001b[0m             \u001b[1;32mraise\u001b[0m \u001b[0mAttributeError\u001b[0m\u001b[1;33m(\u001b[0m\u001b[1;34m\"LazyCorpusLoader object has no attribute '__bases__'\"\u001b[0m\u001b[1;33m)\u001b[0m\u001b[1;33m\u001b[0m\u001b[1;33m\u001b[0m\u001b[0m\n\u001b[0;32m    119\u001b[0m \u001b[1;33m\u001b[0m\u001b[0m\n\u001b[1;32m--> 120\u001b[1;33m         \u001b[0mself\u001b[0m\u001b[1;33m.\u001b[0m\u001b[0m__load\u001b[0m\u001b[1;33m(\u001b[0m\u001b[1;33m)\u001b[0m\u001b[1;33m\u001b[0m\u001b[1;33m\u001b[0m\u001b[0m\n\u001b[0m\u001b[0;32m    121\u001b[0m         \u001b[1;31m# This looks circular, but its not, since __load() changes our\u001b[0m\u001b[1;33m\u001b[0m\u001b[1;33m\u001b[0m\u001b[1;33m\u001b[0m\u001b[0m\n\u001b[0;32m    122\u001b[0m         \u001b[1;31m# __class__ to something new:\u001b[0m\u001b[1;33m\u001b[0m\u001b[1;33m\u001b[0m\u001b[1;33m\u001b[0m\u001b[0m\n",
      "\u001b[1;32m~\\Anaconda3\\envs\\quantTrading\\lib\\site-packages\\nltk\\corpus\\util.py\u001b[0m in \u001b[0;36m__load\u001b[1;34m(self)\u001b[0m\n\u001b[0;32m     83\u001b[0m                     \u001b[0mroot\u001b[0m \u001b[1;33m=\u001b[0m \u001b[0mnltk\u001b[0m\u001b[1;33m.\u001b[0m\u001b[0mdata\u001b[0m\u001b[1;33m.\u001b[0m\u001b[0mfind\u001b[0m\u001b[1;33m(\u001b[0m\u001b[1;34m\"{}/{}\"\u001b[0m\u001b[1;33m.\u001b[0m\u001b[0mformat\u001b[0m\u001b[1;33m(\u001b[0m\u001b[0mself\u001b[0m\u001b[1;33m.\u001b[0m\u001b[0msubdir\u001b[0m\u001b[1;33m,\u001b[0m \u001b[0mzip_name\u001b[0m\u001b[1;33m)\u001b[0m\u001b[1;33m)\u001b[0m\u001b[1;33m\u001b[0m\u001b[1;33m\u001b[0m\u001b[0m\n\u001b[0;32m     84\u001b[0m                 \u001b[1;32mexcept\u001b[0m \u001b[0mLookupError\u001b[0m\u001b[1;33m:\u001b[0m\u001b[1;33m\u001b[0m\u001b[1;33m\u001b[0m\u001b[0m\n\u001b[1;32m---> 85\u001b[1;33m                     \u001b[1;32mraise\u001b[0m \u001b[0me\u001b[0m\u001b[1;33m\u001b[0m\u001b[1;33m\u001b[0m\u001b[0m\n\u001b[0m\u001b[0;32m     86\u001b[0m \u001b[1;33m\u001b[0m\u001b[0m\n\u001b[0;32m     87\u001b[0m         \u001b[1;31m# Load the corpus.\u001b[0m\u001b[1;33m\u001b[0m\u001b[1;33m\u001b[0m\u001b[1;33m\u001b[0m\u001b[0m\n",
      "\u001b[1;32m~\\Anaconda3\\envs\\quantTrading\\lib\\site-packages\\nltk\\corpus\\util.py\u001b[0m in \u001b[0;36m__load\u001b[1;34m(self)\u001b[0m\n\u001b[0;32m     78\u001b[0m         \u001b[1;32melse\u001b[0m\u001b[1;33m:\u001b[0m\u001b[1;33m\u001b[0m\u001b[1;33m\u001b[0m\u001b[0m\n\u001b[0;32m     79\u001b[0m             \u001b[1;32mtry\u001b[0m\u001b[1;33m:\u001b[0m\u001b[1;33m\u001b[0m\u001b[1;33m\u001b[0m\u001b[0m\n\u001b[1;32m---> 80\u001b[1;33m                 \u001b[0mroot\u001b[0m \u001b[1;33m=\u001b[0m \u001b[0mnltk\u001b[0m\u001b[1;33m.\u001b[0m\u001b[0mdata\u001b[0m\u001b[1;33m.\u001b[0m\u001b[0mfind\u001b[0m\u001b[1;33m(\u001b[0m\u001b[1;34m\"{}/{}\"\u001b[0m\u001b[1;33m.\u001b[0m\u001b[0mformat\u001b[0m\u001b[1;33m(\u001b[0m\u001b[0mself\u001b[0m\u001b[1;33m.\u001b[0m\u001b[0msubdir\u001b[0m\u001b[1;33m,\u001b[0m \u001b[0mself\u001b[0m\u001b[1;33m.\u001b[0m\u001b[0m__name\u001b[0m\u001b[1;33m)\u001b[0m\u001b[1;33m)\u001b[0m\u001b[1;33m\u001b[0m\u001b[1;33m\u001b[0m\u001b[0m\n\u001b[0m\u001b[0;32m     81\u001b[0m             \u001b[1;32mexcept\u001b[0m \u001b[0mLookupError\u001b[0m \u001b[1;32mas\u001b[0m \u001b[0me\u001b[0m\u001b[1;33m:\u001b[0m\u001b[1;33m\u001b[0m\u001b[1;33m\u001b[0m\u001b[0m\n\u001b[0;32m     82\u001b[0m                 \u001b[1;32mtry\u001b[0m\u001b[1;33m:\u001b[0m\u001b[1;33m\u001b[0m\u001b[1;33m\u001b[0m\u001b[0m\n",
      "\u001b[1;32m~\\Anaconda3\\envs\\quantTrading\\lib\\site-packages\\nltk\\data.py\u001b[0m in \u001b[0;36mfind\u001b[1;34m(resource_name, paths)\u001b[0m\n\u001b[0;32m    583\u001b[0m     \u001b[0msep\u001b[0m \u001b[1;33m=\u001b[0m \u001b[1;34m\"*\"\u001b[0m \u001b[1;33m*\u001b[0m \u001b[1;36m70\u001b[0m\u001b[1;33m\u001b[0m\u001b[1;33m\u001b[0m\u001b[0m\n\u001b[0;32m    584\u001b[0m     \u001b[0mresource_not_found\u001b[0m \u001b[1;33m=\u001b[0m \u001b[1;34m\"\\n%s\\n%s\\n%s\\n\"\u001b[0m \u001b[1;33m%\u001b[0m \u001b[1;33m(\u001b[0m\u001b[0msep\u001b[0m\u001b[1;33m,\u001b[0m \u001b[0mmsg\u001b[0m\u001b[1;33m,\u001b[0m \u001b[0msep\u001b[0m\u001b[1;33m)\u001b[0m\u001b[1;33m\u001b[0m\u001b[1;33m\u001b[0m\u001b[0m\n\u001b[1;32m--> 585\u001b[1;33m     \u001b[1;32mraise\u001b[0m \u001b[0mLookupError\u001b[0m\u001b[1;33m(\u001b[0m\u001b[0mresource_not_found\u001b[0m\u001b[1;33m)\u001b[0m\u001b[1;33m\u001b[0m\u001b[1;33m\u001b[0m\u001b[0m\n\u001b[0m\u001b[0;32m    586\u001b[0m \u001b[1;33m\u001b[0m\u001b[0m\n\u001b[0;32m    587\u001b[0m \u001b[1;33m\u001b[0m\u001b[0m\n",
      "\u001b[1;31mLookupError\u001b[0m: \n**********************************************************************\n  Resource \u001b[93mwordnet\u001b[0m not found.\n  Please use the NLTK Downloader to obtain the resource:\n\n  \u001b[31m>>> import nltk\n  >>> nltk.download('wordnet')\n  \u001b[0m\n  For more information see: https://www.nltk.org/data.html\n\n  Attempted to load \u001b[93mcorpora/wordnet\u001b[0m\n\n  Searched in:\n    - 'C:\\\\Users\\\\User/nltk_data'\n    - 'C:\\\\Users\\\\User\\\\Anaconda3\\\\envs\\\\quantTrading\\\\nltk_data'\n    - 'C:\\\\Users\\\\User\\\\Anaconda3\\\\envs\\\\quantTrading\\\\share\\\\nltk_data'\n    - 'C:\\\\Users\\\\User\\\\Anaconda3\\\\envs\\\\quantTrading\\\\lib\\\\nltk_data'\n    - 'C:\\\\Users\\\\User\\\\AppData\\\\Roaming\\\\nltk_data'\n    - 'C:\\\\nltk_data'\n    - 'D:\\\\nltk_data'\n    - 'E:\\\\nltk_data'\n**********************************************************************\n"
     ]
    }
   ],
   "source": [
    "# Lemmatization\n",
    "from nltk.stem import WordNetLemmatizer \n",
    "lemmatizer = WordNetLemmatizer() # create a lemmatizer object\n",
    "\n",
    "tokens = [lemmatizer.lemmatize(word) for word in tokens]"
   ]
  },
  {
   "source": [
    "一樣要下載字典:"
   ],
   "cell_type": "markdown",
   "metadata": {}
  },
  {
   "cell_type": "code",
   "execution_count": 8,
   "metadata": {},
   "outputs": [
    {
     "output_type": "stream",
     "name": "stderr",
     "text": [
      "[nltk_data] Downloading package wordnet to\n",
      "[nltk_data]     C:\\Users\\User\\AppData\\Roaming\\nltk_data...\n",
      "[nltk_data]   Unzipping corpora\\wordnet.zip.\n"
     ]
    },
    {
     "output_type": "execute_result",
     "data": {
      "text/plain": [
       "True"
      ]
     },
     "metadata": {},
     "execution_count": 8
    }
   ],
   "source": [
    "nltk.download('wordnet')"
   ]
  },
  {
   "cell_type": "code",
   "execution_count": 19,
   "metadata": {},
   "outputs": [],
   "source": [
    "from nltk.stem import WordNetLemmatizer \n",
    "lemmatizer = WordNetLemmatizer() # create a lemmatizer object\n",
    "\n",
    "tokens = [lemmatizer.lemmatize(word) for word in tokens]"
   ]
  },
  {
   "cell_type": "code",
   "execution_count": 20,
   "metadata": {},
   "outputs": [
    {
     "output_type": "execute_result",
     "data": {
      "text/plain": [
       "['i',\n",
       " 'am',\n",
       " 'not',\n",
       " 'a',\n",
       " 'sentiment',\n",
       " 'person',\n",
       " 'but',\n",
       " 'i',\n",
       " 'believ',\n",
       " 'in',\n",
       " 'the',\n",
       " 'util',\n",
       " 'of',\n",
       " 'sentiment',\n",
       " 'analysi',\n",
       " '.']"
      ]
     },
     "metadata": {},
     "execution_count": 20
    }
   ],
   "source": [
    "tokens"
   ]
  },
  {
   "cell_type": "code",
   "execution_count": 16,
   "metadata": {},
   "outputs": [],
   "source": [
    "# Stemming \n",
    "from nltk.stem import PorterStemmer\n",
    "tokens = word_tokenize(text.lower())\n",
    "ps = PorterStemmer()\n",
    "\n",
    "tokens = [ps.stem(word) for word in tokens]"
   ]
  },
  {
   "cell_type": "code",
   "execution_count": 17,
   "metadata": {},
   "outputs": [
    {
     "output_type": "execute_result",
     "data": {
      "text/plain": [
       "['i',\n",
       " 'am',\n",
       " 'not',\n",
       " 'a',\n",
       " 'sentiment',\n",
       " 'person',\n",
       " 'but',\n",
       " 'i',\n",
       " 'believ',\n",
       " 'in',\n",
       " 'the',\n",
       " 'util',\n",
       " 'of',\n",
       " 'sentiment',\n",
       " 'analysi',\n",
       " '.']"
      ]
     },
     "metadata": {},
     "execution_count": 17
    }
   ],
   "source": [
    "tokens"
   ]
  },
  {
   "source": [
    "可以發現，經過 lemmatize 或 stemmize 後， a sentimental person 變成 a sentiment person"
   ],
   "cell_type": "markdown",
   "metadata": {}
  },
  {
   "cell_type": "code",
   "execution_count": 23,
   "metadata": {},
   "outputs": [
    {
     "output_type": "stream",
     "name": "stderr",
     "text": [
      "[nltk_data] Downloading package stopwords to\n",
      "[nltk_data]     C:\\Users\\User\\AppData\\Roaming\\nltk_data...\n",
      "[nltk_data]   Unzipping corpora\\stopwords.zip.\n"
     ]
    },
    {
     "output_type": "execute_result",
     "data": {
      "text/plain": [
       "True"
      ]
     },
     "metadata": {},
     "execution_count": 23
    }
   ],
   "source": [
    "nltk.download('stopwords')"
   ]
  },
  {
   "cell_type": "code",
   "execution_count": 24,
   "metadata": {},
   "outputs": [
    {
     "output_type": "execute_result",
     "data": {
      "text/plain": [
       "['i',\n",
       " 'me',\n",
       " 'my',\n",
       " 'myself',\n",
       " 'we',\n",
       " 'our',\n",
       " 'ours',\n",
       " 'ourselves',\n",
       " 'you',\n",
       " \"you're\",\n",
       " \"you've\",\n",
       " \"you'll\",\n",
       " \"you'd\",\n",
       " 'your',\n",
       " 'yours',\n",
       " 'yourself',\n",
       " 'yourselves',\n",
       " 'he',\n",
       " 'him',\n",
       " 'his',\n",
       " 'himself',\n",
       " 'she',\n",
       " \"she's\",\n",
       " 'her',\n",
       " 'hers',\n",
       " 'herself',\n",
       " 'it',\n",
       " \"it's\",\n",
       " 'its',\n",
       " 'itself',\n",
       " 'they',\n",
       " 'them',\n",
       " 'their',\n",
       " 'theirs',\n",
       " 'themselves',\n",
       " 'what',\n",
       " 'which',\n",
       " 'who',\n",
       " 'whom',\n",
       " 'this',\n",
       " 'that',\n",
       " \"that'll\",\n",
       " 'these',\n",
       " 'those',\n",
       " 'am',\n",
       " 'is',\n",
       " 'are',\n",
       " 'was',\n",
       " 'were',\n",
       " 'be',\n",
       " 'been',\n",
       " 'being',\n",
       " 'have',\n",
       " 'has',\n",
       " 'had',\n",
       " 'having',\n",
       " 'do',\n",
       " 'does',\n",
       " 'did',\n",
       " 'doing',\n",
       " 'a',\n",
       " 'an',\n",
       " 'the',\n",
       " 'and',\n",
       " 'but',\n",
       " 'if',\n",
       " 'or',\n",
       " 'because',\n",
       " 'as',\n",
       " 'until',\n",
       " 'while',\n",
       " 'of',\n",
       " 'at',\n",
       " 'by',\n",
       " 'for',\n",
       " 'with',\n",
       " 'about',\n",
       " 'against',\n",
       " 'between',\n",
       " 'into',\n",
       " 'through',\n",
       " 'during',\n",
       " 'before',\n",
       " 'after',\n",
       " 'above',\n",
       " 'below',\n",
       " 'to',\n",
       " 'from',\n",
       " 'up',\n",
       " 'down',\n",
       " 'in',\n",
       " 'out',\n",
       " 'on',\n",
       " 'off',\n",
       " 'over',\n",
       " 'under',\n",
       " 'again',\n",
       " 'further',\n",
       " 'then',\n",
       " 'once',\n",
       " 'here',\n",
       " 'there',\n",
       " 'when',\n",
       " 'where',\n",
       " 'why',\n",
       " 'how',\n",
       " 'all',\n",
       " 'any',\n",
       " 'both',\n",
       " 'each',\n",
       " 'few',\n",
       " 'more',\n",
       " 'most',\n",
       " 'other',\n",
       " 'some',\n",
       " 'such',\n",
       " 'no',\n",
       " 'nor',\n",
       " 'not',\n",
       " 'only',\n",
       " 'own',\n",
       " 'same',\n",
       " 'so',\n",
       " 'than',\n",
       " 'too',\n",
       " 'very',\n",
       " 's',\n",
       " 't',\n",
       " 'can',\n",
       " 'will',\n",
       " 'just',\n",
       " 'don',\n",
       " \"don't\",\n",
       " 'should',\n",
       " \"should've\",\n",
       " 'now',\n",
       " 'd',\n",
       " 'll',\n",
       " 'm',\n",
       " 'o',\n",
       " 're',\n",
       " 've',\n",
       " 'y',\n",
       " 'ain',\n",
       " 'aren',\n",
       " \"aren't\",\n",
       " 'couldn',\n",
       " \"couldn't\",\n",
       " 'didn',\n",
       " \"didn't\",\n",
       " 'doesn',\n",
       " \"doesn't\",\n",
       " 'hadn',\n",
       " \"hadn't\",\n",
       " 'hasn',\n",
       " \"hasn't\",\n",
       " 'haven',\n",
       " \"haven't\",\n",
       " 'isn',\n",
       " \"isn't\",\n",
       " 'ma',\n",
       " 'mightn',\n",
       " \"mightn't\",\n",
       " 'mustn',\n",
       " \"mustn't\",\n",
       " 'needn',\n",
       " \"needn't\",\n",
       " 'shan',\n",
       " \"shan't\",\n",
       " 'shouldn',\n",
       " \"shouldn't\",\n",
       " 'wasn',\n",
       " \"wasn't\",\n",
       " 'weren',\n",
       " \"weren't\",\n",
       " 'won',\n",
       " \"won't\",\n",
       " 'wouldn',\n",
       " \"wouldn't\"]"
      ]
     },
     "metadata": {},
     "execution_count": 24
    }
   ],
   "source": [
    "stopwords = nltk.corpus.stopwords.words(\"english\")\n",
    "stopwords # 這些是被 nltk package 認定為 stopwords 的英文字"
   ]
  },
  {
   "cell_type": "code",
   "execution_count": 27,
   "metadata": {},
   "outputs": [],
   "source": [
    "stopwords_ARB = nltk.corpus.stopwords.words(\"arabic\")"
   ]
  },
  {
   "cell_type": "code",
   "execution_count": 29,
   "metadata": {},
   "outputs": [
    {
     "output_type": "execute_result",
     "data": {
      "text/plain": [
       "['إذ', 'إذا', 'إذما', 'إذن', 'أف']"
      ]
     },
     "metadata": {},
     "execution_count": 29
    }
   ],
   "source": [
    "stopwords_ARB[:5]"
   ]
  },
  {
   "source": [
    "stopwords 的檔案存放在: ```C:\\Users\\User\\AppData\\Roaming\\nltk_data\\corpora\\stopwords```  \n",
    "注意: 沒有中文字的 stopwords"
   ],
   "cell_type": "markdown",
   "metadata": {}
  },
  {
   "source": [
    "在上述的 vectorizaton 步驟中，lemmatize 或 stemmize 其實不太合理，因為可能造成誤會，比如 promised (承諾)跟 promising (有未來的)意思不同，但在 lemmatize 或 stemmize 下都會變成 promise。"
   ],
   "cell_type": "markdown",
   "metadata": {}
  },
  {
   "source": [
    "## 1. Lexicon Based Approach"
   ],
   "cell_type": "markdown",
   "metadata": {}
  },
  {
   "source": [
    "- Sentiment lexicon 就是一個辭典，裡面存放很多字，而根據這些字的正面或負面，分別給 -1 到 +1 的值，數值越大，代表這個詞越 positive  \n",
    "Some pre-existing lexicons:   \n",
    "    - LIWC  \n",
    "    - ANEW  \n",
    "    - SentiWordNEt  \n",
    "    - SenticNet   \n",
    "    - VADER  \n",
    "- Drawbacks:  \n",
    "    - 無法為 acronyms (縮寫，例如: laser)、initialism (縮寫，例如 PDF。[initialism 跟 acronyms 的差別在 initialism 的縮寫只能一個一個字母唸](https://www.editage.com.tw/resources/tutorial/difference-between-abbreviation.html))、emoticons、slangs etc. 因此 lexicon based approach 較不適合拿來分析 social media。  \n",
    "    - 無法分辨 sentiment intensity (強度)。例如: Food is exceptional 與 Food is good 哪一個比較好。  \n",
    "    - 無法分辨 sarcasm (諷刺)  \n",
    "- 改善:   \n",
    "    VADER 改善前述問題，其特色為:  \n",
    "    - 納入 slangs (eg: LOL, OMG, ROFL, Nah, Meh etc) 與 emoji  \n",
    "    - wider scale: -4 (extremely negative) to +4 (extremely positive)"
   ],
   "cell_type": "markdown",
   "metadata": {}
  },
  {
   "source": [
    "### VADER ([github 網站](https://github.com/cjhutto/vaderSentiment)):"
   ],
   "cell_type": "markdown",
   "metadata": {}
  },
  {
   "source": [
    "安裝: ```pip install vaderSentiment```"
   ],
   "cell_type": "markdown",
   "metadata": {}
  },
  {
   "source": [
    "- 根據 [```vaderSentiment.py``` 裡的 ```normalize``` method:](https://github.com/cjhutto/vaderSentiment/blob/master/vaderSentiment/vaderSentiment.py) 作者將每個字標準化，使數值介於 ```0``` 到 ```1```。  \n",
    "- 同時，作者建議:  \n",
    "    - positive sentiment: ```compound``` score >= 0.05\n",
    "    - neutral sentiment: (```compound``` score > -0.05) and (```compound``` score < 0.05)\n",
    "    - negative sentiment: ```compound``` score <= -0.05"
   ],
   "cell_type": "markdown",
   "metadata": {}
  },
  {
   "cell_type": "code",
   "execution_count": 1,
   "metadata": {},
   "outputs": [],
   "source": [
    "from vaderSentiment.vaderSentiment import SentimentIntensityAnalyzer"
   ]
  },
  {
   "cell_type": "code",
   "execution_count": 7,
   "metadata": {},
   "outputs": [],
   "source": [
    "analyser = SentimentIntensityAnalyzer() # create an object"
   ]
  },
  {
   "cell_type": "code",
   "execution_count": 8,
   "metadata": {},
   "outputs": [
    {
     "output_type": "execute_result",
     "data": {
      "text/plain": [
       "{'neg': 0.0, 'neu': 0.58, 'pos': 0.42, 'compound': 0.4404}"
      ]
     },
     "metadata": {},
     "execution_count": 8
    }
   ],
   "source": [
    "analyser.polarity_scores(\"This is a good course.\")"
   ]
  },
  {
   "source": [
    "回傳值是一個字典，裡面有 ```This is a good course.``` 這段話裡:  \n",
    "- 負面的字 (```neg```) 的程度  \n",
    "- 中性字 (```neu```) 的程度  \n",
    "- 正面字的程度 (```pos```)  \n",
    "- 所有字合在一起 (也就是整句話) 的程度 (```compound```)"
   ],
   "cell_type": "markdown",
   "metadata": {}
  },
  {
   "cell_type": "code",
   "execution_count": 10,
   "metadata": {},
   "outputs": [
    {
     "output_type": "execute_result",
     "data": {
      "text/plain": [
       "{'neg': 0.0, 'neu': 0.494, 'pos': 0.506, 'compound': 0.6249}"
      ]
     },
     "metadata": {},
     "execution_count": 10
    }
   ],
   "source": [
    "analyser.polarity_scores(\"This is an awesome course.\") # better than previous"
   ]
  },
  {
   "cell_type": "code",
   "execution_count": 11,
   "metadata": {},
   "outputs": [
    {
     "output_type": "execute_result",
     "data": {
      "text/plain": [
       "{'neg': 0.0, 'neu': 1.0, 'pos': 0.0, 'compound': 0.0}"
      ]
     },
     "metadata": {},
     "execution_count": 11
    }
   ],
   "source": [
    "analyser.polarity_scores(\"This is an exceptional course.\") # cant tell"
   ]
  },
  {
   "source": [
    "增強語意:"
   ],
   "cell_type": "markdown",
   "metadata": {}
  },
  {
   "cell_type": "code",
   "execution_count": 12,
   "metadata": {},
   "outputs": [
    {
     "output_type": "execute_result",
     "data": {
      "text/plain": [
       "{'neg': 0.0, 'neu': 0.572, 'pos': 0.428, 'compound': 0.4572}"
      ]
     },
     "metadata": {},
     "execution_count": 12
    }
   ],
   "source": [
    "analyser.polarity_scores(\"The instructor is so cool.\")"
   ]
  },
  {
   "cell_type": "code",
   "execution_count": 13,
   "metadata": {},
   "outputs": [
    {
     "output_type": "execute_result",
     "data": {
      "text/plain": [
       "{'neg': 0.0, 'neu': 0.549, 'pos': 0.451, 'compound': 0.5079}"
      ]
     },
     "metadata": {},
     "execution_count": 13
    }
   ],
   "source": [
    "analyser.polarity_scores(\"The instructor is so cool!\")"
   ]
  },
  {
   "cell_type": "code",
   "execution_count": 14,
   "metadata": {},
   "outputs": [
    {
     "output_type": "execute_result",
     "data": {
      "text/plain": [
       "{'neg': 0.0, 'neu': 0.488, 'pos': 0.512, 'compound': 0.6369}"
      ]
     },
     "metadata": {},
     "execution_count": 14
    }
   ],
   "source": [
    "analyser.polarity_scores(\"The instructor is so COOL!\")"
   ]
  },
  {
   "source": [
    "表情符號:"
   ],
   "cell_type": "markdown",
   "metadata": {}
  },
  {
   "source": [
    "```pip install emoji```"
   ],
   "cell_type": "markdown",
   "metadata": {}
  },
  {
   "source": [
    "[完整 emoji lists 及其 utf-8 與 CLDR code](https://unicode.org/emoji/charts/full-emoji-list.html)"
   ],
   "cell_type": "markdown",
   "metadata": {}
  },
  {
   "cell_type": "code",
   "execution_count": 18,
   "metadata": {},
   "outputs": [],
   "source": [
    "import emoji"
   ]
  },
  {
   "cell_type": "code",
   "execution_count": 29,
   "metadata": {},
   "outputs": [
    {
     "output_type": "stream",
     "name": "stdout",
     "text": [
      "🥺\n"
     ]
    }
   ],
   "source": [
    "print(emoji.emojize(\":pleading_face:\"))"
   ]
  },
  {
   "cell_type": "code",
   "execution_count": 27,
   "metadata": {},
   "outputs": [
    {
     "output_type": "stream",
     "name": "stdout",
     "text": [
      "🥺\n"
     ]
    }
   ],
   "source": [
    "print(\"\\U0001F97A\")"
   ]
  },
  {
   "cell_type": "code",
   "execution_count": 30,
   "metadata": {},
   "outputs": [],
   "source": [
    "plead_face = \"\\U0001F97A\""
   ]
  },
  {
   "cell_type": "code",
   "execution_count": 38,
   "metadata": {},
   "outputs": [
    {
     "output_type": "stream",
     "name": "stdout",
     "text": [
      "I want a girlfriend🥺\n"
     ]
    },
    {
     "output_type": "execute_result",
     "data": {
      "text/plain": [
       "{'neg': 0.0, 'neu': 0.794, 'pos': 0.206, 'compound': 0.0772}"
      ]
     },
     "metadata": {},
     "execution_count": 38
    }
   ],
   "source": [
    "print(\"I want a girlfriend\" + plead_face)\n",
    "analyser.polarity_scores(\"I want a girlfriend\" + plead_face)"
   ]
  },
  {
   "cell_type": "code",
   "execution_count": 35,
   "metadata": {},
   "outputs": [],
   "source": [
    "crying_face = emoji.emojize(\":crying_face:\")"
   ]
  },
  {
   "cell_type": "code",
   "execution_count": 37,
   "metadata": {},
   "outputs": [
    {
     "output_type": "stream",
     "name": "stdout",
     "text": [
      "I want a girlfriend😢\n"
     ]
    },
    {
     "output_type": "execute_result",
     "data": {
      "text/plain": [
       "{'neg': 0.369, 'neu': 0.476, 'pos': 0.155, 'compound': -0.4215}"
      ]
     },
     "metadata": {},
     "execution_count": 37
    }
   ],
   "source": [
    "print(\"I want a girlfriend\" + crying_face)\n",
    "analyser.polarity_scores(\"I want a girlfriend\" + crying_face)"
   ]
  },
  {
   "source": [
    "Slangs:"
   ],
   "cell_type": "markdown",
   "metadata": {}
  },
  {
   "cell_type": "code",
   "execution_count": 34,
   "metadata": {},
   "outputs": [
    {
     "output_type": "execute_result",
     "data": {
      "text/plain": [
       "{'neg': 0.618, 'neu': 0.382, 'pos': 0.0, 'compound': -0.4995}"
      ]
     },
     "metadata": {},
     "execution_count": 34
    }
   ],
   "source": [
    "analyser.polarity_scores(\"The movie SUX\")"
   ]
  },
  {
   "source": [
    "### Textblob ([github 網站](https://github.com/sloria/TextBlob))"
   ],
   "cell_type": "markdown",
   "metadata": {}
  },
  {
   "source": [
    "安裝: ```pip install textblob```"
   ],
   "cell_type": "markdown",
   "metadata": {}
  },
  {
   "cell_type": "code",
   "execution_count": 39,
   "metadata": {},
   "outputs": [],
   "source": [
    "from textblob import TextBlob"
   ]
  },
  {
   "cell_type": "code",
   "execution_count": 40,
   "metadata": {},
   "outputs": [
    {
     "output_type": "execute_result",
     "data": {
      "text/plain": [
       "Sentiment(polarity=0.0, subjectivity=0.0)"
      ]
     },
     "metadata": {},
     "execution_count": 40
    }
   ],
   "source": [
    "TextBlob(\"His\").sentiment"
   ]
  },
  {
   "cell_type": "code",
   "execution_count": 41,
   "metadata": {},
   "outputs": [],
   "source": [
    "txt = \"His remarkable work ethic impressed me\""
   ]
  },
  {
   "cell_type": "code",
   "execution_count": 45,
   "metadata": {},
   "outputs": [
    {
     "output_type": "stream",
     "name": "stdout",
     "text": [
      "Showing the sentiment of His: Sentiment(polarity=0.0, subjectivity=0.0)\nShowing the sentiment of remarkable: Sentiment(polarity=0.75, subjectivity=0.75)\nShowing the sentiment of work: Sentiment(polarity=0.0, subjectivity=0.0)\nShowing the sentiment of ethic: Sentiment(polarity=0.0, subjectivity=0.0)\nShowing the sentiment of impressed: Sentiment(polarity=1.0, subjectivity=1.0)\nShowing the sentiment of me: Sentiment(polarity=0.0, subjectivity=0.0)\n"
     ]
    }
   ],
   "source": [
    "for i in txt.split(\" \"):\n",
    "    print(\"Showing the sentiment of {}: {}\".format(i, TextBlob(i).sentiment))"
   ]
  },
  {
   "cell_type": "code",
   "execution_count": 46,
   "metadata": {},
   "outputs": [
    {
     "output_type": "execute_result",
     "data": {
      "text/plain": [
       "Sentiment(polarity=0.875, subjectivity=0.875)"
      ]
     },
     "metadata": {},
     "execution_count": 46
    }
   ],
   "source": [
    "TextBlob(txt).sentiment"
   ]
  },
  {
   "source": [
    "## 目標: 爬取 [oilprice.com 關於 crude oil 的新聞](https://oilprice.com/Energy/Crude-Oil/)，並解析 sentiment:"
   ],
   "cell_type": "markdown",
   "metadata": {}
  },
  {
   "cell_type": "code",
   "execution_count": 47,
   "metadata": {},
   "outputs": [],
   "source": [
    "import pandas as pd\n",
    "import requests\n",
    "from bs4 import BeautifulSoup"
   ]
  },
  {
   "cell_type": "code",
   "execution_count": 48,
   "metadata": {},
   "outputs": [],
   "source": [
    "from vaderSentiment.vaderSentiment import SentimentIntensityAnalyzer"
   ]
  },
  {
   "cell_type": "code",
   "execution_count": 49,
   "metadata": {},
   "outputs": [],
   "source": [
    "# create lists to store relevant datas:\n",
    "url_list = []\n",
    "date_time = []\n",
    "headlines = []\n",
    "news_text = []"
   ]
  },
  {
   "cell_type": "code",
   "execution_count": 55,
   "metadata": {},
   "outputs": [],
   "source": [
    "# scrap page 1 to page 3 of the website:\n",
    "for i in range(1, 3):\n",
    "    url = \"http://oilprice.com/Energy/Crude-Oil/Page-\" + str(i) + \".html\"\n",
    "    page = requests.get(url)\n",
    "    soup = BeautifulSoup(page.content, \"html\")\n",
    "    \n",
    "    for div in soup.find_all(\"div\", {\"class\":\"categoryArticle__content\"}):\n",
    "        for a in div.find_all(\"a\"):\n",
    "            if a.get('href') not in url_list:\n",
    "                url_list.append(a.get('href'))\n"
   ]
  },
  {
   "cell_type": "code",
   "execution_count": 57,
   "metadata": {},
   "outputs": [
    {
     "output_type": "execute_result",
     "data": {
      "text/plain": [
       "'https://oilprice.com/Energy/Crude-Oil/Will-US-Shale-Finally-Reward-Shareholders.html'"
      ]
     },
     "metadata": {},
     "execution_count": 57
    }
   ],
   "source": [
    "url_list[0]"
   ]
  },
  {
   "source": [
    "查看如何找出目標資訊 (使用一個特定網頁檢查):"
   ],
   "cell_type": "markdown",
   "metadata": {}
  },
  {
   "source": [
    "Find the headline:"
   ],
   "cell_type": "markdown",
   "metadata": {}
  },
  {
   "cell_type": "code",
   "execution_count": 58,
   "metadata": {},
   "outputs": [
    {
     "output_type": "execute_result",
     "data": {
      "text/plain": [
       "['https:',\n",
       " '',\n",
       " 'oilprice.com',\n",
       " 'Energy',\n",
       " 'Crude-Oil',\n",
       " 'Will-US-Shale-Finally-Reward-Shareholders.html']"
      ]
     },
     "metadata": {},
     "execution_count": 58
    }
   ],
   "source": [
    "# 新聞標題就在 url 裡:\n",
    "url_list[0].split(\"/\")"
   ]
  },
  {
   "cell_type": "code",
   "execution_count": 61,
   "metadata": {},
   "outputs": [
    {
     "output_type": "execute_result",
     "data": {
      "text/plain": [
       "'Will US Shale Finally Reward Shareholders.html'"
      ]
     },
     "metadata": {},
     "execution_count": 61
    }
   ],
   "source": [
    "url_list[0].split(\"/\")[-1].replace(\"-\", \" \")"
   ]
  },
  {
   "cell_type": "code",
   "execution_count": 132,
   "metadata": {},
   "outputs": [],
   "source": [
    "egg = url_list[0].split(\"/\")[-1].replace(\"-\", \" \").split(\" \")"
   ]
  },
  {
   "cell_type": "code",
   "execution_count": 133,
   "metadata": {},
   "outputs": [
    {
     "output_type": "execute_result",
     "data": {
      "text/plain": [
       "['Will', 'US', 'Shale', 'Finally', 'Reward', 'Shareholders.html']"
      ]
     },
     "metadata": {},
     "execution_count": 133
    }
   ],
   "source": [
    "egg"
   ]
  },
  {
   "source": [
    "Find the date:"
   ],
   "cell_type": "markdown",
   "metadata": {}
  },
  {
   "cell_type": "code",
   "execution_count": 79,
   "metadata": {},
   "outputs": [],
   "source": [
    "# 找出 datetime:\n",
    "url = \"https://oilprice.com/Energy/Crude-Oil/Will-US-Shale-Finally-Reward-Shareholders.html\"\n",
    "page = requests.get(url)\n",
    "soup = BeautifulSoup(page.content, \"html\")"
   ]
  },
  {
   "cell_type": "code",
   "execution_count": 93,
   "metadata": {},
   "outputs": [],
   "source": [
    "dates = soup.find(\"span\", {\"class\":\"article_byline\"}) # find the dates"
   ]
  },
  {
   "cell_type": "code",
   "execution_count": 92,
   "metadata": {},
   "outputs": [
    {
     "output_type": "execute_result",
     "data": {
      "text/plain": [
       "<span class=\"article_byline\">By <a href=\"https://oilprice.com/contributors/Tsvetana-Paraskova\">Tsvetana Paraskova</a> - Jan 31, 2021, 6:00 PM CST</span>"
      ]
     },
     "metadata": {},
     "execution_count": 92
    }
   ],
   "source": [
    "dates"
   ]
  },
  {
   "cell_type": "code",
   "execution_count": 97,
   "metadata": {},
   "outputs": [
    {
     "output_type": "execute_result",
     "data": {
      "text/plain": [
       "bs4.element.Tag"
      ]
     },
     "metadata": {},
     "execution_count": 97
    }
   ],
   "source": [
    "type(dates)"
   ]
  },
  {
   "cell_type": "code",
   "execution_count": 98,
   "metadata": {},
   "outputs": [
    {
     "output_type": "execute_result",
     "data": {
      "text/plain": [
       "'By Tsvetana Paraskova - Jan 31, 2021, 6:00 PM CST'"
      ]
     },
     "metadata": {},
     "execution_count": 98
    }
   ],
   "source": [
    "dates.text"
   ]
  },
  {
   "cell_type": "code",
   "execution_count": 99,
   "metadata": {},
   "outputs": [
    {
     "output_type": "execute_result",
     "data": {
      "text/plain": [
       "str"
      ]
     },
     "metadata": {},
     "execution_count": 99
    }
   ],
   "source": [
    "type(dates.text)"
   ]
  },
  {
   "cell_type": "code",
   "execution_count": 104,
   "metadata": {},
   "outputs": [
    {
     "output_type": "execute_result",
     "data": {
      "text/plain": [
       "' Jan 31, 2021, 6:00 PM CST'"
      ]
     },
     "metadata": {},
     "execution_count": 104
    }
   ],
   "source": [
    "# slice the relevant info:\n",
    "dates.text.split(\"-\")[-1]"
   ]
  },
  {
   "source": [
    "Find the main text of the news:"
   ],
   "cell_type": "markdown",
   "metadata": {}
  },
  {
   "cell_type": "code",
   "execution_count": 106,
   "metadata": {},
   "outputs": [],
   "source": [
    "par = soup.find_all(\"p\")"
   ]
  },
  {
   "cell_type": "code",
   "execution_count": 108,
   "metadata": {},
   "outputs": [
    {
     "output_type": "execute_result",
     "data": {
      "text/plain": [
       "bs4.element.ResultSet"
      ]
     },
     "metadata": {},
     "execution_count": 108
    }
   ],
   "source": [
    "type(par)"
   ]
  },
  {
   "cell_type": "code",
   "execution_count": 114,
   "metadata": {},
   "outputs": [
    {
     "output_type": "execute_result",
     "data": {
      "text/plain": [
       "[<p><a href=\"https://oilprice.com/oil-price-charts#prices\">Click Here for 150+ Global Oil Prices <img alt=\"Link\" src=\"https://d1o9e4un86hhpc.cloudfront.net/a/img/common/header/link.png\"/></a></p>,\n",
       " <p><a href=\"https://oilprice.com/oil-price-charts#prices\">Click Here for 150+ Global Oil Prices <img alt=\"Link\" src=\"https://d1o9e4un86hhpc.cloudfront.net/a/img/common/header/link.png\"/></a></p>,\n",
       " <p><a href=\"https://oilprice.com/oil-price-charts#prices\">Click Here for 150+ Global Oil Prices <img alt=\"Link\" src=\"https://d1o9e4un86hhpc.cloudfront.net/a/img/common/header/link.png\"/></a></p>,\n",
       " <p><a href=\"https://oilprice.com/oil-price-charts#prices\">Click Here for 150+ Global Oil Prices <img alt=\"Link\" src=\"https://d1o9e4un86hhpc.cloudfront.net/a/img/common/header/link.png\"/></a></p>,\n",
       " <p><a href=\"https://oilprice.com/oil-price-charts#prices\">Click Here for 150+ Global Oil Prices <img alt=\"Link\" src=\"https://d1o9e4un86hhpc.cloudfront.net/a/img/common/header/link.png\"/></a></p>,\n",
       " <p><a href=\"https://oilprice.com/oil-price-charts#prices\">Click Here for 150+ Global Oil Prices <img alt=\"Link\" src=\"https://d1o9e4un86hhpc.cloudfront.net/a/img/common/header/link.png\"/></a></p>,\n",
       " <p><a href=\"https://oilprice.com/oil-price-charts#prices\">Click Here for 150+ Global Oil Prices <img alt=\"Link\" src=\"https://d1o9e4un86hhpc.cloudfront.net/a/img/common/header/link.png\"/></a></p>,\n",
       " <p><a href=\"https://oilprice.com/oil-price-charts#prices\">Click Here for 150+ Global Oil Prices <img alt=\"Link\" src=\"https://d1o9e4un86hhpc.cloudfront.net/a/img/common/header/link.png\"/></a></p>,\n",
       " <p class=\"breakingNews__headline\"><a href=\"https://oilprice.com/Latest-Energy-News/World-News/US-Shale-Bidens-Drilling-Ban-Actually-Undermines-Emission-Targets.html\">U.S. Shale: Biden's Drilling Ban Actually Undermines Emission Targets</a></p>,\n",
       " <p class=\"breakingNews__socialMedia\">\n",
       " <span>Find us on:</span>\n",
       " <a class=\"breakingNews__socialLink\" href=\"https://www.facebook.com/oilpricenews\" rel=\"external\"><i class=\"fab fa-facebook-f\"></i></a>\n",
       " <a class=\"breakingNews__socialLink\" href=\"https://twitter.com/OilandEnergy\" rel=\"external\"><i class=\"fab fa-twitter\"></i></a>\n",
       " <a class=\"breakingNews__socialLink\" href=\"https://www.linkedin.com/company/oilprice-com?report%2Esuccess=KJ_KkFGTDCfMt-A7wV3Fn9Yvgwr02Kd6AZHGx4bQCDiP6-2rfP2oxyVoEQiPrcAQ7Bf\" rel=\"external\"><i class=\"fab fa-linkedin\"></i></a>\n",
       " <a class=\"breakingNews__socialLink\" href=\"https://feeds.feedburner.com/oilpricecom\" rel=\"external publisher\"><i class=\"icon-feedburner\"></i><!--<img src=\"https://d1o9e4un86hhpc.cloudfront.net/a/img/common/icon-feedburner.png\" height=\"14\" width=\"13\" alt=\"Feedburner\">--></a>\n",
       " <a class=\"breakingNews__socialLink\" href=\"https://oilprice.com/rss/main\" rel=\"external\"><i class=\"fa fa-rss\"></i></a>\n",
       " <a class=\"header_toggle\">\n",
       " <i aria-hidden=\"true\" class=\"fa fa-caret-up\"></i>\n",
       " </a> </p>,\n",
       " <p class=\"articleOtherNews__excerpt\">Iraq will pump less oil…</p>,\n",
       " <p class=\"articleOtherNews__excerpt\">The declining upstream investment, if…</p>,\n",
       " <p class=\"articleOtherNews__excerpt\">Saudi Arabia narrowly beat Russia…</p>,\n",
       " <p class=\"authorBox__authorName\">Tsvetana Paraskova</p>,\n",
       " <p class=\"authorBox__authorBio\">Tsvetana is a writer for Oilprice.com with over a decade of experience writing for news outlets such as iNVEZZ and SeeNews. </p>,\n",
       " <p><a class=\"authorBox__moreInfo\" href=\"https://oilprice.com/contributors/Tsvetana-Paraskova\">More Info</a></p>,\n",
       " <p><span style=\"font-weight: 400;\">U.S. oil prices above $50 a barrel are helping the shale patch to generate more cash flow, especially after the massive capital spending cuts last year. </span> <span style=\"font-weight: 400;\">But higher prices are also reviving the good old dilemma of U.S. shale producers—raise production or raise payouts to shareholders, who have grown increasingly frustrated in recent years with the lack of meaningful returns while drillers were sinking cash flows, and even spending beyond cash flow generation into breaking production records.    </span></p>,\n",
       " <p><span style=\"font-weight: 400;\">Most analysts believe that this time around, there won’t be much of a dilemma as shale producers will have to show investors they can be more profitable, return more of those profits to shareholders, and “not drill themselves into oblivion,” as Harold Hamm </span><a href=\"https://finance.yahoo.com/news/oil-pioneer-harold-hamm-warns-134725115.html\"><span style=\"font-weight: 400;\">warned</span></a><span style=\"font-weight: 400;\"> the industry back in 2017.  </span></p>,\n",
       " <p><span style=\"font-weight: 400;\">As oil prices are steadying above $50 per barrel, producers are vowing, once again, capital and drilling restraint, while distributing more cash to shareholders now that the shale patch is set to generate higher cash flows. </span></p>,\n",
       " <p><span style=\"font-weight: 400;\">While the prevailing opinion among analysts is that drillers would really keep their promise this time—unlike all similar pledges of the past four years—there is concern that the shale patch would return to plowing the cash it generates into drilling instead of into dividends. </span></p>,\n",
       " <p><span style=\"font-weight: 400;\">In addition, some of the larger publicly traded shale-focused producers fear that smaller privately-held drillers would rain on their parade by boosting production again because the scale of production is their way of generating cash, and there is no judgment about their choices from the stock market or shareholders. </span></p>,\n",
       " <p><span style=\"font-weight: 400;\">Despite the turbulent last year and the collapse in oil prices, 33 of the biggest listed shale-focused producers generated in the third quarter of 2020 the strongest free cash flow since the dawn of the fracking boom, the Institute for Energy Economics and Financial Analysis (IEEFA) said in an </span><a href=\"http://ieefa.org/wp-content/uploads/2020/12/US-Frackers-Slash-Capital-Investment-to-Lowest-Level-in-Over-a-Decade_December-2020.pdf\"><span style=\"font-weight: 400;\">analysis</span></a><span style=\"font-weight: 400;\"> in December. The companies generated $2.6 billion in free cash flow for Q3, thanks to the slashed capital expenditures (capex) during the quarter to the lowest level in more than a decade. </span><!-- /192633929/OilPrice-300x250-ATF-Mobile -->\n",
       " </p>,\n",
       " <p><span style=\"font-weight: 400;\">If WTI Crude prices average $50 a barrel this year, shale operators in the Permian Midland, Permian Delaware, Eagle Ford, Bakken, and DJ basins are set to see their cash flow operations jump to $73.6 billion in 2021, up from an estimated $55.7 billion in 2020, Rystad Energy </span><a href=\"https://www.rystadenergy.com/newsevents/news/press-releases/opec-protectionism-is-helping-the-us-shale-industry-find-32pct-more-cfo-to-boost-spending-in-2021/\"><span style=\"font-weight: 400;\">forecasts</span></a><span style=\"font-weight: 400;\">. </span></p>,\n",
       " <p><span style=\"color: #800000;\"><strong class=\"related\"> <a href=\"/Energy/Energy-General/Can-Big-Oil-Surprise-This-Earnings-Season.html\" rel=\"noopener\" target=\"_blank\">Related: Can Big Oil Surprise This Earnings Season?<br/></a></strong></span></p>,\n",
       " <p><span style=\"font-weight: 400;\">Higher cash flow from operations and free cash flows at U.S. shale producers would allow them to finally start rewarding shareholders with increased payouts, potentially reversing the trend of pullback from investors, who have grown weary of seeing record production growth at the expense of payout growth.  </span></p>,\n",
       " <p><span style=\"font-weight: 400;\">“It is going to be a banner year for free cash flow to shareholders,” Dane Gregoris, a director at oil and gas data analytics company Enverus, told </span><a href=\"https://www.reuters.com/article/us-usa-shale-dividend-idUSKBN29X28E\"><span style=\"font-weight: 400;\">Reuters</span></a><span style=\"font-weight: 400;\">’ Jennifer Hiller. </span></p>,\n",
       " <p><span style=\"font-weight: 400;\">To get more cash to shareholders, some companies are considering the introduction of variable dividends on top of the base dividend. </span></p>,\n",
       " <p><span style=\"font-weight: 400;\">Pioneer Natural Resources, for example, will be working out the mechanics of a variable dividend early this year, payable in 2022, as long as the all strip price is $45 or higher for Brent, CEO Scott Sheffield </span><a href=\"https://finance.yahoo.com/news/edited-transcript-pxd-n-earnings-013702554.html\"><span style=\"font-weight: 400;\">said</span></a><span style=\"font-weight: 400;\"> as early as on the company’s Q2 earnings call in August 2020.</span><!-- /192633929/OilPrice-300x250-BTF-Mobile -->\n",
       " </p>,\n",
       " <p><span style=\"font-weight: 400;\">Devon Energy, which authorized a </span><a href=\"https://www.globenewswire.com/news-release/2020/08/04/2072804/0/en/Devon-Energy-Provides-Barnett-Update-Announces-Special-Dividend-and-Outlines-Next-Steps-in-Cost-Reduction-Plan.html\"><span style=\"font-weight: 400;\">special dividend</span></a><span style=\"font-weight: 400;\"> last year, said in the announcement of the merger with WPX Energy that the combined company would launch a new dividend strategy that pays a fixed dividend and evaluates a </span><a href=\"https://www.devonenergy.com/news/2020/Devon-Energy-and-WPX-Energy-to-Combine-in-Merger-of-Equals-Creating-a-Leading-Energy-Company-Focused-on-Generating-Free-Cash-Flow-and-Return-of-Capital-to-Shareholders\"><span style=\"font-weight: 400;\">variable distribution</span></a><span style=\"font-weight: 400;\"> on a quarterly basis. Up to 50 percent of the remaining free cash flow on a quarterly basis will be distributed to shareholders through a variable distribution, Devon said in September. </span></p>,\n",
       " <p><span style=\"font-weight: 400;\">Apart from higher dividend distribution, shale drillers vow restraint in production growth, but larger listed producers are concerned that some producers would break promises of output restraint. </span></p>,\n",
       " <p><span style=\"font-weight: 400;\">“There are going to be bad actors [who pursue] growth for growth’s sake,” Matthew Gallagher, an executive at Pioneer Natural Resources, told the </span><a href=\"https://www.ft.com/content/37504f72-53de-470a-ad3d-3d6dacbe3348\"><span style=\"font-weight: 400;\">Financial Times</span></a><span style=\"font-weight: 400;\">. </span></p>,\n",
       " <p><span style=\"font-weight: 400;\">Still, the shale industry is under increased pressure from investors to boost payouts to shareholders. According to </span><a href=\"https://www.woodmac.com/news/opinion/rising-oil-prices-test-us-producers-willpower/\"><span style=\"font-weight: 400;\">Wood Mackenzie</span></a><span style=\"font-weight: 400;\">’s David Clark and Alex Beeker, “the strategic imperative is to deliver cash to shareholders through the cycle.” </span></p>,\n",
       " <p><span style=\"font-weight: 400;\">Oil prices above $50 a barrel will put to the test the shale patch’s resolve to boost returns to shareholders and not sink all the cash into drilling. Investors may not give the industry another chance. </span><span style=\"font-weight: 400;\"><br/></span><span style=\"font-weight: 400;\"><br/></span><span style=\"font-weight: 400;\">By Tsvetana Paraskova for Oilprice.com</span></p>,\n",
       " <p><strong>More Top Reads From Oilprice.com:</strong></p>,\n",
       " <p><a href=\"https://oilprice.com/\">Back to homepage</a></p>,\n",
       " <p class=\"singleArticle__navigation__title\"><span class=\"singleArticle__navigation__titleLink\">Previous Post</span></p>,\n",
       " <p class=\"singleArticle__navigation__articleTitle\"><span class=\"singleArticle__navigation__articleTitleLink\">The Enemy Of My Enemy: Big Oil Befriends Big Corn</span></p>,\n",
       " <p class=\"articleAuthorBox__text\">\n",
       " \t            Tsvetana is a writer for Oilprice.com with over a decade of experience writing for news outlets such as iNVEZZ and SeeNews. \t          </p>,\n",
       " <p class=\"sidebarTrendingArticles__articleTitle\">Tiny Oil Company Gets 1000% Wall Street Bets Bump</p>,\n",
       " <p class=\"sidebarTrendingArticles__articleTitle\">Biden's Green Energy Boom Could Send These Electric Vehicle Stocks Soaring</p>,\n",
       " <p class=\"sidebarTrendingArticles__articleTitle\">5 Oil And Gas Predictions For 2021</p>,\n",
       " <p class=\"sidebarTrendingArticles__articleTitle\">Game-changing Iranian Pipeline Set To Launch In March</p>,\n",
       " <p class=\"sidebarTrendingArticles__articleTitle\">Oil Prices Jump On Large Inventory Draw</p>,\n",
       " <p class=\"not_share\">We will not share your email address.<br/>You can unsubscribe at any time.</p>,\n",
       " <p class=\"footerLogoBanner__socialMedia\">\n",
       " <a class=\"footerLogoBanner__socialLink\" href=\"https://www.facebook.com/oilpricenews\" rel=\"external\"><i class=\"fab fa-facebook-f\"></i></a>\n",
       " <a class=\"footerLogoBanner__socialLink\" href=\"https://twitter.com/OilandEnergy\" rel=\"external\"><i class=\"fab fa-twitter\"></i></a>\n",
       " <a class=\"footerLogoBanner__socialLink\" href=\"https://www.linkedin.com/company/oilprice-com?report%2Esuccess=KJ_KkFGTDCfMt-A7wV3Fn9Yvgwr02Kd6AZHGx4bQCDiP6-2rfP2oxyVoEQiPrcAQ7Bf\" rel=\"external\"><i class=\"fab fa-linkedin\"></i></a>\n",
       " <a class=\"footerLogoBanner__socialLink\" href=\"https://feeds.feedburner.com/oilpricecom\" rel=\"external publisher\"><i class=\"icon-feedburner\"></i></a>\n",
       " <a class=\"footerLogoBanner__socialLink\" href=\"https://oilprice.com/rss/main\" rel=\"external\"><i class=\"fa fa-rss\"></i></a>\n",
       " </p>,\n",
       " <p class=\"copyrightText\">© <a href=\"/\">OilPrice.com</a><!-- | <a href=\"https://plus.google.com/100818571694606454377/posts\" rel=\"external nofollow\">Google+</a>--></p>,\n",
       " <p class=\"smallprint\">The materials provided on this Web site are for informational and educational purposes only and are not intended to provide tax, legal, or investment advice.</p>,\n",
       " <p class=\"smallprint\">Nothing contained on the Web site shall be considered a recommendation, solicitation, or offer to buy or sell a security to any person in any jurisdiction.</p>,\n",
       " <p class=\"smallprint\">Trading and investing carries a high risk of losing money rapidly due to leverage. Individuals should consider whether they can afford the risks associated to trading.</p>,\n",
       " <p class=\"smallprint\">Merchant of Record: A Media Solutions trading as Oilprice.com</p>]"
      ]
     },
     "metadata": {},
     "execution_count": 114
    }
   ],
   "source": [
    "par"
   ]
  },
  {
   "source": [
    "```html``` code 的文章內容都是放在 ```<p>``` tag 裡，故把網頁的所有 paragraph tags 找出來。  \n",
    "但要注意的是，不是所有 ```<p>``` 的 tag 都是內文，  \n",
    "觀察 ```par```，發現文章的正文是在 ```More Info``` 之後，止於  ```By Tsvetana Paraskova for Oilprice.com```。 (這裡就是要觀察)"
   ],
   "cell_type": "markdown",
   "metadata": {}
  },
  {
   "source": [
    "抓取主文內容，關鍵 attribute: ```.text```。"
   ],
   "cell_type": "markdown",
   "metadata": {}
  },
  {
   "cell_type": "code",
   "execution_count": 111,
   "metadata": {},
   "outputs": [],
   "source": [
    "# slice the relevant text of the website:\n",
    "temp = []\n",
    "for news in soup.find_all(\"p\"):\n",
    "    temp.append(news.text)"
   ]
  },
  {
   "cell_type": "code",
   "execution_count": 112,
   "metadata": {},
   "outputs": [
    {
     "output_type": "execute_result",
     "data": {
      "text/plain": [
       "['Click Here for 150+ Global Oil Prices ',\n",
       " 'Click Here for 150+ Global Oil Prices ',\n",
       " 'Click Here for 150+ Global Oil Prices ',\n",
       " 'Click Here for 150+ Global Oil Prices ',\n",
       " 'Click Here for 150+ Global Oil Prices ',\n",
       " 'Click Here for 150+ Global Oil Prices ',\n",
       " 'Click Here for 150+ Global Oil Prices ',\n",
       " 'Click Here for 150+ Global Oil Prices ',\n",
       " \"U.S. Shale: Biden's Drilling Ban Actually Undermines Emission Targets\",\n",
       " '\\nFind us on:\\n\\n\\n\\n\\n\\n\\n\\n ',\n",
       " 'Iraq will pump less oil…',\n",
       " 'The declining upstream investment, if…',\n",
       " 'Saudi Arabia narrowly beat Russia…',\n",
       " 'Tsvetana Paraskova',\n",
       " 'Tsvetana is a writer for Oilprice.com with over a decade of experience writing for news outlets such as iNVEZZ and SeeNews.\\xa0',\n",
       " 'More Info',\n",
       " 'U.S. oil prices above $50 a barrel are helping the shale patch to generate more cash flow, especially after the massive capital spending cuts last year.\\xa0 But higher prices are also reviving the good old dilemma of U.S. shale producers—raise production or raise payouts to shareholders, who have grown increasingly frustrated in recent years with the lack of meaningful returns while drillers were sinking cash flows, and even spending beyond cash flow generation into breaking production records.\\xa0\\xa0\\xa0\\xa0',\n",
       " 'Most analysts believe that this time around, there won’t be much of a dilemma as shale producers will have to show investors they can be more profitable, return more of those profits to shareholders, and “not drill themselves into oblivion,” as Harold Hamm warned the industry back in 2017.\\xa0\\xa0',\n",
       " 'As oil prices are steadying above $50 per barrel, producers are vowing, once again, capital and drilling restraint, while distributing more cash to shareholders now that the shale patch is set to generate higher cash flows.\\xa0',\n",
       " 'While the prevailing opinion among analysts is that drillers would really keep their promise this time—unlike all similar pledges of the past four years—there is concern that the shale patch would return to plowing the cash it generates into drilling instead of into dividends.\\xa0',\n",
       " 'In addition, some of the larger publicly traded shale-focused producers fear that smaller privately-held drillers would rain on their parade by boosting production again because the scale of production is their way of generating cash, and there is no judgment about their choices from the stock market or shareholders.\\xa0',\n",
       " 'Despite the turbulent last year and the collapse in oil prices, 33 of the biggest listed shale-focused producers generated in the third quarter of 2020 the strongest free cash flow since the dawn of the fracking boom, the Institute for Energy Economics and Financial Analysis (IEEFA) said in an analysis in December. The companies generated $2.6 billion in free cash flow for Q3, thanks to the slashed capital expenditures (capex) during the quarter to the lowest level in more than a decade.\\xa0\\n',\n",
       " 'If WTI Crude prices average $50 a barrel this year, shale operators in the Permian Midland, Permian Delaware, Eagle Ford, Bakken, and DJ basins are set to see their cash flow operations jump to $73.6 billion in 2021, up from an estimated $55.7 billion in 2020, Rystad Energy forecasts.\\xa0',\n",
       " ' Related: Can Big Oil Surprise This Earnings Season?',\n",
       " 'Higher cash flow from operations and free cash flows at U.S. shale producers would allow them to finally start rewarding shareholders with increased payouts, potentially reversing the trend of pullback from investors, who have grown weary of seeing record production growth at the expense of payout growth.\\xa0\\xa0',\n",
       " '“It is going to be a banner year for free cash flow to shareholders,” Dane Gregoris, a director at oil and gas data analytics company Enverus, told Reuters’ Jennifer Hiller.\\xa0',\n",
       " 'To get more cash to shareholders, some companies are considering the introduction of variable dividends on top of the base dividend.\\xa0',\n",
       " 'Pioneer Natural Resources, for example, will be working out the mechanics of a variable dividend early this year, payable in 2022, as long as the all strip price is $45 or higher for Brent, CEO Scott Sheffield said as early as on the company’s Q2 earnings call in August 2020.\\n',\n",
       " 'Devon Energy, which authorized a special dividend last year, said in the announcement of the merger with WPX Energy that the combined company would launch a new dividend strategy that pays a fixed dividend and evaluates a variable distribution on a quarterly basis. Up to 50 percent of the remaining free cash flow on a quarterly basis will be distributed to shareholders through a variable distribution, Devon said in September.\\xa0',\n",
       " 'Apart from higher dividend distribution, shale drillers vow restraint in production growth, but larger listed producers are concerned that some producers would break promises of output restraint.\\xa0',\n",
       " '“There are going to be bad actors [who pursue] growth for growth’s sake,” Matthew Gallagher, an executive at Pioneer Natural Resources, told the Financial Times.\\xa0',\n",
       " 'Still, the shale industry is under increased pressure from investors to boost payouts to shareholders. According to Wood Mackenzie’s David Clark and Alex Beeker, “the strategic imperative is to deliver cash to shareholders through the cycle.”\\xa0',\n",
       " 'Oil prices above $50 a barrel will put to the test the shale patch’s resolve to boost returns to shareholders and not sink all the cash into drilling. Investors may not give the industry another chance. By Tsvetana Paraskova for Oilprice.com',\n",
       " 'More Top Reads From Oilprice.com:',\n",
       " 'Back to homepage',\n",
       " 'Previous Post',\n",
       " 'The Enemy Of My Enemy: Big Oil Befriends Big Corn',\n",
       " '\\n\\t            Tsvetana is a writer for Oilprice.com with over a decade of experience writing for news outlets such as iNVEZZ and SeeNews.\\xa0\\t          ',\n",
       " 'Tiny Oil Company Gets 1000% Wall Street Bets Bump',\n",
       " \"Biden's Green Energy Boom Could Send These Electric Vehicle Stocks Soaring\",\n",
       " '5 Oil And Gas Predictions For 2021',\n",
       " 'Game-changing Iranian Pipeline Set To Launch In March',\n",
       " 'Oil Prices Jump On Large Inventory Draw',\n",
       " 'We will not share your email address.You can unsubscribe at any time.',\n",
       " '\\n\\n\\n\\n\\n\\n',\n",
       " '© OilPrice.com',\n",
       " 'The materials provided on this Web site are for informational and educational purposes only and are not intended to provide tax, legal, or investment advice.',\n",
       " 'Nothing contained on the Web site shall be considered a recommendation, solicitation, or offer to buy or sell a security to any person in any jurisdiction.',\n",
       " 'Trading and investing carries a high risk of losing money rapidly due to leverage. Individuals should consider whether they can afford the risks associated to trading.',\n",
       " 'Merchant of Record: A Media Solutions trading as Oilprice.com']"
      ]
     },
     "metadata": {},
     "execution_count": 112
    }
   ],
   "source": [
    "temp"
   ]
  },
  {
   "cell_type": "code",
   "execution_count": 116,
   "metadata": {},
   "outputs": [
    {
     "output_type": "execute_result",
     "data": {
      "text/plain": [
       "'Merchant of Record: A Media Solutions trading as Oilprice.com'"
      ]
     },
     "metadata": {},
     "execution_count": 116
    }
   ],
   "source": [
    "temp[-1]"
   ]
  },
  {
   "source": [
    "規則: 如果 ```temp[-1]``` 的開頭是 ```By``` 且結尾是 ```Oilprice.com```，則 ```break``` 掉迴圈"
   ],
   "cell_type": "markdown",
   "metadata": {}
  },
  {
   "source": [
    "### 取得文章的開頭:"
   ],
   "cell_type": "markdown",
   "metadata": {}
  },
  {
   "cell_type": "code",
   "execution_count": 120,
   "metadata": {},
   "outputs": [
    {
     "output_type": "execute_result",
     "data": {
      "text/plain": [
       "15"
      ]
     },
     "metadata": {},
     "execution_count": 120
    }
   ],
   "source": [
    "temp.index(\"More Info\") # 文章開頭的 index 是 15"
   ]
  },
  {
   "cell_type": "code",
   "execution_count": 122,
   "metadata": {},
   "outputs": [
    {
     "output_type": "execute_result",
     "data": {
      "text/plain": [
       "'U.S. oil prices above $50 a barrel are helping the shale patch to generate more cash flow, especially after the massive capital spending cuts last year.\\xa0 But higher prices are also reviving the good old dilemma of U.S. shale producers—raise production or raise payouts to shareholders, who have grown increasingly frustrated in recent years with the lack of meaningful returns while drillers were sinking cash flows, and even spending beyond cash flow generation into breaking production records.\\xa0\\xa0\\xa0\\xa0'"
      ]
     },
     "metadata": {},
     "execution_count": 122
    }
   ],
   "source": [
    "temp[temp.index(\"More Info\")+1] # 因此下一個就是正文的開頭"
   ]
  },
  {
   "source": [
    "### 全部整合:"
   ],
   "cell_type": "markdown",
   "metadata": {}
  },
  {
   "cell_type": "code",
   "execution_count": 123,
   "metadata": {},
   "outputs": [],
   "source": [
    "url_list = []\n",
    "date_time = []\n",
    "headlines = []\n",
    "news_text = []"
   ]
  },
  {
   "cell_type": "code",
   "execution_count": 124,
   "metadata": {},
   "outputs": [],
   "source": [
    "# scrap page 1 to page 3 of the website:\n",
    "for i in range(1, 3):\n",
    "    url = \"http://oilprice.com/Energy/Crude-Oil/Page-\" + str(i) + \".html\"\n",
    "    page = requests.get(url)\n",
    "    soup = BeautifulSoup(page.content, \"html\")\n",
    "    \n",
    "    for div in soup.find_all(\"div\", {\"class\":\"categoryArticle__content\"}):\n",
    "        for a in div.find_all(\"a\"):\n",
    "            if a.get('href') not in url_list:\n",
    "                url_list.append(a.get('href')) # use .get() method"
   ]
  },
  {
   "cell_type": "code",
   "execution_count": 140,
   "metadata": {},
   "outputs": [],
   "source": [
    "for www in url_list:\n",
    "    page = requests.get(www)\n",
    "    soup = BeautifulSoup(page.content, 'html')\n",
    "\n",
    "    headlines.append(www.split(\"/\")[-1].replace(\"-\", \" \")) # update the headline\n",
    "\n",
    "    # update the date\n",
    "    dates = soup.find(\"span\", {\"class\":\"article_byline\"})\n",
    "    date_time.append(dates.text.split(\"-\")[-1])\n",
    "\n",
    "    # update the main text\n",
    "    temp = []\n",
    "    for news in soup.find_all(\"p\"):\n",
    "        temp.append(news.text) # contains a lot of unrelevant information\n",
    "\n",
    "    for last_sentence in reversed(temp): # 從尾到頭 loop，找出結尾的那句話\n",
    "        if last_sentence.split(\" \")[0] == \"By\" and last_sentence.split(\" \")[-1] == \"Oilprice.com\":\n",
    "            break \n",
    "        elif last_sentence.split(\" \")[0] == \"By\":\n",
    "            break \n",
    "        elif last_sentence.split(\" \")[-1] == \"Oilprice.com\":\n",
    "            break\n",
    "    \n",
    "    join_text = ' '.join( temp[(temp.index(\"More Info\")+1):temp.index(last_sentence)]  )\n",
    "    news_text.append(join_text) # add the main text to global variable\n"
   ]
  },
  {
   "cell_type": "code",
   "execution_count": 145,
   "metadata": {},
   "outputs": [],
   "source": [
    "news_df = pd.DataFrame({'Date':date_time,\n",
    "                        'Headline':headlines, \n",
    "                        'News':news_text\n",
    "                        })"
   ]
  },
  {
   "cell_type": "code",
   "execution_count": 146,
   "metadata": {},
   "outputs": [
    {
     "output_type": "execute_result",
     "data": {
      "text/plain": [
       "                           Date  \\\n",
       "0     Jan 31, 2021, 6:00 PM CST   \n",
       "1    Jan 29, 2021, 10:00 AM CST   \n",
       "2     Jan 26, 2021, 7:00 PM CST   \n",
       "3     Jan 26, 2021, 6:00 PM CST   \n",
       "4    Jan 26, 2021, 12:00 PM CST   \n",
       "5     Jan 25, 2021, 3:00 PM CST   \n",
       "6     Jan 25, 2021, 2:00 PM CST   \n",
       "7    Jan 25, 2021, 10:00 AM CST   \n",
       "8     Jan 25, 2021, 9:00 AM CST   \n",
       "9    Jan 22, 2021, 11:00 AM CST   \n",
       "10    Jan 20, 2021, 7:00 PM CST   \n",
       "11    Jan 20, 2021, 2:00 PM CST   \n",
       "12    Jan 19, 2021, 3:00 PM CST   \n",
       "13   Jan 19, 2021, 12:00 PM CST   \n",
       "14    Jan 19, 2021, 9:00 AM CST   \n",
       "15    Jan 18, 2021, 1:00 PM CST   \n",
       "16   Jan 18, 2021, 12:00 PM CST   \n",
       "17    Jan 14, 2021, 6:00 PM CST   \n",
       "18   Jan 14, 2021, 12:00 PM CST   \n",
       "19    Jan 13, 2021, 6:30 PM CST   \n",
       "20   Jan 13, 2021, 12:00 PM CST   \n",
       "21    Jan 13, 2021, 9:40 AM CST   \n",
       "22    Jan 12, 2021, 5:00 PM CST   \n",
       "23   Jan 12, 2021, 10:00 AM CST   \n",
       "24    Jan 11, 2021, 1:00 PM CST   \n",
       "25    Jan 11, 2021, 9:00 AM CST   \n",
       "26    Jan 10, 2021, 7:00 PM CST   \n",
       "27   Jan 10, 2021, 10:00 AM CST   \n",
       "28    Jan 09, 2021, 2:00 PM CST   \n",
       "29    Jan 08, 2021, 1:00 PM CST   \n",
       "30    Jan 07, 2021, 2:00 PM CST   \n",
       "31    Jan 06, 2021, 1:00 PM CST   \n",
       "32    Jan 06, 2021, 9:00 AM CST   \n",
       "33    Jan 04, 2021, 9:30 AM CST   \n",
       "34   Jan 02, 2021, 10:00 AM CST   \n",
       "35    Jan 01, 2021, 2:00 PM CST   \n",
       "36   Jan 01, 2021, 12:00 PM CST   \n",
       "37    Dec 31, 2020, 1:00 PM CST   \n",
       "38    Dec 30, 2020, 2:00 PM CST   \n",
       "39    Dec 30, 2020, 9:38 AM CST   \n",
       "\n",
       "                                             Headline  \\\n",
       "0      Will US Shale Finally Reward Shareholders.html   \n",
       "1   The Enemy Of My Enemy Big Oil Befriends Big Co...   \n",
       "2   Big Oils Exploration Cuts Exacerbate Supply De...   \n",
       "3   Underinvestment In Oil And Gas May Cause Major...   \n",
       "4   Game changing Iranian Pipeline Set To Launch I...   \n",
       "5   An Oil Boom Hidden Within One Of Americas Bigg...   \n",
       "6   US Shale Industry Accelerates As Oil Prices Ri...   \n",
       "7   Oil Major BP Significantly Downsizes Oil Explo...   \n",
       "8   Iraq Slashes Oil Output To Compensate For Over...   \n",
       "9            Iran Begins Boosting Oil Production.html   \n",
       "10  Can Shale Resist The Lure Of Another Output Su...   \n",
       "11  Saudi Arabia Remained Chinas Top Oil Supplier ...   \n",
       "12  Angola Looks To Replicate Brazils Offshore Oil...   \n",
       "13  UAEs Oil Giant Looks To Partner With US Shale ...   \n",
       "14       IEA Slashes Oil Demand Outlook For 2021.html   \n",
       "15  Saudi Output Cut Boosts Demand For Russias Ura...   \n",
       "16  Rosneft Starts Work On Mega Arctic Oil Project...   \n",
       "17  US Shale Could Be The Biggest Winner Of The La...   \n",
       "18  OPEC Sees Oil Demand Rise To 959 Million Bpd I...   \n",
       "19  The Pandemic Could Lead To A Major Oil Supply ...   \n",
       "20  Worlds Top Oil Trader Airline Travel Wont Reco...   \n",
       "21  Oil Rises On Crude Draw Despite Product Builds...   \n",
       "22         Why A Fracking Ban Wont Kill US Shale.html   \n",
       "23  US Oil Drillers To Face More Pain Despite High...   \n",
       "24         US Sanctions Halve Irans Oil Revenues.html   \n",
       "25  India Oil Demand Falls For First Time In 20 Ye...   \n",
       "26       How US Shale Upended Global Crude Flows.html   \n",
       "27  Exxons Mega Oil Finds In Guyana Are Just The B...   \n",
       "28               Will Oil Demand Recover In 2021.html   \n",
       "29  Asian Buyers Rush To Secure North Sea Oil Afte...   \n",
       "30        The Real Crisis For Oil Is Yet To Come.html   \n",
       "31  Ecuador Scrambles To Clean Up Its Oil Industry...   \n",
       "32  Goldman Sachs Heres Whats Behind Saudis Shocki...   \n",
       "33         Oil Demand Is Still OPECs Top Concern.html   \n",
       "34    Cambodia Prepares To Produce Its First Oil.html   \n",
       "35      China Is Fueling South Americas Oil Boom.html   \n",
       "36  How One Bad Oil Bet Sparked A Global Trading D...   \n",
       "37  Merger Mania Is Transforming Canadas Oil Scene...   \n",
       "38  Fracking Could Save Colombia From Economic Cri...   \n",
       "39  Oil Jumps On Significant Crude Inventory Draw....   \n",
       "\n",
       "                                                 News  \n",
       "0   U.S. oil prices above $50 a barrel are helping...  \n",
       "1   It’s the oddest of odd couples, yet understand...  \n",
       "2   The idea that crude oil could ever again hit t...  \n",
       "3   Following an unpredictable and shocking 2020, ...  \n",
       "4   The geopolitically game-changing Goreh-Jask pi...  \n",
       "5   When you think of giant oil fields you probabl...  \n",
       "6   The number of drilled but uncompleted wells (D...  \n",
       "7   As part of its ambition to reduce oil and gas ...  \n",
       "8   Iraq will pump less oil this month and next to...  \n",
       "9   Iran has started ramping up its crude oil prod...  \n",
       "10  U.S. shale changed global oil markets. It shoo...  \n",
       "11  For most of last year, Saudi Arabia—the larges...  \n",
       "12  The sub-Saharan country of Angola is not one w...  \n",
       "13  The Abu Dhabi National Oil Company (ADNOC) is ...  \n",
       "14  The International Energy Agency cut its crude ...  \n",
       "15  Russia’s flagship crude grade, Urals, has seen...  \n",
       "16  Russia is a country of superlatives. Its energ...  \n",
       "17  OPEC, and especially OPEC+, has always seemed ...  \n",
       "18  Global oil demand is set to rise by 5.9 millio...  \n",
       "19  It may be counterintuitive to say that the oil...  \n",
       "20  Airline travel will continue to suffer in the ...  \n",
       "21  Crude oil prices jumped further today after th...  \n",
       "22  One of the things that had the oil industry wo...  \n",
       "23  WTI is back above $50 a barrel, and things are...  \n",
       "24  Iran’s oil revenues have halved since the U.S....  \n",
       "25  India's crude oil demand last year fell for th...  \n",
       "26  The U.S. removed the ban on American crude oil...  \n",
       "27  Like many global oil majors ExxonMobil is unde...  \n",
       "28  Oil prices are rallying aggressively on the ba...  \n",
       "29  Saudi Arabia’s surprise announcement that it w...  \n",
       "30  Italian energy major, Eni, described 2020 as a...  \n",
       "31  The last year was difficult for Ecuador’s beat...  \n",
       "32  The first monthly OPEC+ meeting to decide on t...  \n",
       "33  OPEC has signaled it is concerned about oil de...  \n",
       "34  As Asian oil demand looks set to increase over...  \n",
       "35  Oil demand from China has been one of the few ...  \n",
       "36  By now we are all keenly aware of the near-dev...  \n",
       "37  Canada’s oil landscape looks encouraging for 2...  \n",
       "38  Colombia country is facing its worst economic ...  \n",
       "39  Crude oil prices rose further today after the ...  "
      ],
      "text/html": "<div>\n<style scoped>\n    .dataframe tbody tr th:only-of-type {\n        vertical-align: middle;\n    }\n\n    .dataframe tbody tr th {\n        vertical-align: top;\n    }\n\n    .dataframe thead th {\n        text-align: right;\n    }\n</style>\n<table border=\"1\" class=\"dataframe\">\n  <thead>\n    <tr style=\"text-align: right;\">\n      <th></th>\n      <th>Date</th>\n      <th>Headline</th>\n      <th>News</th>\n    </tr>\n  </thead>\n  <tbody>\n    <tr>\n      <th>0</th>\n      <td>Jan 31, 2021, 6:00 PM CST</td>\n      <td>Will US Shale Finally Reward Shareholders.html</td>\n      <td>U.S. oil prices above $50 a barrel are helping...</td>\n    </tr>\n    <tr>\n      <th>1</th>\n      <td>Jan 29, 2021, 10:00 AM CST</td>\n      <td>The Enemy Of My Enemy Big Oil Befriends Big Co...</td>\n      <td>It’s the oddest of odd couples, yet understand...</td>\n    </tr>\n    <tr>\n      <th>2</th>\n      <td>Jan 26, 2021, 7:00 PM CST</td>\n      <td>Big Oils Exploration Cuts Exacerbate Supply De...</td>\n      <td>The idea that crude oil could ever again hit t...</td>\n    </tr>\n    <tr>\n      <th>3</th>\n      <td>Jan 26, 2021, 6:00 PM CST</td>\n      <td>Underinvestment In Oil And Gas May Cause Major...</td>\n      <td>Following an unpredictable and shocking 2020, ...</td>\n    </tr>\n    <tr>\n      <th>4</th>\n      <td>Jan 26, 2021, 12:00 PM CST</td>\n      <td>Game changing Iranian Pipeline Set To Launch I...</td>\n      <td>The geopolitically game-changing Goreh-Jask pi...</td>\n    </tr>\n    <tr>\n      <th>5</th>\n      <td>Jan 25, 2021, 3:00 PM CST</td>\n      <td>An Oil Boom Hidden Within One Of Americas Bigg...</td>\n      <td>When you think of giant oil fields you probabl...</td>\n    </tr>\n    <tr>\n      <th>6</th>\n      <td>Jan 25, 2021, 2:00 PM CST</td>\n      <td>US Shale Industry Accelerates As Oil Prices Ri...</td>\n      <td>The number of drilled but uncompleted wells (D...</td>\n    </tr>\n    <tr>\n      <th>7</th>\n      <td>Jan 25, 2021, 10:00 AM CST</td>\n      <td>Oil Major BP Significantly Downsizes Oil Explo...</td>\n      <td>As part of its ambition to reduce oil and gas ...</td>\n    </tr>\n    <tr>\n      <th>8</th>\n      <td>Jan 25, 2021, 9:00 AM CST</td>\n      <td>Iraq Slashes Oil Output To Compensate For Over...</td>\n      <td>Iraq will pump less oil this month and next to...</td>\n    </tr>\n    <tr>\n      <th>9</th>\n      <td>Jan 22, 2021, 11:00 AM CST</td>\n      <td>Iran Begins Boosting Oil Production.html</td>\n      <td>Iran has started ramping up its crude oil prod...</td>\n    </tr>\n    <tr>\n      <th>10</th>\n      <td>Jan 20, 2021, 7:00 PM CST</td>\n      <td>Can Shale Resist The Lure Of Another Output Su...</td>\n      <td>U.S. shale changed global oil markets. It shoo...</td>\n    </tr>\n    <tr>\n      <th>11</th>\n      <td>Jan 20, 2021, 2:00 PM CST</td>\n      <td>Saudi Arabia Remained Chinas Top Oil Supplier ...</td>\n      <td>For most of last year, Saudi Arabia—the larges...</td>\n    </tr>\n    <tr>\n      <th>12</th>\n      <td>Jan 19, 2021, 3:00 PM CST</td>\n      <td>Angola Looks To Replicate Brazils Offshore Oil...</td>\n      <td>The sub-Saharan country of Angola is not one w...</td>\n    </tr>\n    <tr>\n      <th>13</th>\n      <td>Jan 19, 2021, 12:00 PM CST</td>\n      <td>UAEs Oil Giant Looks To Partner With US Shale ...</td>\n      <td>The Abu Dhabi National Oil Company (ADNOC) is ...</td>\n    </tr>\n    <tr>\n      <th>14</th>\n      <td>Jan 19, 2021, 9:00 AM CST</td>\n      <td>IEA Slashes Oil Demand Outlook For 2021.html</td>\n      <td>The International Energy Agency cut its crude ...</td>\n    </tr>\n    <tr>\n      <th>15</th>\n      <td>Jan 18, 2021, 1:00 PM CST</td>\n      <td>Saudi Output Cut Boosts Demand For Russias Ura...</td>\n      <td>Russia’s flagship crude grade, Urals, has seen...</td>\n    </tr>\n    <tr>\n      <th>16</th>\n      <td>Jan 18, 2021, 12:00 PM CST</td>\n      <td>Rosneft Starts Work On Mega Arctic Oil Project...</td>\n      <td>Russia is a country of superlatives. Its energ...</td>\n    </tr>\n    <tr>\n      <th>17</th>\n      <td>Jan 14, 2021, 6:00 PM CST</td>\n      <td>US Shale Could Be The Biggest Winner Of The La...</td>\n      <td>OPEC, and especially OPEC+, has always seemed ...</td>\n    </tr>\n    <tr>\n      <th>18</th>\n      <td>Jan 14, 2021, 12:00 PM CST</td>\n      <td>OPEC Sees Oil Demand Rise To 959 Million Bpd I...</td>\n      <td>Global oil demand is set to rise by 5.9 millio...</td>\n    </tr>\n    <tr>\n      <th>19</th>\n      <td>Jan 13, 2021, 6:30 PM CST</td>\n      <td>The Pandemic Could Lead To A Major Oil Supply ...</td>\n      <td>It may be counterintuitive to say that the oil...</td>\n    </tr>\n    <tr>\n      <th>20</th>\n      <td>Jan 13, 2021, 12:00 PM CST</td>\n      <td>Worlds Top Oil Trader Airline Travel Wont Reco...</td>\n      <td>Airline travel will continue to suffer in the ...</td>\n    </tr>\n    <tr>\n      <th>21</th>\n      <td>Jan 13, 2021, 9:40 AM CST</td>\n      <td>Oil Rises On Crude Draw Despite Product Builds...</td>\n      <td>Crude oil prices jumped further today after th...</td>\n    </tr>\n    <tr>\n      <th>22</th>\n      <td>Jan 12, 2021, 5:00 PM CST</td>\n      <td>Why A Fracking Ban Wont Kill US Shale.html</td>\n      <td>One of the things that had the oil industry wo...</td>\n    </tr>\n    <tr>\n      <th>23</th>\n      <td>Jan 12, 2021, 10:00 AM CST</td>\n      <td>US Oil Drillers To Face More Pain Despite High...</td>\n      <td>WTI is back above $50 a barrel, and things are...</td>\n    </tr>\n    <tr>\n      <th>24</th>\n      <td>Jan 11, 2021, 1:00 PM CST</td>\n      <td>US Sanctions Halve Irans Oil Revenues.html</td>\n      <td>Iran’s oil revenues have halved since the U.S....</td>\n    </tr>\n    <tr>\n      <th>25</th>\n      <td>Jan 11, 2021, 9:00 AM CST</td>\n      <td>India Oil Demand Falls For First Time In 20 Ye...</td>\n      <td>India's crude oil demand last year fell for th...</td>\n    </tr>\n    <tr>\n      <th>26</th>\n      <td>Jan 10, 2021, 7:00 PM CST</td>\n      <td>How US Shale Upended Global Crude Flows.html</td>\n      <td>The U.S. removed the ban on American crude oil...</td>\n    </tr>\n    <tr>\n      <th>27</th>\n      <td>Jan 10, 2021, 10:00 AM CST</td>\n      <td>Exxons Mega Oil Finds In Guyana Are Just The B...</td>\n      <td>Like many global oil majors ExxonMobil is unde...</td>\n    </tr>\n    <tr>\n      <th>28</th>\n      <td>Jan 09, 2021, 2:00 PM CST</td>\n      <td>Will Oil Demand Recover In 2021.html</td>\n      <td>Oil prices are rallying aggressively on the ba...</td>\n    </tr>\n    <tr>\n      <th>29</th>\n      <td>Jan 08, 2021, 1:00 PM CST</td>\n      <td>Asian Buyers Rush To Secure North Sea Oil Afte...</td>\n      <td>Saudi Arabia’s surprise announcement that it w...</td>\n    </tr>\n    <tr>\n      <th>30</th>\n      <td>Jan 07, 2021, 2:00 PM CST</td>\n      <td>The Real Crisis For Oil Is Yet To Come.html</td>\n      <td>Italian energy major, Eni, described 2020 as a...</td>\n    </tr>\n    <tr>\n      <th>31</th>\n      <td>Jan 06, 2021, 1:00 PM CST</td>\n      <td>Ecuador Scrambles To Clean Up Its Oil Industry...</td>\n      <td>The last year was difficult for Ecuador’s beat...</td>\n    </tr>\n    <tr>\n      <th>32</th>\n      <td>Jan 06, 2021, 9:00 AM CST</td>\n      <td>Goldman Sachs Heres Whats Behind Saudis Shocki...</td>\n      <td>The first monthly OPEC+ meeting to decide on t...</td>\n    </tr>\n    <tr>\n      <th>33</th>\n      <td>Jan 04, 2021, 9:30 AM CST</td>\n      <td>Oil Demand Is Still OPECs Top Concern.html</td>\n      <td>OPEC has signaled it is concerned about oil de...</td>\n    </tr>\n    <tr>\n      <th>34</th>\n      <td>Jan 02, 2021, 10:00 AM CST</td>\n      <td>Cambodia Prepares To Produce Its First Oil.html</td>\n      <td>As Asian oil demand looks set to increase over...</td>\n    </tr>\n    <tr>\n      <th>35</th>\n      <td>Jan 01, 2021, 2:00 PM CST</td>\n      <td>China Is Fueling South Americas Oil Boom.html</td>\n      <td>Oil demand from China has been one of the few ...</td>\n    </tr>\n    <tr>\n      <th>36</th>\n      <td>Jan 01, 2021, 12:00 PM CST</td>\n      <td>How One Bad Oil Bet Sparked A Global Trading D...</td>\n      <td>By now we are all keenly aware of the near-dev...</td>\n    </tr>\n    <tr>\n      <th>37</th>\n      <td>Dec 31, 2020, 1:00 PM CST</td>\n      <td>Merger Mania Is Transforming Canadas Oil Scene...</td>\n      <td>Canada’s oil landscape looks encouraging for 2...</td>\n    </tr>\n    <tr>\n      <th>38</th>\n      <td>Dec 30, 2020, 2:00 PM CST</td>\n      <td>Fracking Could Save Colombia From Economic Cri...</td>\n      <td>Colombia country is facing its worst economic ...</td>\n    </tr>\n    <tr>\n      <th>39</th>\n      <td>Dec 30, 2020, 9:38 AM CST</td>\n      <td>Oil Jumps On Significant Crude Inventory Draw....</td>\n      <td>Crude oil prices rose further today after the ...</td>\n    </tr>\n  </tbody>\n</table>\n</div>"
     },
     "metadata": {},
     "execution_count": 146
    }
   ],
   "source": [
    "news_df"
   ]
  },
  {
   "cell_type": "code",
   "execution_count": 147,
   "metadata": {},
   "outputs": [],
   "source": [
    "# sentiment analysis\n",
    "analyser = SentimentIntensityAnalyzer()"
   ]
  },
  {
   "cell_type": "code",
   "execution_count": 152,
   "metadata": {},
   "outputs": [],
   "source": [
    "def Comp_score(text):\n",
    "    return analyser.polarity_scores(text)[\"compound\"]"
   ]
  },
  {
   "source": [
    "用 ```.apply()``` 將某一 function 套用在 ```data frame```:"
   ],
   "cell_type": "markdown",
   "metadata": {}
  },
  {
   "cell_type": "code",
   "execution_count": 153,
   "metadata": {},
   "outputs": [],
   "source": [
    "news_df[\"Sentiment\"] = news_df[\"News\"].apply(Comp_score)"
   ]
  },
  {
   "cell_type": "code",
   "execution_count": 154,
   "metadata": {},
   "outputs": [
    {
     "output_type": "execute_result",
     "data": {
      "text/plain": [
       "0     0.9960\n",
       "1     0.6660\n",
       "2     0.9907\n",
       "3     0.9078\n",
       "4    -0.8914\n",
       "5     0.7397\n",
       "6     0.9971\n",
       "7     0.2518\n",
       "8    -0.9702\n",
       "9    -0.6691\n",
       "10    0.9930\n",
       "11   -0.9493\n",
       "12    0.8395\n",
       "13    0.9932\n",
       "14    0.4001\n",
       "15   -0.9450\n",
       "16    0.9978\n",
       "17    0.9742\n",
       "18   -0.5086\n",
       "19   -0.9912\n",
       "20    0.2670\n",
       "21   -0.5634\n",
       "22   -0.5853\n",
       "23   -0.9969\n",
       "24   -0.6576\n",
       "25   -0.8805\n",
       "26   -0.9961\n",
       "27    0.9502\n",
       "28    0.8515\n",
       "29   -0.9661\n",
       "30    0.9691\n",
       "31   -0.9993\n",
       "32   -0.8268\n",
       "33    0.9510\n",
       "34    0.9790\n",
       "35    0.9223\n",
       "36   -0.9957\n",
       "37    0.9694\n",
       "38   -0.9930\n",
       "39    0.8392\n",
       "Name: Sentiment, dtype: float64"
      ]
     },
     "metadata": {},
     "execution_count": 154
    }
   ],
   "source": [
    "news_df[\"Sentiment\"]"
   ]
  }
 ]
}