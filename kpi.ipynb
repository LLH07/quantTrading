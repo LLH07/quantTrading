{
 "metadata": {
  "language_info": {
   "codemirror_mode": {
    "name": "ipython",
    "version": 3
   },
   "file_extension": ".py",
   "mimetype": "text/x-python",
   "name": "python",
   "nbconvert_exporter": "python",
   "pygments_lexer": "ipython3",
   "version": "3.8.5-final"
  },
  "orig_nbformat": 2,
  "kernelspec": {
   "name": "python3",
   "display_name": "Python 3.8.5 64-bit ('quantTrading': conda)",
   "metadata": {
    "interpreter": {
     "hash": "f12840f8c3ee55eac1a5e8d37cc606a61527ff262478fc717919659d7e61c84d"
    }
   }
  }
 },
 "nbformat": 4,
 "nbformat_minor": 2,
 "cells": [
  {
   "source": [
    "```KPI```: Key Performance Indicators, are used to measure risk and return of a strategy，famous KPIs include:  \n",
    "- Cumulative Annual Growth Rate (CAGR)  \n",
    "- Annualized Volatility (Standard Deviation)  \n",
    "- Sharp Ratio/ Sortino Ratio  \n",
    "- Maximum Drawdown  \n",
    "- Calmar Ratio"
   ],
   "cell_type": "markdown",
   "metadata": {}
  },
  {
   "source": [
    "## I. CAGR:"
   ],
   "cell_type": "markdown",
   "metadata": {}
  },
  {
   "source": [
    "公式:  \n",
    "$$CAGR\\ =\\ (\\frac{End\\ Value}{Beginning\\ Value})\\LARGE^\\frac{1}{year}\\ -\\ 1$$"
   ],
   "cell_type": "markdown",
   "metadata": {}
  },
  {
   "source": [
    "重點:  \n",
    "- CAGR 沒有考慮風險  \n",
    "- CAGR 假設你會再投資 (以錢滾錢)  \n",
    "- 通常 CAGR 會跟其他測量 volaility 的指標一起出現"
   ],
   "cell_type": "markdown",
   "metadata": {}
  },
  {
   "source": [
    "#### 目標: 取 10 年的 ```S&P 500``` 的 \"daily\" 資料，並算出 CAGR"
   ],
   "cell_type": "markdown",
   "metadata": {}
  },
  {
   "cell_type": "code",
   "execution_count": 4,
   "metadata": {},
   "outputs": [],
   "source": [
    "import pandas as pd\n",
    "import numpy as np\n",
    "import datetime as dt\n",
    "import yfinance as yf"
   ]
  },
  {
   "cell_type": "code",
   "execution_count": 5,
   "metadata": {},
   "outputs": [],
   "source": [
    "ticker = \"^GSPC\" # the ticker of S&P 500\n",
    "start = dt.datetime.today() - dt.timedelta(2500) # 取一年有 250 個交易日\n",
    "end = dt.datetime.today()"
   ]
  },
  {
   "cell_type": "code",
   "execution_count": 6,
   "metadata": {},
   "outputs": [
    {
     "output_type": "error",
     "ename": "TypeError",
     "evalue": "function missing required argument 'year' (pos 1)",
     "traceback": [
      "\u001b[1;31m---------------------------------------------------------------------------\u001b[0m",
      "\u001b[1;31mTypeError\u001b[0m                                 Traceback (most recent call last)",
      "\u001b[1;32m<ipython-input-6-3809981e52fa>\u001b[0m in \u001b[0;36m<module>\u001b[1;34m\u001b[0m\n\u001b[1;32m----> 1\u001b[1;33m \u001b[0mdt\u001b[0m\u001b[1;33m.\u001b[0m\u001b[0mdatetime\u001b[0m\u001b[1;33m(\u001b[0m\u001b[1;33m)\u001b[0m\u001b[1;33m\u001b[0m\u001b[1;33m\u001b[0m\u001b[0m\n\u001b[0m",
      "\u001b[1;31mTypeError\u001b[0m: function missing required argument 'year' (pos 1)"
     ]
    }
   ],
   "source": [
    "dt.datetime() "
   ]
  },
  {
   "source": [
    "上面顯示錯誤的原因是: ```datetime``` 是一個 object，而我們要的是這個 object 裡的 ```.today()``` 方法。  \n",
    "故 ```datetime``` 後面不須加 ```()```"
   ],
   "cell_type": "markdown",
   "metadata": {}
  },
  {
   "cell_type": "code",
   "execution_count": 9,
   "metadata": {},
   "outputs": [
    {
     "output_type": "stream",
     "name": "stdout",
     "text": [
      "[*********************100%***********************]  1 of 1 completed\n"
     ]
    }
   ],
   "source": [
    "SnP = yf.download(ticker, start, end)"
   ]
  },
  {
   "cell_type": "code",
   "execution_count": 10,
   "metadata": {},
   "outputs": [],
   "source": [
    "def CAGR(DF):\n",
    "    df = DF.copy()\n",
    "    df['Daily Return'] = df['Adj Close'].pct_change() # first we need to calculate daily return\n",
    "    df['Cumulative Return'] = (1 + df['Daily Return']).cumprod() # calculate cumulative return\n",
    "    n = len(DF) / 250 # assume there are 250 trading days in a year\n",
    "    cagr = (df['Cumulative Return'][-1])**(1/n) - 1 # we need the latest data to calculate CAGR\n",
    "    return cagr"
   ]
  },
  {
   "cell_type": "code",
   "execution_count": 11,
   "metadata": {},
   "outputs": [],
   "source": [
    "cagr = CAGR(SnP)"
   ]
  },
  {
   "cell_type": "code",
   "execution_count": 12,
   "metadata": {},
   "outputs": [
    {
     "output_type": "execute_result",
     "data": {
      "text/plain": [
       "0.10777055470171648"
      ]
     },
     "metadata": {},
     "execution_count": 12
    }
   ],
   "source": [
    "cagr"
   ]
  },
  {
   "source": [
    "## II. Annualized Volatility "
   ],
   "cell_type": "markdown",
   "metadata": {}
  },
  {
   "source": [
    "- Volatility of a strategy: the standard deviation of the returns  \n",
    "- To annualized daily volatility: 對結果開 $\\large\\sqrt[2]{250}$ (假設一年有 250 個交易日)\n",
    "- Assume the stock price is normally distributed (which is often not the case)  \n",
    "- Does not capture tail risk"
   ],
   "cell_type": "markdown",
   "metadata": {}
  },
  {
   "source": [
    "要開方的原因是，算出的 daily return 的 standard deviation，他的分母數字比較大 (因為週期是一天)，所以整體較小。  \n",
    "所以如果要算 annualized 的 volatility，則必須將結果變大，因為 annualized standard deviation，分母是 1。  \n",
    "Recall: \n",
    "$$Standard\\ Deviation\\ =\\ $$"
   ],
   "cell_type": "markdown",
   "metadata": {}
  },
  {
   "cell_type": "code",
   "execution_count": 13,
   "metadata": {},
   "outputs": [],
   "source": [
    "def Volatility(DF):\n",
    "    df = DF.copy()\n",
    "    df['Daily Return'] = df['Adj Close'].pct_change()\n",
    "    vol = df['Daily Return'].std() * (250 ** 0.5) # converst daily volatility to annual volatility\n",
    "    return vol"
   ]
  },
  {
   "cell_type": "code",
   "execution_count": 14,
   "metadata": {},
   "outputs": [
    {
     "output_type": "execute_result",
     "data": {
      "text/plain": [
       "0.17866722546664107"
      ]
     },
     "metadata": {},
     "execution_count": 14
    }
   ],
   "source": [
    "vol = Volatility(SnP)\n",
    "vol"
   ]
  },
  {
   "source": [
    "The annualized volatility is about 18%"
   ],
   "cell_type": "markdown",
   "metadata": {}
  },
  {
   "source": [
    "## Sharp ratio and Sortino ratio:"
   ],
   "cell_type": "markdown",
   "metadata": {}
  },
  {
   "source": [
    "- 公式:  \n",
    "$$\\large Sharp\\ Ratio\\ =\\ \\frac{R_{p}-R_{f}}{\\sigma_{p}}$$\n",
    "$R_{p} = Expected\\ Return$      \n",
    "$R_{f} = Risk Free\\ rate\\ of\\ return$"
   ],
   "cell_type": "markdown",
   "metadata": {}
  },
  {
   "source": [
    "If Sharp ratio > 1: good, >2: very good, >3: excellent  \n",
    "但有些人批評 Sharp ratio 考慮了正和負的 return，但應該只測量 return 是負的情況，因此 Sortino Ratio 就是另一個版本的 Sharp ratio，只是他只考慮負的 return 的情況"
   ],
   "cell_type": "markdown",
   "metadata": {}
  },
  {
   "source": [
    "#### Sharp ratio python code"
   ],
   "cell_type": "markdown",
   "metadata": {}
  },
  {
   "cell_type": "code",
   "execution_count": 21,
   "metadata": {},
   "outputs": [],
   "source": [
    "def Sharp(DF, rf): # rf stands for \"risk free rate\"\n",
    "    df = DF.copy()\n",
    "    sr = (CAGR(df) - rf) / Volatility(df)\n",
    "    return sr"
   ]
  },
  {
   "cell_type": "code",
   "execution_count": 22,
   "metadata": {},
   "outputs": [],
   "source": [
    "sr = Sharp(SnP, 0.022) # assume a 2.2% risk free rate"
   ]
  },
  {
   "cell_type": "code",
   "execution_count": 23,
   "metadata": {},
   "outputs": [
    {
     "output_type": "execute_result",
     "data": {
      "text/plain": [
       "0.48005757338931027"
      ]
     },
     "metadata": {},
     "execution_count": 23
    }
   ],
   "source": [
    "sr"
   ]
  },
  {
   "source": [
    "#### Sortino Ratio python code"
   ],
   "cell_type": "markdown",
   "metadata": {}
  },
  {
   "cell_type": "code",
   "execution_count": 18,
   "metadata": {},
   "outputs": [],
   "source": [
    "def Sortino(DF, rf):\n",
    "    df = DF.copy()\n",
    "    # extract only the negative daily return\n",
    "    df['Daily Return'] = df['Adj Close'].pct_change()\n",
    "    neg_re = df[df['Daily Return'] < 0]['Daily Return']\n",
    "    neg_vol = (neg_re).std() * (250**0.5)\n",
    "    sortino_r = (CAGR(df) - rf) / neg_vol\n",
    "    return sortino_r"
   ]
  },
  {
   "cell_type": "code",
   "execution_count": 19,
   "metadata": {},
   "outputs": [],
   "source": [
    "sortino_r = Sortino(SnP, 0.022) # assume the risk free rate = 2.2%"
   ]
  },
  {
   "cell_type": "code",
   "execution_count": 20,
   "metadata": {},
   "outputs": [
    {
     "output_type": "execute_result",
     "data": {
      "text/plain": [
       "0.5465374933027076"
      ]
     },
     "metadata": {},
     "execution_count": 20
    }
   ],
   "source": [
    "sortino_r"
   ]
  },
  {
   "source": [
    "用 Sortino Ratio 算出來的波動是 ```55%```，跟 Sharp Ratio 的 ```48%``` 相差 7 個百分點。  \n",
    "這是合理的，因為 Sortino Rate 只考慮負的波動。"
   ],
   "cell_type": "markdown",
   "metadata": {}
  },
  {
   "source": [
    "#### Data frame 條件取值"
   ],
   "cell_type": "markdown",
   "metadata": {}
  },
  {
   "cell_type": "code",
   "execution_count": 28,
   "metadata": {},
   "outputs": [
    {
     "output_type": "execute_result",
     "data": {
      "text/plain": [
       "Date\n",
       "2014-03-26         NaN\n",
       "2014-03-27   -0.001900\n",
       "2014-03-28    0.004640\n",
       "2014-03-31    0.007924\n",
       "2014-04-01    0.007039\n",
       "                ...   \n",
       "2021-01-21    0.000317\n",
       "2021-01-22   -0.003011\n",
       "2021-01-25    0.003616\n",
       "2021-01-26   -0.001489\n",
       "2021-01-27   -0.025678\n",
       "Name: Daily Return, Length: 1723, dtype: float64"
      ]
     },
     "metadata": {},
     "execution_count": 28
    }
   ],
   "source": [
    "df = SnP.copy()\n",
    "df['Daily Return'] = df['Adj Close'].pct_change()\n",
    "df['Daily Return']"
   ]
  },
  {
   "cell_type": "code",
   "execution_count": 29,
   "metadata": {},
   "outputs": [
    {
     "output_type": "execute_result",
     "data": {
      "text/plain": [
       "Date\n",
       "2014-03-26    False\n",
       "2014-03-27     True\n",
       "2014-03-28    False\n",
       "2014-03-31    False\n",
       "2014-04-01    False\n",
       "              ...  \n",
       "2021-01-21    False\n",
       "2021-01-22     True\n",
       "2021-01-25    False\n",
       "2021-01-26     True\n",
       "2021-01-27     True\n",
       "Name: Daily Return, Length: 1723, dtype: bool"
      ]
     },
     "metadata": {},
     "execution_count": 29
    }
   ],
   "source": [
    "df['Daily Return'] < 0 # 用條件篩選，得出步林值"
   ]
  },
  {
   "cell_type": "code",
   "execution_count": 30,
   "metadata": {},
   "outputs": [
    {
     "output_type": "execute_result",
     "data": {
      "text/plain": [
       "                   Open         High          Low        Close    Adj Close  \\\n",
       "Date                                                                          \n",
       "2014-03-27  1852.109985  1855.550049  1842.109985  1849.040039  1849.040039   \n",
       "2014-04-03  1891.430054  1893.800049  1882.650024  1888.770020  1888.770020   \n",
       "2014-04-04  1890.250000  1897.280029  1863.260010  1865.089966  1865.089966   \n",
       "2014-04-07  1863.920044  1864.040039  1841.479980  1845.040039  1845.040039   \n",
       "2014-04-10  1872.280029  1872.530029  1830.869995  1833.079956  1833.079956   \n",
       "...                 ...          ...          ...          ...          ...   \n",
       "2021-01-14  3814.979980  3823.600098  3792.860107  3795.540039  3795.540039   \n",
       "2021-01-15  3788.729980  3788.729980  3749.620117  3768.250000  3768.250000   \n",
       "2021-01-22  3844.239990  3852.310059  3830.409912  3841.469971  3841.469971   \n",
       "2021-01-26  3862.959961  3870.899902  3847.780029  3849.620117  3849.620117   \n",
       "2021-01-27  3836.830078  3836.830078  3732.479980  3750.770020  3750.770020   \n",
       "\n",
       "                Volume  Daily Return  \n",
       "Date                                  \n",
       "2014-03-27  3733430000     -0.001900  \n",
       "2014-04-03  3055600000     -0.001126  \n",
       "2014-04-04  3583750000     -0.012537  \n",
       "2014-04-07  3801540000     -0.010750  \n",
       "2014-04-10  3758780000     -0.020885  \n",
       "...                ...           ...  \n",
       "2021-01-14  5180140000     -0.003753  \n",
       "2021-01-15  5353060000     -0.007190  \n",
       "2021-01-22  5080430000     -0.003011  \n",
       "2021-01-26  6029090000     -0.001489  \n",
       "2021-01-27  3797984292     -0.025678  \n",
       "\n",
       "[777 rows x 7 columns]"
      ],
      "text/html": "<div>\n<style scoped>\n    .dataframe tbody tr th:only-of-type {\n        vertical-align: middle;\n    }\n\n    .dataframe tbody tr th {\n        vertical-align: top;\n    }\n\n    .dataframe thead th {\n        text-align: right;\n    }\n</style>\n<table border=\"1\" class=\"dataframe\">\n  <thead>\n    <tr style=\"text-align: right;\">\n      <th></th>\n      <th>Open</th>\n      <th>High</th>\n      <th>Low</th>\n      <th>Close</th>\n      <th>Adj Close</th>\n      <th>Volume</th>\n      <th>Daily Return</th>\n    </tr>\n    <tr>\n      <th>Date</th>\n      <th></th>\n      <th></th>\n      <th></th>\n      <th></th>\n      <th></th>\n      <th></th>\n      <th></th>\n    </tr>\n  </thead>\n  <tbody>\n    <tr>\n      <th>2014-03-27</th>\n      <td>1852.109985</td>\n      <td>1855.550049</td>\n      <td>1842.109985</td>\n      <td>1849.040039</td>\n      <td>1849.040039</td>\n      <td>3733430000</td>\n      <td>-0.001900</td>\n    </tr>\n    <tr>\n      <th>2014-04-03</th>\n      <td>1891.430054</td>\n      <td>1893.800049</td>\n      <td>1882.650024</td>\n      <td>1888.770020</td>\n      <td>1888.770020</td>\n      <td>3055600000</td>\n      <td>-0.001126</td>\n    </tr>\n    <tr>\n      <th>2014-04-04</th>\n      <td>1890.250000</td>\n      <td>1897.280029</td>\n      <td>1863.260010</td>\n      <td>1865.089966</td>\n      <td>1865.089966</td>\n      <td>3583750000</td>\n      <td>-0.012537</td>\n    </tr>\n    <tr>\n      <th>2014-04-07</th>\n      <td>1863.920044</td>\n      <td>1864.040039</td>\n      <td>1841.479980</td>\n      <td>1845.040039</td>\n      <td>1845.040039</td>\n      <td>3801540000</td>\n      <td>-0.010750</td>\n    </tr>\n    <tr>\n      <th>2014-04-10</th>\n      <td>1872.280029</td>\n      <td>1872.530029</td>\n      <td>1830.869995</td>\n      <td>1833.079956</td>\n      <td>1833.079956</td>\n      <td>3758780000</td>\n      <td>-0.020885</td>\n    </tr>\n    <tr>\n      <th>...</th>\n      <td>...</td>\n      <td>...</td>\n      <td>...</td>\n      <td>...</td>\n      <td>...</td>\n      <td>...</td>\n      <td>...</td>\n    </tr>\n    <tr>\n      <th>2021-01-14</th>\n      <td>3814.979980</td>\n      <td>3823.600098</td>\n      <td>3792.860107</td>\n      <td>3795.540039</td>\n      <td>3795.540039</td>\n      <td>5180140000</td>\n      <td>-0.003753</td>\n    </tr>\n    <tr>\n      <th>2021-01-15</th>\n      <td>3788.729980</td>\n      <td>3788.729980</td>\n      <td>3749.620117</td>\n      <td>3768.250000</td>\n      <td>3768.250000</td>\n      <td>5353060000</td>\n      <td>-0.007190</td>\n    </tr>\n    <tr>\n      <th>2021-01-22</th>\n      <td>3844.239990</td>\n      <td>3852.310059</td>\n      <td>3830.409912</td>\n      <td>3841.469971</td>\n      <td>3841.469971</td>\n      <td>5080430000</td>\n      <td>-0.003011</td>\n    </tr>\n    <tr>\n      <th>2021-01-26</th>\n      <td>3862.959961</td>\n      <td>3870.899902</td>\n      <td>3847.780029</td>\n      <td>3849.620117</td>\n      <td>3849.620117</td>\n      <td>6029090000</td>\n      <td>-0.001489</td>\n    </tr>\n    <tr>\n      <th>2021-01-27</th>\n      <td>3836.830078</td>\n      <td>3836.830078</td>\n      <td>3732.479980</td>\n      <td>3750.770020</td>\n      <td>3750.770020</td>\n      <td>3797984292</td>\n      <td>-0.025678</td>\n    </tr>\n  </tbody>\n</table>\n<p>777 rows × 7 columns</p>\n</div>"
     },
     "metadata": {},
     "execution_count": 30
    }
   ],
   "source": [
    "df[ df['Daily Return'] < 0 ] # 取一個新的 data frame，\"Daily Return\" 就會是我們要的負數值"
   ]
  },
  {
   "source": [
    "## III. Maximum Drawdown and Calmar Ratio"
   ],
   "cell_type": "markdown",
   "metadata": {}
  },
  {
   "source": [
    "Maximum Drawdown:  \n",
    "- Largest percentage drop in asset price over a specific time period  \n",
    "- 在比較不同股票的此數值時，要注意 time horizon 必須要一樣，因為週期較大的股票，有更大的機率會有較大的 Maximum Drawdown  "
   ],
   "cell_type": "markdown",
   "metadata": {}
  },
  {
   "source": [
    "Calmar Ratio:   \n",
    "- The ratio of CAGR and Maximum Drawdown  \n",
    "- A measure of risk adjusted return"
   ],
   "cell_type": "markdown",
   "metadata": {}
  },
  {
   "cell_type": "code",
   "execution_count": 48,
   "metadata": {},
   "outputs": [],
   "source": [
    "def Max_DD(DF):\n",
    "    df = DF.copy()\n",
    "    df['Daily Return'] = df['Adj Close'].pct_change()\n",
    "    df['Cumulative Return'] = (1 + df['Daily Return']).cumprod() # 這麼多天的總報酬\n",
    "    df['Cumulative Rolling Max'] = df['Cumulative Return'].cummax() # ?\n",
    "\n",
    "    df['Draw Down'] = df['Cumulative Rolling Max'] - df['Cumulative Return']\n",
    "    df['Draw Down Percentage'] = df['Draw Down'] / df['Cumulative Rolling Max']\n",
    "\n",
    "    max_dd = df['Draw Down Percentage'].max()\n",
    "    return max_dd"
   ]
  },
  {
   "cell_type": "code",
   "execution_count": 49,
   "metadata": {},
   "outputs": [
    {
     "output_type": "execute_result",
     "data": {
      "text/plain": [
       "0.3392496000265329"
      ]
     },
     "metadata": {},
     "execution_count": 49
    }
   ],
   "source": [
    "max_dd = Max_DD(SnP)\n",
    "max_dd"
   ]
  },
  {
   "source": [
    "檢查得出的值是否合理:"
   ],
   "cell_type": "markdown",
   "metadata": {}
  },
  {
   "cell_type": "code",
   "execution_count": 51,
   "metadata": {},
   "outputs": [
    {
     "output_type": "execute_result",
     "data": {
      "text/plain": [
       "<AxesSubplot:xlabel='Date'>"
      ]
     },
     "metadata": {},
     "execution_count": 51
    },
    {
     "output_type": "display_data",
     "data": {
      "text/plain": "<Figure size 432x288 with 1 Axes>",
      "image/svg+xml": "<?xml version=\"1.0\" encoding=\"utf-8\" standalone=\"no\"?>\r\n<!DOCTYPE svg PUBLIC \"-//W3C//DTD SVG 1.1//EN\"\r\n  \"http://www.w3.org/Graphics/SVG/1.1/DTD/svg11.dtd\">\r\n<!-- Created with matplotlib (https://matplotlib.org/) -->\r\n<svg height=\"252.024627pt\" version=\"1.1\" viewBox=\"0 0 381.65 252.024627\" width=\"381.65pt\" xmlns=\"http://www.w3.org/2000/svg\" xmlns:xlink=\"http://www.w3.org/1999/xlink\">\r\n <metadata>\r\n  <rdf:RDF xmlns:cc=\"http://creativecommons.org/ns#\" xmlns:dc=\"http://purl.org/dc/elements/1.1/\" xmlns:rdf=\"http://www.w3.org/1999/02/22-rdf-syntax-ns#\">\r\n   <cc:Work>\r\n    <dc:type rdf:resource=\"http://purl.org/dc/dcmitype/StillImage\"/>\r\n    <dc:date>2021-01-28T08:59:20.861244</dc:date>\r\n    <dc:format>image/svg+xml</dc:format>\r\n    <dc:creator>\r\n     <cc:Agent>\r\n      <dc:title>Matplotlib v3.3.2, https://matplotlib.org/</dc:title>\r\n     </cc:Agent>\r\n    </dc:creator>\r\n   </cc:Work>\r\n  </rdf:RDF>\r\n </metadata>\r\n <defs>\r\n  <style type=\"text/css\">*{stroke-linecap:butt;stroke-linejoin:round;}</style>\r\n </defs>\r\n <g id=\"figure_1\">\r\n  <g id=\"patch_1\">\r\n   <path d=\"M -0 252.024627 \r\nL 381.65 252.024627 \r\nL 381.65 0 \r\nL -0 0 \r\nz\r\n\" style=\"fill:none;\"/>\r\n  </g>\r\n  <g id=\"axes_1\">\r\n   <g id=\"patch_2\">\r\n    <path d=\"M 39.65 203.04 \r\nL 374.45 203.04 \r\nL 374.45 7.2 \r\nL 39.65 7.2 \r\nz\r\n\" style=\"fill:#ffffff;\"/>\r\n   </g>\r\n   <g id=\"matplotlib.axis_1\">\r\n    <g id=\"xtick_1\">\r\n     <g id=\"line2d_1\">\r\n      <defs>\r\n       <path d=\"M 0 0 \r\nL 0 3.5 \r\n\" id=\"mc7c2730d5e\" style=\"stroke:#000000;stroke-width:0.8;\"/>\r\n      </defs>\r\n      <g>\r\n       <use style=\"stroke:#000000;stroke-width:0.8;\" x=\"44.637471\" xlink:href=\"#mc7c2730d5e\" y=\"203.04\"/>\r\n      </g>\r\n     </g>\r\n     <g id=\"text_1\">\r\n      <!-- 2014 -->\r\n      <g transform=\"translate(21.557281 229.34544)rotate(-30)scale(0.1 -0.1)\">\r\n       <defs>\r\n        <path d=\"M 19.1875 8.296875 \r\nL 53.609375 8.296875 \r\nL 53.609375 0 \r\nL 7.328125 0 \r\nL 7.328125 8.296875 \r\nQ 12.9375 14.109375 22.625 23.890625 \r\nQ 32.328125 33.6875 34.8125 36.53125 \r\nQ 39.546875 41.84375 41.421875 45.53125 \r\nQ 43.3125 49.21875 43.3125 52.78125 \r\nQ 43.3125 58.59375 39.234375 62.25 \r\nQ 35.15625 65.921875 28.609375 65.921875 \r\nQ 23.96875 65.921875 18.8125 64.3125 \r\nQ 13.671875 62.703125 7.8125 59.421875 \r\nL 7.8125 69.390625 \r\nQ 13.765625 71.78125 18.9375 73 \r\nQ 24.125 74.21875 28.421875 74.21875 \r\nQ 39.75 74.21875 46.484375 68.546875 \r\nQ 53.21875 62.890625 53.21875 53.421875 \r\nQ 53.21875 48.921875 51.53125 44.890625 \r\nQ 49.859375 40.875 45.40625 35.40625 \r\nQ 44.1875 33.984375 37.640625 27.21875 \r\nQ 31.109375 20.453125 19.1875 8.296875 \r\nz\r\n\" id=\"DejaVuSans-50\"/>\r\n        <path d=\"M 31.78125 66.40625 \r\nQ 24.171875 66.40625 20.328125 58.90625 \r\nQ 16.5 51.421875 16.5 36.375 \r\nQ 16.5 21.390625 20.328125 13.890625 \r\nQ 24.171875 6.390625 31.78125 6.390625 \r\nQ 39.453125 6.390625 43.28125 13.890625 \r\nQ 47.125 21.390625 47.125 36.375 \r\nQ 47.125 51.421875 43.28125 58.90625 \r\nQ 39.453125 66.40625 31.78125 66.40625 \r\nz\r\nM 31.78125 74.21875 \r\nQ 44.046875 74.21875 50.515625 64.515625 \r\nQ 56.984375 54.828125 56.984375 36.375 \r\nQ 56.984375 17.96875 50.515625 8.265625 \r\nQ 44.046875 -1.421875 31.78125 -1.421875 \r\nQ 19.53125 -1.421875 13.0625 8.265625 \r\nQ 6.59375 17.96875 6.59375 36.375 \r\nQ 6.59375 54.828125 13.0625 64.515625 \r\nQ 19.53125 74.21875 31.78125 74.21875 \r\nz\r\n\" id=\"DejaVuSans-48\"/>\r\n        <path d=\"M 12.40625 8.296875 \r\nL 28.515625 8.296875 \r\nL 28.515625 63.921875 \r\nL 10.984375 60.40625 \r\nL 10.984375 69.390625 \r\nL 28.421875 72.90625 \r\nL 38.28125 72.90625 \r\nL 38.28125 8.296875 \r\nL 54.390625 8.296875 \r\nL 54.390625 0 \r\nL 12.40625 0 \r\nz\r\n\" id=\"DejaVuSans-49\"/>\r\n        <path d=\"M 37.796875 64.3125 \r\nL 12.890625 25.390625 \r\nL 37.796875 25.390625 \r\nz\r\nM 35.203125 72.90625 \r\nL 47.609375 72.90625 \r\nL 47.609375 25.390625 \r\nL 58.015625 25.390625 \r\nL 58.015625 17.1875 \r\nL 47.609375 17.1875 \r\nL 47.609375 0 \r\nL 37.796875 0 \r\nL 37.796875 17.1875 \r\nL 4.890625 17.1875 \r\nL 4.890625 26.703125 \r\nz\r\n\" id=\"DejaVuSans-52\"/>\r\n       </defs>\r\n       <use xlink:href=\"#DejaVuSans-50\"/>\r\n       <use x=\"63.623047\" xlink:href=\"#DejaVuSans-48\"/>\r\n       <use x=\"127.246094\" xlink:href=\"#DejaVuSans-49\"/>\r\n       <use x=\"190.869141\" xlink:href=\"#DejaVuSans-52\"/>\r\n      </g>\r\n     </g>\r\n    </g>\r\n    <g id=\"xtick_2\">\r\n     <g id=\"line2d_2\">\r\n      <g>\r\n       <use style=\"stroke:#000000;stroke-width:0.8;\" x=\"89.092344\" xlink:href=\"#mc7c2730d5e\" y=\"203.04\"/>\r\n      </g>\r\n     </g>\r\n     <g id=\"text_2\">\r\n      <!-- 2015 -->\r\n      <g transform=\"translate(66.012154 229.34544)rotate(-30)scale(0.1 -0.1)\">\r\n       <defs>\r\n        <path d=\"M 10.796875 72.90625 \r\nL 49.515625 72.90625 \r\nL 49.515625 64.59375 \r\nL 19.828125 64.59375 \r\nL 19.828125 46.734375 \r\nQ 21.96875 47.46875 24.109375 47.828125 \r\nQ 26.265625 48.1875 28.421875 48.1875 \r\nQ 40.625 48.1875 47.75 41.5 \r\nQ 54.890625 34.8125 54.890625 23.390625 \r\nQ 54.890625 11.625 47.5625 5.09375 \r\nQ 40.234375 -1.421875 26.90625 -1.421875 \r\nQ 22.3125 -1.421875 17.546875 -0.640625 \r\nQ 12.796875 0.140625 7.71875 1.703125 \r\nL 7.71875 11.625 \r\nQ 12.109375 9.234375 16.796875 8.0625 \r\nQ 21.484375 6.890625 26.703125 6.890625 \r\nQ 35.15625 6.890625 40.078125 11.328125 \r\nQ 45.015625 15.765625 45.015625 23.390625 \r\nQ 45.015625 31 40.078125 35.4375 \r\nQ 35.15625 39.890625 26.703125 39.890625 \r\nQ 22.75 39.890625 18.8125 39.015625 \r\nQ 14.890625 38.140625 10.796875 36.28125 \r\nz\r\n\" id=\"DejaVuSans-53\"/>\r\n       </defs>\r\n       <use xlink:href=\"#DejaVuSans-50\"/>\r\n       <use x=\"63.623047\" xlink:href=\"#DejaVuSans-48\"/>\r\n       <use x=\"127.246094\" xlink:href=\"#DejaVuSans-49\"/>\r\n       <use x=\"190.869141\" xlink:href=\"#DejaVuSans-53\"/>\r\n      </g>\r\n     </g>\r\n    </g>\r\n    <g id=\"xtick_3\">\r\n     <g id=\"line2d_3\">\r\n      <g>\r\n       <use style=\"stroke:#000000;stroke-width:0.8;\" x=\"133.547217\" xlink:href=\"#mc7c2730d5e\" y=\"203.04\"/>\r\n      </g>\r\n     </g>\r\n     <g id=\"text_3\">\r\n      <!-- 2016 -->\r\n      <g transform=\"translate(110.467027 229.34544)rotate(-30)scale(0.1 -0.1)\">\r\n       <defs>\r\n        <path d=\"M 33.015625 40.375 \r\nQ 26.375 40.375 22.484375 35.828125 \r\nQ 18.609375 31.296875 18.609375 23.390625 \r\nQ 18.609375 15.53125 22.484375 10.953125 \r\nQ 26.375 6.390625 33.015625 6.390625 \r\nQ 39.65625 6.390625 43.53125 10.953125 \r\nQ 47.40625 15.53125 47.40625 23.390625 \r\nQ 47.40625 31.296875 43.53125 35.828125 \r\nQ 39.65625 40.375 33.015625 40.375 \r\nz\r\nM 52.59375 71.296875 \r\nL 52.59375 62.3125 \r\nQ 48.875 64.0625 45.09375 64.984375 \r\nQ 41.3125 65.921875 37.59375 65.921875 \r\nQ 27.828125 65.921875 22.671875 59.328125 \r\nQ 17.53125 52.734375 16.796875 39.40625 \r\nQ 19.671875 43.65625 24.015625 45.921875 \r\nQ 28.375 48.1875 33.59375 48.1875 \r\nQ 44.578125 48.1875 50.953125 41.515625 \r\nQ 57.328125 34.859375 57.328125 23.390625 \r\nQ 57.328125 12.15625 50.6875 5.359375 \r\nQ 44.046875 -1.421875 33.015625 -1.421875 \r\nQ 20.359375 -1.421875 13.671875 8.265625 \r\nQ 6.984375 17.96875 6.984375 36.375 \r\nQ 6.984375 53.65625 15.1875 63.9375 \r\nQ 23.390625 74.21875 37.203125 74.21875 \r\nQ 40.921875 74.21875 44.703125 73.484375 \r\nQ 48.484375 72.75 52.59375 71.296875 \r\nz\r\n\" id=\"DejaVuSans-54\"/>\r\n       </defs>\r\n       <use xlink:href=\"#DejaVuSans-50\"/>\r\n       <use x=\"63.623047\" xlink:href=\"#DejaVuSans-48\"/>\r\n       <use x=\"127.246094\" xlink:href=\"#DejaVuSans-49\"/>\r\n       <use x=\"190.869141\" xlink:href=\"#DejaVuSans-54\"/>\r\n      </g>\r\n     </g>\r\n    </g>\r\n    <g id=\"xtick_4\">\r\n     <g id=\"line2d_4\">\r\n      <g>\r\n       <use style=\"stroke:#000000;stroke-width:0.8;\" x=\"178.123884\" xlink:href=\"#mc7c2730d5e\" y=\"203.04\"/>\r\n      </g>\r\n     </g>\r\n     <g id=\"text_4\">\r\n      <!-- 2017 -->\r\n      <g transform=\"translate(155.043694 229.34544)rotate(-30)scale(0.1 -0.1)\">\r\n       <defs>\r\n        <path d=\"M 8.203125 72.90625 \r\nL 55.078125 72.90625 \r\nL 55.078125 68.703125 \r\nL 28.609375 0 \r\nL 18.3125 0 \r\nL 43.21875 64.59375 \r\nL 8.203125 64.59375 \r\nz\r\n\" id=\"DejaVuSans-55\"/>\r\n       </defs>\r\n       <use xlink:href=\"#DejaVuSans-50\"/>\r\n       <use x=\"63.623047\" xlink:href=\"#DejaVuSans-48\"/>\r\n       <use x=\"127.246094\" xlink:href=\"#DejaVuSans-49\"/>\r\n       <use x=\"190.869141\" xlink:href=\"#DejaVuSans-55\"/>\r\n      </g>\r\n     </g>\r\n    </g>\r\n    <g id=\"xtick_5\">\r\n     <g id=\"line2d_5\">\r\n      <g>\r\n       <use style=\"stroke:#000000;stroke-width:0.8;\" x=\"222.578757\" xlink:href=\"#mc7c2730d5e\" y=\"203.04\"/>\r\n      </g>\r\n     </g>\r\n     <g id=\"text_5\">\r\n      <!-- 2018 -->\r\n      <g transform=\"translate(199.498567 229.34544)rotate(-30)scale(0.1 -0.1)\">\r\n       <defs>\r\n        <path d=\"M 31.78125 34.625 \r\nQ 24.75 34.625 20.71875 30.859375 \r\nQ 16.703125 27.09375 16.703125 20.515625 \r\nQ 16.703125 13.921875 20.71875 10.15625 \r\nQ 24.75 6.390625 31.78125 6.390625 \r\nQ 38.8125 6.390625 42.859375 10.171875 \r\nQ 46.921875 13.96875 46.921875 20.515625 \r\nQ 46.921875 27.09375 42.890625 30.859375 \r\nQ 38.875 34.625 31.78125 34.625 \r\nz\r\nM 21.921875 38.8125 \r\nQ 15.578125 40.375 12.03125 44.71875 \r\nQ 8.5 49.078125 8.5 55.328125 \r\nQ 8.5 64.0625 14.71875 69.140625 \r\nQ 20.953125 74.21875 31.78125 74.21875 \r\nQ 42.671875 74.21875 48.875 69.140625 \r\nQ 55.078125 64.0625 55.078125 55.328125 \r\nQ 55.078125 49.078125 51.53125 44.71875 \r\nQ 48 40.375 41.703125 38.8125 \r\nQ 48.828125 37.15625 52.796875 32.3125 \r\nQ 56.78125 27.484375 56.78125 20.515625 \r\nQ 56.78125 9.90625 50.3125 4.234375 \r\nQ 43.84375 -1.421875 31.78125 -1.421875 \r\nQ 19.734375 -1.421875 13.25 4.234375 \r\nQ 6.78125 9.90625 6.78125 20.515625 \r\nQ 6.78125 27.484375 10.78125 32.3125 \r\nQ 14.796875 37.15625 21.921875 38.8125 \r\nz\r\nM 18.3125 54.390625 \r\nQ 18.3125 48.734375 21.84375 45.5625 \r\nQ 25.390625 42.390625 31.78125 42.390625 \r\nQ 38.140625 42.390625 41.71875 45.5625 \r\nQ 45.3125 48.734375 45.3125 54.390625 \r\nQ 45.3125 60.0625 41.71875 63.234375 \r\nQ 38.140625 66.40625 31.78125 66.40625 \r\nQ 25.390625 66.40625 21.84375 63.234375 \r\nQ 18.3125 60.0625 18.3125 54.390625 \r\nz\r\n\" id=\"DejaVuSans-56\"/>\r\n       </defs>\r\n       <use xlink:href=\"#DejaVuSans-50\"/>\r\n       <use x=\"63.623047\" xlink:href=\"#DejaVuSans-48\"/>\r\n       <use x=\"127.246094\" xlink:href=\"#DejaVuSans-49\"/>\r\n       <use x=\"190.869141\" xlink:href=\"#DejaVuSans-56\"/>\r\n      </g>\r\n     </g>\r\n    </g>\r\n    <g id=\"xtick_6\">\r\n     <g id=\"line2d_6\">\r\n      <g>\r\n       <use style=\"stroke:#000000;stroke-width:0.8;\" x=\"267.03363\" xlink:href=\"#mc7c2730d5e\" y=\"203.04\"/>\r\n      </g>\r\n     </g>\r\n     <g id=\"text_6\">\r\n      <!-- 2019 -->\r\n      <g transform=\"translate(243.95344 229.34544)rotate(-30)scale(0.1 -0.1)\">\r\n       <defs>\r\n        <path d=\"M 10.984375 1.515625 \r\nL 10.984375 10.5 \r\nQ 14.703125 8.734375 18.5 7.8125 \r\nQ 22.3125 6.890625 25.984375 6.890625 \r\nQ 35.75 6.890625 40.890625 13.453125 \r\nQ 46.046875 20.015625 46.78125 33.40625 \r\nQ 43.953125 29.203125 39.59375 26.953125 \r\nQ 35.25 24.703125 29.984375 24.703125 \r\nQ 19.046875 24.703125 12.671875 31.3125 \r\nQ 6.296875 37.9375 6.296875 49.421875 \r\nQ 6.296875 60.640625 12.9375 67.421875 \r\nQ 19.578125 74.21875 30.609375 74.21875 \r\nQ 43.265625 74.21875 49.921875 64.515625 \r\nQ 56.59375 54.828125 56.59375 36.375 \r\nQ 56.59375 19.140625 48.40625 8.859375 \r\nQ 40.234375 -1.421875 26.421875 -1.421875 \r\nQ 22.703125 -1.421875 18.890625 -0.6875 \r\nQ 15.09375 0.046875 10.984375 1.515625 \r\nz\r\nM 30.609375 32.421875 \r\nQ 37.25 32.421875 41.125 36.953125 \r\nQ 45.015625 41.5 45.015625 49.421875 \r\nQ 45.015625 57.28125 41.125 61.84375 \r\nQ 37.25 66.40625 30.609375 66.40625 \r\nQ 23.96875 66.40625 20.09375 61.84375 \r\nQ 16.21875 57.28125 16.21875 49.421875 \r\nQ 16.21875 41.5 20.09375 36.953125 \r\nQ 23.96875 32.421875 30.609375 32.421875 \r\nz\r\n\" id=\"DejaVuSans-57\"/>\r\n       </defs>\r\n       <use xlink:href=\"#DejaVuSans-50\"/>\r\n       <use x=\"63.623047\" xlink:href=\"#DejaVuSans-48\"/>\r\n       <use x=\"127.246094\" xlink:href=\"#DejaVuSans-49\"/>\r\n       <use x=\"190.869141\" xlink:href=\"#DejaVuSans-57\"/>\r\n      </g>\r\n     </g>\r\n    </g>\r\n    <g id=\"xtick_7\">\r\n     <g id=\"line2d_7\">\r\n      <g>\r\n       <use style=\"stroke:#000000;stroke-width:0.8;\" x=\"311.488503\" xlink:href=\"#mc7c2730d5e\" y=\"203.04\"/>\r\n      </g>\r\n     </g>\r\n     <g id=\"text_7\">\r\n      <!-- 2020 -->\r\n      <g transform=\"translate(288.408312 229.34544)rotate(-30)scale(0.1 -0.1)\">\r\n       <use xlink:href=\"#DejaVuSans-50\"/>\r\n       <use x=\"63.623047\" xlink:href=\"#DejaVuSans-48\"/>\r\n       <use x=\"127.246094\" xlink:href=\"#DejaVuSans-50\"/>\r\n       <use x=\"190.869141\" xlink:href=\"#DejaVuSans-48\"/>\r\n      </g>\r\n     </g>\r\n    </g>\r\n    <g id=\"xtick_8\">\r\n     <g id=\"line2d_8\">\r\n      <g>\r\n       <use style=\"stroke:#000000;stroke-width:0.8;\" x=\"356.06517\" xlink:href=\"#mc7c2730d5e\" y=\"203.04\"/>\r\n      </g>\r\n     </g>\r\n     <g id=\"text_8\">\r\n      <!-- 2021 -->\r\n      <g transform=\"translate(332.984979 229.34544)rotate(-30)scale(0.1 -0.1)\">\r\n       <use xlink:href=\"#DejaVuSans-50\"/>\r\n       <use x=\"63.623047\" xlink:href=\"#DejaVuSans-48\"/>\r\n       <use x=\"127.246094\" xlink:href=\"#DejaVuSans-50\"/>\r\n       <use x=\"190.869141\" xlink:href=\"#DejaVuSans-49\"/>\r\n      </g>\r\n     </g>\r\n    </g>\r\n    <g id=\"text_9\">\r\n     <!-- Date -->\r\n     <g transform=\"translate(195.099219 242.74494)scale(0.1 -0.1)\">\r\n      <defs>\r\n       <path d=\"M 19.671875 64.796875 \r\nL 19.671875 8.109375 \r\nL 31.59375 8.109375 \r\nQ 46.6875 8.109375 53.6875 14.9375 \r\nQ 60.6875 21.78125 60.6875 36.53125 \r\nQ 60.6875 51.171875 53.6875 57.984375 \r\nQ 46.6875 64.796875 31.59375 64.796875 \r\nz\r\nM 9.8125 72.90625 \r\nL 30.078125 72.90625 \r\nQ 51.265625 72.90625 61.171875 64.09375 \r\nQ 71.09375 55.28125 71.09375 36.53125 \r\nQ 71.09375 17.671875 61.125 8.828125 \r\nQ 51.171875 0 30.078125 0 \r\nL 9.8125 0 \r\nz\r\n\" id=\"DejaVuSans-68\"/>\r\n       <path d=\"M 34.28125 27.484375 \r\nQ 23.390625 27.484375 19.1875 25 \r\nQ 14.984375 22.515625 14.984375 16.5 \r\nQ 14.984375 11.71875 18.140625 8.90625 \r\nQ 21.296875 6.109375 26.703125 6.109375 \r\nQ 34.1875 6.109375 38.703125 11.40625 \r\nQ 43.21875 16.703125 43.21875 25.484375 \r\nL 43.21875 27.484375 \r\nz\r\nM 52.203125 31.203125 \r\nL 52.203125 0 \r\nL 43.21875 0 \r\nL 43.21875 8.296875 \r\nQ 40.140625 3.328125 35.546875 0.953125 \r\nQ 30.953125 -1.421875 24.3125 -1.421875 \r\nQ 15.921875 -1.421875 10.953125 3.296875 \r\nQ 6 8.015625 6 15.921875 \r\nQ 6 25.140625 12.171875 29.828125 \r\nQ 18.359375 34.515625 30.609375 34.515625 \r\nL 43.21875 34.515625 \r\nL 43.21875 35.40625 \r\nQ 43.21875 41.609375 39.140625 45 \r\nQ 35.0625 48.390625 27.6875 48.390625 \r\nQ 23 48.390625 18.546875 47.265625 \r\nQ 14.109375 46.140625 10.015625 43.890625 \r\nL 10.015625 52.203125 \r\nQ 14.9375 54.109375 19.578125 55.046875 \r\nQ 24.21875 56 28.609375 56 \r\nQ 40.484375 56 46.34375 49.84375 \r\nQ 52.203125 43.703125 52.203125 31.203125 \r\nz\r\n\" id=\"DejaVuSans-97\"/>\r\n       <path d=\"M 18.3125 70.21875 \r\nL 18.3125 54.6875 \r\nL 36.8125 54.6875 \r\nL 36.8125 47.703125 \r\nL 18.3125 47.703125 \r\nL 18.3125 18.015625 \r\nQ 18.3125 11.328125 20.140625 9.421875 \r\nQ 21.96875 7.515625 27.59375 7.515625 \r\nL 36.8125 7.515625 \r\nL 36.8125 0 \r\nL 27.59375 0 \r\nQ 17.1875 0 13.234375 3.875 \r\nQ 9.28125 7.765625 9.28125 18.015625 \r\nL 9.28125 47.703125 \r\nL 2.6875 47.703125 \r\nL 2.6875 54.6875 \r\nL 9.28125 54.6875 \r\nL 9.28125 70.21875 \r\nz\r\n\" id=\"DejaVuSans-116\"/>\r\n       <path d=\"M 56.203125 29.59375 \r\nL 56.203125 25.203125 \r\nL 14.890625 25.203125 \r\nQ 15.484375 15.921875 20.484375 11.0625 \r\nQ 25.484375 6.203125 34.421875 6.203125 \r\nQ 39.59375 6.203125 44.453125 7.46875 \r\nQ 49.3125 8.734375 54.109375 11.28125 \r\nL 54.109375 2.78125 \r\nQ 49.265625 0.734375 44.1875 -0.34375 \r\nQ 39.109375 -1.421875 33.890625 -1.421875 \r\nQ 20.796875 -1.421875 13.15625 6.1875 \r\nQ 5.515625 13.8125 5.515625 26.8125 \r\nQ 5.515625 40.234375 12.765625 48.109375 \r\nQ 20.015625 56 32.328125 56 \r\nQ 43.359375 56 49.78125 48.890625 \r\nQ 56.203125 41.796875 56.203125 29.59375 \r\nz\r\nM 47.21875 32.234375 \r\nQ 47.125 39.59375 43.09375 43.984375 \r\nQ 39.0625 48.390625 32.421875 48.390625 \r\nQ 24.90625 48.390625 20.390625 44.140625 \r\nQ 15.875 39.890625 15.1875 32.171875 \r\nz\r\n\" id=\"DejaVuSans-101\"/>\r\n      </defs>\r\n      <use xlink:href=\"#DejaVuSans-68\"/>\r\n      <use x=\"77.001953\" xlink:href=\"#DejaVuSans-97\"/>\r\n      <use x=\"138.28125\" xlink:href=\"#DejaVuSans-116\"/>\r\n      <use x=\"177.490234\" xlink:href=\"#DejaVuSans-101\"/>\r\n     </g>\r\n    </g>\r\n   </g>\r\n   <g id=\"matplotlib.axis_2\">\r\n    <g id=\"ytick_1\">\r\n     <g id=\"line2d_9\">\r\n      <defs>\r\n       <path d=\"M 0 0 \r\nL -3.5 0 \r\n\" id=\"m58d8296b37\" style=\"stroke:#000000;stroke-width:0.8;\"/>\r\n      </defs>\r\n      <g>\r\n       <use style=\"stroke:#000000;stroke-width:0.8;\" x=\"39.65\" xlink:href=\"#m58d8296b37\" y=\"199.872049\"/>\r\n      </g>\r\n     </g>\r\n     <g id=\"text_10\">\r\n      <!-- 1750 -->\r\n      <g transform=\"translate(7.2 203.671268)scale(0.1 -0.1)\">\r\n       <use xlink:href=\"#DejaVuSans-49\"/>\r\n       <use x=\"63.623047\" xlink:href=\"#DejaVuSans-55\"/>\r\n       <use x=\"127.246094\" xlink:href=\"#DejaVuSans-53\"/>\r\n       <use x=\"190.869141\" xlink:href=\"#DejaVuSans-48\"/>\r\n      </g>\r\n     </g>\r\n    </g>\r\n    <g id=\"ytick_2\">\r\n     <g id=\"line2d_10\">\r\n      <g>\r\n       <use style=\"stroke:#000000;stroke-width:0.8;\" x=\"39.65\" xlink:href=\"#m58d8296b37\" y=\"178.050339\"/>\r\n      </g>\r\n     </g>\r\n     <g id=\"text_11\">\r\n      <!-- 2000 -->\r\n      <g transform=\"translate(7.2 181.849558)scale(0.1 -0.1)\">\r\n       <use xlink:href=\"#DejaVuSans-50\"/>\r\n       <use x=\"63.623047\" xlink:href=\"#DejaVuSans-48\"/>\r\n       <use x=\"127.246094\" xlink:href=\"#DejaVuSans-48\"/>\r\n       <use x=\"190.869141\" xlink:href=\"#DejaVuSans-48\"/>\r\n      </g>\r\n     </g>\r\n    </g>\r\n    <g id=\"ytick_3\">\r\n     <g id=\"line2d_11\">\r\n      <g>\r\n       <use style=\"stroke:#000000;stroke-width:0.8;\" x=\"39.65\" xlink:href=\"#m58d8296b37\" y=\"156.228629\"/>\r\n      </g>\r\n     </g>\r\n     <g id=\"text_12\">\r\n      <!-- 2250 -->\r\n      <g transform=\"translate(7.2 160.027848)scale(0.1 -0.1)\">\r\n       <use xlink:href=\"#DejaVuSans-50\"/>\r\n       <use x=\"63.623047\" xlink:href=\"#DejaVuSans-50\"/>\r\n       <use x=\"127.246094\" xlink:href=\"#DejaVuSans-53\"/>\r\n       <use x=\"190.869141\" xlink:href=\"#DejaVuSans-48\"/>\r\n      </g>\r\n     </g>\r\n    </g>\r\n    <g id=\"ytick_4\">\r\n     <g id=\"line2d_12\">\r\n      <g>\r\n       <use style=\"stroke:#000000;stroke-width:0.8;\" x=\"39.65\" xlink:href=\"#m58d8296b37\" y=\"134.406919\"/>\r\n      </g>\r\n     </g>\r\n     <g id=\"text_13\">\r\n      <!-- 2500 -->\r\n      <g transform=\"translate(7.2 138.206138)scale(0.1 -0.1)\">\r\n       <use xlink:href=\"#DejaVuSans-50\"/>\r\n       <use x=\"63.623047\" xlink:href=\"#DejaVuSans-53\"/>\r\n       <use x=\"127.246094\" xlink:href=\"#DejaVuSans-48\"/>\r\n       <use x=\"190.869141\" xlink:href=\"#DejaVuSans-48\"/>\r\n      </g>\r\n     </g>\r\n    </g>\r\n    <g id=\"ytick_5\">\r\n     <g id=\"line2d_13\">\r\n      <g>\r\n       <use style=\"stroke:#000000;stroke-width:0.8;\" x=\"39.65\" xlink:href=\"#m58d8296b37\" y=\"112.585209\"/>\r\n      </g>\r\n     </g>\r\n     <g id=\"text_14\">\r\n      <!-- 2750 -->\r\n      <g transform=\"translate(7.2 116.384428)scale(0.1 -0.1)\">\r\n       <use xlink:href=\"#DejaVuSans-50\"/>\r\n       <use x=\"63.623047\" xlink:href=\"#DejaVuSans-55\"/>\r\n       <use x=\"127.246094\" xlink:href=\"#DejaVuSans-53\"/>\r\n       <use x=\"190.869141\" xlink:href=\"#DejaVuSans-48\"/>\r\n      </g>\r\n     </g>\r\n    </g>\r\n    <g id=\"ytick_6\">\r\n     <g id=\"line2d_14\">\r\n      <g>\r\n       <use style=\"stroke:#000000;stroke-width:0.8;\" x=\"39.65\" xlink:href=\"#m58d8296b37\" y=\"90.763499\"/>\r\n      </g>\r\n     </g>\r\n     <g id=\"text_15\">\r\n      <!-- 3000 -->\r\n      <g transform=\"translate(7.2 94.562718)scale(0.1 -0.1)\">\r\n       <defs>\r\n        <path d=\"M 40.578125 39.3125 \r\nQ 47.65625 37.796875 51.625 33 \r\nQ 55.609375 28.21875 55.609375 21.1875 \r\nQ 55.609375 10.40625 48.1875 4.484375 \r\nQ 40.765625 -1.421875 27.09375 -1.421875 \r\nQ 22.515625 -1.421875 17.65625 -0.515625 \r\nQ 12.796875 0.390625 7.625 2.203125 \r\nL 7.625 11.71875 \r\nQ 11.71875 9.328125 16.59375 8.109375 \r\nQ 21.484375 6.890625 26.8125 6.890625 \r\nQ 36.078125 6.890625 40.9375 10.546875 \r\nQ 45.796875 14.203125 45.796875 21.1875 \r\nQ 45.796875 27.640625 41.28125 31.265625 \r\nQ 36.765625 34.90625 28.71875 34.90625 \r\nL 20.21875 34.90625 \r\nL 20.21875 43.015625 \r\nL 29.109375 43.015625 \r\nQ 36.375 43.015625 40.234375 45.921875 \r\nQ 44.09375 48.828125 44.09375 54.296875 \r\nQ 44.09375 59.90625 40.109375 62.90625 \r\nQ 36.140625 65.921875 28.71875 65.921875 \r\nQ 24.65625 65.921875 20.015625 65.03125 \r\nQ 15.375 64.15625 9.8125 62.3125 \r\nL 9.8125 71.09375 \r\nQ 15.4375 72.65625 20.34375 73.4375 \r\nQ 25.25 74.21875 29.59375 74.21875 \r\nQ 40.828125 74.21875 47.359375 69.109375 \r\nQ 53.90625 64.015625 53.90625 55.328125 \r\nQ 53.90625 49.265625 50.4375 45.09375 \r\nQ 46.96875 40.921875 40.578125 39.3125 \r\nz\r\n\" id=\"DejaVuSans-51\"/>\r\n       </defs>\r\n       <use xlink:href=\"#DejaVuSans-51\"/>\r\n       <use x=\"63.623047\" xlink:href=\"#DejaVuSans-48\"/>\r\n       <use x=\"127.246094\" xlink:href=\"#DejaVuSans-48\"/>\r\n       <use x=\"190.869141\" xlink:href=\"#DejaVuSans-48\"/>\r\n      </g>\r\n     </g>\r\n    </g>\r\n    <g id=\"ytick_7\">\r\n     <g id=\"line2d_15\">\r\n      <g>\r\n       <use style=\"stroke:#000000;stroke-width:0.8;\" x=\"39.65\" xlink:href=\"#m58d8296b37\" y=\"68.941789\"/>\r\n      </g>\r\n     </g>\r\n     <g id=\"text_16\">\r\n      <!-- 3250 -->\r\n      <g transform=\"translate(7.2 72.741008)scale(0.1 -0.1)\">\r\n       <use xlink:href=\"#DejaVuSans-51\"/>\r\n       <use x=\"63.623047\" xlink:href=\"#DejaVuSans-50\"/>\r\n       <use x=\"127.246094\" xlink:href=\"#DejaVuSans-53\"/>\r\n       <use x=\"190.869141\" xlink:href=\"#DejaVuSans-48\"/>\r\n      </g>\r\n     </g>\r\n    </g>\r\n    <g id=\"ytick_8\">\r\n     <g id=\"line2d_16\">\r\n      <g>\r\n       <use style=\"stroke:#000000;stroke-width:0.8;\" x=\"39.65\" xlink:href=\"#m58d8296b37\" y=\"47.120079\"/>\r\n      </g>\r\n     </g>\r\n     <g id=\"text_17\">\r\n      <!-- 3500 -->\r\n      <g transform=\"translate(7.2 50.919298)scale(0.1 -0.1)\">\r\n       <use xlink:href=\"#DejaVuSans-51\"/>\r\n       <use x=\"63.623047\" xlink:href=\"#DejaVuSans-53\"/>\r\n       <use x=\"127.246094\" xlink:href=\"#DejaVuSans-48\"/>\r\n       <use x=\"190.869141\" xlink:href=\"#DejaVuSans-48\"/>\r\n      </g>\r\n     </g>\r\n    </g>\r\n    <g id=\"ytick_9\">\r\n     <g id=\"line2d_17\">\r\n      <g>\r\n       <use style=\"stroke:#000000;stroke-width:0.8;\" x=\"39.65\" xlink:href=\"#m58d8296b37\" y=\"25.298369\"/>\r\n      </g>\r\n     </g>\r\n     <g id=\"text_18\">\r\n      <!-- 3750 -->\r\n      <g transform=\"translate(7.2 29.097588)scale(0.1 -0.1)\">\r\n       <use xlink:href=\"#DejaVuSans-51\"/>\r\n       <use x=\"63.623047\" xlink:href=\"#DejaVuSans-55\"/>\r\n       <use x=\"127.246094\" xlink:href=\"#DejaVuSans-53\"/>\r\n       <use x=\"190.869141\" xlink:href=\"#DejaVuSans-48\"/>\r\n      </g>\r\n     </g>\r\n    </g>\r\n   </g>\r\n   <g id=\"line2d_18\">\r\n    <path clip-path=\"url(#pbedae4ad99)\" d=\"M 54.868182 190.919906 \r\nL 54.989976 191.227157 \r\nL 55.11177 190.47824 \r\nL 55.477153 189.19338 \r\nL 55.720741 187.573331 \r\nL 55.842535 187.759253 \r\nL 55.964329 189.82621 \r\nL 56.329712 191.576305 \r\nL 56.451506 190.972286 \r\nL 56.5733 189.207338 \r\nL 56.816889 194.138182 \r\nL 57.182271 192.835858 \r\nL 57.547654 189.847158 \r\nL 58.03483 189.232655 \r\nL 58.156624 188.564035 \r\nL 58.278419 188.927151 \r\nL 58.400213 188.64609 \r\nL 58.522007 189.973719 \r\nL 58.88739 189.447377 \r\nL 59.130978 188.179981 \r\nL 59.252772 188.20354 \r\nL 59.374566 188.425252 \r\nL 59.739949 188.118 \r\nL 59.861743 189.596645 \r\nL 59.983537 188.681007 \r\nL 60.105331 188.906203 \r\nL 60.227125 188.657438 \r\nL 60.714302 187.001609 \r\nL 60.836096 187.780201 \r\nL 60.95789 189.323437 \r\nL 61.079685 188.711555 \r\nL 61.445067 188.081347 \r\nL 61.566861 189.15061 \r\nL 61.81045 187.434548 \r\nL 61.932244 186.732759 \r\nL 62.41942 185.739434 \r\nL 62.541215 185.925355 \r\nL 62.784803 184.721677 \r\nL 63.27198 184.663191 \r\nL 63.393774 184.345466 \r\nL 63.637362 182.463567 \r\nL 64.124539 182.345721 \r\nL 64.246333 182.948003 \r\nL 64.368127 184.150818 \r\nL 64.489921 183.622728 \r\nL 64.855304 183.481324 \r\nL 64.977098 183.11385 \r\nL 65.220686 181.587204 \r\nL 65.342481 181.2913 \r\nL 65.707863 181.313995 \r\nL 65.829657 182.416429 \r\nL 65.951451 181.582835 \r\nL 66.073246 181.784473 \r\nL 66.19504 181.458021 \r\nL 66.560422 181.521739 \r\nL 66.804011 180.26568 \r\nL 66.925805 179.321241 \r\nL 67.412982 180.001198 \r\nL 67.534776 181.217982 \r\nL 67.65657 180.421926 \r\nL 67.778364 181.133306 \r\nL 68.265541 180.04921 \r\nL 68.387335 180.382641 \r\nL 68.509129 179.65904 \r\nL 68.630923 181.705912 \r\nL 68.752717 179.951449 \r\nL 69.1181 180.352093 \r\nL 69.361688 179.184194 \r\nL 69.483482 179.099529 \r\nL 69.605277 179.940975 \r\nL 69.970659 179.891216 \r\nL 70.092453 180.673313 \r\nL 70.214248 180.662839 \r\nL 70.457836 184.583757 \r\nL 70.823218 183.37571 \r\nL 70.945013 185.01496 \r\nL 71.066807 185.012338 \r\nL 71.188601 185.943693 \r\nL 71.310395 184.021635 \r\nL 71.675778 183.556389 \r\nL 71.797572 183.833092 \r\nL 72.04116 181.962531 \r\nL 72.162954 181.973005 \r\nL 72.893719 178.716338 \r\nL 73.015513 179.062864 \r\nL 73.50269 178.048592 \r\nL 73.624484 178.039865 \r\nL 73.746279 178.334895 \r\nL 73.868073 177.756183 \r\nL 74.477044 177.987495 \r\nL 74.598838 178.255461 \r\nL 74.720632 177.377361 \r\nL 75.086014 177.915914 \r\nL 75.207809 179.05938 \r\nL 75.451397 178.272925 \r\nL 75.573191 179.312504 \r\nL 75.938574 179.435581 \r\nL 76.182162 177.913304 \r\nL 76.303956 177.058762 \r\nL 76.42575 177.142554 \r\nL 76.791133 178.548744 \r\nL 76.912927 179.55429 \r\nL 77.034721 178.198723 \r\nL 77.156515 181.018965 \r\nL 77.27831 179.547311 \r\nL 77.643692 179.988103 \r\nL 77.765486 180.469054 \r\nL 77.88728 182.74986 \r\nL 78.009075 182.748986 \r\nL 78.130869 180.852245 \r\nL 78.496251 181.121095 \r\nL 78.618045 183.715257 \r\nL 78.73984 180.765832 \r\nL 78.983428 186.243954 \r\nL 79.34881 188.98389 \r\nL 79.470605 188.725524 \r\nL 79.592399 190.053153 \r\nL 79.714193 190.029584 \r\nL 79.835987 187.9347 \r\nL 80.20137 186.429002 \r\nL 80.323164 183.17582 \r\nL 80.444958 184.412678 \r\nL 80.688546 181.142043 \r\nL 81.053929 181.399535 \r\nL 81.175723 179.355273 \r\nL 81.297517 179.595312 \r\nL 81.541106 176.474807 \r\nL 81.906488 176.495755 \r\nL 82.028282 176.994171 \r\nL 82.271871 175.32612 \r\nL 82.393665 175.264139 \r\nL 82.880841 174.586793 \r\nL 83.002636 174.711618 \r\nL 83.246224 174.574582 \r\nL 83.611606 174.443652 \r\nL 83.733401 173.528877 \r\nL 83.855195 173.797727 \r\nL 83.976989 173.445958 \r\nL 84.098783 172.507625 \r\nL 84.464166 171.991767 \r\nL 84.58596 172.1995 \r\nL 84.707754 171.693232 \r\nL 84.951342 172.153235 \r\nL 85.316725 173.385736 \r\nL 85.560313 171.562302 \r\nL 85.682107 171.772676 \r\nL 85.803902 171.47152 \r\nL 86.291078 172.828834 \r\nL 86.412872 175.76866 \r\nL 86.534667 174.966499 \r\nL 86.656461 177.846965 \r\nL 87.021843 178.955503 \r\nL 87.143637 180.429779 \r\nL 87.50902 171.883532 \r\nL 88.361579 170.301885 \r\nL 88.726962 170.144764 \r\nL 88.848756 171.036833 \r\nL 88.97055 172.909153 \r\nL 89.214138 172.970249 \r\nL 89.701315 177.822522 \r\nL 89.944903 172.626344 \r\nL 90.066698 174.139011 \r\nL 90.553874 176.040121 \r\nL 90.797463 178.690148 \r\nL 90.919257 176.355225 \r\nL 91.406433 176.082017 \r\nL 91.528228 175.246686 \r\nL 91.650022 172.538184 \r\nL 91.771816 173.527129 \r\nL 92.137199 173.067126 \r\nL 92.380787 177.861797 \r\nL 92.502581 176.195494 \r\nL 92.624375 178.487647 \r\nL 92.989758 176.230411 \r\nL 93.111552 173.683376 \r\nL 93.233346 174.427062 \r\nL 93.35514 172.593164 \r\nL 93.476934 173.208541 \r\nL 93.842317 173.970553 \r\nL 93.964111 172.063327 \r\nL 94.085905 172.068569 \r\nL 94.329494 169.584389 \r\nL 94.81667 169.29197 \r\nL 94.938464 169.349593 \r\nL 95.060259 169.544241 \r\nL 95.182053 168.422596 \r\nL 95.547435 168.478472 \r\nL 95.66923 167.970457 \r\nL 95.912818 168.384195 \r\nL 96.034612 168.928864 \r\nL 96.399995 167.803746 \r\nL 96.643583 169.449964 \r\nL 96.765377 169.230873 \r\nL 96.887171 171.830278 \r\nL 97.252554 171.117151 \r\nL 97.496142 174.537918 \r\nL 97.617936 172.293776 \r\nL 97.73973 173.38923 \r\nL 98.105113 170.963526 \r\nL 98.226907 171.56667 \r\nL 98.348701 169.365299 \r\nL 98.470495 170.258241 \r\nL 98.59229 168.614623 \r\nL 98.957672 168.935854 \r\nL 99.079466 170.063593 \r\nL 99.323055 173.149192 \r\nL 99.444849 172.724095 \r\nL 99.810231 170.522723 \r\nL 100.05382 172.840193 \r\nL 100.175614 172.205616 \r\nL 100.662791 171.013264 \r\nL 100.784585 171.387728 \r\nL 101.028173 170.091531 \r\nL 101.149967 169.141839 \r\nL 101.51535 169.982423 \r\nL 101.637144 169.684761 \r\nL 101.758938 168.742954 \r\nL 101.880732 168.886095 \r\nL 102.002526 170.964399 \r\nL 102.367909 169.286749 \r\nL 102.489703 169.558199 \r\nL 102.733291 168.193042 \r\nL 102.855086 167.777556 \r\nL 103.220468 168.543063 \r\nL 103.342262 168.033301 \r\nL 103.464057 168.723732 \r\nL 103.585851 170.586441 \r\nL 103.707645 168.598044 \r\nL 104.073027 168.05687 \r\nL 104.316616 171.054307 \r\nL 104.43841 170.369097 \r\nL 104.560204 167.916329 \r\nL 105.169175 169.454333 \r\nL 105.290969 167.479894 \r\nL 105.778146 166.772884 \r\nL 105.89994 166.892456 \r\nL 106.021734 167.065282 \r\nL 106.143528 166.631469 \r\nL 106.752499 168.955055 \r\nL 106.874293 167.272162 \r\nL 106.996088 167.506958 \r\nL 107.117882 168.676615 \r\nL 107.483264 168.297782 \r\nL 107.605058 168.483693 \r\nL 107.726853 168.093523 \r\nL 107.970441 169.947495 \r\nL 108.335823 171.130236 \r\nL 108.457618 171.054307 \r\nL 108.701206 168.548284 \r\nL 108.823 169.835765 \r\nL 109.188383 170.680717 \r\nL 109.553765 167.467684 \r\nL 109.675559 168.449661 \r\nL 110.162736 167.209318 \r\nL 110.406324 169.120017 \r\nL 110.528119 169.191599 \r\nL 110.893501 173.019135 \r\nL 111.015295 172.541657 \r\nL 111.137089 171.292599 \r\nL 111.258884 171.348453 \r\nL 111.74606 172.048495 \r\nL 111.867854 170.95042 \r\nL 111.989649 173.975785 \r\nL 112.111443 173.571646 \r\nL 112.233237 171.362411 \r\nL 112.720414 168.540442 \r\nL 112.842208 168.675741 \r\nL 113.085796 166.996343 \r\nL 113.451179 166.853181 \r\nL 113.816561 169.133997 \r\nL 113.938355 171.097951 \r\nL 114.303738 172.146267 \r\nL 114.547326 168.573601 \r\nL 114.66912 168.56838 \r\nL 114.790915 168.986466 \r\nL 115.156297 169.492734 \r\nL 115.278091 169.904725 \r\nL 115.399885 169.335613 \r\nL 115.643474 171.279493 \r\nL 116.008856 168.956802 \r\nL 116.13065 170.712129 \r\nL 116.252445 170.539302 \r\nL 116.374239 170.771499 \r\nL 116.496033 170.060098 \r\nL 116.861415 169.10868 \r\nL 116.98321 169.590505 \r\nL 117.105004 171.101424 \r\nL 117.713975 187.371704 \r\nL 117.835769 189.606245 \r\nL 118.079357 179.127456 \r\nL 118.201151 179.021842 \r\nL 118.566534 180.478654 \r\nL 118.688328 185.570103 \r\nL 118.810122 182.514189 \r\nL 118.931916 182.316047 \r\nL 119.053711 184.926799 \r\nL 119.540887 180.720441 \r\nL 119.662681 183.109481 \r\nL 119.90627 181.450157 \r\nL 120.271652 182.1502 \r\nL 120.515241 178.459709 \r\nL 120.637035 178.905755 \r\nL 120.758829 181.713765 \r\nL 121.124212 180.933426 \r\nL 121.3678 183.395784 \r\nL 121.611388 184.043457 \r\nL 121.976771 188.370261 \r\nL 122.098565 188.16776 \r\nL 122.342153 184.699855 \r\nL 122.463947 182.295972 \r\nL 122.82933 179.1807 \r\nL 122.951124 179.803055 \r\nL 123.316507 176.750637 \r\nL 123.681889 176.526314 \r\nL 123.925477 178.553112 \r\nL 124.169066 175.160273 \r\nL 124.534448 175.112261 \r\nL 124.656242 175.364521 \r\nL 124.778037 176.397132 \r\nL 125.021625 171.490742 \r\nL 125.387008 171.837268 \r\nL 125.508802 172.299019 \r\nL 125.630596 170.163965 \r\nL 125.75239 170.246031 \r\nL 125.874184 171.123246 \r\nL 126.361361 168.467114 \r\nL 126.604949 169.327771 \r\nL 126.726743 169.391489 \r\nL 127.092126 171.191332 \r\nL 127.21392 170.917261 \r\nL 127.335714 171.503826 \r\nL 127.579303 176.039247 \r\nL 127.944685 173.407557 \r\nL 128.066479 173.647596 \r\nL 128.188273 170.754898 \r\nL 128.310068 170.959157 \r\nL 128.431862 170.266978 \r\nL 128.797244 170.492164 \r\nL 128.919039 170.2696 \r\nL 129.040833 170.293147 \r\nL 129.284421 170.184913 \r\nL 129.649804 171.031612 \r\nL 129.771598 169.092101 \r\nL 130.015186 173.719156 \r\nL 130.13698 170.047014 \r\nL 130.502363 171.323136 \r\nL 130.745951 173.89374 \r\nL 130.867745 173.491349 \r\nL 130.989539 176.970601 \r\nL 131.354922 176.135271 \r\nL 131.59851 171.672284 \r\nL 131.842099 177.565893 \r\nL 132.207481 176.20422 \r\nL 132.45107 172.438665 \r\nL 132.572864 172.726716 \r\nL 133.06004 173.118633 \r\nL 133.181835 171.210533 \r\nL 133.425423 174.214961 \r\nL 133.9126 176.945285 \r\nL 134.034394 176.59178 \r\nL 134.399776 184.856092 \r\nL 134.765159 184.71294 \r\nL 134.886953 183.402764 \r\nL 135.008747 187.627449 \r\nL 135.130541 184.872682 \r\nL 135.252335 188.495959 \r\nL 135.739512 188.408672 \r\nL 135.861306 190.328983 \r\nL 135.983101 189.485789 \r\nL 136.104895 186.176742 \r\nL 136.470277 188.779641 \r\nL 136.592071 186.462172 \r\nL 136.713866 188.267268 \r\nL 136.83566 187.358609 \r\nL 136.957454 183.266602 \r\nL 137.322836 183.341667 \r\nL 137.444631 186.514542 \r\nL 137.688219 185.430446 \r\nL 137.810013 188.520391 \r\nL 138.29719 190.950465 \r\nL 138.418984 190.981013 \r\nL 138.540778 192.96941 \r\nL 138.662572 189.853263 \r\nL 139.149749 187.164835 \r\nL 139.271543 184.437995 \r\nL 139.393337 185.222703 \r\nL 139.515132 185.227061 \r\nL 139.880514 182.807472 \r\nL 140.002308 184.92243 \r\nL 140.124102 184.177871 \r\nL 140.245897 182.266298 \r\nL 140.367691 182.584886 \r\nL 140.733073 183.96577 \r\nL 140.976662 179.23308 \r\nL 141.22025 178.051213 \r\nL 141.585632 177.896714 \r\nL 141.707427 179.860667 \r\nL 141.829221 178.987799 \r\nL 141.951015 178.960746 \r\nL 142.072809 176.113449 \r\nL 142.438192 176.336024 \r\nL 142.559986 176.659855 \r\nL 142.925368 173.722651 \r\nL 143.290751 173.54633 \r\nL 143.412545 173.70345 \r\nL 143.534339 174.846043 \r\nL 143.656133 174.913255 \r\nL 144.14331 174.816358 \r\nL 144.386898 172.46835 \r\nL 144.508693 172.835824 \r\nL 144.630487 171.6976 \r\nL 144.995869 172.278071 \r\nL 145.117663 174.107589 \r\nL 145.239458 172.231806 \r\nL 145.361252 174.392145 \r\nL 145.483046 173.895488 \r\nL 145.848428 174.385166 \r\nL 146.092017 170.856165 \r\nL 146.213811 170.824732 \r\nL 146.335605 171.003674 \r\nL 146.944576 169.112175 \r\nL 147.06637 170.065341 \r\nL 147.188164 170.056604 \r\nL 147.553547 170.387424 \r\nL 147.797135 169.745005 \r\nL 148.040724 172.350504 \r\nL 148.406106 170.942578 \r\nL 148.649694 173.588226 \r\nL 148.771489 173.631017 \r\nL 148.893283 173.062779 \r\nL 149.258665 172.92748 \r\nL 149.380459 170.684212 \r\nL 149.502254 172.423833 \r\nL 149.624048 172.454371 \r\nL 149.745842 173.981901 \r\nL 150.111224 172.231806 \r\nL 150.233019 173.929531 \r\nL 150.354813 173.892867 \r\nL 150.476607 174.555371 \r\nL 150.598401 173.483486 \r\nL 150.963784 173.857076 \r\nL 151.207372 170.147385 \r\nL 151.329166 170.185786 \r\nL 151.45096 169.4037 \r\nL 151.938137 169.587884 \r\nL 152.059931 169.380131 \r\nL 152.181725 168.862526 \r\nL 152.30352 169.397605 \r\nL 152.91249 167.652721 \r\nL 153.034285 167.970457 \r\nL 153.156079 169.664687 \r\nL 153.76505 171.80933 \r\nL 153.886844 171.242839 \r\nL 154.008638 171.833773 \r\nL 154.495815 170.290548 \r\nL 154.617609 170.591683 \r\nL 154.739403 168.158989 \r\nL 154.861197 174.784936 \r\nL 155.22658 178.003201 \r\nL 155.591962 169.421153 \r\nL 155.713756 169.064163 \r\nL 156.200933 170.321085 \r\nL 156.322727 169.345224 \r\nL 156.444521 169.504966 \r\nL 156.566316 166.711787 \r\nL 156.931698 166.078084 \r\nL 157.053492 164.770529 \r\nL 157.175286 164.745212 \r\nL 157.297081 163.757119 \r\nL 157.418875 163.932567 \r\nL 157.784257 163.483048 \r\nL 157.906052 163.754498 \r\nL 158.027846 162.947968 \r\nL 158.14964 163.633179 \r\nL 158.271434 162.772521 \r\nL 158.636817 163.344254 \r\nL 158.758611 163.283158 \r\nL 158.880405 163.510091 \r\nL 159.123993 162.897335 \r\nL 159.489376 163.138248 \r\nL 159.61117 164.343684 \r\nL 159.732964 163.753624 \r\nL 159.854758 163.713476 \r\nL 159.976552 162.088185 \r\nL 160.341935 162.261032 \r\nL 160.463729 162.18683 \r\nL 160.585523 162.732372 \r\nL 160.707317 161.833314 \r\nL 160.829112 161.985192 \r\nL 161.194494 161.452755 \r\nL 161.316288 162.500197 \r\nL 161.559877 161.725953 \r\nL 161.681671 162.000898 \r\nL 162.047053 162.10828 \r\nL 162.168848 161.736437 \r\nL 162.412436 162.99598 \r\nL 162.53423 163.295368 \r\nL 162.899613 162.305549 \r\nL 163.264995 163.1365 \r\nL 163.386789 162.340455 \r\nL 163.99576 161.801029 \r\nL 164.117554 162.225231 \r\nL 164.239348 166.894203 \r\nL 164.604731 164.168237 \r\nL 164.726525 166.963163 \r\nL 164.848319 167.072272 \r\nL 164.970113 165.196478 \r\nL 165.091908 165.90351 \r\nL 165.579084 165.85113 \r\nL 165.822673 162.584863 \r\nL 165.944467 163.675075 \r\nL 166.309849 165.297723 \r\nL 166.553438 163.091983 \r\nL 166.675232 164.858689 \r\nL 166.797026 163.362581 \r\nL 167.162409 163.979705 \r\nL 167.284203 164.914543 \r\nL 167.527791 164.017232 \r\nL 167.649585 164.630861 \r\nL 168.014968 163.764983 \r\nL 168.136762 166.115611 \r\nL 168.258556 165.901763 \r\nL 168.38035 166.480464 \r\nL 168.502144 166.442937 \r\nL 168.867527 167.008554 \r\nL 169.111115 165.455718 \r\nL 169.354704 165.728937 \r\nL 169.720086 164.841215 \r\nL 170.085469 166.437695 \r\nL 170.207263 167.016417 \r\nL 170.572645 167.039113 \r\nL 170.938028 170.311496 \r\nL 171.059822 170.615252 \r\nL 171.790587 163.431541 \r\nL 171.912381 163.696023 \r\nL 172.277764 163.717844 \r\nL 172.399558 162.304675 \r\nL 172.521352 162.605811 \r\nL 172.643146 161.717215 \r\nL 172.764941 162.172872 \r\nL 173.373911 160.18098 \r\nL 173.6175 159.427683 \r\nL 173.982882 160.44284 \r\nL 174.104676 160.186222 \r\nL 174.348265 161.371563 \r\nL 174.470059 161.295635 \r\nL 174.957236 159.525455 \r\nL 175.200824 156.561197 \r\nL 175.322618 155.396783 \r\nL 175.688001 155.621116 \r\nL 175.809795 154.332762 \r\nL 175.931589 155.942326 \r\nL 176.053383 155.178566 \r\nL 176.175177 155.524218 \r\nL 176.54056 155.134923 \r\nL 176.662354 154.416554 \r\nL 176.905942 155.271969 \r\nL 177.027737 155.02494 \r\nL 177.514913 154.580664 \r\nL 177.636707 156.235619 \r\nL 177.758502 156.293221 \r\nL 177.880296 157.203616 \r\nL 178.367472 155.545166 \r\nL 178.489267 154.417427 \r\nL 178.611061 154.570179 \r\nL 178.732855 153.873632 \r\nL 179.220032 154.578916 \r\nL 179.341826 154.01852 \r\nL 179.46362 154.444491 \r\nL 179.585414 154.077891 \r\nL 180.072591 154.667077 \r\nL 180.194385 154.31793 \r\nL 180.316179 155.033677 \r\nL 180.437973 154.368542 \r\nL 180.803356 154.901873 \r\nL 181.046944 152.006554 \r\nL 181.168738 152.154085 \r\nL 181.290533 152.327785 \r\nL 181.777709 153.708648 \r\nL 182.021298 153.535822 \r\nL 182.143092 152.089494 \r\nL 182.508474 152.513696 \r\nL 182.752063 152.329533 \r\nL 182.995651 150.458961 \r\nL 183.361034 149.398434 \r\nL 183.604622 147.56541 \r\nL 183.726416 147.742605 \r\nL 184.335387 146.157484 \r\nL 184.457181 146.380922 \r\nL 184.578975 146.294509 \r\nL 184.700769 145.986384 \r\nL 185.066152 145.77603 \r\nL 185.187946 146.309362 \r\nL 185.30974 143.488245 \r\nL 185.431534 144.713756 \r\nL 185.553329 144.608995 \r\nL 185.918711 145.29071 \r\nL 186.162299 146.366964 \r\nL 186.284094 146.20198 \r\nL 186.405888 145.527254 \r\nL 186.77127 145.451326 \r\nL 186.893064 146.151368 \r\nL 187.014859 144.42221 \r\nL 187.258447 145.034092 \r\nL 187.62383 145.451326 \r\nL 187.745624 148.021919 \r\nL 187.867418 147.635244 \r\nL 188.111006 148.025414 \r\nL 188.476389 148.23402 \r\nL 188.719977 146.528453 \r\nL 188.841771 145.92354 \r\nL 188.963565 146.389659 \r\nL 189.328948 146.728322 \r\nL 189.450742 146.613119 \r\nL 189.572536 147.242453 \r\nL 189.69433 146.846168 \r\nL 189.816125 147.016373 \r\nL 190.181507 146.874979 \r\nL 190.303301 147.169998 \r\nL 190.54689 149.337337 \r\nL 191.034066 147.586358 \r\nL 191.277655 148.532555 \r\nL 191.399449 146.990182 \r\nL 191.521243 147.614296 \r\nL 192.00842 144.129791 \r\nL 192.130214 144.231057 \r\nL 192.252008 144.115833 \r\nL 192.373802 144.51474 \r\nL 192.860979 143.906353 \r\nL 192.982773 144.171708 \r\nL 193.104567 144.050368 \r\nL 193.226361 143.197573 \r\nL 193.591744 143.189731 \r\nL 193.713538 143.404453 \r\nL 193.835332 143.16791 \r\nL 194.078921 143.929922 \r\nL 194.444303 142.933092 \r\nL 194.566097 143.077128 \r\nL 194.687892 146.886316 \r\nL 195.296862 143.657577 \r\nL 195.540451 142.752423 \r\nL 195.662245 141.820185 \r\nL 195.784039 141.754719 \r\nL 196.39301 142.105614 \r\nL 196.636598 139.7253 \r\nL 197.001981 139.98454 \r\nL 197.123775 140.575473 \r\nL 197.367363 140.186177 \r\nL 197.489157 140.362499 \r\nL 197.85454 140.570252 \r\nL 197.976334 139.613571 \r\nL 198.098128 139.825693 \r\nL 198.219923 140.302276 \r\nL 198.341717 140.242053 \r\nL 198.707099 138.469252 \r\nL 198.950688 140.027309 \r\nL 199.072482 140.124207 \r\nL 199.194276 139.792513 \r\nL 199.559658 139.7253 \r\nL 199.681453 141.443994 \r\nL 199.803247 139.583907 \r\nL 199.925041 141.416057 \r\nL 200.046835 141.092226 \r\nL 200.655806 140.295286 \r\nL 200.7776 142.284556 \r\nL 200.899394 140.937726 \r\nL 201.264777 140.741331 \r\nL 201.386571 140.907168 \r\nL 201.630159 138.960667 \r\nL 201.751954 137.96211 \r\nL 202.117336 137.973469 \r\nL 202.23913 137.845138 \r\nL 202.360924 136.691209 \r\nL 202.604513 136.803812 \r\nL 202.969895 137.033388 \r\nL 203.213484 136.342062 \r\nL 203.457072 136.842213 \r\nL 203.822454 136.999334 \r\nL 204.066043 136.364757 \r\nL 204.187837 136.836992 \r\nL 204.309631 136.429348 \r\nL 204.675014 136.073233 \r\nL 204.918602 136.67463 \r\nL 205.040396 139.800376 \r\nL 205.16219 139.528905 \r\nL 205.527573 137.38863 \r\nL 205.649367 137.495991 \r\nL 205.771161 137.190487 \r\nL 206.01475 140.90542 \r\nL 206.380132 140.659265 \r\nL 206.501926 138.55217 \r\nL 206.745515 139.734038 \r\nL 206.867309 139.3779 \r\nL 207.232691 139.274034 \r\nL 207.354485 139.094218 \r\nL 207.719868 136.453791 \r\nL 208.207045 138.086051 \r\nL 208.328839 137.41482 \r\nL 208.450633 137.453221 \r\nL 208.572427 137.773579 \r\nL 209.181398 134.549186 \r\nL 209.303192 134.789225 \r\nL 209.424986 134.386845 \r\nL 209.912163 133.82647 \r\nL 210.033957 133.687676 \r\nL 210.155751 134.354539 \r\nL 210.277546 134.213145 \r\nL 210.764722 134.682738 \r\nL 211.130105 132.717037 \r\nL 211.739076 131.112715 \r\nL 211.86087 129.861887 \r\nL 211.982664 130.101053 \r\nL 212.348046 130.502581 \r\nL 212.591635 129.585195 \r\nL 212.713429 129.961406 \r\nL 213.200606 129.375715 \r\nL 213.565988 128.986398 \r\nL 213.687782 127.842079 \r\nL 214.053165 128.735022 \r\nL 214.174959 128.37279 \r\nL 214.296753 129.418485 \r\nL 214.418547 129.134803 \r\nL 214.540342 127.330569 \r\nL 214.905724 128.049812 \r\nL 215.271107 127.437056 \r\nL 215.392901 126.739635 \r\nL 216.001872 126.168797 \r\nL 216.24546 127.223208 \r\nL 216.610843 127.001496 \r\nL 216.732637 127.522596 \r\nL 216.854431 128.766433 \r\nL 216.976225 126.931684 \r\nL 217.098019 127.524343 \r\nL 217.463402 127.237187 \r\nL 217.585196 125.762901 \r\nL 217.70699 125.933106 \r\nL 217.950578 125.467008 \r\nL 218.315961 125.554295 \r\nL 218.437755 123.317996 \r\nL 218.559549 123.402661 \r\nL 218.681343 121.52512 \r\nL 218.803138 121.992987 \r\nL 219.16852 122.235647 \r\nL 219.290314 123.097157 \r\nL 219.412108 123.123348 \r\nL 219.655697 121.182963 \r\nL 220.142874 120.082266 \r\nL 220.264668 120.192249 \r\nL 220.386462 121.138446 \r\nL 220.508256 119.061015 \r\nL 220.873639 117.808461 \r\nL 221.117227 118.760753 \r\nL 221.239021 118.296381 \r\nL 221.360815 118.403742 \r\nL 221.847992 118.651645 \r\nL 221.969786 118.466586 \r\nL 222.09158 118.037142 \r\nL 222.213374 119.253041 \r\nL 222.700551 117.315278 \r\nL 223.065934 113.183133 \r\nL 223.431316 112.785099 \r\nL 223.55311 112.472606 \r\nL 223.674905 112.739709 \r\nL 223.918493 109.421935 \r\nL 224.40567 110.279098 \r\nL 224.527464 107.997408 \r\nL 224.649258 108.39282 \r\nL 224.771052 107.321808 \r\nL 225.258229 104.805343 \r\nL 225.380023 104.944116 \r\nL 225.501817 104.794859 \r\nL 225.623611 101.860265 \r\nL 225.988994 103.5484 \r\nL 226.110788 106.263029 \r\nL 226.232582 106.142562 \r\nL 226.354376 106.302304 \r\nL 226.47617 111.52643 \r\nL 226.841553 121.406422 \r\nL 226.963347 117.373775 \r\nL 227.085141 118.550399 \r\nL 227.206936 127.336685 \r\nL 227.32873 123.971773 \r\nL 227.815906 120.184407 \r\nL 228.059495 114.226206 \r\nL 228.181289 114.137172 \r\nL 228.668466 115.530266 \r\nL 228.79026 116.833453 \r\nL 228.912054 116.603899 \r\nL 229.033848 112.820879 \r\nL 229.399231 110.00151 \r\nL 229.764613 118.898673 \r\nL 230.25179 115.12177 \r\nL 230.373584 114.495035 \r\nL 230.495378 114.61026 \r\nL 230.617172 113.547986 \r\nL 230.738966 109.393123 \r\nL 231.104349 109.702996 \r\nL 231.347937 112.6306 \r\nL 231.469732 112.818258 \r\nL 231.591526 112.409762 \r\nL 231.956908 115.821812 \r\nL 232.078702 115.470917 \r\nL 232.200497 115.908225 \r\nL 232.444085 126.702982 \r\nL 232.809467 120.567586 \r\nL 233.053056 125.241801 \r\nL 233.17485 122.110812 \r\nL 233.662027 127.259883 \r\nL 234.027409 120.193122 \r\nL 234.149203 125.288066 \r\nL 234.514586 124.529548 \r\nL 234.63638 120.714222 \r\nL 234.758174 121.995608 \r\nL 234.879968 120.092751 \r\nL 235.001763 120.763982 \r\nL 235.367145 118.88382 \r\nL 235.488939 116.391798 \r\nL 235.610733 116.195402 \r\nL 235.854322 119.555946 \r\nL 236.219704 119.54284 \r\nL 236.341498 122.661597 \r\nL 236.463293 122.239142 \r\nL 236.706881 119.57602 \r\nL 237.072263 121.484098 \r\nL 237.194058 120.894912 \r\nL 237.437646 123.083199 \r\nL 237.55944 120.142511 \r\nL 237.924823 119.338602 \r\nL 238.046617 119.400572 \r\nL 238.411999 114.529962 \r\nL 238.777382 114.319609 \r\nL 238.899176 115.950121 \r\nL 239.02097 114.989092 \r\nL 239.142764 115.192477 \r\nL 239.264559 115.817443 \r\nL 239.629941 114.068212 \r\nL 239.751735 114.816266 \r\nL 239.873529 114.043769 \r\nL 240.117118 115.087716 \r\nL 240.604294 117.83463 \r\nL 240.726089 114.853793 \r\nL 240.847883 116.489548 \r\nL 240.969677 113.927671 \r\nL 241.456854 112.689949 \r\nL 241.578648 110.63434 \r\nL 241.700442 110.807166 \r\nL 241.822236 110.05127 \r\nL 242.187619 109.79203 \r\nL 242.309413 109.368681 \r\nL 242.431207 110.348058 \r\nL 242.553001 109.749261 \r\nL 243.040178 110.512147 \r\nL 243.161972 111.48626 \r\nL 243.283766 111.073395 \r\nL 243.40556 112.606157 \r\nL 243.527355 112.15926 \r\nL 243.892737 115.459559 \r\nL 244.014531 114.936711 \r\nL 244.136325 116.981857 \r\nL 244.379914 115.346082 \r\nL 244.745296 114.618123 \r\nL 244.86709 115.795622 \r\nL 245.110679 113.753971 \r\nL 245.232473 111.728046 \r\nL 245.71965 108.758546 \r\nL 245.841444 110.488578 \r\nL 246.085032 108.106516 \r\nL 246.450415 108.357913 \r\nL 246.694003 106.857436 \r\nL 246.937591 108.061125 \r\nL 247.302974 107.611607 \r\nL 247.546562 104.199556 \r\nL 247.668356 104.952853 \r\nL 247.790151 106.578123 \r\nL 248.155533 107.993913 \r\nL 248.277327 106.798961 \r\nL 248.399121 107.054706 \r\nL 248.64271 104.698835 \r\nL 249.008092 103.821619 \r\nL 249.129887 103.118956 \r\nL 249.251681 103.184421 \r\nL 249.373475 103.544031 \r\nL 249.495269 105.315959 \r\nL 249.860652 106.306673 \r\nL 249.982446 104.732888 \r\nL 250.10424 106.617398 \r\nL 250.347828 103.845188 \r\nL 250.713211 103.241149 \r\nL 250.835005 102.725291 \r\nL 250.956799 102.824789 \r\nL 251.078593 103.247265 \r\nL 251.200387 101.701418 \r\nL 251.809358 98.266672 \r\nL 251.931152 99.393559 \r\nL 252.052947 99.359505 \r\nL 252.540123 99.778487 \r\nL 252.905506 101.964152 \r\nL 253.270888 101.488443 \r\nL 253.636271 99.12733 \r\nL 253.758065 99.057496 \r\nL 254.123448 100.469791 \r\nL 254.48883 96.808113 \r\nL 254.610624 96.902389 \r\nL 255.097801 98.133995 \r\nL 255.219595 98.971083 \r\nL 255.341389 98.270167 \r\nL 255.463183 98.271915 \r\nL 255.828566 97.345792 \r\nL 255.95036 97.447058 \r\nL 256.072154 97.265495 \r\nL 256.315743 100.751726 \r\nL 256.681125 100.851245 \r\nL 256.802919 101.208235 \r\nL 257.046508 114.473213 \r\nL 257.168302 111.089996 \r\nL 257.533684 112.516249 \r\nL 257.655479 107.354988 \r\nL 257.777273 107.416959 \r\nL 257.899067 110.94596 \r\nL 258.020861 111.033247 \r\nL 258.386244 112.071973 \r\nL 258.508038 113.397855 \r\nL 258.629832 120.781435 \r\nL 258.751626 116.463357 \r\nL 258.87342 120.555376 \r\nL 259.238803 122.077653 \r\nL 259.604185 113.425771 \r\nL 259.725979 114.936711 \r\nL 260.091362 113.605587 \r\nL 260.213156 112.1095 \r\nL 260.33495 107.008462 \r\nL 260.456745 107.624691 \r\nL 260.943921 114.660893 \r\nL 261.065715 115.013535 \r\nL 261.18751 116.811631 \r\nL 261.431098 113.783656 \r\nL 261.79648 117.758702 \r\nL 261.918275 122.021799 \r\nL 262.040069 121.320009 \r\nL 262.283657 122.836171 \r\nL 262.770834 118.505882 \r\nL 262.892628 113.127257 \r\nL 263.014422 113.650104 \r\nL 263.136216 111.697509 \r\nL 263.501599 109.061429 \r\nL 263.623393 116.944309 \r\nL 263.866981 117.303067 \r\nL 263.988776 122.79078 \r\nL 264.354158 122.385778 \r\nL 264.475952 122.467823 \r\nL 264.597746 121.22049 \r\nL 264.719541 121.266755 \r\nL 264.841335 125.682604 \r\nL 265.206717 130.396967 \r\nL 265.328511 130.377766 \r\nL 265.693894 141.684886 \r\nL 266.059276 147.403921 \r\nL 266.424659 135.381906 \r\nL 266.546453 135.65163 \r\nL 266.911836 133.808996 \r\nL 267.155424 133.53143 \r\nL 267.277218 138.955446 \r\nL 267.399012 131.618983 \r\nL 267.764395 130.069641 \r\nL 268.007983 126.991033 \r\nL 268.129777 125.971528 \r\nL 268.251572 126.004687 \r\nL 268.616954 127.196144 \r\nL 268.860542 124.272908 \r\nL 269.104131 119.506186 \r\nL 269.591307 122.806507 \r\nL 269.834896 121.983376 \r\nL 269.95669 120.025539 \r\nL 270.443867 122.186762 \r\nL 270.687455 116.591667 \r\nL 270.809249 116.379566 \r\nL 271.174632 114.778717 \r\nL 271.296426 113.658842 \r\nL 271.41822 114.190405 \r\nL 271.540014 116.421461 \r\nL 271.661808 116.261741 \r\nL 272.027191 116.094136 \r\nL 272.270779 112.320727 \r\nL 272.392573 112.957926 \r\nL 272.514368 110.350657 \r\nL 273.001544 109.987552 \r\nL 273.123338 109.55636 \r\nL 273.245133 110.413523 \r\nL 273.366927 108.860686 \r\nL 273.732309 108.560404 \r\nL 273.975898 108.886003 \r\nL 274.097692 109.574687 \r\nL 274.219486 107.898784 \r\nL 274.706663 109.124294 \r\nL 275.072045 113.190101 \r\nL 275.681016 107.267702 \r\nL 275.80281 107.480676 \r\nL 275.924604 106.258661 \r\nL 276.289987 105.345644 \r\nL 276.411781 105.377929 \r\nL 276.533575 106.105909 \r\nL 276.655369 103.430576 \r\nL 276.777164 108.158897 \r\nL 277.142546 108.364008 \r\nL 277.26434 106.609555 \r\nL 277.386134 107.752127 \r\nL 277.629723 105.218208 \r\nL 277.995105 102.356069 \r\nL 278.116899 102.351701 \r\nL 278.360488 101.291174 \r\nL 278.482282 100.125886 \r\nL 278.847665 99.861405 \r\nL 278.969459 101.39504 \r\nL 279.091253 100.521298 \r\nL 279.213047 100.511687 \r\nL 279.334841 98.845395 \r\nL 279.700224 99.005116 \r\nL 279.822018 98.875933 \r\nL 279.943812 99.452908 \r\nL 280.065606 99.053128 \r\nL 280.552783 98.79651 \r\nL 280.674577 96.552368 \r\nL 280.918165 97.207893 \r\nL 281.03996 96.011194 \r\nL 281.405342 95.736228 \r\nL 281.527136 95.49182 \r\nL 281.770725 97.962916 \r\nL 281.892519 95.508421 \r\nL 282.257901 96.657982 \r\nL 282.50149 101.288553 \r\nL 282.623284 102.047944 \r\nL 282.745078 101.115727 \r\nL 283.110461 107.184762 \r\nL 283.475843 101.55913 \r\nL 283.597637 103.024679 \r\nL 283.96302 104.709319 \r\nL 284.084814 102.603077 \r\nL 284.206608 103.309235 \r\nL 284.328402 106.279609 \r\nL 284.450196 105.946167 \r\nL 284.937373 108.012261 \r\nL 285.059167 109.702996 \r\nL 285.180961 109.193233 \r\nL 285.302756 112.405393 \r\nL 285.668138 113.069655 \r\nL 285.911727 105.938325 \r\nL 286.155315 101.819243 \r\nL 286.520697 100.650481 \r\nL 286.642492 100.738642 \r\nL 286.764286 101.251878 \r\nL 286.88608 100.22191 \r\nL 287.007874 100.628659 \r\nL 287.373257 100.393863 \r\nL 287.738639 94.762988 \r\nL 287.860433 95.087693 \r\nL 288.225816 95.533716 \r\nL 288.469404 98.289368 \r\nL 289.321963 91.128352 \r\nL 289.565552 91.600588 \r\nL 289.930934 92.862752 \r\nL 290.052728 92.541542 \r\nL 290.418111 89.561558 \r\nL 290.783493 89.515293 \r\nL 291.027082 92.123435 \r\nL 291.148876 91.190322 \r\nL 291.27067 92.805129 \r\nL 291.636053 92.070181 \r\nL 291.879641 89.056163 \r\nL 292.001435 90.443163 \r\nL 292.123229 88.506252 \r\nL 292.488612 88.933097 \r\nL 292.610406 89.613065 \r\nL 293.341171 104.315655 \r\nL 293.462965 101.083421 \r\nL 293.584759 100.89052 \r\nL 293.706554 96.16742 \r\nL 293.828348 97.864292 \r\nL 294.19373 101.00225 \r\nL 294.315524 97.194788 \r\nL 294.437319 104.677013 \r\nL 294.559113 104.066005 \r\nL 294.680907 100.480276 \r\nL 295.046289 97.427858 \r\nL 295.168084 99.447666 \r\nL 295.289878 97.359772 \r\nL 295.411672 97.488954 \r\nL 295.533466 104.108775 \r\nL 295.898849 101.379335 \r\nL 296.020643 102.184117 \r\nL 296.142437 100.544868 \r\nL 296.264231 97.346666 \r\nL 296.386025 97.182577 \r\nL 296.873202 98.944893 \r\nL 297.238585 92.621839 \r\nL 297.725761 92.56249 \r\nL 297.96935 89.928158 \r\nL 298.091144 90.118459 \r\nL 298.456526 90.941568 \r\nL 298.700115 90.17606 \r\nL 298.821909 90.170818 \r\nL 298.943703 91.455678 \r\nL 299.309085 91.480994 \r\nL 299.43088 93.678871 \r\nL 299.552674 92.084139 \r\nL 299.674468 92.716968 \r\nL 299.796262 94.098726 \r\nL 300.161645 92.793792 \r\nL 300.405233 100.573658 \r\nL 300.648821 94.952394 \r\nL 301.014204 96.106323 \r\nL 301.135998 100.097949 \r\nL 301.501381 93.358535 \r\nL 301.866763 93.718167 \r\nL 301.988557 91.140584 \r\nL 302.110351 91.663432 \r\nL 302.232146 90.942441 \r\nL 302.35394 91.968062 \r\nL 302.719322 90.176934 \r\nL 302.841116 91.11352 \r\nL 303.571881 87.322659 \r\nL 303.693676 87.543497 \r\nL 303.81547 86.681092 \r\nL 303.937264 87.485 \r\nL 304.059058 84.923144 \r\nL 304.424441 83.931556 \r\nL 304.546235 84.250145 \r\nL 304.668029 84.061613 \r\nL 304.911617 82.638833 \r\nL 305.277 83.16867 \r\nL 305.520588 82.555041 \r\nL 305.642382 82.328982 \r\nL 305.764177 80.24893 \r\nL 306.129559 80.111883 \r\nL 306.251353 80.273373 \r\nL 306.494942 81.725816 \r\nL 307.103912 78.497951 \r\nL 307.225707 77.353632 \r\nL 307.469295 78.457802 \r\nL 307.834678 80.824136 \r\nL 307.956472 82.62837 \r\nL 308.321854 78.027484 \r\nL 308.809031 79.196245 \r\nL 308.930825 78.401074 \r\nL 309.052619 76.049551 \r\nL 309.174413 76.029476 \r\nL 309.66159 73.959035 \r\nL 309.783384 74.079502 \r\nL 310.026973 71.453907 \r\nL 310.392355 71.210373 \r\nL 310.514149 71.265375 \r\nL 310.757738 69.822521 \r\nL 310.879532 69.81291 \r\nL 311.244914 71.447791 \r\nL 311.610297 68.256579 \r\nL 311.732091 70.264176 \r\nL 312.097474 69.266494 \r\nL 312.219268 70.060812 \r\nL 312.462856 66.785808 \r\nL 312.58465 67.601928 \r\nL 312.950033 65.613552 \r\nL 313.071827 66.048239 \r\nL 313.193621 65.512286 \r\nL 313.437209 61.992001 \r\nL 313.924386 62.76275 \r\nL 314.04618 62.678958 \r\nL 314.167974 62.348138 \r\nL 314.289769 64.972859 \r\nL 314.655151 69.497816 \r\nL 314.776945 66.651383 \r\nL 314.898739 66.899286 \r\nL 315.020534 66.003722 \r\nL 315.142328 71.078569 \r\nL 315.50771 69.036066 \r\nL 315.751299 61.549472 \r\nL 315.873093 60.581453 \r\nL 315.994887 62.158732 \r\nL 316.482064 59.536632 \r\nL 316.603858 57.642512 \r\nL 316.725652 58.123463 \r\nL 316.847446 57.580542 \r\nL 317.334623 58.442052 \r\nL 317.456417 57.057694 \r\nL 317.578211 58.185433 \r\nL 318.065388 71.046284 \r\nL 318.43077 92.617471 \r\nL 318.552565 94.759493 \r\nL 318.917947 82.887609 \r\nL 319.039741 90.469332 \r\nL 319.161536 79.405725 \r\nL 319.405124 93.175224 \r\nL 319.770506 112.885471 \r\nL 319.892301 101.043272 \r\nL 320.135889 136.096802 \r\nL 320.257683 115.987648 \r\nL 320.623066 144.346282 \r\nL 320.74486 131.859021 \r\nL 320.866654 143.30144 \r\nL 320.988448 142.315989 \r\nL 321.110242 151.434843 \r\nL 321.475625 157.328452 \r\nL 321.719213 136.540204 \r\nL 321.841007 123.053514 \r\nL 321.962801 130.787136 \r\nL 322.328184 123.352049 \r\nL 322.449978 127.023318 \r\nL 322.571772 136.981881 \r\nL 322.693567 132.058912 \r\nL 322.815361 135.397633 \r\nL 323.180743 120.119815 \r\nL 323.302537 120.492532 \r\nL 323.546126 109.109441 \r\nL 324.033302 111.570073 \r\nL 324.155097 104.20043 \r\nL 324.276891 109.673311 \r\nL 324.398685 108.260142 \r\nL 324.520479 101.712755 \r\nL 324.885862 106.199312 \r\nL 325.007656 113.758339 \r\nL 325.12945 108.28109 \r\nL 325.251244 108.412894 \r\nL 325.373038 105.013949 \r\nL 325.738421 101.370598 \r\nL 325.860215 102.687764 \r\nL 325.982009 96.043479 \r\nL 326.103803 98.407214 \r\nL 326.225598 105.540292 \r\nL 326.59098 104.490228 \r\nL 326.712774 102.246961 \r\nL 326.834568 103.994445 \r\nL 327.078157 96.891031 \r\nL 327.443539 96.856999 \r\nL 327.687128 106.47513 \r\nL 328.296098 94.786557 \r\nL 328.417893 97.489828 \r\nL 328.539687 93.241563 \r\nL 328.661481 95.257898 \r\nL 328.783275 94.652132 \r\nL 329.270452 91.481868 \r\nL 329.392246 87.609836 \r\nL 329.51404 88.168463 \r\nL 329.635834 86.895814 \r\nL 330.001217 85.899005 \r\nL 330.244805 80.038555 \r\nL 330.366599 80.956814 \r\nL 330.488394 73.835968 \r\nL 330.853776 70.47892 \r\nL 331.097364 74.166789 \r\nL 331.219159 90.580188 \r\nL 331.340953 87.157675 \r\nL 331.706335 84.951061 \r\nL 331.828129 79.87534 \r\nL 331.949924 80.857316 \r\nL 332.071718 80.695827 \r\nL 332.193512 82.232084 \r\nL 332.558894 80.475863 \r\nL 332.680689 79.303606 \r\nL 332.802483 86.370346 \r\nL 332.924277 83.452353 \r\nL 333.046071 89.973549 \r\nL 333.411454 86.116349 \r\nL 333.655042 80.650436 \r\nL 334.264013 75.076311 \r\nL 334.385807 78.07897 \r\nL 334.507601 75.929979 \r\nL 334.629395 77.491531 \r\nL 334.75119 74.611939 \r\nL 335.116572 77.214838 \r\nL 335.36016 70.987787 \r\nL 335.481955 71.947069 \r\nL 336.21272 66.670584 \r\nL 336.456308 71.941848 \r\nL 336.82169 69.866164 \r\nL 336.943485 71.696567 \r\nL 337.065279 68.205093 \r\nL 337.187073 69.271736 \r\nL 337.308867 67.098281 \r\nL 337.796044 64.009209 \r\nL 338.161426 60.101375 \r\nL 338.526809 59.299214 \r\nL 338.648603 61.636759 \r\nL 338.770397 57.563941 \r\nL 339.013986 58.218592 \r\nL 339.379368 57.4208 \r\nL 339.501162 56.740832 \r\nL 339.622956 58.044019 \r\nL 340.353721 52.041301 \r\nL 340.59731 48.468656 \r\nL 340.719104 46.420911 \r\nL 341.084487 47.093015 \r\nL 341.206281 44.793893 \r\nL 341.328075 40.063803 \r\nL 341.571663 53.495513 \r\nL 342.05884 61.798226 \r\nL 342.180634 55.939545 \r\nL 342.302428 61.156681 \r\nL 342.424222 61.001308 \r\nL 342.911399 55.744023 \r\nL 343.154987 59.601223 \r\nL 343.276782 62.877975 \r\nL 343.642164 66.230655 \r\nL 343.763958 63.218385 \r\nL 343.885752 70.083508 \r\nL 344.007547 69.23943 \r\nL 344.129341 64.711872 \r\nL 344.494723 60.073438 \r\nL 344.616518 61.481385 \r\nL 344.860106 57.524666 \r\nL 344.9819 60.351025 \r\nL 345.347283 55.098088 \r\nL 345.469077 59.255571 \r\nL 345.712665 51.761114 \r\nL 345.834459 49.115466 \r\nL 346.199842 44.133126 \r\nL 346.565224 48.57427 \r\nL 346.687018 48.533248 \r\nL 347.052401 53.499008 \r\nL 347.174195 52.084944 \r\nL 347.295989 52.744838 \r\nL 347.539578 50.141086 \r\nL 348.026754 56.662282 \r\nL 348.148549 67.106144 \r\nL 348.270343 63.694968 \r\nL 348.392137 67.199547 \r\nL 348.757519 63.683631 \r\nL 349.122902 46.207936 \r\nL 349.244696 46.296096 \r\nL 349.610079 42.712094 \r\nL 349.731873 43.145907 \r\nL 349.853667 40.777825 \r\nL 349.975461 43.889592 \r\nL 350.097255 39.687613 \r\nL 350.462638 36.042514 \r\nL 350.584432 37.559549 \r\nL 350.706226 41.202901 \r\nL 350.82802 39.973895 \r\nL 350.949814 42.097591 \r\nL 351.315197 40.347485 \r\nL 351.436991 35.300576 \r\nL 351.558785 35.803349 \r\nL 351.802374 35.043936 \r\nL 352.167756 36.503391 \r\nL 352.411345 32.367729 \r\nL 352.533139 32.56762 \r\nL 352.654933 29.739513 \r\nL 353.020315 30.364501 \r\nL 353.14211 29.466316 \r\nL 353.385698 32.447153 \r\nL 353.872875 34.246144 \r\nL 354.116463 29.560592 \r\nL 354.238257 27.700505 \r\nL 354.360051 28.84135 \r\nL 354.847228 30.774745 \r\nL 354.969022 30.534706 \r\nL 355.090816 29.395608 \r\nL 355.577993 26.576239 \r\nL 355.699787 27.302471 \r\nL 355.821581 26.866037 \r\nL 355.943376 24.768532 \r\nL 356.430552 29.605983 \r\nL 356.674141 25.460732 \r\nL 356.917729 18.779794 \r\nL 357.283111 20.96806 \r\nL 357.404906 20.830161 \r\nL 357.5267 20.075117 \r\nL 357.770288 23.705384 \r\nL 358.257465 21.029177 \r\nL 358.379259 16.408196 \r\nL 358.501053 16.301708 \r\nL 358.622847 17.314244 \r\nL 358.98823 16.101818 \r\nL 359.110024 16.602844 \r\nL 359.231818 25.231156 \r\nL 359.231818 25.231156 \r\n\" style=\"fill:none;stroke:#1f77b4;stroke-linecap:square;stroke-width:1.5;\"/>\r\n   </g>\r\n   <g id=\"patch_3\">\r\n    <path d=\"M 39.65 203.04 \r\nL 39.65 7.2 \r\n\" style=\"fill:none;stroke:#000000;stroke-linecap:square;stroke-linejoin:miter;stroke-width:0.8;\"/>\r\n   </g>\r\n   <g id=\"patch_4\">\r\n    <path d=\"M 374.45 203.04 \r\nL 374.45 7.2 \r\n\" style=\"fill:none;stroke:#000000;stroke-linecap:square;stroke-linejoin:miter;stroke-width:0.8;\"/>\r\n   </g>\r\n   <g id=\"patch_5\">\r\n    <path d=\"M 39.65 203.04 \r\nL 374.45 203.04 \r\n\" style=\"fill:none;stroke:#000000;stroke-linecap:square;stroke-linejoin:miter;stroke-width:0.8;\"/>\r\n   </g>\r\n   <g id=\"patch_6\">\r\n    <path d=\"M 39.65 7.2 \r\nL 374.45 7.2 \r\n\" style=\"fill:none;stroke:#000000;stroke-linecap:square;stroke-linejoin:miter;stroke-width:0.8;\"/>\r\n   </g>\r\n  </g>\r\n </g>\r\n <defs>\r\n  <clipPath id=\"pbedae4ad99\">\r\n   <rect height=\"195.84\" width=\"334.8\" x=\"39.65\" y=\"7.2\"/>\r\n  </clipPath>\r\n </defs>\r\n</svg>\r\n",
      "image/png": "[encoded data removed]"
     },
     "metadata": {
      "needs_background": "light"
     }
    }
   ],
   "source": [
    "df = SnP.copy()\n",
    "\n",
    "df['Adj Close'].plot()"
   ]
  },
  {
   "source": [
    "上圖中最大的 Draw Down 大概在 2020 年初，當時由約 3250，下跌到 2250，因此 Maxmium Draw Down 便是 (3250-2250)/3250 = 0.307 (跟用函數算出來的差不多)  \n",
    "    \n",
    "下方為錯誤的檢查方式，因為 Draw Down 是測量下跌的幅度，直接用最大減最小，可能會有時間順序的不同。"
   ],
   "cell_type": "markdown",
   "metadata": {}
  },
  {
   "cell_type": "code",
   "execution_count": 55,
   "metadata": {},
   "outputs": [
    {
     "output_type": "stream",
     "name": "stdout",
     "text": [
      "1.1233581899098382\n"
     ]
    }
   ],
   "source": [
    "dfMax = df['Adj Close'].max()\n",
    "dfMin = df['Adj Close'].min()\n",
    "\n",
    "print((dfMax-dfMin)/dfMin)"
   ]
  },
  {
   "source": [
    "#### Calmar Ratio python code"
   ],
   "cell_type": "markdown",
   "metadata": {}
  },
  {
   "cell_type": "code",
   "execution_count": 56,
   "metadata": {},
   "outputs": [],
   "source": [
    "def Calmar(DF):\n",
    "    df = DF.copy()\n",
    "    clmr = CAGR(df) / Max_DD(df)\n",
    "    return clmr"
   ]
  },
  {
   "cell_type": "code",
   "execution_count": 60,
   "metadata": {},
   "outputs": [
    {
     "output_type": "stream",
     "name": "stdout",
     "text": [
      "0.3176733434417835\n"
     ]
    }
   ],
   "source": [
    "clmr = Calmar(SnP)\n",
    "print(CAGR(SnP)/Max_DD(SnP))"
   ]
  },
  {
   "cell_type": "code",
   "execution_count": 58,
   "metadata": {},
   "outputs": [
    {
     "output_type": "execute_result",
     "data": {
      "text/plain": [
       "0.3176733434417835"
      ]
     },
     "metadata": {},
     "execution_count": 58
    }
   ],
   "source": [
    "clmr"
   ]
  }
 ]
}