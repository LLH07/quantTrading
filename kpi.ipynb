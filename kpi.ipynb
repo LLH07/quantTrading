{
 "metadata": {
  "language_info": {
   "codemirror_mode": {
    "name": "ipython",
    "version": 3
   },
   "file_extension": ".py",
   "mimetype": "text/x-python",
   "name": "python",
   "nbconvert_exporter": "python",
   "pygments_lexer": "ipython3",
   "version": "3.8.5-final"
  },
  "orig_nbformat": 2,
  "kernelspec": {
   "name": "python3",
   "display_name": "Python 3.8.5 64-bit ('quantTrading': conda)",
   "metadata": {
    "interpreter": {
     "hash": "f12840f8c3ee55eac1a5e8d37cc606a61527ff262478fc717919659d7e61c84d"
    }
   }
  }
 },
 "nbformat": 4,
 "nbformat_minor": 2,
 "cells": [
  {
   "source": [
    "```KPI```: Key Performance Indicators, are used to measure risk and return of a strategy，famous KPIs include:  \n",
    "- Cumulative Annual Growth Rate (CAGR)  \n",
    "- Annualized Volatility (Standard Deviation)  \n",
    "- Sharp Ratio/ Sortino Ratio  \n",
    "- Maximum Drawdown  \n",
    "- Calmar Ratio"
   ],
   "cell_type": "markdown",
   "metadata": {}
  },
  {
   "source": [
    "## I. CAGR:"
   ],
   "cell_type": "markdown",
   "metadata": {}
  },
  {
   "source": [
    "公式:  \n",
    "$$CAGR\\ =\\ (\\frac{End\\ Value}{Beginning\\ Value})\\LARGE^\\frac{1}{year}\\ -\\ 1$$"
   ],
   "cell_type": "markdown",
   "metadata": {}
  },
  {
   "source": [
    "重點:  \n",
    "- CAGR 沒有考慮風險  \n",
    "- CAGR 假設你會再投資 (以錢滾錢)  \n",
    "- 通常 CAGR 會跟其他測量 volaility 的指標一起出現"
   ],
   "cell_type": "markdown",
   "metadata": {}
  },
  {
   "source": [
    "#### 目標: 取 10 年的 ```S&P 500``` 的 \"daily\" 資料，並算出 CAGR"
   ],
   "cell_type": "markdown",
   "metadata": {}
  },
  {
   "cell_type": "code",
   "execution_count": 5,
   "metadata": {},
   "outputs": [],
   "source": [
    "import pandas as pd\n",
    "import numpy as np\n",
    "import datetime as dt\n",
    "import yfinance as yf"
   ]
  },
  {
   "cell_type": "code",
   "execution_count": 12,
   "metadata": {},
   "outputs": [],
   "source": [
    "ticker = \"^GSPC\" # the ticker of S&P 500\n",
    "start = dt.datetime.today() - dt.timedelta(2500) # 取一年有 250 個交易日\n",
    "end = dt.datetime.today()"
   ]
  },
  {
   "cell_type": "code",
   "execution_count": 13,
   "metadata": {},
   "outputs": [
    {
     "output_type": "error",
     "ename": "TypeError",
     "evalue": "function missing required argument 'year' (pos 1)",
     "traceback": [
      "\u001b[1;31m---------------------------------------------------------------------------\u001b[0m",
      "\u001b[1;31mTypeError\u001b[0m                                 Traceback (most recent call last)",
      "\u001b[1;32m<ipython-input-13-3809981e52fa>\u001b[0m in \u001b[0;36m<module>\u001b[1;34m\u001b[0m\n\u001b[1;32m----> 1\u001b[1;33m \u001b[0mdt\u001b[0m\u001b[1;33m.\u001b[0m\u001b[0mdatetime\u001b[0m\u001b[1;33m(\u001b[0m\u001b[1;33m)\u001b[0m\u001b[1;33m\u001b[0m\u001b[1;33m\u001b[0m\u001b[0m\n\u001b[0m",
      "\u001b[1;31mTypeError\u001b[0m: function missing required argument 'year' (pos 1)"
     ]
    }
   ],
   "source": [
    "dt.datetime() "
   ]
  },
  {
   "source": [
    "上面顯示錯誤的原因是: ```datetime``` 是一個 object，而我們要的是這個 object 裡的 ```.today()``` 方法。  \n",
    "故 ```datetime``` 後面不須加 ```()```"
   ],
   "cell_type": "markdown",
   "metadata": {}
  },
  {
   "cell_type": "code",
   "execution_count": 14,
   "metadata": {},
   "outputs": [
    {
     "output_type": "stream",
     "name": "stdout",
     "text": [
      "[*********************100%***********************]  1 of 1 completed\n"
     ]
    }
   ],
   "source": [
    "SnP = yf.download(ticker, start, end)"
   ]
  },
  {
   "cell_type": "code",
   "execution_count": 15,
   "metadata": {},
   "outputs": [],
   "source": [
    "def CAGR(DF):\n",
    "    df = DF.copy()\n",
    "    df['Daily Return'] = df['Adj Close'].pct_change() # first we need to calculate daily return\n",
    "    df['Cumulative Return'] = (1 + df['Daily Return']).cumprod() # calculate cumulative return\n",
    "    n = len(DF) / 250 # assume there are 250 trading days in a year\n",
    "    cagr = (df['Cumulative Return'][-1])**(1/n) - 1 # we need the latest data to calculate CAGR\n",
    "    return cagr"
   ]
  },
  {
   "cell_type": "code",
   "execution_count": 16,
   "metadata": {},
   "outputs": [],
   "source": [
    "cagr = CAGR(SnP)"
   ]
  },
  {
   "cell_type": "code",
   "execution_count": 17,
   "metadata": {},
   "outputs": [
    {
     "output_type": "execute_result",
     "data": {
      "text/plain": [
       "0.11082681843375752"
      ]
     },
     "metadata": {},
     "execution_count": 17
    }
   ],
   "source": [
    "cagr"
   ]
  },
  {
   "cell_type": "code",
   "execution_count": null,
   "metadata": {},
   "outputs": [],
   "source": []
  }
 ]
}