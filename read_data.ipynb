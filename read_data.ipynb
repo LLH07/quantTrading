{
 "metadata": {
  "language_info": {
   "codemirror_mode": {
    "name": "ipython",
    "version": 3
   },
   "file_extension": ".py",
   "mimetype": "text/x-python",
   "name": "python",
   "nbconvert_exporter": "python",
   "pygments_lexer": "ipython3",
   "version": "3.8.5-final"
  },
  "orig_nbformat": 2,
  "kernelspec": {
   "name": "python3",
   "display_name": "Python 3.8.5 64-bit ('quantTrading': conda)",
   "metadata": {
    "interpreter": {
     "hash": "f12840f8c3ee55eac1a5e8d37cc606a61527ff262478fc717919659d7e61c84d"
    }
   }
  }
 },
 "nbformat": 4,
 "nbformat_minor": 2,
 "cells": [
  {
   "source": [
    "## 讀取股票資料(使用 ```yfinance``` 或 ```yahoofinancials``` 或 ```Alpha Vintage```)"
   ],
   "cell_type": "markdown",
   "metadata": {}
  },
  {
   "source": [
    "## 1. ```yfinance```:"
   ],
   "cell_type": "markdown",
   "metadata": {}
  },
  {
   "source": [
    "在 ```anaconda``` 安裝 ```yfinance``` 套件: ```pip install yfinance --upgrade --no-cache-dir```   \n",
    "註: 不知為何用 ```conda install -c ranaroussi yfinance``` 出現錯誤"
   ],
   "cell_type": "markdown",
   "metadata": {}
  },
  {
   "source": [
    "### 讀取股票資料(```.download()```)"
   ],
   "cell_type": "markdown",
   "metadata": {}
  },
  {
   "cell_type": "code",
   "execution_count": 3,
   "metadata": {},
   "outputs": [],
   "source": [
    "import yfinance as yf"
   ]
  },
  {
   "cell_type": "code",
   "execution_count": 4,
   "metadata": {},
   "outputs": [
    {
     "output_type": "stream",
     "name": "stdout",
     "text": [
      "[*********************100%***********************]  1 of 1 completed\n"
     ]
    }
   ],
   "source": [
    "data = yf.download('00850.TW', period='1y') # yfinance 支援 intra data，所以 period 可以小於一天"
   ]
  },
  {
   "source": [
    "### 讀取多個股票的資料:"
   ],
   "cell_type": "markdown",
   "metadata": {}
  },
  {
   "cell_type": "code",
   "execution_count": 5,
   "metadata": {},
   "outputs": [],
   "source": [
    "import datetime as dt\n",
    "import pandas as pd"
   ]
  },
  {
   "cell_type": "code",
   "execution_count": 6,
   "metadata": {},
   "outputs": [],
   "source": [
    "# 使用部分 0050 成分股為例:\n",
    "stocks = ['1101.TW', '2207.TW', '2317.TW', '2454.TW', '2633.TW', '2880.TW', '2330.TW']"
   ]
  },
  {
   "cell_type": "code",
   "execution_count": 7,
   "metadata": {},
   "outputs": [],
   "source": [
    "# 資料時間範圍是 360 天:\n",
    "start =  dt.datetime.today() - dt.timedelta(360)\n",
    "end = dt.datetime.today()"
   ]
  },
  {
   "cell_type": "code",
   "execution_count": 8,
   "metadata": {},
   "outputs": [],
   "source": [
    "# 創建一個空的 data frame:\n",
    "cl_price = pd.DataFrame() "
   ]
  },
  {
   "cell_type": "code",
   "execution_count": 9,
   "metadata": {},
   "outputs": [
    {
     "output_type": "stream",
     "name": "stdout",
     "text": [
      "[*********************100%***********************]  1 of 1 completed\n",
      "[*********************100%***********************]  1 of 1 completed\n",
      "[*********************100%***********************]  1 of 1 completed\n",
      "[*********************100%***********************]  1 of 1 completed\n",
      "[*********************100%***********************]  1 of 1 completed\n",
      "[*********************100%***********************]  1 of 1 completed\n",
      "[*********************100%***********************]  1 of 1 completed\n"
     ]
    }
   ],
   "source": [
    "# 把每張股票的調整收盤價讀入 data frame:\n",
    "for ticker in stocks:\n",
    "    cl_price[ticker] = yf.download(ticker, start, end)['Adj Close']"
   ]
  },
  {
   "source": [
    "另一種做法: 剛才存成 data frame 的缺點是不能存放股票的所有資料，因此這次用 ```dictionary```:"
   ],
   "cell_type": "markdown",
   "metadata": {}
  },
  {
   "cell_type": "code",
   "execution_count": 10,
   "metadata": {},
   "outputs": [],
   "source": [
    "# ohlcv stands for: Open, High, Low, Close, Volume\n",
    "ohlcv_data = {}"
   ]
  },
  {
   "cell_type": "code",
   "execution_count": 11,
   "metadata": {},
   "outputs": [
    {
     "output_type": "stream",
     "name": "stdout",
     "text": [
      "[*********************100%***********************]  1 of 1 completed\n",
      "[*********************100%***********************]  1 of 1 completed\n",
      "[*********************100%***********************]  1 of 1 completed\n",
      "[*********************100%***********************]  1 of 1 completed\n",
      "[*********************100%***********************]  1 of 1 completed\n",
      "[*********************100%***********************]  1 of 1 completed\n",
      "[*********************100%***********************]  1 of 1 completed\n"
     ]
    }
   ],
   "source": [
    "for ticker in stocks:\n",
    "    ohlcv_data[ticker] = yf.download(ticker, start, end)"
   ]
  },
  {
   "cell_type": "code",
   "execution_count": 12,
   "metadata": {},
   "outputs": [
    {
     "output_type": "execute_result",
     "data": {
      "text/plain": [
       "Date\n",
       "2020-01-20    333.0\n",
       "2020-01-30    316.5\n",
       "2020-01-31    319.0\n",
       "2020-02-03    312.0\n",
       "2020-02-04    325.0\n",
       "              ...  \n",
       "2021-01-08    571.0\n",
       "2021-01-11    574.0\n",
       "2021-01-12    582.0\n",
       "2021-01-13    593.0\n",
       "2021-01-14    587.0\n",
       "Name: Low, Length: 242, dtype: float64"
      ]
     },
     "metadata": {},
     "execution_count": 12
    }
   ],
   "source": [
    "ohlcv_data['2330.TW']['Low']"
   ]
  },
  {
   "source": [
    "### 2. ```yahoofinancials```:"
   ],
   "cell_type": "markdown",
   "metadata": {}
  },
  {
   "source": [
    "這是另外一個 developer 寫的 library，是運用爬蟲技術  \n",
    "```pip install yahoofinancials```"
   ],
   "cell_type": "markdown",
   "metadata": {}
  },
  {
   "cell_type": "code",
   "execution_count": 13,
   "metadata": {},
   "outputs": [],
   "source": [
    "from yahoofinancials import YahooFinancials"
   ]
  },
  {
   "cell_type": "code",
   "execution_count": 14,
   "metadata": {},
   "outputs": [],
   "source": [
    "ticker = '2317.TW'\n",
    "yahoo_financials = YahooFinancials(ticker) # make a YahooFinancials object"
   ]
  },
  {
   "cell_type": "code",
   "execution_count": 15,
   "metadata": {},
   "outputs": [],
   "source": [
    "data = yahoo_financials.get_historical_price_data(\"2019-01-13\", \"2020-01-14\", \"daily\")"
   ]
  },
  {
   "source": [
    "```get_history_price_data()``` 回傳的是 JSON 格式的資料  \n",
    "```JSON``` 基本上就是巢狀的 ```dicrionary```，下一步是將 ```JSON``` 格式轉為 ```pandas``` 的 ```Data Frame```"
   ],
   "cell_type": "markdown",
   "metadata": {}
  },
  {
   "cell_type": "code",
   "execution_count": 16,
   "metadata": {},
   "outputs": [],
   "source": [
    "close_prices = pd.DataFrame() "
   ]
  },
  {
   "cell_type": "code",
   "execution_count": 17,
   "metadata": {},
   "outputs": [],
   "source": [
    "end_date = (dt.datetime.today()).strftime(\"%Y-%m-%d\") # .strftime() 將日期轉成 string。這邊要改成 YahooFinancials 接受的樣式\n",
    "beg_date = (dt.datetime.today() - dt.timedelta(220)).strftime(\"%Y-%m-%d\")\n",
    "stocks = ['1101.TW', '2207.TW', '2317.TW', '2454.TW', '2633.TW', '2880.TW', '2330.TW']"
   ]
  },
  {
   "source": [
    "### 目標: 將 ```json``` data 轉為 ```Data Frame```: \n",
    "<span style=\"color:blue\"> 遇到的問題</font>: VS Code 裡的 data viewer 沒辦法顯示 ```json``` data(沒辦法知道 ```json_obj``` 的長相))。  \n",
    "解決方法: 將資料存在電腦，直接觀看，做法:  \n",
    "```python\n",
    "import json\n",
    "with open('stock.data', 'w', encoding='utf-8') as f:\n",
    "        json.dump(json_obj, f) # .dump(): 將資料存成 json 檔\n",
    "```"
   ],
   "cell_type": "markdown",
   "metadata": {}
  },
  {
   "cell_type": "code",
   "execution_count": 18,
   "metadata": {},
   "outputs": [],
   "source": [
    "import json"
   ]
  },
  {
   "cell_type": "code",
   "execution_count": 19,
   "metadata": {
    "tags": []
   },
   "outputs": [
    {
     "output_type": "stream",
     "name": "stdout",
     "text": [
      "                  1101.TW     2207.TW     2317.TW     2454.TW    2633.TW  \\\nformatted_date                                                             \n2020-06-08      39.492817  612.320862   75.803139  485.623596  37.487782   \n2020-06-09      39.447906  635.871643   75.612923  488.569763  37.245926   \n2020-06-10      39.537731  671.197876   75.993370  491.024872  37.245926   \n2020-06-11      38.908775  674.141724   74.756927  487.587708  36.762215   \n2020-06-12      38.549290  665.310181   74.186264  483.659515  36.278500   \n...                   ...         ...         ...         ...        ...   \n2021-01-07      42.849998  634.000000  107.000000  799.000000  30.750000   \n2021-01-08      42.950001  645.000000  108.000000  838.000000  30.700001   \n2021-01-11      43.099998  639.000000  107.500000  851.000000  30.700001   \n2021-01-12      42.700001  637.000000  104.000000  846.000000  30.650000   \n2021-01-13      42.700001  649.000000  106.500000  884.000000  30.500000   \n\n                  2880.TW     2330.TW  \nformatted_date                         \n2020-06-08      18.704437  312.222168  \n2020-06-09      18.704437  313.203979  \n2020-06-10      18.750349  316.640381  \n2020-06-11      18.428680  314.676727  \n2020-06-12      18.198931  310.258484  \n...                   ...         ...  \n2021-01-07      18.100000  565.000000  \n2021-01-08      18.299999  580.000000  \n2021-01-11      18.299999  584.000000  \n2021-01-12      18.049999  591.000000  \n2021-01-13      18.150000  605.000000  \n\n[152 rows x 7 columns]\n"
     ]
    }
   ],
   "source": [
    "for ticker in stocks:\n",
    "    yahoo_financials = YahooFinancials(ticker)\n",
    "    json_obj = yahoo_financials.get_historical_price_data(beg_date, end_date, \"daily\")\n",
    "    \n",
    "    ohlv = json_obj[ticker]['prices'] # ohlv 為 list\n",
    "    temp = pd.DataFrame(ohlv)[['formatted_date', 'adjclose']] # 把 ohlv 的這兩個變數作為 temp 這個 data frame 的 column\n",
    "\n",
    "    temp.set_index(\"formatted_date\", inplace=True) # 將 temp 的 row index 設為 formatted_date 的資料，recall \"inplace\" 使改變可以永久套用在 temp 上\n",
    "    temp.dropna(inplace=True) # 去掉沒有資料的部分\n",
    "    #print(temp)\n",
    "\n",
    "    close_prices[ticker] = temp[\"adjclose\"] # 將 temp data frame(row 名稱跟資料都會一起搬過去) 資料套用在剛才的空 data frame  \n",
    "print(close_prices)"
   ]
  },
  {
   "source": [
    "### 3. Alpha Vantage:"
   ],
   "cell_type": "markdown",
   "metadata": {}
  },
  {
   "source": [
    "一樣是另一個抓股票的工具，但是這次需要 API，[到他們的網站](https://www.alphavantage.co/)免費下載 API:  \n",
    "我的 API 為: ```21E8AYPJ0ZKQY7IO```，並將 API 存放於: ```C:\\Users\\User\\Quant_Trading\\alpha_vantage\\api_key.txt```  \n",
    "接下來可以安裝 alpha vantage 的套件(跟 Alpha Vantage 的公司不一樣，套件別人寫的): ```pip install alpha_vantage```"
   ],
   "cell_type": "markdown",
   "metadata": {}
  },
  {
   "cell_type": "code",
   "execution_count": 20,
   "metadata": {},
   "outputs": [],
   "source": [
    "from alpha_vantage.timeseries import TimeSeries\n",
    "import pandas as pd"
   ]
  },
  {
   "source": [
    "將 API 讀入，並把 TimeSeries 物件的 output 形式設為 ```pandas```:"
   ],
   "cell_type": "markdown",
   "metadata": {}
  },
  {
   "cell_type": "code",
   "execution_count": 25,
   "metadata": {},
   "outputs": [],
   "source": [
    "key_path = r\"C:\\\\Users\\User\\\\Quant_Trading\\\\alpha_vantage\\\\api_key.txt\""
   ]
  },
  {
   "cell_type": "code",
   "execution_count": 26,
   "metadata": {},
   "outputs": [],
   "source": [
    "ts = TimeSeries(key=open(key_path, 'r').read(), output_format=\"pandas\")"
   ]
  },
  {
   "source": [
    "找尋微軟的每日股票資訊，並將週期(```outputsize```)設為```full```，即所有期間的資料(另一個選項是 ```compact   ```)"
   ],
   "cell_type": "markdown",
   "metadata": {}
  },
  {
   "cell_type": "code",
   "execution_count": 32,
   "metadata": {},
   "outputs": [
    {
     "output_type": "execute_result",
     "data": {
      "text/plain": [
       "(            1. open  2. high    3. low  4. close   5. volume\n",
       " date                                                        \n",
       " 2021-01-13   214.02   216.76  213.9266    216.34  20087080.0\n",
       " 2021-01-12   216.50   217.10  213.3202    214.93  23148341.0\n",
       " 2021-01-11   218.47   218.91  216.7300    217.49  23047029.0\n",
       " 2021-01-08   218.68   220.58  217.0261    219.62  22956206.0\n",
       " 2021-01-07   214.04   219.34  213.7100    218.29  27694480.0\n",
       " ...             ...      ...       ...       ...         ...\n",
       " 1999-11-05    91.81    92.87   90.5000     91.56  35083700.0\n",
       " 1999-11-04    92.31    92.75   90.3100     91.75  27119700.0\n",
       " 1999-11-03    92.94    93.50   91.5000     92.00  22258500.0\n",
       " 1999-11-02    92.75    94.50   91.9400     92.56  23174500.0\n",
       " 1999-11-01    93.25    94.19   92.1200     92.37  26630600.0\n",
       " \n",
       " [5335 rows x 5 columns],\n",
       " {'1. Information': 'Daily Prices (open, high, low, close) and Volumes',\n",
       "  '2. Symbol': 'MSFT',\n",
       "  '3. Last Refreshed': '2021-01-13',\n",
       "  '4. Output Size': 'Full size',\n",
       "  '5. Time Zone': 'US/Eastern'})"
      ]
     },
     "metadata": {},
     "execution_count": 32
    }
   ],
   "source": [
    "data = ts.get_daily(symbol='MSFT', outputsize=\"full\")\n",
    "data"
   ]
  },
  {
   "cell_type": "code",
   "execution_count": null,
   "metadata": {},
   "outputs": [],
   "source": []
  }
 ]
}