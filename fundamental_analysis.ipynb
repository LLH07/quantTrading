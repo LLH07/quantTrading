{
 "metadata": {
  "language_info": {
   "codemirror_mode": {
    "name": "ipython",
    "version": 3
   },
   "file_extension": ".py",
   "mimetype": "text/x-python",
   "name": "python",
   "nbconvert_exporter": "python",
   "pygments_lexer": "ipython3",
   "version": "3.8.5-final"
  },
  "orig_nbformat": 2,
  "kernelspec": {
   "name": "python3",
   "display_name": "Python 3.8.5 64-bit ('quantTrading': conda)",
   "metadata": {
    "interpreter": {
     "hash": "f12840f8c3ee55eac1a5e8d37cc606a61527ff262478fc717919659d7e61c84d"
    }
   }
  }
 },
 "nbformat": 4,
 "nbformat_minor": 2,
 "cells": [
  {
   "source": [
    "## Fundamental Analysis:"
   ],
   "cell_type": "markdown",
   "metadata": {}
  },
  {
   "source": [
    "介紹兩種價值投資公式: Joel Greenblatt's 的 Magic formula 及 Joseph Piotroski 的 F-score:"
   ],
   "cell_type": "markdown",
   "metadata": {}
  },
  {
   "source": [
    "### Magic formula:"
   ],
   "cell_type": "markdown",
   "metadata": {}
  },
  {
   "source": [
    "- 理念: Identifying \"wonderful stocks\" at \"bargain price\"  \n",
    "    - wonderful stocks: Based on Return on Invested Capital (ROIC) (公司實際的本業，故 exclude excess cash and interest-bearing assets)    \n",
    "    - bargain price: quantified by Earning Yield (= EBIT/Company Value)  \n",
    "- 公式:\n",
    "    - $Earnings\\ Yield = \\frac{EBIT}{Company\\ Value}$  \n",
    "    - $ROIC = \\frac{EBIT}{Net\\ Fixed\\ Assets + Net\\ Working\\ Capital}$  \n",
    "    - $Magic\\ Formula = Rank(Rank(Earning\\ Yield) + Rank(ROIC))$  \n",
    "- 買賣規則:  \n",
    "    挑 20-30 家公司 (金融業公司除外)，每個月都挑最好的 2-3 家公司，持續 12 次 (也就是投資一年)，之後每年 rebalance 一次\n"
   ],
   "cell_type": "markdown",
   "metadata": {}
  },
  {
   "source": [
    "步驟:  \n",
    "- \n"
   ],
   "cell_type": "markdown",
   "metadata": {}
  },
  {
   "cell_type": "code",
   "execution_count": 1,
   "metadata": {},
   "outputs": [],
   "source": [
    "import requests\n",
    "from bs4 import BeautifulSoup\n",
    "import pandas as pd"
   ]
  },
  {
   "source": [
    "從這些股票來選，記得移除金融行業的股票"
   ],
   "cell_type": "markdown",
   "metadata": {}
  },
  {
   "cell_type": "code",
   "execution_count": 124,
   "metadata": {},
   "outputs": [],
   "source": [
    "tickers = [\"1101.TW\",\"1102.TW\",\"1216.TW\",\"1301.TW\",\"1303.TW\",\"1326.TW\",\"1402.TW\",\"2002.TW\",\"2105.TW\",\"2207.TW\",\"2303.TW\",\"2308.TW\",\"2317.TW\",\"2327.TW\",\"2330.TW\",\"2357.TW\",\"2379.TW\",\"2382.TW\",\"2395.TW\",\"2408.TW\",\"2412.TW\",\"2454.TW\",\"2474.TW\",\"2633.TW\"]"
   ]
  },
  {
   "cell_type": "code",
   "execution_count": 121,
   "metadata": {},
   "outputs": [],
   "source": [
    "financial_dict = {} # set a new dict to store the financial accounts"
   ]
  },
  {
   "cell_type": "code",
   "execution_count": null,
   "metadata": {},
   "outputs": [],
   "source": []
  }
 ]
}