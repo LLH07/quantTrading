{
 "metadata": {
  "language_info": {
   "codemirror_mode": {
    "name": "ipython",
    "version": 3
   },
   "file_extension": ".py",
   "mimetype": "text/x-python",
   "name": "python",
   "nbconvert_exporter": "python",
   "pygments_lexer": "ipython3",
   "version": "3.8.5-final"
  },
  "orig_nbformat": 2,
  "kernelspec": {
   "name": "python3",
   "display_name": "Python 3.8.5 64-bit",
   "metadata": {
    "interpreter": {
     "hash": "f12840f8c3ee55eac1a5e8d37cc606a61527ff262478fc717919659d7e61c84d"
    }
   }
  }
 },
 "nbformat": 4,
 "nbformat_minor": 2,
 "cells": [
  {
   "source": [
    "## 創建虛擬環境:"
   ],
   "cell_type": "markdown",
   "metadata": {}
  },
  {
   "source": [
    "在 VS Code 上新增 .ipynb: ```ctrl```+```shift```+```p```: 輸入關鍵字 ```jupyter```"
   ],
   "cell_type": "markdown",
   "metadata": {}
  },
  {
   "source": [
    "新增一個虛擬環境: ```conda create --name quantTrading python=3.8```  \n",
    "其中 ```quantTrading``` 是這個專案的專屬虛擬環境名稱，```python``` 的版本為 3.8。"
   ],
   "cell_type": "markdown",
   "metadata": {}
  },
  {
   "source": [
    "這一部非常重要!: ```conda install ipykernel```，這樣才能把 ```anaconda``` 跟 ```jupyter notebook``` 連結起來。"
   ],
   "cell_type": "markdown",
   "metadata": {}
  },
  {
   "source": [
    "Useful commands for virtual environments:  \n",
    "- 查看電腦裡被 anaconda 裝過的 virtual environments: ```conda info --envs```\n",
    "- <font color=\"red\">啟動</font>一個虛擬環境: ```conda activate quantTrading```\n",
    "- 離開目前虛擬環境: ```conda deactivate```"
   ],
   "cell_type": "markdown",
   "metadata": {}
  },
  {
   "source": [
    "在 ```VS Code``` 執行 virtual environment: 點左上角的 ```Python```，然後選在你目標環境的 ```Python``` 編譯器。  \n",
    "註: 如果沒有 ```conda install ipykernel```，會出現 ```Timed out waiting to get a heartbeat from kernel process``` 的情況。"
   ],
   "cell_type": "markdown",
   "metadata": {}
  },
  {
   "cell_type": "code",
   "execution_count": null,
   "metadata": {},
   "outputs": [],
   "source": []
  }
 ]
}