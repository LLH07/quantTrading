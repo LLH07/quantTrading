{
 "metadata": {
  "language_info": {
   "codemirror_mode": {
    "name": "ipython",
    "version": 3
   },
   "file_extension": ".py",
   "mimetype": "text/x-python",
   "name": "python",
   "nbconvert_exporter": "python",
   "pygments_lexer": "ipython3",
   "version": "3.8.5-final"
  },
  "orig_nbformat": 2,
  "kernelspec": {
   "name": "python3",
   "display_name": "Python 3.8.5 64-bit ('quantTrading': conda)",
   "metadata": {
    "interpreter": {
     "hash": "f12840f8c3ee55eac1a5e8d37cc606a61527ff262478fc717919659d7e61c84d"
    }
   }
  }
 },
 "nbformat": 4,
 "nbformat_minor": 2,
 "cells": [
  {
   "cell_type": "code",
   "execution_count": null,
   "metadata": {},
   "outputs": [],
   "source": [
    "import requests\n",
    "import pandas as pd\n",
    "from bs4 import BeautifulSoup"
   ]
  },
  {
   "cell_type": "code",
   "execution_count": null,
   "metadata": {},
   "outputs": [],
   "source": [
    "financial_dict = {}\n",
    "tickers = ['AAPL', 'MSFT']"
   ]
  },
  {
   "cell_type": "code",
   "execution_count": 62,
   "metadata": {
    "tags": []
   },
   "outputs": [
    {
     "output_type": "stream",
     "name": "stdout",
     "text": [
      "['Total Revenue', '273,857,000', '274,515,000', '260,174,000', '265,595,000', '229,234,000']\n['']\n"
     ]
    },
    {
     "output_type": "error",
     "ename": "IndexError",
     "evalue": "list index out of range",
     "traceback": [
      "\u001b[1;31m---------------------------------------------------------------------------\u001b[0m",
      "\u001b[1;31mIndexError\u001b[0m                                Traceback (most recent call last)",
      "\u001b[1;32m<ipython-input-62-4d4afd406883>\u001b[0m in \u001b[0;36m<module>\u001b[1;34m\u001b[0m\n\u001b[0;32m     11\u001b[0m         \u001b[1;32mfor\u001b[0m \u001b[0mrow\u001b[0m \u001b[1;32min\u001b[0m \u001b[0mrows\u001b[0m\u001b[1;33m:\u001b[0m\u001b[1;33m\u001b[0m\u001b[1;33m\u001b[0m\u001b[0m\n\u001b[0;32m     12\u001b[0m             \u001b[0mprint\u001b[0m\u001b[1;33m(\u001b[0m\u001b[0mrow\u001b[0m\u001b[1;33m.\u001b[0m\u001b[0mget_text\u001b[0m\u001b[1;33m(\u001b[0m\u001b[0mseparator\u001b[0m\u001b[1;33m=\u001b[0m\u001b[1;34m\"|\"\u001b[0m\u001b[1;33m)\u001b[0m\u001b[1;33m.\u001b[0m\u001b[0msplit\u001b[0m\u001b[1;33m(\u001b[0m\u001b[1;34m\"|\"\u001b[0m\u001b[1;33m)\u001b[0m\u001b[1;33m)\u001b[0m\u001b[1;33m\u001b[0m\u001b[1;33m\u001b[0m\u001b[0m\n\u001b[1;32m---> 13\u001b[1;33m             \u001b[0mtemp_dict\u001b[0m\u001b[1;33m[\u001b[0m\u001b[0mrow\u001b[0m\u001b[1;33m.\u001b[0m\u001b[0mget_text\u001b[0m\u001b[1;33m(\u001b[0m\u001b[0mseparator\u001b[0m\u001b[1;33m=\u001b[0m\u001b[1;34m\"|\"\u001b[0m\u001b[1;33m)\u001b[0m\u001b[1;33m.\u001b[0m\u001b[0msplit\u001b[0m\u001b[1;33m(\u001b[0m\u001b[1;34m\"|\"\u001b[0m\u001b[1;33m)\u001b[0m\u001b[1;33m[\u001b[0m\u001b[1;36m0\u001b[0m\u001b[1;33m]\u001b[0m\u001b[1;33m]\u001b[0m \u001b[1;33m=\u001b[0m \u001b[0mrow\u001b[0m\u001b[1;33m.\u001b[0m\u001b[0mget_text\u001b[0m\u001b[1;33m(\u001b[0m\u001b[0mseparator\u001b[0m\u001b[1;33m=\u001b[0m\u001b[1;34m\"|\"\u001b[0m\u001b[1;33m)\u001b[0m\u001b[1;33m.\u001b[0m\u001b[0msplit\u001b[0m\u001b[1;33m(\u001b[0m\u001b[1;34m\"|\"\u001b[0m\u001b[1;33m)\u001b[0m\u001b[1;33m[\u001b[0m\u001b[1;36m1\u001b[0m\u001b[1;33m]\u001b[0m\u001b[1;33m\u001b[0m\u001b[1;33m\u001b[0m\u001b[0m\n\u001b[0m\u001b[0;32m     14\u001b[0m \u001b[1;33m\u001b[0m\u001b[0m\n",
      "\u001b[1;31mIndexError\u001b[0m: list index out of range"
     ]
    }
   ],
   "source": [
    "for ticker in tickers:\n",
    "    temp_dict = {}\n",
    "    # get Income Statement information\n",
    "    url = \"https://finance.yahoo.com/quote/\"+ticker+\"/financials?p=\"+ticker\n",
    "    page = requests.get(url)\n",
    "    page_content = page.content # getting html code\n",
    "    soup = BeautifulSoup(page_content, \"html.parser\")\n",
    "    tabl = soup.find_all(\"div\", {\"class\":\"M(0) Whs(n) BdEnd Bdc($seperatorColor) D(itb)\"})\n",
    "    for t in tabl:\n",
    "        rows = t.find_all(\"div\", {\"class\":\"\"})\n",
    "        for row in rows:\n",
    "            print(row.get_text(separator=\"|\").split(\"|\"))\n",
    "            temp_dict[row.get_text(separator=\"|\").split(\"|\")[0]] = row.get_text(separator=\"|\").split(\"|\")[1]\n",
    "            \n"
   ]
  },
  {
   "cell_type": "code",
   "execution_count": 64,
   "metadata": {},
   "outputs": [],
   "source": [
    "import requests\n",
    "from bs4 import BeautifulSoup\n",
    "import pandas as pd\n",
    "\n",
    "tickers = [\"AAPL\",\"MSFT\"] #list of tickers whose financial data needs to be extracted\n",
    "financial_dir = {}\n",
    "\n",
    "\n",
    "for ticker in tickers:\n",
    "    #getting balance sheet data from yahoo finance for the given ticker\n",
    "    temp_dir = {}\n",
    "    url = 'https://in.finance.yahoo.com/quote/'+ticker+'/balance-sheet?p='+ticker\n",
    "    page = requests.get(url)\n",
    "    page_content = page.content\n",
    "    soup = BeautifulSoup(page_content,'html.parser')\n",
    "    tabl = soup.find_all(\"div\", {\"class\" : \"M(0) Whs(n) BdEnd Bdc($seperatorColor) D(itb)\"})\n",
    "    for t in tabl:\n",
    "        rows = t.find_all(\"div\", {\"class\" : \"rw-expnded\"})\n",
    "        for row in rows:\n",
    "            temp_dir[row.get_text(separator='|').split(\"|\")[0]]=row.get_text(separator='|').split(\"|\")[1]\n",
    "    \n",
    "    #getting income statement data from yahoo finance for the given ticker\n",
    "    url = 'https://in.finance.yahoo.com/quote/'+ticker+'/financials?p='+ticker\n",
    "    page = requests.get(url)\n",
    "    page_content = page.content\n",
    "    soup = BeautifulSoup(page_content,'html.parser')\n",
    "    tabl = soup.find_all(\"div\", {\"class\" : \"M(0) Whs(n) BdEnd Bdc($seperatorColor) D(itb)\"})\n",
    "    for t in tabl:\n",
    "        rows = t.find_all(\"div\", {\"class\" : \"rw-expnded\"})\n",
    "        for row in rows:\n",
    "            temp_dir[row.get_text(separator='|').split(\"|\")[0]]=row.get_text(separator='|').split(\"|\")[1]\n",
    "    \n",
    "    #getting cashflow statement data from yahoo finance for the given ticker\n",
    "    url = 'https://in.finance.yahoo.com/quote/'+ticker+'/cash-flow?p='+ticker\n",
    "    page = requests.get(url)\n",
    "    page_content = page.content\n",
    "    soup = BeautifulSoup(page_content,'html.parser')\n",
    "    tabl = soup.find_all(\"div\", {\"class\" : \"M(0) Whs(n) BdEnd Bdc($seperatorColor) D(itb)\"})\n",
    "    for t in tabl:\n",
    "        rows = t.find_all(\"div\", {\"class\" : \"rw-expnded\"})\n",
    "        for row in rows:\n",
    "            temp_dir[row.get_text(separator='|').split(\"|\")[0]]=row.get_text(separator='|').split(\"|\")[1]\n",
    "    \n",
    "    #getting key statistics data from yahoo finance for the given ticker\n",
    "    url = 'https://in.finance.yahoo.com/quote/'+ticker+'/key-statistics?p='+ticker\n",
    "    page = requests.get(url)\n",
    "    page_content = page.content\n",
    "    soup = BeautifulSoup(page_content,'html.parser')\n",
    "    tabl = soup.findAll(\"table\", {\"class\": \"W(100%) Bdcl(c) \"})\n",
    "    for t in tabl:\n",
    "        rows = t.find_all(\"tr\")\n",
    "        for row in rows:\n",
    "            if len(row.get_text(separator='|').split(\"|\")[0:2])>0:\n",
    "                temp_dir[row.get_text(separator='|').split(\"|\")[0]]=row.get_text(separator='|').split(\"|\")[-1]    \n",
    "    \n",
    "    #combining all extracted information with the corresponding ticker\n",
    "    financial_dir[ticker] = temp_dir\n",
    "\n",
    "\n",
    "#storing information in pandas dataframe\n",
    "combined_financials = pd.DataFrame(financial_dir)\n",
    "tickers = combined_financials.columns\n",
    "for ticker in tickers:\n",
    "    combined_financials = combined_financials[~combined_financials[ticker].str.contains(\"[a-z]\").fillna(False)]\n",
    "\n"
   ]
  },
  {
   "source": [
    "疑惑: ```find()``` 與 ```find_all()``` 的差別究竟是甚麼?  \n",
    "我目前觀察到的:   \n",
    "- ```find()``` 只會回傳一個很大的字串，但 ```find_all()``` 會回傳一個 ```set```。 \n",
    "- 以上面的例子來說，\n",
    "```python\n",
    "    tabl = soup.find_all(\"div\", {\"class\":\"M(0) Whs(n) BdEnd Bdc($seperatorColor) D(itb)\"})\n",
    "```\n",
    "會找出目標(```div``` 且 ```class``` 為 ```M(0) Whs(n) BdEnd Bdc($seperatorColor) D(itb)```) 裡的所有東西   \n",
    "但 ```find()``` 只會也會回傳裡面的東西，但就是整個字串"
   ],
   "cell_type": "markdown",
   "metadata": {}
  },
  {
   "cell_type": "code",
   "execution_count": 63,
   "metadata": {},
   "outputs": [],
   "source": [
    "import requests\n",
    "from bs4 import BeautifulSoup\n",
    "import pandas as pd\n",
    "\n",
    "tickers = [\"AAPL\",\"MSFT\"] #list of tickers whose financial data needs to be extracted\n",
    "financial_dir = {}\n",
    "\n",
    "\n",
    "for ticker in tickers:\n",
    "    #getting balance sheet data from yahoo finance for the given ticker\n",
    "    temp_dir = {}\n",
    "    url = 'https://in.finance.yahoo.com/quote/'+ticker+'/balance-sheet?p='+ticker\n",
    "    page = requests.get(url)\n",
    "    page_content = page.content\n",
    "    soup = BeautifulSoup(page_content,'html.parser')\n",
    "    tabl = soup.find_all(\"div\", {\"class\" : \"M(0) Whs(n) BdEnd Bdc($seperatorColor) D(itb)\"})\n",
    "    for t in tabl:\n",
    "        rows = t.find_all(\"div\", {\"class\" : \"rw-expnded\"})\n",
    "        for row in rows:\n",
    "            temp_dir[row.get_text(separator='|').split(\"|\")[0]]=row.get_text(separator='|').split(\"|\")[1]\n",
    "    \n",
    "    #getting income statement data from yahoo finance for the given ticker\n",
    "    url = 'https://in.finance.yahoo.com/quote/'+ticker+'/financials?p='+ticker\n",
    "    page = requests.get(url)\n",
    "    page_content = page.content\n",
    "    soup = BeautifulSoup(page_content,'html.parser')\n",
    "    tabl = soup.find_all(\"div\", {\"class\" : \"M(0) Whs(n) BdEnd Bdc($seperatorColor) D(itb)\"})\n",
    "    for t in tabl:\n",
    "        rows = t.find_all(\"div\", {\"class\" : \"rw-expnded\"})\n",
    "        for row in rows:\n",
    "            temp_dir[row.get_text(separator='|').split(\"|\")[0]]=row.get_text(separator='|').split(\"|\")[1]\n",
    "    \n",
    "    #getting cashflow statement data from yahoo finance for the given ticker\n",
    "    url = 'https://in.finance.yahoo.com/quote/'+ticker+'/cash-flow?p='+ticker\n",
    "    page = requests.get(url)\n",
    "    page_content = page.content\n",
    "    soup = BeautifulSoup(page_content,'html.parser')\n",
    "    tabl = soup.find_all(\"div\", {\"class\" : \"M(0) Whs(n) BdEnd Bdc($seperatorColor) D(itb)\"})\n",
    "    for t in tabl:\n",
    "        rows = t.find_all(\"div\", {\"class\" : \"rw-expnded\"})\n",
    "        for row in rows:\n",
    "            temp_dir[row.get_text(separator='|').split(\"|\")[0]]=row.get_text(separator='|').split(\"|\")[1]\n",
    "    \n",
    "    #getting key statistics data from yahoo finance for the given ticker\n",
    "    url = 'https://in.finance.yahoo.com/quote/'+ticker+'/key-statistics?p='+ticker\n",
    "    page = requests.get(url)\n",
    "    page_content = page.content\n",
    "    soup = BeautifulSoup(page_content,'html.parser')\n",
    "    tabl = soup.findAll(\"table\", {\"class\": \"W(100%) Bdcl(c) \"})\n",
    "    for t in tabl:\n",
    "        rows = t.find_all(\"tr\")\n",
    "        for row in rows:\n",
    "            if len(row.get_text(separator='|').split(\"|\")[0:2])>0:\n",
    "                temp_dir[row.get_text(separator='|').split(\"|\")[0]]=row.get_text(separator='|').split(\"|\")[-1]    \n",
    "    \n",
    "    #combining all extracted information with the corresponding ticker\n",
    "    financial_dir[ticker] = temp_dir\n",
    "\n",
    "\n",
    "#storing information in pandas dataframe\n",
    "combined_financials = pd.DataFrame(financial_dir)\n",
    "tickers = combined_financials.columns\n",
    "for ticker in tickers:\n",
    "    combined_financials = combined_financials[~combined_financials[ticker].str.contains(\"[a-z]\").fillna(False)]\n",
    "\n"
   ]
  },
  {
   "cell_type": "code",
   "execution_count": null,
   "metadata": {},
   "outputs": [],
   "source": []
  }
 ]
}