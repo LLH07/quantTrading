{
 "metadata": {
  "language_info": {
   "codemirror_mode": {
    "name": "ipython",
    "version": 3
   },
   "file_extension": ".py",
   "mimetype": "text/x-python",
   "name": "python",
   "nbconvert_exporter": "python",
   "pygments_lexer": "ipython3",
   "version": "3.8.5-final"
  },
  "orig_nbformat": 2,
  "kernelspec": {
   "name": "python3",
   "display_name": "Python 3.8.5 64-bit ('quantTrading': conda)",
   "metadata": {
    "interpreter": {
     "hash": "f12840f8c3ee55eac1a5e8d37cc606a61527ff262478fc717919659d7e61c84d"
    }
   }
  }
 },
 "nbformat": 4,
 "nbformat_minor": 2,
 "cells": [
  {
   "source": [
    "## Support-Resistance Breakout Strategy"
   ],
   "cell_type": "markdown",
   "metadata": {}
  },
  {
   "source": [
    "原則:  \n",
    "- 選擇股價波動大且成交量大的標的  \n",
    "- 定義 ```breakout rule```  \n",
    "- 定義 ```exit/stop loss signal```  \n",
    "- 用 cumulative return 計算每個標的的 returnm"
   ],
   "cell_type": "markdown",
   "metadata": {}
  },
  {
   "source": [
    "策略:  \n",
    "- ```breakout rule```: 20 period rolling max/min + 20 days rolling volume  \n",
    "- ```exit/stop loss```: previous price +- 20 period ATR"
   ],
   "cell_type": "markdown",
   "metadata": {}
  },
  {
   "source": [
    "### 1. 引入套件:"
   ],
   "cell_type": "markdown",
   "metadata": {}
  },
  {
   "cell_type": "code",
   "execution_count": 220,
   "metadata": {},
   "outputs": [],
   "source": [
    "import tejapi"
   ]
  },
  {
   "cell_type": "code",
   "execution_count": 221,
   "metadata": {},
   "outputs": [],
   "source": [
    "tejapi.ApiConfig.api_key = \"09vOL7Mk5yamPfvzSffVkl6iKb0fHJ\""
   ]
  },
  {
   "cell_type": "code",
   "execution_count": 222,
   "metadata": {},
   "outputs": [],
   "source": [
    "info = tejapi.ApiConfig.info()"
   ]
  },
  {
   "cell_type": "code",
   "execution_count": 223,
   "metadata": {},
   "outputs": [],
   "source": [
    "data = tejapi.get('TRAIL/TAGIN')"
   ]
  },
  {
   "cell_type": "code",
   "execution_count": 224,
   "metadata": {},
   "outputs": [
    {
     "output_type": "execute_result",
     "data": {
      "text/plain": [
       "       coid                     mdate  gin0   l0ng_ta  buy_l   buy_la  sell_l  \\\n",
       "None                                                                            \n",
       "0      0050 2020-01-02 00:00:00+00:00   374  36513.62     20  1952.60       6   \n",
       "1      0050 2020-01-03 00:00:00+00:00   388  37907.60     30  2931.00      16   \n",
       "2      0050 2020-01-06 00:00:00+00:00   381  36827.46      7   676.62      14   \n",
       "3      0050 2020-01-07 00:00:00+00:00   410  39351.80     41  3935.18      12   \n",
       "4      0050 2020-01-08 00:00:00+00:00   441  42133.14     51  4872.54      20   \n",
       "...     ...                       ...   ...       ...    ...      ...     ...   \n",
       "9995  00657 2020-10-23 00:00:00+00:00     0      0.00      0     0.00       0   \n",
       "9996  00657 2020-10-26 00:00:00+00:00     0      0.00      0     0.00       0   \n",
       "9997  00657 2020-10-27 00:00:00+00:00     0      0.00      0     0.00       0   \n",
       "9998  00657 2020-10-28 00:00:00+00:00     0      0.00      0     0.00       0   \n",
       "9999  00657 2020-10-29 00:00:00+00:00     0      0.00      0     0.00       0   \n",
       "\n",
       "      sell_la  cash_l  cash_la  ...  limit_b1  limit_b2    sbls_k  shorts_k  \\\n",
       "None                            ...                                           \n",
       "0      585.78       0      0.0  ...      1006     68700  31990.95     195.4   \n",
       "1     1563.20       0      0.0  ...      1041     66950  21216.45     195.7   \n",
       "2     1353.24       0      0.0  ...      1120     66950  33959.20     386.5   \n",
       "3     1151.76       0      0.0  ...      1158     66950  49379.95     287.6   \n",
       "4     1910.80       0      0.0  ...      1205     66050  53815.30     477.8   \n",
       "...       ...     ...      ...  ...       ...       ...       ...       ...   \n",
       "9995     0.00       0      0.0  ...        32       432      0.00       0.0   \n",
       "9996     0.00       0      0.0  ...        32       432      0.00       0.0   \n",
       "9997     0.00       0      0.0  ...        32       432      0.00       0.0   \n",
       "9998     0.00       0      0.0  ...        32       432      0.00       0.0   \n",
       "9999     0.00       0      0.0  ...        32       432      0.00       0.0   \n",
       "\n",
       "           ap    alc   asc1     lmr     smr     tmr  \n",
       "None                                                 \n",
       "0     97.6300  95.93  87.11  169.65  169.49  169.58  \n",
       "1     97.7000  96.07  87.23  169.41  169.73  169.55  \n",
       "2     96.6600  96.08  87.45  167.23  172.36  169.44  \n",
       "3     95.9800  96.07  87.61  166.72  173.21  169.32  \n",
       "4     95.5400  96.01  87.84  166.05  174.49  169.33  \n",
       "...       ...    ...    ...     ...     ...     ...  \n",
       "9995  29.2496    NaN    NaN     NaN     NaN     NaN  \n",
       "9996  29.1601    NaN    NaN     NaN     NaN     NaN  \n",
       "9997  29.0498    NaN    NaN     NaN     NaN     NaN  \n",
       "9998  29.0103    NaN    NaN     NaN     NaN     NaN  \n",
       "9999  28.9600    NaN    NaN     NaN     NaN     NaN  \n",
       "\n",
       "[10000 rows x 50 columns]"
      ],
      "text/html": "<div>\n<style scoped>\n    .dataframe tbody tr th:only-of-type {\n        vertical-align: middle;\n    }\n\n    .dataframe tbody tr th {\n        vertical-align: top;\n    }\n\n    .dataframe thead th {\n        text-align: right;\n    }\n</style>\n<table border=\"1\" class=\"dataframe\">\n  <thead>\n    <tr style=\"text-align: right;\">\n      <th></th>\n      <th>coid</th>\n      <th>mdate</th>\n      <th>gin0</th>\n      <th>l0ng_ta</th>\n      <th>buy_l</th>\n      <th>buy_la</th>\n      <th>sell_l</th>\n      <th>sell_la</th>\n      <th>cash_l</th>\n      <th>cash_la</th>\n      <th>...</th>\n      <th>limit_b1</th>\n      <th>limit_b2</th>\n      <th>sbls_k</th>\n      <th>shorts_k</th>\n      <th>ap</th>\n      <th>alc</th>\n      <th>asc1</th>\n      <th>lmr</th>\n      <th>smr</th>\n      <th>tmr</th>\n    </tr>\n    <tr>\n      <th>None</th>\n      <th></th>\n      <th></th>\n      <th></th>\n      <th></th>\n      <th></th>\n      <th></th>\n      <th></th>\n      <th></th>\n      <th></th>\n      <th></th>\n      <th></th>\n      <th></th>\n      <th></th>\n      <th></th>\n      <th></th>\n      <th></th>\n      <th></th>\n      <th></th>\n      <th></th>\n      <th></th>\n      <th></th>\n    </tr>\n  </thead>\n  <tbody>\n    <tr>\n      <th>0</th>\n      <td>0050</td>\n      <td>2020-01-02 00:00:00+00:00</td>\n      <td>374</td>\n      <td>36513.62</td>\n      <td>20</td>\n      <td>1952.60</td>\n      <td>6</td>\n      <td>585.78</td>\n      <td>0</td>\n      <td>0.0</td>\n      <td>...</td>\n      <td>1006</td>\n      <td>68700</td>\n      <td>31990.95</td>\n      <td>195.4</td>\n      <td>97.6300</td>\n      <td>95.93</td>\n      <td>87.11</td>\n      <td>169.65</td>\n      <td>169.49</td>\n      <td>169.58</td>\n    </tr>\n    <tr>\n      <th>1</th>\n      <td>0050</td>\n      <td>2020-01-03 00:00:00+00:00</td>\n      <td>388</td>\n      <td>37907.60</td>\n      <td>30</td>\n      <td>2931.00</td>\n      <td>16</td>\n      <td>1563.20</td>\n      <td>0</td>\n      <td>0.0</td>\n      <td>...</td>\n      <td>1041</td>\n      <td>66950</td>\n      <td>21216.45</td>\n      <td>195.7</td>\n      <td>97.7000</td>\n      <td>96.07</td>\n      <td>87.23</td>\n      <td>169.41</td>\n      <td>169.73</td>\n      <td>169.55</td>\n    </tr>\n    <tr>\n      <th>2</th>\n      <td>0050</td>\n      <td>2020-01-06 00:00:00+00:00</td>\n      <td>381</td>\n      <td>36827.46</td>\n      <td>7</td>\n      <td>676.62</td>\n      <td>14</td>\n      <td>1353.24</td>\n      <td>0</td>\n      <td>0.0</td>\n      <td>...</td>\n      <td>1120</td>\n      <td>66950</td>\n      <td>33959.20</td>\n      <td>386.5</td>\n      <td>96.6600</td>\n      <td>96.08</td>\n      <td>87.45</td>\n      <td>167.23</td>\n      <td>172.36</td>\n      <td>169.44</td>\n    </tr>\n    <tr>\n      <th>3</th>\n      <td>0050</td>\n      <td>2020-01-07 00:00:00+00:00</td>\n      <td>410</td>\n      <td>39351.80</td>\n      <td>41</td>\n      <td>3935.18</td>\n      <td>12</td>\n      <td>1151.76</td>\n      <td>0</td>\n      <td>0.0</td>\n      <td>...</td>\n      <td>1158</td>\n      <td>66950</td>\n      <td>49379.95</td>\n      <td>287.6</td>\n      <td>95.9800</td>\n      <td>96.07</td>\n      <td>87.61</td>\n      <td>166.72</td>\n      <td>173.21</td>\n      <td>169.32</td>\n    </tr>\n    <tr>\n      <th>4</th>\n      <td>0050</td>\n      <td>2020-01-08 00:00:00+00:00</td>\n      <td>441</td>\n      <td>42133.14</td>\n      <td>51</td>\n      <td>4872.54</td>\n      <td>20</td>\n      <td>1910.80</td>\n      <td>0</td>\n      <td>0.0</td>\n      <td>...</td>\n      <td>1205</td>\n      <td>66050</td>\n      <td>53815.30</td>\n      <td>477.8</td>\n      <td>95.5400</td>\n      <td>96.01</td>\n      <td>87.84</td>\n      <td>166.05</td>\n      <td>174.49</td>\n      <td>169.33</td>\n    </tr>\n    <tr>\n      <th>...</th>\n      <td>...</td>\n      <td>...</td>\n      <td>...</td>\n      <td>...</td>\n      <td>...</td>\n      <td>...</td>\n      <td>...</td>\n      <td>...</td>\n      <td>...</td>\n      <td>...</td>\n      <td>...</td>\n      <td>...</td>\n      <td>...</td>\n      <td>...</td>\n      <td>...</td>\n      <td>...</td>\n      <td>...</td>\n      <td>...</td>\n      <td>...</td>\n      <td>...</td>\n      <td>...</td>\n    </tr>\n    <tr>\n      <th>9995</th>\n      <td>00657</td>\n      <td>2020-10-23 00:00:00+00:00</td>\n      <td>0</td>\n      <td>0.00</td>\n      <td>0</td>\n      <td>0.00</td>\n      <td>0</td>\n      <td>0.00</td>\n      <td>0</td>\n      <td>0.0</td>\n      <td>...</td>\n      <td>32</td>\n      <td>432</td>\n      <td>0.00</td>\n      <td>0.0</td>\n      <td>29.2496</td>\n      <td>NaN</td>\n      <td>NaN</td>\n      <td>NaN</td>\n      <td>NaN</td>\n      <td>NaN</td>\n    </tr>\n    <tr>\n      <th>9996</th>\n      <td>00657</td>\n      <td>2020-10-26 00:00:00+00:00</td>\n      <td>0</td>\n      <td>0.00</td>\n      <td>0</td>\n      <td>0.00</td>\n      <td>0</td>\n      <td>0.00</td>\n      <td>0</td>\n      <td>0.0</td>\n      <td>...</td>\n      <td>32</td>\n      <td>432</td>\n      <td>0.00</td>\n      <td>0.0</td>\n      <td>29.1601</td>\n      <td>NaN</td>\n      <td>NaN</td>\n      <td>NaN</td>\n      <td>NaN</td>\n      <td>NaN</td>\n    </tr>\n    <tr>\n      <th>9997</th>\n      <td>00657</td>\n      <td>2020-10-27 00:00:00+00:00</td>\n      <td>0</td>\n      <td>0.00</td>\n      <td>0</td>\n      <td>0.00</td>\n      <td>0</td>\n      <td>0.00</td>\n      <td>0</td>\n      <td>0.0</td>\n      <td>...</td>\n      <td>32</td>\n      <td>432</td>\n      <td>0.00</td>\n      <td>0.0</td>\n      <td>29.0498</td>\n      <td>NaN</td>\n      <td>NaN</td>\n      <td>NaN</td>\n      <td>NaN</td>\n      <td>NaN</td>\n    </tr>\n    <tr>\n      <th>9998</th>\n      <td>00657</td>\n      <td>2020-10-28 00:00:00+00:00</td>\n      <td>0</td>\n      <td>0.00</td>\n      <td>0</td>\n      <td>0.00</td>\n      <td>0</td>\n      <td>0.00</td>\n      <td>0</td>\n      <td>0.0</td>\n      <td>...</td>\n      <td>32</td>\n      <td>432</td>\n      <td>0.00</td>\n      <td>0.0</td>\n      <td>29.0103</td>\n      <td>NaN</td>\n      <td>NaN</td>\n      <td>NaN</td>\n      <td>NaN</td>\n      <td>NaN</td>\n    </tr>\n    <tr>\n      <th>9999</th>\n      <td>00657</td>\n      <td>2020-10-29 00:00:00+00:00</td>\n      <td>0</td>\n      <td>0.00</td>\n      <td>0</td>\n      <td>0.00</td>\n      <td>0</td>\n      <td>0.00</td>\n      <td>0</td>\n      <td>0.0</td>\n      <td>...</td>\n      <td>32</td>\n      <td>432</td>\n      <td>0.00</td>\n      <td>0.0</td>\n      <td>28.9600</td>\n      <td>NaN</td>\n      <td>NaN</td>\n      <td>NaN</td>\n      <td>NaN</td>\n      <td>NaN</td>\n    </tr>\n  </tbody>\n</table>\n<p>10000 rows × 50 columns</p>\n</div>"
     },
     "metadata": {},
     "execution_count": 224
    }
   ],
   "source": [
    "data"
   ]
  },
  {
   "cell_type": "code",
   "execution_count": 225,
   "metadata": {},
   "outputs": [],
   "source": [
    "import numpy as np\n",
    "import pandas as pd\n",
    "import copy\n",
    "import time"
   ]
  },
  {
   "cell_type": "code",
   "execution_count": 226,
   "metadata": {},
   "outputs": [],
   "source": [
    "from alpha_vantage.timeseries import TimeSeries"
   ]
  },
  {
   "cell_type": "code",
   "execution_count": 227,
   "metadata": {},
   "outputs": [],
   "source": [
    "def ATR(DF, n):\n",
    "    df = DF.copy()\n",
    "    df[\"H-L\"] = abs(df[\"High\"] - df[\"Low\"]) \n",
    "    df[\"H-PC\"] = abs(df[\"High\"] - df[\"Close\"].shift(1)) # 今天跳空上漲的情況\n",
    "    df[\"L-PC\"] = abs(df[\"Low\"] - df[\"Close\"].shift(1)) # 今天跳空下跌\n",
    "    # 取三者裡的最大者，且不忽略 NaN\n",
    "    df[\"TR\"] = df[ [\"H-L\", \"H-PC\", \"L-PC\"] ].max(axis=1, skipna=False)\n",
    "    df[\"ATR\"] = df[\"TR\"].rolling(n).mean() # rolling 的天數自訂，通常用 20\n",
    "    # 刪除暫時的 columns\n",
    "    df = df.drop( [\"H-L\", \"H-PC\", \"L-PC\"], axis=1)\n",
    "    return df[\"ATR\"]"
   ]
  },
  {
   "source": [
    "### 2.1. 選擇交易標的:"
   ],
   "cell_type": "markdown",
   "metadata": {}
  },
  {
   "source": [
    "先用一個股票拆解，之後再用迴圈取得多個股票:"
   ],
   "cell_type": "markdown",
   "metadata": {}
  },
  {
   "cell_type": "code",
   "execution_count": 228,
   "metadata": {},
   "outputs": [],
   "source": [
    "key_path = r\"C:\\\\Users\\User\\\\Quant_Trading\\\\alpha_vantage\\\\api_key.txt\"\n",
    "ts = TimeSeries(key=open(key_path, 'r').read(), output_format='pandas')"
   ]
  },
  {
   "cell_type": "code",
   "execution_count": 229,
   "metadata": {},
   "outputs": [],
   "source": [
    "data = ts.get_intraday(symbol='MSFT', interval='5min', outputsize='full')"
   ]
  },
  {
   "cell_type": "code",
   "execution_count": 230,
   "metadata": {},
   "outputs": [
    {
     "output_type": "execute_result",
     "data": {
      "text/plain": [
       "tuple"
      ]
     },
     "metadata": {},
     "execution_count": 230
    }
   ],
   "source": [
    "type(data) # return tuple object"
   ]
  },
  {
   "cell_type": "code",
   "execution_count": 231,
   "metadata": {},
   "outputs": [
    {
     "output_type": "execute_result",
     "data": {
      "text/plain": [
       "(                     1. open  2. high    3. low  4. close  5. volume\n",
       " date                                                                \n",
       " 2021-01-29 20:00:00   231.79   231.80  231.6400  231.8000     4474.0\n",
       " 2021-01-29 19:55:00   231.70   231.70  231.7000  231.7000      496.0\n",
       " 2021-01-29 19:50:00   231.77   231.77  231.7000  231.7000     2898.0\n",
       " 2021-01-29 19:45:00   231.84   231.84  231.8199  231.8199      689.0\n",
       " 2021-01-29 19:40:00   231.63   231.89  231.6300  231.8900      633.0\n",
       " ...                      ...      ...       ...       ...        ...\n",
       " 2021-01-04 04:30:00   223.36   223.39  223.3600  223.3900     1063.0\n",
       " 2021-01-04 04:25:00   223.04   223.04  223.0400  223.0400      272.0\n",
       " 2021-01-04 04:20:00   223.40   223.40  223.4000  223.4000      476.0\n",
       " 2021-01-04 04:15:00   223.39   223.40  223.3900  223.4000      752.0\n",
       " 2021-01-04 04:05:00   222.75   223.40  222.7500  223.4000     1281.0\n",
       " \n",
       " [3334 rows x 5 columns],\n",
       " {'1. Information': 'Intraday (5min) open, high, low, close prices and volume',\n",
       "  '2. Symbol': 'MSFT',\n",
       "  '3. Last Refreshed': '2021-01-29 20:00:00',\n",
       "  '4. Interval': '5min',\n",
       "  '5. Output Size': 'Full size',\n",
       "  '6. Time Zone': 'US/Eastern'})"
      ]
     },
     "metadata": {},
     "execution_count": 231
    }
   ],
   "source": [
    "data"
   ]
  },
  {
   "cell_type": "code",
   "execution_count": 232,
   "metadata": {},
   "outputs": [
    {
     "output_type": "execute_result",
     "data": {
      "text/plain": [
       "                     1. open  2. high    3. low  4. close  5. volume\n",
       "date                                                                \n",
       "2021-01-29 20:00:00   231.79   231.80  231.6400  231.8000     4474.0\n",
       "2021-01-29 19:55:00   231.70   231.70  231.7000  231.7000      496.0\n",
       "2021-01-29 19:50:00   231.77   231.77  231.7000  231.7000     2898.0\n",
       "2021-01-29 19:45:00   231.84   231.84  231.8199  231.8199      689.0\n",
       "2021-01-29 19:40:00   231.63   231.89  231.6300  231.8900      633.0\n",
       "...                      ...      ...       ...       ...        ...\n",
       "2021-01-04 04:30:00   223.36   223.39  223.3600  223.3900     1063.0\n",
       "2021-01-04 04:25:00   223.04   223.04  223.0400  223.0400      272.0\n",
       "2021-01-04 04:20:00   223.40   223.40  223.4000  223.4000      476.0\n",
       "2021-01-04 04:15:00   223.39   223.40  223.3900  223.4000      752.0\n",
       "2021-01-04 04:05:00   222.75   223.40  222.7500  223.4000     1281.0\n",
       "\n",
       "[3334 rows x 5 columns]"
      ],
      "text/html": "<div>\n<style scoped>\n    .dataframe tbody tr th:only-of-type {\n        vertical-align: middle;\n    }\n\n    .dataframe tbody tr th {\n        vertical-align: top;\n    }\n\n    .dataframe thead th {\n        text-align: right;\n    }\n</style>\n<table border=\"1\" class=\"dataframe\">\n  <thead>\n    <tr style=\"text-align: right;\">\n      <th></th>\n      <th>1. open</th>\n      <th>2. high</th>\n      <th>3. low</th>\n      <th>4. close</th>\n      <th>5. volume</th>\n    </tr>\n    <tr>\n      <th>date</th>\n      <th></th>\n      <th></th>\n      <th></th>\n      <th></th>\n      <th></th>\n    </tr>\n  </thead>\n  <tbody>\n    <tr>\n      <th>2021-01-29 20:00:00</th>\n      <td>231.79</td>\n      <td>231.80</td>\n      <td>231.6400</td>\n      <td>231.8000</td>\n      <td>4474.0</td>\n    </tr>\n    <tr>\n      <th>2021-01-29 19:55:00</th>\n      <td>231.70</td>\n      <td>231.70</td>\n      <td>231.7000</td>\n      <td>231.7000</td>\n      <td>496.0</td>\n    </tr>\n    <tr>\n      <th>2021-01-29 19:50:00</th>\n      <td>231.77</td>\n      <td>231.77</td>\n      <td>231.7000</td>\n      <td>231.7000</td>\n      <td>2898.0</td>\n    </tr>\n    <tr>\n      <th>2021-01-29 19:45:00</th>\n      <td>231.84</td>\n      <td>231.84</td>\n      <td>231.8199</td>\n      <td>231.8199</td>\n      <td>689.0</td>\n    </tr>\n    <tr>\n      <th>2021-01-29 19:40:00</th>\n      <td>231.63</td>\n      <td>231.89</td>\n      <td>231.6300</td>\n      <td>231.8900</td>\n      <td>633.0</td>\n    </tr>\n    <tr>\n      <th>...</th>\n      <td>...</td>\n      <td>...</td>\n      <td>...</td>\n      <td>...</td>\n      <td>...</td>\n    </tr>\n    <tr>\n      <th>2021-01-04 04:30:00</th>\n      <td>223.36</td>\n      <td>223.39</td>\n      <td>223.3600</td>\n      <td>223.3900</td>\n      <td>1063.0</td>\n    </tr>\n    <tr>\n      <th>2021-01-04 04:25:00</th>\n      <td>223.04</td>\n      <td>223.04</td>\n      <td>223.0400</td>\n      <td>223.0400</td>\n      <td>272.0</td>\n    </tr>\n    <tr>\n      <th>2021-01-04 04:20:00</th>\n      <td>223.40</td>\n      <td>223.40</td>\n      <td>223.4000</td>\n      <td>223.4000</td>\n      <td>476.0</td>\n    </tr>\n    <tr>\n      <th>2021-01-04 04:15:00</th>\n      <td>223.39</td>\n      <td>223.40</td>\n      <td>223.3900</td>\n      <td>223.4000</td>\n      <td>752.0</td>\n    </tr>\n    <tr>\n      <th>2021-01-04 04:05:00</th>\n      <td>222.75</td>\n      <td>223.40</td>\n      <td>222.7500</td>\n      <td>223.4000</td>\n      <td>1281.0</td>\n    </tr>\n  </tbody>\n</table>\n<p>3334 rows × 5 columns</p>\n</div>"
     },
     "metadata": {},
     "execution_count": 232
    }
   ],
   "source": [
    "data[0] # 這裡的資料由最新到最就是由上往下，應該把它倒過來"
   ]
  },
  {
   "cell_type": "code",
   "execution_count": 233,
   "metadata": {},
   "outputs": [
    {
     "output_type": "execute_result",
     "data": {
      "text/plain": [
       "pandas.core.frame.DataFrame"
      ]
     },
     "metadata": {},
     "execution_count": 233
    }
   ],
   "source": [
    "type(data[0]) # we only need this data frame"
   ]
  },
  {
   "cell_type": "code",
   "execution_count": 234,
   "metadata": {},
   "outputs": [
    {
     "output_type": "execute_result",
     "data": {
      "text/plain": [
       "                     1. open  2. high    3. low  4. close  5. volume\n",
       "date                                                                \n",
       "2021-01-04 04:05:00   222.75   223.40  222.7500  223.4000     1281.0\n",
       "2021-01-04 04:15:00   223.39   223.40  223.3900  223.4000      752.0\n",
       "2021-01-04 04:20:00   223.40   223.40  223.4000  223.4000      476.0\n",
       "2021-01-04 04:25:00   223.04   223.04  223.0400  223.0400      272.0\n",
       "2021-01-04 04:30:00   223.36   223.39  223.3600  223.3900     1063.0\n",
       "...                      ...      ...       ...       ...        ...\n",
       "2021-01-29 19:40:00   231.63   231.89  231.6300  231.8900      633.0\n",
       "2021-01-29 19:45:00   231.84   231.84  231.8199  231.8199      689.0\n",
       "2021-01-29 19:50:00   231.77   231.77  231.7000  231.7000     2898.0\n",
       "2021-01-29 19:55:00   231.70   231.70  231.7000  231.7000      496.0\n",
       "2021-01-29 20:00:00   231.79   231.80  231.6400  231.8000     4474.0\n",
       "\n",
       "[3334 rows x 5 columns]"
      ],
      "text/html": "<div>\n<style scoped>\n    .dataframe tbody tr th:only-of-type {\n        vertical-align: middle;\n    }\n\n    .dataframe tbody tr th {\n        vertical-align: top;\n    }\n\n    .dataframe thead th {\n        text-align: right;\n    }\n</style>\n<table border=\"1\" class=\"dataframe\">\n  <thead>\n    <tr style=\"text-align: right;\">\n      <th></th>\n      <th>1. open</th>\n      <th>2. high</th>\n      <th>3. low</th>\n      <th>4. close</th>\n      <th>5. volume</th>\n    </tr>\n    <tr>\n      <th>date</th>\n      <th></th>\n      <th></th>\n      <th></th>\n      <th></th>\n      <th></th>\n    </tr>\n  </thead>\n  <tbody>\n    <tr>\n      <th>2021-01-04 04:05:00</th>\n      <td>222.75</td>\n      <td>223.40</td>\n      <td>222.7500</td>\n      <td>223.4000</td>\n      <td>1281.0</td>\n    </tr>\n    <tr>\n      <th>2021-01-04 04:15:00</th>\n      <td>223.39</td>\n      <td>223.40</td>\n      <td>223.3900</td>\n      <td>223.4000</td>\n      <td>752.0</td>\n    </tr>\n    <tr>\n      <th>2021-01-04 04:20:00</th>\n      <td>223.40</td>\n      <td>223.40</td>\n      <td>223.4000</td>\n      <td>223.4000</td>\n      <td>476.0</td>\n    </tr>\n    <tr>\n      <th>2021-01-04 04:25:00</th>\n      <td>223.04</td>\n      <td>223.04</td>\n      <td>223.0400</td>\n      <td>223.0400</td>\n      <td>272.0</td>\n    </tr>\n    <tr>\n      <th>2021-01-04 04:30:00</th>\n      <td>223.36</td>\n      <td>223.39</td>\n      <td>223.3600</td>\n      <td>223.3900</td>\n      <td>1063.0</td>\n    </tr>\n    <tr>\n      <th>...</th>\n      <td>...</td>\n      <td>...</td>\n      <td>...</td>\n      <td>...</td>\n      <td>...</td>\n    </tr>\n    <tr>\n      <th>2021-01-29 19:40:00</th>\n      <td>231.63</td>\n      <td>231.89</td>\n      <td>231.6300</td>\n      <td>231.8900</td>\n      <td>633.0</td>\n    </tr>\n    <tr>\n      <th>2021-01-29 19:45:00</th>\n      <td>231.84</td>\n      <td>231.84</td>\n      <td>231.8199</td>\n      <td>231.8199</td>\n      <td>689.0</td>\n    </tr>\n    <tr>\n      <th>2021-01-29 19:50:00</th>\n      <td>231.77</td>\n      <td>231.77</td>\n      <td>231.7000</td>\n      <td>231.7000</td>\n      <td>2898.0</td>\n    </tr>\n    <tr>\n      <th>2021-01-29 19:55:00</th>\n      <td>231.70</td>\n      <td>231.70</td>\n      <td>231.7000</td>\n      <td>231.7000</td>\n      <td>496.0</td>\n    </tr>\n    <tr>\n      <th>2021-01-29 20:00:00</th>\n      <td>231.79</td>\n      <td>231.80</td>\n      <td>231.6400</td>\n      <td>231.8000</td>\n      <td>4474.0</td>\n    </tr>\n  </tbody>\n</table>\n<p>3334 rows × 5 columns</p>\n</div>"
     },
     "metadata": {},
     "execution_count": 234
    }
   ],
   "source": [
    "data[0].iloc[::-1] # change the order of the dates"
   ]
  },
  {
   "cell_type": "code",
   "execution_count": 235,
   "metadata": {},
   "outputs": [
    {
     "output_type": "execute_result",
     "data": {
      "text/plain": [
       "(                     1. open  2. high    3. low  4. close  5. volume\n",
       " date                                                                \n",
       " 2021-01-29 20:00:00   231.79   231.80  231.6400  231.8000     4474.0\n",
       " 2021-01-29 19:55:00   231.70   231.70  231.7000  231.7000      496.0\n",
       " 2021-01-29 19:50:00   231.77   231.77  231.7000  231.7000     2898.0\n",
       " 2021-01-29 19:45:00   231.84   231.84  231.8199  231.8199      689.0\n",
       " 2021-01-29 19:40:00   231.63   231.89  231.6300  231.8900      633.0\n",
       " ...                      ...      ...       ...       ...        ...\n",
       " 2021-01-04 04:30:00   223.36   223.39  223.3600  223.3900     1063.0\n",
       " 2021-01-04 04:25:00   223.04   223.04  223.0400  223.0400      272.0\n",
       " 2021-01-04 04:20:00   223.40   223.40  223.4000  223.4000      476.0\n",
       " 2021-01-04 04:15:00   223.39   223.40  223.3900  223.4000      752.0\n",
       " 2021-01-04 04:05:00   222.75   223.40  222.7500  223.4000     1281.0\n",
       " \n",
       " [3334 rows x 5 columns],\n",
       " {'1. Information': 'Intraday (5min) open, high, low, close prices and volume',\n",
       "  '2. Symbol': 'MSFT',\n",
       "  '3. Last Refreshed': '2021-01-29 20:00:00',\n",
       "  '4. Interval': '5min',\n",
       "  '5. Output Size': 'Full size',\n",
       "  '6. Time Zone': 'US/Eastern'})"
      ]
     },
     "metadata": {},
     "execution_count": 235
    }
   ],
   "source": [
    "data"
   ]
  },
  {
   "cell_type": "code",
   "execution_count": 236,
   "metadata": {},
   "outputs": [],
   "source": [
    "df = pd.DataFrame(data[0])"
   ]
  },
  {
   "cell_type": "code",
   "execution_count": 237,
   "metadata": {},
   "outputs": [
    {
     "output_type": "execute_result",
     "data": {
      "text/plain": [
       "                     1. open  2. high    3. low  4. close  5. volume\n",
       "date                                                                \n",
       "2021-01-29 20:00:00   231.79   231.80  231.6400  231.8000     4474.0\n",
       "2021-01-29 19:55:00   231.70   231.70  231.7000  231.7000      496.0\n",
       "2021-01-29 19:50:00   231.77   231.77  231.7000  231.7000     2898.0\n",
       "2021-01-29 19:45:00   231.84   231.84  231.8199  231.8199      689.0\n",
       "2021-01-29 19:40:00   231.63   231.89  231.6300  231.8900      633.0\n",
       "...                      ...      ...       ...       ...        ...\n",
       "2021-01-04 04:30:00   223.36   223.39  223.3600  223.3900     1063.0\n",
       "2021-01-04 04:25:00   223.04   223.04  223.0400  223.0400      272.0\n",
       "2021-01-04 04:20:00   223.40   223.40  223.4000  223.4000      476.0\n",
       "2021-01-04 04:15:00   223.39   223.40  223.3900  223.4000      752.0\n",
       "2021-01-04 04:05:00   222.75   223.40  222.7500  223.4000     1281.0\n",
       "\n",
       "[3334 rows x 5 columns]"
      ],
      "text/html": "<div>\n<style scoped>\n    .dataframe tbody tr th:only-of-type {\n        vertical-align: middle;\n    }\n\n    .dataframe tbody tr th {\n        vertical-align: top;\n    }\n\n    .dataframe thead th {\n        text-align: right;\n    }\n</style>\n<table border=\"1\" class=\"dataframe\">\n  <thead>\n    <tr style=\"text-align: right;\">\n      <th></th>\n      <th>1. open</th>\n      <th>2. high</th>\n      <th>3. low</th>\n      <th>4. close</th>\n      <th>5. volume</th>\n    </tr>\n    <tr>\n      <th>date</th>\n      <th></th>\n      <th></th>\n      <th></th>\n      <th></th>\n      <th></th>\n    </tr>\n  </thead>\n  <tbody>\n    <tr>\n      <th>2021-01-29 20:00:00</th>\n      <td>231.79</td>\n      <td>231.80</td>\n      <td>231.6400</td>\n      <td>231.8000</td>\n      <td>4474.0</td>\n    </tr>\n    <tr>\n      <th>2021-01-29 19:55:00</th>\n      <td>231.70</td>\n      <td>231.70</td>\n      <td>231.7000</td>\n      <td>231.7000</td>\n      <td>496.0</td>\n    </tr>\n    <tr>\n      <th>2021-01-29 19:50:00</th>\n      <td>231.77</td>\n      <td>231.77</td>\n      <td>231.7000</td>\n      <td>231.7000</td>\n      <td>2898.0</td>\n    </tr>\n    <tr>\n      <th>2021-01-29 19:45:00</th>\n      <td>231.84</td>\n      <td>231.84</td>\n      <td>231.8199</td>\n      <td>231.8199</td>\n      <td>689.0</td>\n    </tr>\n    <tr>\n      <th>2021-01-29 19:40:00</th>\n      <td>231.63</td>\n      <td>231.89</td>\n      <td>231.6300</td>\n      <td>231.8900</td>\n      <td>633.0</td>\n    </tr>\n    <tr>\n      <th>...</th>\n      <td>...</td>\n      <td>...</td>\n      <td>...</td>\n      <td>...</td>\n      <td>...</td>\n    </tr>\n    <tr>\n      <th>2021-01-04 04:30:00</th>\n      <td>223.36</td>\n      <td>223.39</td>\n      <td>223.3600</td>\n      <td>223.3900</td>\n      <td>1063.0</td>\n    </tr>\n    <tr>\n      <th>2021-01-04 04:25:00</th>\n      <td>223.04</td>\n      <td>223.04</td>\n      <td>223.0400</td>\n      <td>223.0400</td>\n      <td>272.0</td>\n    </tr>\n    <tr>\n      <th>2021-01-04 04:20:00</th>\n      <td>223.40</td>\n      <td>223.40</td>\n      <td>223.4000</td>\n      <td>223.4000</td>\n      <td>476.0</td>\n    </tr>\n    <tr>\n      <th>2021-01-04 04:15:00</th>\n      <td>223.39</td>\n      <td>223.40</td>\n      <td>223.3900</td>\n      <td>223.4000</td>\n      <td>752.0</td>\n    </tr>\n    <tr>\n      <th>2021-01-04 04:05:00</th>\n      <td>222.75</td>\n      <td>223.40</td>\n      <td>222.7500</td>\n      <td>223.4000</td>\n      <td>1281.0</td>\n    </tr>\n  </tbody>\n</table>\n<p>3334 rows × 5 columns</p>\n</div>"
     },
     "metadata": {},
     "execution_count": 237
    }
   ],
   "source": [
    "df # 發現到 MSFT 的時間部正確，應該要改成美國股市開盤的時間"
   ]
  },
  {
   "cell_type": "code",
   "execution_count": 238,
   "metadata": {},
   "outputs": [],
   "source": [
    "df.columns = ['Open', 'High', 'Low', 'Close', 'Volume']"
   ]
  },
  {
   "cell_type": "code",
   "execution_count": 239,
   "metadata": {},
   "outputs": [],
   "source": [
    "df = df.between_time('09:35', '16:00')"
   ]
  },
  {
   "cell_type": "code",
   "execution_count": 240,
   "metadata": {},
   "outputs": [
    {
     "output_type": "execute_result",
     "data": {
      "text/plain": [
       "                        Open      High       Low    Close     Volume\n",
       "date                                                                \n",
       "2021-01-29 16:00:00  233.100  233.6000  231.4600  231.840  2392250.0\n",
       "2021-01-29 15:55:00  232.760  233.5400  232.7300  233.090   991048.0\n",
       "2021-01-29 15:50:00  233.120  233.2200  232.5000  232.810   728310.0\n",
       "2021-01-29 15:45:00  233.420  233.5700  233.0100  233.130   418329.0\n",
       "2021-01-29 15:40:00  234.000  234.0200  233.3300  233.420   441226.0\n",
       "...                      ...       ...       ...      ...        ...\n",
       "2021-01-04 09:55:00  220.040  220.2101  219.5600  220.130   392078.0\n",
       "2021-01-04 09:50:00  220.015  220.4000  219.7600  220.040   406992.0\n",
       "2021-01-04 09:45:00  219.850  220.0600  219.2827  220.020   762643.0\n",
       "2021-01-04 09:40:00  220.700  220.7500  219.7200  219.857   731172.0\n",
       "2021-01-04 09:35:00  222.530  223.0000  220.5900  220.710  1403951.0\n",
       "\n",
       "[1482 rows x 5 columns]"
      ],
      "text/html": "<div>\n<style scoped>\n    .dataframe tbody tr th:only-of-type {\n        vertical-align: middle;\n    }\n\n    .dataframe tbody tr th {\n        vertical-align: top;\n    }\n\n    .dataframe thead th {\n        text-align: right;\n    }\n</style>\n<table border=\"1\" class=\"dataframe\">\n  <thead>\n    <tr style=\"text-align: right;\">\n      <th></th>\n      <th>Open</th>\n      <th>High</th>\n      <th>Low</th>\n      <th>Close</th>\n      <th>Volume</th>\n    </tr>\n    <tr>\n      <th>date</th>\n      <th></th>\n      <th></th>\n      <th></th>\n      <th></th>\n      <th></th>\n    </tr>\n  </thead>\n  <tbody>\n    <tr>\n      <th>2021-01-29 16:00:00</th>\n      <td>233.100</td>\n      <td>233.6000</td>\n      <td>231.4600</td>\n      <td>231.840</td>\n      <td>2392250.0</td>\n    </tr>\n    <tr>\n      <th>2021-01-29 15:55:00</th>\n      <td>232.760</td>\n      <td>233.5400</td>\n      <td>232.7300</td>\n      <td>233.090</td>\n      <td>991048.0</td>\n    </tr>\n    <tr>\n      <th>2021-01-29 15:50:00</th>\n      <td>233.120</td>\n      <td>233.2200</td>\n      <td>232.5000</td>\n      <td>232.810</td>\n      <td>728310.0</td>\n    </tr>\n    <tr>\n      <th>2021-01-29 15:45:00</th>\n      <td>233.420</td>\n      <td>233.5700</td>\n      <td>233.0100</td>\n      <td>233.130</td>\n      <td>418329.0</td>\n    </tr>\n    <tr>\n      <th>2021-01-29 15:40:00</th>\n      <td>234.000</td>\n      <td>234.0200</td>\n      <td>233.3300</td>\n      <td>233.420</td>\n      <td>441226.0</td>\n    </tr>\n    <tr>\n      <th>...</th>\n      <td>...</td>\n      <td>...</td>\n      <td>...</td>\n      <td>...</td>\n      <td>...</td>\n    </tr>\n    <tr>\n      <th>2021-01-04 09:55:00</th>\n      <td>220.040</td>\n      <td>220.2101</td>\n      <td>219.5600</td>\n      <td>220.130</td>\n      <td>392078.0</td>\n    </tr>\n    <tr>\n      <th>2021-01-04 09:50:00</th>\n      <td>220.015</td>\n      <td>220.4000</td>\n      <td>219.7600</td>\n      <td>220.040</td>\n      <td>406992.0</td>\n    </tr>\n    <tr>\n      <th>2021-01-04 09:45:00</th>\n      <td>219.850</td>\n      <td>220.0600</td>\n      <td>219.2827</td>\n      <td>220.020</td>\n      <td>762643.0</td>\n    </tr>\n    <tr>\n      <th>2021-01-04 09:40:00</th>\n      <td>220.700</td>\n      <td>220.7500</td>\n      <td>219.7200</td>\n      <td>219.857</td>\n      <td>731172.0</td>\n    </tr>\n    <tr>\n      <th>2021-01-04 09:35:00</th>\n      <td>222.530</td>\n      <td>223.0000</td>\n      <td>220.5900</td>\n      <td>220.710</td>\n      <td>1403951.0</td>\n    </tr>\n  </tbody>\n</table>\n<p>1482 rows × 5 columns</p>\n</div>"
     },
     "metadata": {},
     "execution_count": 240
    }
   ],
   "source": [
    "df"
   ]
  },
  {
   "source": [
    "### 2.2. 將上面的 code 用迴圈包起來:"
   ],
   "cell_type": "markdown",
   "metadata": {}
  },
  {
   "cell_type": "code",
   "execution_count": 241,
   "metadata": {},
   "outputs": [],
   "source": [
    "tickers = [\"MSFT\",\"AAPL\",\"FB\",\"AMZN\",\"INTC\", \"CSCO\",\"VZ\",\"IBM\",\"TSLA\",\"AMD\", \"DIS\", \"JNJ\", \"BA\", \"KO\", \"MCD\"]"
   ]
  },
  {
   "cell_type": "code",
   "execution_count": 242,
   "metadata": {},
   "outputs": [],
   "source": [
    "key_path = r\"C:\\\\Users\\User\\\\Quant_Trading\\\\alpha_vantage\\\\api_key.txt\"\n",
    "ts = TimeSeries(key=open(key_path, 'r').read(), output_format='pandas')"
   ]
  },
  {
   "cell_type": "code",
   "execution_count": 243,
   "metadata": {},
   "outputs": [],
   "source": [
    "ohlc_intraday = {} # use a dict to store all the tickers' ohlc\n",
    "api_call_count = 1 # track how many times we have done\n",
    "start_time = time.time()"
   ]
  },
  {
   "cell_type": "code",
   "execution_count": 244,
   "metadata": {},
   "outputs": [],
   "source": [
    "for ticker in tickers:\n",
    "    data = ts.get_intraday(symbol=ticker, interval='5min', outputsize='full')[0]\n",
    "    api_call_count += 1\n",
    "    data.columns = [\"Open\", \"High\", \"Low\", \"Close\", \"Volume\"]\n",
    "\n",
    "    data = data.iloc[::-1]\n",
    "    data = data.between_time('09:35', '16:00')\n",
    "\n",
    "    ohlc_intraday[ticker] = data # store particular stock's information\n",
    "\n",
    "    if api_call_count == 5:\n",
    "        api_call_count = 1\n",
    "        time.sleep(60 - ((time.time() - start_time) % 60.0))"
   ]
  },
  {
   "cell_type": "code",
   "execution_count": 245,
   "metadata": {},
   "outputs": [
    {
     "output_type": "execute_result",
     "data": {
      "text/plain": [
       "{'MSFT':                         Open      High       Low    Close     Volume\n",
       " date                                                                \n",
       " 2021-01-04 09:35:00  222.530  223.0000  220.5900  220.710  1403951.0\n",
       " 2021-01-04 09:40:00  220.700  220.7500  219.7200  219.857   731172.0\n",
       " 2021-01-04 09:45:00  219.850  220.0600  219.2827  220.020   762643.0\n",
       " 2021-01-04 09:50:00  220.015  220.4000  219.7600  220.040   406992.0\n",
       " 2021-01-04 09:55:00  220.040  220.2101  219.5600  220.130   392078.0\n",
       " ...                      ...       ...       ...      ...        ...\n",
       " 2021-01-29 15:40:00  234.000  234.0200  233.3300  233.420   441226.0\n",
       " 2021-01-29 15:45:00  233.420  233.5700  233.0100  233.130   418329.0\n",
       " 2021-01-29 15:50:00  233.120  233.2200  232.5000  232.810   728310.0\n",
       " 2021-01-29 15:55:00  232.760  233.5400  232.7300  233.090   991048.0\n",
       " 2021-01-29 16:00:00  233.100  233.6000  231.4600  231.840  2392250.0\n",
       " \n",
       " [1482 rows x 5 columns],\n",
       " 'AAPL':                          Open      High     Low    Close     Volume\n",
       " date                                                               \n",
       " 2021-01-04 09:35:00  133.5200  133.6116  132.39  132.810  4816672.0\n",
       " 2021-01-04 09:40:00  132.8300  132.8900  131.81  131.890  2541397.0\n",
       " 2021-01-04 09:45:00  131.9000  132.3400  131.45  132.060  2492425.0\n",
       " 2021-01-04 09:50:00  132.0694  132.3000  131.86  132.250  1858808.0\n",
       " 2021-01-04 09:55:00  132.2400  132.2400  131.52  131.590  1780307.0\n",
       " ...                       ...       ...     ...      ...        ...\n",
       " 2021-01-29 15:40:00  133.4250  133.5000  132.62  132.655  2264188.0\n",
       " 2021-01-29 15:45:00  132.6559  132.9500  132.58  132.750  1787116.0\n",
       " 2021-01-29 15:50:00  132.7400  132.8450  132.17  132.300  2231377.0\n",
       " 2021-01-29 15:55:00  132.3000  132.8785  132.20  132.540  2459214.0\n",
       " 2021-01-29 16:00:00  132.5300  132.8000  131.72  131.830  6208138.0\n",
       " \n",
       " [1482 rows x 5 columns],\n",
       " 'FB':                          Open     High       Low    Close     Volume\n",
       " date                                                                \n",
       " 2021-01-04 09:35:00  274.7800  275.000  271.6700  272.020   590796.0\n",
       " 2021-01-04 09:40:00  271.9825  272.540  271.0600  271.320   256176.0\n",
       " 2021-01-04 09:45:00  271.1800  271.770  270.7200  271.000   251118.0\n",
       " 2021-01-04 09:50:00  271.0600  271.810  270.8000  271.695   211255.0\n",
       " 2021-01-04 09:55:00  271.6757  271.808  270.5700  271.060   180498.0\n",
       " ...                       ...      ...       ...      ...        ...\n",
       " 2021-01-29 15:40:00  259.8800  259.915  258.5700  258.580   303417.0\n",
       " 2021-01-29 15:45:00  258.6500  258.880  258.2302  258.490   223155.0\n",
       " 2021-01-29 15:50:00  258.4400  258.700  257.6000  258.660   418717.0\n",
       " 2021-01-29 15:55:00  258.6550  259.835  258.4300  259.480   569659.0\n",
       " 2021-01-29 16:00:00  259.4300  260.000  257.9800  258.330  1248024.0\n",
       " \n",
       " [1482 rows x 5 columns],\n",
       " 'AMZN':                           Open       High       Low      Close    Volume\n",
       " date                                                                    \n",
       " 2021-01-04 09:35:00  3270.0000  3272.0000  3255.000  3255.0000  142742.0\n",
       " 2021-01-04 09:40:00  3255.0100  3258.6600  3245.010  3249.4800   69437.0\n",
       " 2021-01-04 09:45:00  3247.0100  3252.9800  3240.020  3243.4079   79839.0\n",
       " 2021-01-04 09:50:00  3245.4200  3253.8700  3243.725  3253.1700   62402.0\n",
       " 2021-01-04 09:55:00  3251.0994  3252.9885  3232.000  3240.3250   71956.0\n",
       " ...                        ...        ...       ...        ...       ...\n",
       " 2021-01-29 15:40:00  3223.3900  3223.6425  3207.000  3210.4000   47393.0\n",
       " 2021-01-29 15:45:00  3209.8200  3216.5000  3209.820  3215.0000   52595.0\n",
       " 2021-01-29 15:50:00  3214.1200  3215.7599  3206.110  3209.2900   61919.0\n",
       " 2021-01-29 15:55:00  3207.6000  3213.2900  3203.680  3213.2900  103313.0\n",
       " 2021-01-29 16:00:00  3213.7400  3216.9500  3203.230  3206.3100  172837.0\n",
       " \n",
       " [1482 rows x 5 columns],\n",
       " 'INTC':                         Open     High     Low    Close     Volume\n",
       " date                                                             \n",
       " 2021-01-04 09:35:00  49.8900  50.1650  49.720  50.1650  1627655.0\n",
       " 2021-01-04 09:40:00  50.1550  50.6600  50.120  50.6250  1149953.0\n",
       " 2021-01-04 09:45:00  50.6300  50.9587  50.560  50.9500  1141376.0\n",
       " 2021-01-04 09:50:00  50.9500  51.1600  50.940  50.9850  1068719.0\n",
       " 2021-01-04 09:55:00  50.9859  51.1700  50.975  51.0977   985889.0\n",
       " ...                      ...      ...     ...      ...        ...\n",
       " 2021-01-29 15:40:00  55.7099  55.7100  55.600  55.6099   302549.0\n",
       " 2021-01-29 15:45:00  55.6100  55.6900  55.590  55.6400   479775.0\n",
       " 2021-01-29 15:50:00  55.6400  55.6800  55.520  55.5550   439714.0\n",
       " 2021-01-29 15:55:00  55.5500  55.8200  55.520  55.7250   927679.0\n",
       " 2021-01-29 16:00:00  55.7300  55.9450  55.460  55.4800  1433365.0\n",
       " \n",
       " [1482 rows x 5 columns],\n",
       " 'CSCO':                         Open    High      Low    Close     Volume\n",
       " date                                                             \n",
       " 2021-01-04 09:35:00  44.3100  44.370  43.9600  43.9750  1052621.0\n",
       " 2021-01-04 09:40:00  43.9796  44.280  43.9300  44.2720   456639.0\n",
       " 2021-01-04 09:45:00  44.2800  44.290  44.1200  44.1850   400337.0\n",
       " 2021-01-04 09:50:00  44.1900  44.250  44.1231  44.1231   297948.0\n",
       " 2021-01-04 09:55:00  44.1200  44.190  44.1100  44.1432   281700.0\n",
       " ...                      ...     ...      ...      ...        ...\n",
       " 2021-01-29 15:40:00  44.8250  44.830  44.6350  44.6350   241504.0\n",
       " 2021-01-29 15:45:00  44.6400  44.660  44.6000  44.6050   232685.0\n",
       " 2021-01-29 15:50:00  44.6100  44.610  44.5200  44.5400   351103.0\n",
       " 2021-01-29 15:55:00  44.5300  44.738  44.4800  44.7184   762168.0\n",
       " 2021-01-29 16:00:00  44.7200  44.865  44.5100  44.5800  1550547.0\n",
       " \n",
       " [1482 rows x 5 columns],\n",
       " 'VZ':                         Open     High      Low    Close     Volume\n",
       " date                                                              \n",
       " 2021-01-04 09:35:00  58.3346  58.3742  58.1070  58.2357  1131040.0\n",
       " 2021-01-04 09:40:00  58.2354  58.5176  58.2109  58.4929   454108.0\n",
       " 2021-01-04 09:45:00  58.4929  58.5018  58.2950  58.3742   293850.0\n",
       " 2021-01-04 09:50:00  58.3741  58.3742  58.2653  58.2896   255978.0\n",
       " 2021-01-04 09:55:00  58.2870  58.3049  58.0872  58.1132   386740.0\n",
       " ...                      ...      ...      ...      ...        ...\n",
       " 2021-01-29 15:40:00  55.0000  55.0075  54.8050  54.8050   295346.0\n",
       " 2021-01-29 15:45:00  54.8100  54.8400  54.7850  54.8150   365401.0\n",
       " 2021-01-29 15:50:00  54.8100  54.8200  54.7600  54.8100   348558.0\n",
       " 2021-01-29 15:55:00  54.8100  55.0219  54.8100  54.8801   723488.0\n",
       " 2021-01-29 16:00:00  54.8850  54.9900  54.6000  54.7300  2136657.0\n",
       " \n",
       " [1482 rows x 5 columns],\n",
       " 'IBM':                         Open      High       Low     Close    Volume\n",
       " date                                                                \n",
       " 2021-01-04 09:35:00  125.850  125.9174  124.8500  125.3400  371147.0\n",
       " 2021-01-04 09:40:00  125.310  125.6700  125.2000  125.6700   64829.0\n",
       " 2021-01-04 09:45:00  125.680  125.7900  125.4048  125.6050   64014.0\n",
       " 2021-01-04 09:50:00  125.605  125.6050  125.0700  125.1250   75224.0\n",
       " 2021-01-04 09:55:00  125.125  125.3590  124.9250  125.2300   65823.0\n",
       " ...                      ...       ...       ...       ...       ...\n",
       " 2021-01-29 15:40:00  119.910  119.9200  119.3316  119.3316  113619.0\n",
       " 2021-01-29 15:45:00  119.360  119.3900  119.1050  119.1100  130877.0\n",
       " 2021-01-29 15:50:00  119.110  119.1300  118.9000  119.0247  285028.0\n",
       " 2021-01-29 15:55:00  119.000  119.5150  118.9300  119.4000  244082.0\n",
       " 2021-01-29 16:00:00  119.390  119.5800  119.0100  119.0400  562659.0\n",
       " \n",
       " [1482 rows x 5 columns],\n",
       " 'TSLA':                          Open      High       Low     Close     Volume\n",
       " date                                                                  \n",
       " 2021-01-04 09:35:00  719.4600  728.2500  717.1895  728.0500  2432959.0\n",
       " 2021-01-04 09:40:00  728.1311  730.8800  725.5800  726.8500  1765320.0\n",
       " 2021-01-04 09:45:00  727.2600  742.8500  726.9384  742.6000  2145894.0\n",
       " 2021-01-04 09:50:00  742.5278  743.7599  739.4100  740.7200  1638782.0\n",
       " 2021-01-04 09:55:00  740.5384  741.8000  735.2200  737.3823  1189914.0\n",
       " ...                       ...       ...       ...       ...        ...\n",
       " 2021-01-29 15:40:00  802.5600  802.9600  798.2500  799.2400   300209.0\n",
       " 2021-01-29 15:45:00  799.2600  801.5000  798.3100  800.0300   283211.0\n",
       " 2021-01-29 15:50:00  799.9025  800.3500  795.5100  796.9900   442427.0\n",
       " 2021-01-29 15:55:00  796.7000  797.4700  795.0100  795.4800   431358.0\n",
       " 2021-01-29 16:00:00  795.2800  796.5900  792.0000  793.3110   915541.0\n",
       " \n",
       " [1482 rows x 5 columns],\n",
       " 'AMD':                         Open     High      Low    Close     Volume\n",
       " date                                                              \n",
       " 2021-01-04 09:35:00  92.1100  92.4600  91.6000  92.1249  1618015.0\n",
       " 2021-01-04 09:40:00  92.1300  92.2900  91.3966  91.6100  1163891.0\n",
       " 2021-01-04 09:45:00  91.6200  93.0500  91.4700  93.0200  1366712.0\n",
       " 2021-01-04 09:50:00  93.0182  94.2411  93.0000  94.2400  2247378.0\n",
       " 2021-01-04 09:55:00  94.2210  95.1727  94.0900  94.9600  2529831.0\n",
       " ...                      ...      ...      ...      ...        ...\n",
       " 2021-01-29 15:40:00  86.3692  86.4100  86.0800  86.1000   501249.0\n",
       " 2021-01-29 15:45:00  86.1000  86.2300  86.0700  86.0900   476654.0\n",
       " 2021-01-29 15:50:00  86.0898  86.1050  85.7600  85.8400   866740.0\n",
       " 2021-01-29 15:55:00  85.8300  86.0500  85.6200  85.8200  1056681.0\n",
       " 2021-01-29 16:00:00  85.8100  85.9400  85.5600  85.6100  1701686.0\n",
       " \n",
       " [1482 rows x 5 columns],\n",
       " 'DIS':                         Open      High     Low     Close    Volume\n",
       " date                                                              \n",
       " 2021-01-04 09:35:00  182.255  182.5900  181.56  181.6101  716378.0\n",
       " 2021-01-04 09:40:00  181.670  181.7300  180.76  181.1100  172053.0\n",
       " 2021-01-04 09:45:00  181.000  181.2999  180.36  180.5000  153242.0\n",
       " 2021-01-04 09:50:00  180.420  180.5500  179.60  179.6500  193688.0\n",
       " 2021-01-04 09:55:00  179.610  179.6350  179.02  179.5900  161352.0\n",
       " ...                      ...       ...     ...       ...       ...\n",
       " 2021-01-29 15:40:00  169.210  169.3300  168.70  168.7000  112993.0\n",
       " 2021-01-29 15:45:00  168.700  168.8200  168.29  168.5100  122381.0\n",
       " 2021-01-29 15:50:00  168.480  168.5556  168.09  168.3327  143915.0\n",
       " 2021-01-29 15:55:00  168.340  169.3600  168.29  168.9600  242208.0\n",
       " 2021-01-29 16:00:00  168.970  169.2800  168.02  168.0700  637352.0\n",
       " \n",
       " [1482 rows x 5 columns],\n",
       " 'JNJ':                         Open     High     Low     Close    Volume\n",
       " date                                                             \n",
       " 2021-01-04 09:35:00  157.240  157.380  156.20  156.6439  704893.0\n",
       " 2021-01-04 09:40:00  156.610  156.960  156.31  156.6482  103826.0\n",
       " 2021-01-04 09:45:00  156.655  156.850  156.04  156.4265  111904.0\n",
       " 2021-01-04 09:50:00  156.390  156.935  156.31  156.8900   84488.0\n",
       " 2021-01-04 09:55:00  156.860  156.930  156.42  156.6300   88191.0\n",
       " ...                      ...      ...     ...       ...       ...\n",
       " 2021-01-29 15:40:00  163.745  163.910  163.28  163.3000  211458.0\n",
       " 2021-01-29 15:45:00  163.285  163.400  162.98  163.1150  207593.0\n",
       " 2021-01-29 15:50:00  163.110  163.320  163.10  163.2350  385626.0\n",
       " 2021-01-29 15:55:00  163.225  163.940  163.15  163.8300  366665.0\n",
       " 2021-01-29 16:00:00  163.830  164.050  162.84  162.9000  823420.0\n",
       " \n",
       " [1482 rows x 5 columns],\n",
       " 'BA':                          Open      High       Low     Close     Volume\n",
       " date                                                                  \n",
       " 2021-01-04 09:35:00  210.0000  210.2000  207.6300  208.3700  1415510.0\n",
       " 2021-01-04 09:40:00  208.3600  208.3700  206.8400  207.3400   747695.0\n",
       " 2021-01-04 09:45:00  207.2600  207.6399  206.6700  207.2900   487088.0\n",
       " 2021-01-04 09:50:00  207.2600  207.8800  206.8200  207.8116   418748.0\n",
       " 2021-01-04 09:55:00  207.8100  208.4400  207.3201  208.2700   437520.0\n",
       " ...                       ...       ...       ...       ...        ...\n",
       " 2021-01-29 15:40:00  194.9200  194.9800  194.1000  194.1720   117254.0\n",
       " 2021-01-29 15:45:00  194.2226  194.3900  193.9700  194.0850   151088.0\n",
       " 2021-01-29 15:50:00  194.0300  194.2900  193.7900  194.2492   203546.0\n",
       " 2021-01-29 15:55:00  194.1900  195.0800  194.1500  194.7500   224134.0\n",
       " 2021-01-29 16:00:00  194.7400  195.1900  194.0600  194.1100   349997.0\n",
       " \n",
       " [1482 rows x 5 columns],\n",
       " 'KO':                         Open     High     Low    Close     Volume\n",
       " date                                                             \n",
       " 2021-01-04 09:35:00  54.2700  54.6300  53.940  53.9700  1570764.0\n",
       " 2021-01-04 09:40:00  53.9800  53.9800  53.760  53.9000   456829.0\n",
       " 2021-01-04 09:45:00  53.9000  53.9165  53.700  53.8050   409882.0\n",
       " 2021-01-04 09:50:00  53.8100  53.8700  53.610  53.6350   371143.0\n",
       " 2021-01-04 09:55:00  53.6411  53.6500  53.450  53.5050   272986.0\n",
       " ...                      ...      ...     ...      ...        ...\n",
       " 2021-01-29 15:40:00  48.3750  48.4000  48.245  48.2500   203202.0\n",
       " 2021-01-29 15:45:00  48.2500  48.2900  48.220  48.2400   245579.0\n",
       " 2021-01-29 15:50:00  48.2400  48.2500  48.165  48.1800   479256.0\n",
       " 2021-01-29 15:55:00  48.1750  48.3950  48.170  48.3484   575742.0\n",
       " 2021-01-29 16:00:00  48.3500  48.4200  48.110  48.1400  1267928.0\n",
       " \n",
       " [1482 rows x 5 columns],\n",
       " 'MCD':                          Open      High       Low     Close    Volume\n",
       " date                                                                 \n",
       " 2021-01-04 09:35:00  214.4900  214.7200  213.0550  213.0550  156923.0\n",
       " 2021-01-04 09:40:00  213.1300  213.3900  212.7050  213.1050   49712.0\n",
       " 2021-01-04 09:45:00  213.1599  213.1599  212.4436  212.6300   43613.0\n",
       " 2021-01-04 09:50:00  212.5600  212.5600  211.8885  212.0200   43501.0\n",
       " 2021-01-04 09:55:00  211.9800  211.9900  211.2550  211.4399   65548.0\n",
       " ...                       ...       ...       ...       ...       ...\n",
       " 2021-01-29 15:40:00  208.4442  208.4442  207.6000  207.6000   66498.0\n",
       " 2021-01-29 15:45:00  207.5800  207.6000  207.3317  207.4900   90612.0\n",
       " 2021-01-29 15:50:00  207.4700  207.5910  207.2200  207.5350   99696.0\n",
       " 2021-01-29 15:55:00  207.5500  208.8000  207.5300  208.6500  148407.0\n",
       " 2021-01-29 16:00:00  208.6500  209.0000  207.6800  207.6800  329385.0\n",
       " \n",
       " [1482 rows x 5 columns]}"
      ]
     },
     "metadata": {},
     "execution_count": 245
    }
   ],
   "source": [
    "ohlc_intraday"
   ]
  },
  {
   "cell_type": "code",
   "execution_count": 246,
   "metadata": {},
   "outputs": [],
   "source": [
    "tickers = ohlc_intraday.keys() # 如果在迴圈內有某些股票無資料，則應去掉。故更新過的 ohlc_intraday 的 key 重新定義 tickers"
   ]
  },
  {
   "source": [
    " ### 3. 建構好策略所需的技術指標資料:"
   ],
   "cell_type": "markdown",
   "metadata": {}
  },
  {
   "source": [
    "第一步非常重要: 複製一份 ```ohlc_dict```。 因為 ```ohlc_dict``` 是用迴圈方式取得的，最好不要隨意更動。"
   ],
   "cell_type": "markdown",
   "metadata": {}
  },
  {
   "cell_type": "code",
   "execution_count": 247,
   "metadata": {},
   "outputs": [],
   "source": [
    "ohlc_dict = copy.deepcopy(ohlc_intraday)"
   ]
  },
  {
   "cell_type": "code",
   "execution_count": 248,
   "metadata": {},
   "outputs": [],
   "source": [
    "tickers_signal = {} # 用來放各個股票在所有時點的交易訊號 (buy, sell, hold)"
   ]
  },
  {
   "cell_type": "code",
   "execution_count": 249,
   "metadata": {},
   "outputs": [],
   "source": [
    "tickers_ret = {} "
   ]
  },
  {
   "cell_type": "code",
   "execution_count": 250,
   "metadata": {},
   "outputs": [
    {
     "output_type": "stream",
     "name": "stdout",
     "text": [
      "Calculating ATR and rolling max price for:  MSFT\nCalculating ATR and rolling max price for:  AAPL\nCalculating ATR and rolling max price for:  FB\nCalculating ATR and rolling max price for:  AMZN\nCalculating ATR and rolling max price for:  INTC\nCalculating ATR and rolling max price for:  CSCO\nCalculating ATR and rolling max price for:  VZ\nCalculating ATR and rolling max price for:  IBM\nCalculating ATR and rolling max price for:  TSLA\nCalculating ATR and rolling max price for:  AMD\nCalculating ATR and rolling max price for:  DIS\nCalculating ATR and rolling max price for:  JNJ\nCalculating ATR and rolling max price for:  BA\nCalculating ATR and rolling max price for:  KO\nCalculating ATR and rolling max price for:  MCD\n"
     ]
    }
   ],
   "source": [
    "for ticker in tickers:\n",
    "    print(\"Calculating ATR and rolling max price for: \", ticker)\n",
    "\n",
    "    # get the technical data\n",
    "    ohlc_dict[ticker][\"ATR\"] = ATR(ohlc_dict[ticker], 20)\n",
    "    ohlc_dict[ticker][\"Rolling_max_cp\"] = ohlc_dict[ticker][\"High\"].rolling(20).max()\n",
    "    ohlc_dict[ticker][\"Rolling_min_cp\"] = ohlc_dict[ticker][\"Low\"].rolling(20).min()\n",
    "    ohlc_dict[ticker][\"Rolling_max_vol\"] = ohlc_dict[ticker][\"Volume\"].rolling(20).max()\n",
    "    ohlc_dict[ticker].dropna(inplace=True)\n",
    "\n",
    "    # set the two dict to original\n",
    "    tickers_signal[ticker] = \"\"\n",
    "    tickers_ret[ticker] = [0]\n"
   ]
  },
  {
   "cell_type": "code",
   "execution_count": 251,
   "metadata": {},
   "outputs": [
    {
     "output_type": "execute_result",
     "data": {
      "text/plain": [
       "{'MSFT': '',\n",
       " 'AAPL': '',\n",
       " 'FB': '',\n",
       " 'AMZN': '',\n",
       " 'INTC': '',\n",
       " 'CSCO': '',\n",
       " 'VZ': '',\n",
       " 'IBM': '',\n",
       " 'TSLA': '',\n",
       " 'AMD': '',\n",
       " 'DIS': '',\n",
       " 'JNJ': '',\n",
       " 'BA': '',\n",
       " 'KO': '',\n",
       " 'MCD': ''}"
      ]
     },
     "metadata": {},
     "execution_count": 251
    }
   ],
   "source": [
    "tickers_signal"
   ]
  },
  {
   "cell_type": "code",
   "execution_count": 252,
   "metadata": {},
   "outputs": [
    {
     "output_type": "execute_result",
     "data": {
      "text/plain": [
       "{'MSFT': [0],\n",
       " 'AAPL': [0],\n",
       " 'FB': [0],\n",
       " 'AMZN': [0],\n",
       " 'INTC': [0],\n",
       " 'CSCO': [0],\n",
       " 'VZ': [0],\n",
       " 'IBM': [0],\n",
       " 'TSLA': [0],\n",
       " 'AMD': [0],\n",
       " 'DIS': [0],\n",
       " 'JNJ': [0],\n",
       " 'BA': [0],\n",
       " 'KO': [0],\n",
       " 'MCD': [0]}"
      ]
     },
     "metadata": {},
     "execution_count": 252
    }
   ],
   "source": [
    "tickers_ret"
   ]
  },
  {
   "cell_type": "code",
   "execution_count": 253,
   "metadata": {},
   "outputs": [
    {
     "output_type": "execute_result",
     "data": {
      "text/plain": [
       "                       Open    High       Low     Close     Volume       ATR  \\\n",
       "date                                                                           \n",
       "2021-01-04 11:15:00  217.78  218.50  217.4200  218.4257   411422.0  0.653405   \n",
       "2021-01-04 11:20:00  218.41  218.52  218.0600  218.5100   304931.0  0.624905   \n",
       "2021-01-04 11:25:00  218.49  218.51  217.7800  217.7800   292971.0  0.622540   \n",
       "2021-01-04 11:30:00  217.77  218.41  217.6300  218.0800   305631.0  0.629540   \n",
       "2021-01-04 11:35:00  218.05  218.05  217.4136  217.7300   295197.0  0.630355   \n",
       "...                     ...     ...       ...       ...        ...       ...   \n",
       "2021-01-29 15:40:00  234.00  234.02  233.3300  233.4200   441226.0  0.618850   \n",
       "2021-01-29 15:45:00  233.42  233.57  233.0100  233.1300   418329.0  0.601850   \n",
       "2021-01-29 15:50:00  233.12  233.22  232.5000  232.8100   728310.0  0.610350   \n",
       "2021-01-29 15:55:00  232.76  233.54  232.7300  233.0900   991048.0  0.635850   \n",
       "2021-01-29 16:00:00  233.10  233.60  231.4600  231.8400  2392250.0  0.726850   \n",
       "\n",
       "                     Rolling_max_cp  Rolling_min_cp  Rolling_max_vol  \n",
       "date                                                                  \n",
       "2021-01-04 11:15:00          220.95        217.4200         762643.0  \n",
       "2021-01-04 11:20:00          220.95        217.4200         762643.0  \n",
       "2021-01-04 11:25:00          220.95        217.4200         525120.0  \n",
       "2021-01-04 11:30:00          220.95        217.4200         525120.0  \n",
       "2021-01-04 11:35:00          220.95        217.4136         525120.0  \n",
       "...                             ...             ...              ...  \n",
       "2021-01-29 15:40:00          234.75        232.4508         584526.0  \n",
       "2021-01-29 15:45:00          234.75        232.4508         584526.0  \n",
       "2021-01-29 15:50:00          234.75        232.4508         728310.0  \n",
       "2021-01-29 15:55:00          234.75        232.4508         991048.0  \n",
       "2021-01-29 16:00:00          234.75        231.4600        2392250.0  \n",
       "\n",
       "[1462 rows x 9 columns]"
      ],
      "text/html": "<div>\n<style scoped>\n    .dataframe tbody tr th:only-of-type {\n        vertical-align: middle;\n    }\n\n    .dataframe tbody tr th {\n        vertical-align: top;\n    }\n\n    .dataframe thead th {\n        text-align: right;\n    }\n</style>\n<table border=\"1\" class=\"dataframe\">\n  <thead>\n    <tr style=\"text-align: right;\">\n      <th></th>\n      <th>Open</th>\n      <th>High</th>\n      <th>Low</th>\n      <th>Close</th>\n      <th>Volume</th>\n      <th>ATR</th>\n      <th>Rolling_max_cp</th>\n      <th>Rolling_min_cp</th>\n      <th>Rolling_max_vol</th>\n    </tr>\n    <tr>\n      <th>date</th>\n      <th></th>\n      <th></th>\n      <th></th>\n      <th></th>\n      <th></th>\n      <th></th>\n      <th></th>\n      <th></th>\n      <th></th>\n    </tr>\n  </thead>\n  <tbody>\n    <tr>\n      <th>2021-01-04 11:15:00</th>\n      <td>217.78</td>\n      <td>218.50</td>\n      <td>217.4200</td>\n      <td>218.4257</td>\n      <td>411422.0</td>\n      <td>0.653405</td>\n      <td>220.95</td>\n      <td>217.4200</td>\n      <td>762643.0</td>\n    </tr>\n    <tr>\n      <th>2021-01-04 11:20:00</th>\n      <td>218.41</td>\n      <td>218.52</td>\n      <td>218.0600</td>\n      <td>218.5100</td>\n      <td>304931.0</td>\n      <td>0.624905</td>\n      <td>220.95</td>\n      <td>217.4200</td>\n      <td>762643.0</td>\n    </tr>\n    <tr>\n      <th>2021-01-04 11:25:00</th>\n      <td>218.49</td>\n      <td>218.51</td>\n      <td>217.7800</td>\n      <td>217.7800</td>\n      <td>292971.0</td>\n      <td>0.622540</td>\n      <td>220.95</td>\n      <td>217.4200</td>\n      <td>525120.0</td>\n    </tr>\n    <tr>\n      <th>2021-01-04 11:30:00</th>\n      <td>217.77</td>\n      <td>218.41</td>\n      <td>217.6300</td>\n      <td>218.0800</td>\n      <td>305631.0</td>\n      <td>0.629540</td>\n      <td>220.95</td>\n      <td>217.4200</td>\n      <td>525120.0</td>\n    </tr>\n    <tr>\n      <th>2021-01-04 11:35:00</th>\n      <td>218.05</td>\n      <td>218.05</td>\n      <td>217.4136</td>\n      <td>217.7300</td>\n      <td>295197.0</td>\n      <td>0.630355</td>\n      <td>220.95</td>\n      <td>217.4136</td>\n      <td>525120.0</td>\n    </tr>\n    <tr>\n      <th>...</th>\n      <td>...</td>\n      <td>...</td>\n      <td>...</td>\n      <td>...</td>\n      <td>...</td>\n      <td>...</td>\n      <td>...</td>\n      <td>...</td>\n      <td>...</td>\n    </tr>\n    <tr>\n      <th>2021-01-29 15:40:00</th>\n      <td>234.00</td>\n      <td>234.02</td>\n      <td>233.3300</td>\n      <td>233.4200</td>\n      <td>441226.0</td>\n      <td>0.618850</td>\n      <td>234.75</td>\n      <td>232.4508</td>\n      <td>584526.0</td>\n    </tr>\n    <tr>\n      <th>2021-01-29 15:45:00</th>\n      <td>233.42</td>\n      <td>233.57</td>\n      <td>233.0100</td>\n      <td>233.1300</td>\n      <td>418329.0</td>\n      <td>0.601850</td>\n      <td>234.75</td>\n      <td>232.4508</td>\n      <td>584526.0</td>\n    </tr>\n    <tr>\n      <th>2021-01-29 15:50:00</th>\n      <td>233.12</td>\n      <td>233.22</td>\n      <td>232.5000</td>\n      <td>232.8100</td>\n      <td>728310.0</td>\n      <td>0.610350</td>\n      <td>234.75</td>\n      <td>232.4508</td>\n      <td>728310.0</td>\n    </tr>\n    <tr>\n      <th>2021-01-29 15:55:00</th>\n      <td>232.76</td>\n      <td>233.54</td>\n      <td>232.7300</td>\n      <td>233.0900</td>\n      <td>991048.0</td>\n      <td>0.635850</td>\n      <td>234.75</td>\n      <td>232.4508</td>\n      <td>991048.0</td>\n    </tr>\n    <tr>\n      <th>2021-01-29 16:00:00</th>\n      <td>233.10</td>\n      <td>233.60</td>\n      <td>231.4600</td>\n      <td>231.8400</td>\n      <td>2392250.0</td>\n      <td>0.726850</td>\n      <td>234.75</td>\n      <td>231.4600</td>\n      <td>2392250.0</td>\n    </tr>\n  </tbody>\n</table>\n<p>1462 rows × 9 columns</p>\n</div>"
     },
     "metadata": {},
     "execution_count": 253
    }
   ],
   "source": [
    "ohlc_dict['MSFT']"
   ]
  },
  {
   "source": [
    "### 4. 建構策略:"
   ],
   "cell_type": "markdown",
   "metadata": {}
  },
  {
   "source": [
    "想法: 做一個 loop，走過所有股票的所有時間，並對每個股票的 row 做判斷，其中:  \n",
    "- 如果 ```ticker_signal``` 是 ```\"\"```，則:  \n",
    "    - 如果今天價格超過 resistance (也就是今日最高價 大於 前 20 日的 rolling 最高價 & 成交量 > 1.5 倍的 20 day rolling Volume) 則將 ```ticker_signal``` 改為 ```Buy```   \n",
    "    - 如果今天價格跌超過 support (也就是今日最低價 低於 前 20 日的 rolling 最低價 & 成交量 > 1.5 倍的 20 day rolling Volume) 則將 ```ticker_signal``` 改為 ```Sell```  \n",
    "    - 如前述都不符合，則繼續保持空手  \n",
    "---\n",
    "- 如果 ```ticker_signal``` 是 ```\"Buy\"```，則:  \n",
    "    - 由於現在持有股票，故檢查是否達到停損點，如果今日的最低價 小於 昨日收盤價減昨日的 20 日 ATR，則賣出股票並計算報酬 \n",
    "    - 如果今日最低價 小於 昨日的 rolling 最低價 & 成交量 > 1.5 倍的 20 day rolling Volume，則 breakout 發生，此時應將 ```ticker_signal``` 該為 ```Sell```，並計算報酬    \n",
    "    - 如果上述都不符合，就不動作，並計算報酬\n",
    "---\n",
    "- 如果 ```ticker_signal``` 是 ```\"Sell\"```，則:  \n",
    "    - 由於現在賣空股票，故檢查是否達到停利點 (也就是股價沒有如預期地往下走)，如果今日的最高價 大於 昨日收盤價加昨日的 20 日 ATR，則買入股票並計算報酬 \n",
    "    - 如果今日最高價 大於 昨日的 rolling 最高價 & 成交量 > 1.5 倍的 20 day rolling Volume，則 breakout 發生，此時應將 ```ticker_signal``` 該為 ```Buy```，並計算報酬    \n",
    "    - 如果上述都不符合，就不動作，並計算報酬\n"
   ],
   "cell_type": "markdown",
   "metadata": {}
  },
  {
   "cell_type": "code",
   "execution_count": 254,
   "metadata": {},
   "outputs": [
    {
     "output_type": "stream",
     "name": "stdout",
     "text": [
      "Calculating returns for:  MSFT\n",
      "Calculating returns for:  AAPL\n",
      "Calculating returns for:  FB\n",
      "Calculating returns for:  AMZN\n",
      "Calculating returns for:  INTC\n",
      "Calculating returns for:  CSCO\n",
      "Calculating returns for:  VZ\n",
      "Calculating returns for:  IBM\n",
      "Calculating returns for:  TSLA\n",
      "Calculating returns for:  AMD\n",
      "Calculating returns for:  DIS\n",
      "Calculating returns for:  JNJ\n",
      "Calculating returns for:  BA\n",
      "Calculating returns for:  KO\n",
      "Calculating returns for:  MCD\n"
     ]
    }
   ],
   "source": [
    "for ticker in tickers:\n",
    "    print(\"Calculating returns for: \", ticker)\n",
    "    for i in range(1, len(ohlc_dict[ticker])):\n",
    "        if tickers_signal[ticker] == \"\": # 此時我們在前一個交易時間沒有動作\n",
    "            tickers_ret[ticker].append(0)\n",
    "            if ohlc_dict[ticker][\"High\"][i] >= ohlc_dict[ticker][\"Rolling_max_cp\"][i] and \\\n",
    "                ohlc_dict[ticker][\"Volume\"][i] > 1.5*ohlc_dict[ticker][\"Rolling_max_vol\"][i-1]: # 超過 resistance 則有買入訊號\n",
    "                tickers_signal[ticker] = \"Buy\"\n",
    "\n",
    "            elif ohlc_dict[ticker][\"Low\"][i] <= ohlc_dict[ticker][\"Rolling_min_cp\"][i] and \\\n",
    "                ohlc_dict[ticker][\"Volume\"][i] > 1.5*ohlc_dict[ticker][\"Rolling_max_vol\"][i-1]:\n",
    "                tickers_signal[ticker] = \"Sell\" # 跌過 support 則有賣出訊號\n",
    "\n",
    "        elif tickers_signal[ticker] == \"Buy\":\n",
    "            if ohlc_dict[ticker][\"Low\"][i] < ohlc_dict[ticker][\"Close\"][i-1] - ohlc_dict[ticker][\"ATR\"][i-1]: # 每一輪都會更新一次止損點\n",
    "                tickers_signal[ticker] = \"\" # 當最低價碰到昨日收盤價 - 昨日 ATR 時，將股票賣出 (即止損)\n",
    "                tickers_ret[ticker].append( ((ohlc_dict[ticker][\"Close\"][i-1] - ohlc_dict[ticker][\"ATR\"][i-1]  ) / ohlc_dict[ticker][\"Close\"][i-1] ) - 1 )\n",
    "\n",
    "            elif ohlc_dict[ticker][\"Low\"][i] <= ohlc_dict[ticker][\"Rolling_min_cp\"][i] and \\\n",
    "                  ohlc_dict[ticker][\"Volume\"][i] > 1.5*ohlc_dict[ticker][\"Rolling_max_vol\"][i-1]: \n",
    "                tickers_signal[ticker] = \"Sell\"\n",
    "                tickers_ret[ticker].append( (ohlc_dict[ticker][\"Close\"][i]  / ohlc_dict[ticker][\"Close\"][i-1]) - 1 ) # 此時賣出，故報酬為: 買入價格 / 目前市價 (已經有 reverse 的訊號，但尚為達到止損點，但因已經有訊號，就要出場了。發生此種情況的機率較低)\n",
    "\n",
    "            else: # 買賣訊號不變，則只計算報酬\n",
    "                tickers_ret[ticker].append( (ohlc_dict[ticker][\"Close\"][i]  / ohlc_dict[ticker][\"Close\"][i-1]) - 1 )\n",
    "\n",
    "        elif tickers_signal[ticker] == \"Sell\": # 假設可以放空\n",
    "            if ohlc_dict[ticker][\"High\"][i] > ohlc_dict[ticker][\"Close\"][i-1] + ohlc_dict[ticker][\"ATR\"][i-1]: # 達到停利點，則賣出 (即放空失敗))\n",
    "                tickers_signal[ticker] = \"\"\n",
    "                tickers_ret[ticker].append( (ohlc_dict[ticker][\"Close\"][i-1] / (ohlc_dict[ticker][\"Close\"][i-1] + ohlc_dict[ticker][\"ATR\"][i-1]) )- 1 )\n",
    "\n",
    "            elif ohlc_dict[ticker][\"High\"][i] >= ohlc_dict[ticker][\"Rolling_max_cp\"][i-1] and \\\n",
    "                ohlc_dict[ticker][\"Volume\"][i] > 1.5*ohlc_dict[ticker][\"Rolling_max_vol\"][i-1]:\n",
    "                tickers_signal[ticker] = \"Buy\"\n",
    "                tickers_ret[ticker].append( ( ohlc_dict[ticker][\"Close\"][i-1]  / ohlc_dict[ticker][\"Close\"][i] ) - 1)\n",
    "\n",
    "            else:\n",
    "                tickers_ret[ticker].append( (ohlc_dict[ticker][\"Close\"][i-1]  / ohlc_dict[ticker][\"Close\"][i] ) - 1)\n",
    "    ohlc_dict[ticker][\"Return\"] = np.array(tickers_ret[ticker])\n",
    "            "
   ]
  },
  {
   "cell_type": "code",
   "execution_count": 255,
   "metadata": {},
   "outputs": [
    {
     "output_type": "stream",
     "name": "stdout",
     "text": [
      "1462\n"
     ]
    }
   ],
   "source": [
    "print(len(tickers_ret['MSFT']))"
   ]
  },
  {
   "cell_type": "code",
   "execution_count": 256,
   "metadata": {},
   "outputs": [
    {
     "output_type": "execute_result",
     "data": {
      "text/plain": [
       "date\n",
       "2021-01-04 11:15:00    0.0\n",
       "2021-01-04 11:20:00    0.0\n",
       "2021-01-04 11:25:00    0.0\n",
       "2021-01-04 11:30:00    0.0\n",
       "2021-01-04 11:35:00    0.0\n",
       "                      ... \n",
       "2021-01-29 15:40:00    0.0\n",
       "2021-01-29 15:45:00    0.0\n",
       "2021-01-29 15:50:00    0.0\n",
       "2021-01-29 15:55:00    0.0\n",
       "2021-01-29 16:00:00    0.0\n",
       "Name: Return, Length: 1462, dtype: float64"
      ]
     },
     "metadata": {},
     "execution_count": 256
    }
   ],
   "source": [
    "ohlc_dict['AAPL']['Return']"
   ]
  },
  {
   "source": [
    "### 5. 檢視策略的 KPIs:"
   ],
   "cell_type": "markdown",
   "metadata": {}
  },
  {
   "cell_type": "code",
   "execution_count": 257,
   "metadata": {},
   "outputs": [],
   "source": [
    "strategy_df = pd.DataFrame()\n",
    "for ticker in tickers:\n",
    "    strategy_df[ticker] = ohlc_dict[ticker]['Return']"
   ]
  },
  {
   "cell_type": "code",
   "execution_count": 258,
   "metadata": {},
   "outputs": [
    {
     "output_type": "execute_result",
     "data": {
      "text/plain": [
       "                     MSFT  AAPL   FB  AMZN  INTC      CSCO   VZ  IBM  TSLA  \\\n",
       "date                                                                         \n",
       "2021-01-04 11:15:00   0.0   0.0  0.0   0.0   0.0  0.000000  0.0  0.0   0.0   \n",
       "2021-01-04 11:20:00   0.0   0.0  0.0   0.0   0.0  0.000000  0.0  0.0   0.0   \n",
       "2021-01-04 11:25:00   0.0   0.0  0.0   0.0   0.0  0.000000  0.0  0.0   0.0   \n",
       "2021-01-04 11:30:00   0.0   0.0  0.0   0.0   0.0  0.000000  0.0  0.0   0.0   \n",
       "2021-01-04 11:35:00   0.0   0.0  0.0   0.0   0.0  0.000000  0.0  0.0   0.0   \n",
       "...                   ...   ...  ...   ...   ...       ...  ...  ...   ...   \n",
       "2021-01-29 15:40:00   0.0   0.0  0.0   0.0   0.0  0.000000  0.0  0.0   0.0   \n",
       "2021-01-29 15:45:00   0.0   0.0  0.0   0.0   0.0  0.000000  0.0  0.0   0.0   \n",
       "2021-01-29 15:50:00   0.0   0.0  0.0   0.0   0.0  0.000000  0.0  0.0   0.0   \n",
       "2021-01-29 15:55:00   0.0   0.0  0.0   0.0   0.0  0.000000  0.0  0.0   0.0   \n",
       "2021-01-29 16:00:00   0.0   0.0  0.0   0.0   0.0 -0.002297  0.0  0.0   0.0   \n",
       "\n",
       "                     AMD  DIS  JNJ   BA   KO  MCD  \n",
       "date                                               \n",
       "2021-01-04 11:15:00  0.0  0.0  0.0  0.0  0.0  0.0  \n",
       "2021-01-04 11:20:00  0.0  0.0  0.0  0.0  0.0  0.0  \n",
       "2021-01-04 11:25:00  0.0  0.0  0.0  0.0  0.0  0.0  \n",
       "2021-01-04 11:30:00  0.0  0.0  0.0  0.0  0.0  0.0  \n",
       "2021-01-04 11:35:00  0.0  0.0  0.0  0.0  0.0  0.0  \n",
       "...                  ...  ...  ...  ...  ...  ...  \n",
       "2021-01-29 15:40:00  0.0  0.0  0.0  0.0  0.0  0.0  \n",
       "2021-01-29 15:45:00  0.0  0.0  0.0  0.0  0.0  0.0  \n",
       "2021-01-29 15:50:00  0.0  0.0  0.0  0.0  0.0  0.0  \n",
       "2021-01-29 15:55:00  0.0  0.0  0.0  0.0  0.0  0.0  \n",
       "2021-01-29 16:00:00  0.0  0.0  0.0  0.0  0.0  0.0  \n",
       "\n",
       "[1462 rows x 15 columns]"
      ],
      "text/html": "<div>\n<style scoped>\n    .dataframe tbody tr th:only-of-type {\n        vertical-align: middle;\n    }\n\n    .dataframe tbody tr th {\n        vertical-align: top;\n    }\n\n    .dataframe thead th {\n        text-align: right;\n    }\n</style>\n<table border=\"1\" class=\"dataframe\">\n  <thead>\n    <tr style=\"text-align: right;\">\n      <th></th>\n      <th>MSFT</th>\n      <th>AAPL</th>\n      <th>FB</th>\n      <th>AMZN</th>\n      <th>INTC</th>\n      <th>CSCO</th>\n      <th>VZ</th>\n      <th>IBM</th>\n      <th>TSLA</th>\n      <th>AMD</th>\n      <th>DIS</th>\n      <th>JNJ</th>\n      <th>BA</th>\n      <th>KO</th>\n      <th>MCD</th>\n    </tr>\n    <tr>\n      <th>date</th>\n      <th></th>\n      <th></th>\n      <th></th>\n      <th></th>\n      <th></th>\n      <th></th>\n      <th></th>\n      <th></th>\n      <th></th>\n      <th></th>\n      <th></th>\n      <th></th>\n      <th></th>\n      <th></th>\n      <th></th>\n    </tr>\n  </thead>\n  <tbody>\n    <tr>\n      <th>2021-01-04 11:15:00</th>\n      <td>0.0</td>\n      <td>0.0</td>\n      <td>0.0</td>\n      <td>0.0</td>\n      <td>0.0</td>\n      <td>0.000000</td>\n      <td>0.0</td>\n      <td>0.0</td>\n      <td>0.0</td>\n      <td>0.0</td>\n      <td>0.0</td>\n      <td>0.0</td>\n      <td>0.0</td>\n      <td>0.0</td>\n      <td>0.0</td>\n    </tr>\n    <tr>\n      <th>2021-01-04 11:20:00</th>\n      <td>0.0</td>\n      <td>0.0</td>\n      <td>0.0</td>\n      <td>0.0</td>\n      <td>0.0</td>\n      <td>0.000000</td>\n      <td>0.0</td>\n      <td>0.0</td>\n      <td>0.0</td>\n      <td>0.0</td>\n      <td>0.0</td>\n      <td>0.0</td>\n      <td>0.0</td>\n      <td>0.0</td>\n      <td>0.0</td>\n    </tr>\n    <tr>\n      <th>2021-01-04 11:25:00</th>\n      <td>0.0</td>\n      <td>0.0</td>\n      <td>0.0</td>\n      <td>0.0</td>\n      <td>0.0</td>\n      <td>0.000000</td>\n      <td>0.0</td>\n      <td>0.0</td>\n      <td>0.0</td>\n      <td>0.0</td>\n      <td>0.0</td>\n      <td>0.0</td>\n      <td>0.0</td>\n      <td>0.0</td>\n      <td>0.0</td>\n    </tr>\n    <tr>\n      <th>2021-01-04 11:30:00</th>\n      <td>0.0</td>\n      <td>0.0</td>\n      <td>0.0</td>\n      <td>0.0</td>\n      <td>0.0</td>\n      <td>0.000000</td>\n      <td>0.0</td>\n      <td>0.0</td>\n      <td>0.0</td>\n      <td>0.0</td>\n      <td>0.0</td>\n      <td>0.0</td>\n      <td>0.0</td>\n      <td>0.0</td>\n      <td>0.0</td>\n    </tr>\n    <tr>\n      <th>2021-01-04 11:35:00</th>\n      <td>0.0</td>\n      <td>0.0</td>\n      <td>0.0</td>\n      <td>0.0</td>\n      <td>0.0</td>\n      <td>0.000000</td>\n      <td>0.0</td>\n      <td>0.0</td>\n      <td>0.0</td>\n      <td>0.0</td>\n      <td>0.0</td>\n      <td>0.0</td>\n      <td>0.0</td>\n      <td>0.0</td>\n      <td>0.0</td>\n    </tr>\n    <tr>\n      <th>...</th>\n      <td>...</td>\n      <td>...</td>\n      <td>...</td>\n      <td>...</td>\n      <td>...</td>\n      <td>...</td>\n      <td>...</td>\n      <td>...</td>\n      <td>...</td>\n      <td>...</td>\n      <td>...</td>\n      <td>...</td>\n      <td>...</td>\n      <td>...</td>\n      <td>...</td>\n    </tr>\n    <tr>\n      <th>2021-01-29 15:40:00</th>\n      <td>0.0</td>\n      <td>0.0</td>\n      <td>0.0</td>\n      <td>0.0</td>\n      <td>0.0</td>\n      <td>0.000000</td>\n      <td>0.0</td>\n      <td>0.0</td>\n      <td>0.0</td>\n      <td>0.0</td>\n      <td>0.0</td>\n      <td>0.0</td>\n      <td>0.0</td>\n      <td>0.0</td>\n      <td>0.0</td>\n    </tr>\n    <tr>\n      <th>2021-01-29 15:45:00</th>\n      <td>0.0</td>\n      <td>0.0</td>\n      <td>0.0</td>\n      <td>0.0</td>\n      <td>0.0</td>\n      <td>0.000000</td>\n      <td>0.0</td>\n      <td>0.0</td>\n      <td>0.0</td>\n      <td>0.0</td>\n      <td>0.0</td>\n      <td>0.0</td>\n      <td>0.0</td>\n      <td>0.0</td>\n      <td>0.0</td>\n    </tr>\n    <tr>\n      <th>2021-01-29 15:50:00</th>\n      <td>0.0</td>\n      <td>0.0</td>\n      <td>0.0</td>\n      <td>0.0</td>\n      <td>0.0</td>\n      <td>0.000000</td>\n      <td>0.0</td>\n      <td>0.0</td>\n      <td>0.0</td>\n      <td>0.0</td>\n      <td>0.0</td>\n      <td>0.0</td>\n      <td>0.0</td>\n      <td>0.0</td>\n      <td>0.0</td>\n    </tr>\n    <tr>\n      <th>2021-01-29 15:55:00</th>\n      <td>0.0</td>\n      <td>0.0</td>\n      <td>0.0</td>\n      <td>0.0</td>\n      <td>0.0</td>\n      <td>0.000000</td>\n      <td>0.0</td>\n      <td>0.0</td>\n      <td>0.0</td>\n      <td>0.0</td>\n      <td>0.0</td>\n      <td>0.0</td>\n      <td>0.0</td>\n      <td>0.0</td>\n      <td>0.0</td>\n    </tr>\n    <tr>\n      <th>2021-01-29 16:00:00</th>\n      <td>0.0</td>\n      <td>0.0</td>\n      <td>0.0</td>\n      <td>0.0</td>\n      <td>0.0</td>\n      <td>-0.002297</td>\n      <td>0.0</td>\n      <td>0.0</td>\n      <td>0.0</td>\n      <td>0.0</td>\n      <td>0.0</td>\n      <td>0.0</td>\n      <td>0.0</td>\n      <td>0.0</td>\n      <td>0.0</td>\n    </tr>\n  </tbody>\n</table>\n<p>1462 rows × 15 columns</p>\n</div>"
     },
     "metadata": {},
     "execution_count": 258
    }
   ],
   "source": [
    "strategy_df"
   ]
  },
  {
   "cell_type": "code",
   "execution_count": 259,
   "metadata": {},
   "outputs": [],
   "source": [
    "strategy_df['Return'] = strategy_df.mean(axis=1)"
   ]
  },
  {
   "cell_type": "code",
   "execution_count": 260,
   "metadata": {},
   "outputs": [
    {
     "output_type": "execute_result",
     "data": {
      "text/plain": [
       "date\n",
       "2021-01-04 11:15:00    0.000000\n",
       "2021-01-04 11:20:00    0.000000\n",
       "2021-01-04 11:25:00    0.000000\n",
       "2021-01-04 11:30:00    0.000000\n",
       "2021-01-04 11:35:00    0.000000\n",
       "                         ...   \n",
       "2021-01-29 15:40:00    0.000000\n",
       "2021-01-29 15:45:00    0.000000\n",
       "2021-01-29 15:50:00    0.000000\n",
       "2021-01-29 15:55:00    0.000000\n",
       "2021-01-29 16:00:00   -0.000153\n",
       "Name: Return, Length: 1462, dtype: float64"
      ]
     },
     "metadata": {},
     "execution_count": 260
    }
   ],
   "source": [
    "strategy_df['Return'] "
   ]
  },
  {
   "source": [
    "#### 引入 KPI functions，並根據前面的 column 名稱做對應的修改:"
   ],
   "cell_type": "markdown",
   "metadata": {}
  },
  {
   "cell_type": "code",
   "execution_count": 261,
   "metadata": {},
   "outputs": [],
   "source": [
    "def CAGR(DF):\n",
    "    df = DF.copy()\n",
    "    df['Cumulative Return'] = (1 + df['Return']).cumprod() # calculate cumulative return\n",
    "    n = len(df) / 250*54 # assume there are 250 trading days in a year\n",
    "    cagr = (df['Cumulative Return'].tolist()[-1])**(1/n) - 1 # we need the latest data to calculate CAGR\n",
    "    return cagr"
   ]
  },
  {
   "source": [
    "注意: 上面 CAGR function 的 ```n``` 必須多除 ```54```，因為這個策略每五分鐘執行一次，而台股一天有四個半小時 (```270``` 分鐘)的交易時間  \n",
    "，故總次數為 ```270 / 5 = 54```"
   ],
   "cell_type": "markdown",
   "metadata": {}
  },
  {
   "cell_type": "code",
   "execution_count": 262,
   "metadata": {},
   "outputs": [],
   "source": [
    "def Volatility(DF):\n",
    "    df = DF.copy()\n",
    "    vol = df['Return'].std() * (250*54 ** 0.5) # converst daily volatility to annual volatility\n",
    "    return vol"
   ]
  },
  {
   "source": [
    "Same as ```Volatility```"
   ],
   "cell_type": "markdown",
   "metadata": {}
  },
  {
   "cell_type": "code",
   "execution_count": 263,
   "metadata": {},
   "outputs": [],
   "source": [
    "def Sharp(DF, rf): # rf stands for \"risk free rate\"\n",
    "    df = DF.copy()\n",
    "    sr = (CAGR(df) - rf) / Volatility(df)\n",
    "    return sr"
   ]
  },
  {
   "cell_type": "code",
   "execution_count": 264,
   "metadata": {},
   "outputs": [],
   "source": [
    "def Max_DD(DF):\n",
    "    df = DF.copy()\n",
    "    df['Cumulative Return'] = (1 + df['Return']).cumprod() # 這麼多天的總報酬\n",
    "    df['Cumulative Rolling Max'] = df['Cumulative Return'].cummax() # ?\n",
    "\n",
    "    df['Draw Down'] = df['Cumulative Rolling Max'] - df['Cumulative Return']\n",
    "    df['Draw Down Percentage'] = df['Draw Down'] / df['Cumulative Rolling Max']\n",
    "\n",
    "    max_dd = df['Draw Down Percentage'].max()\n",
    "    return max_dd"
   ]
  },
  {
   "cell_type": "code",
   "execution_count": 265,
   "metadata": {},
   "outputs": [
    {
     "output_type": "stream",
     "name": "stdout",
     "text": [
      "2.7175528380940506e-05\n"
     ]
    }
   ],
   "source": [
    "cagr = CAGR(strategy_df)\n",
    "print(cagr)"
   ]
  },
  {
   "cell_type": "code",
   "execution_count": 266,
   "metadata": {},
   "outputs": [
    {
     "output_type": "execute_result",
     "data": {
      "text/plain": [
       "0.5021467165987896"
      ]
     },
     "metadata": {},
     "execution_count": 266
    }
   ],
   "source": [
    "vol = Volatility(strategy_df)\n",
    "vol"
   ]
  },
  {
   "cell_type": "code",
   "execution_count": 267,
   "metadata": {},
   "outputs": [
    {
     "output_type": "execute_result",
     "data": {
      "text/plain": [
       "-0.0497321273765733"
      ]
     },
     "metadata": {},
     "execution_count": 267
    }
   ],
   "source": [
    "sr = Sharp(strategy_df, 0.025)\n",
    "sr"
   ]
  },
  {
   "cell_type": "code",
   "execution_count": 268,
   "metadata": {},
   "outputs": [
    {
     "output_type": "execute_result",
     "data": {
      "text/plain": [
       "0.007405724892117993"
      ]
     },
     "metadata": {},
     "execution_count": 268
    }
   ],
   "source": [
    "dd = Max_DD(strategy_df)\n",
    "dd"
   ]
  },
  {
   "source": [
    "計算個別股票的 KPIs:"
   ],
   "cell_type": "markdown",
   "metadata": {}
  },
  {
   "cell_type": "code",
   "execution_count": 269,
   "metadata": {},
   "outputs": [
    {
     "output_type": "stream",
     "name": "stdout",
     "text": [
      "calculating KPIs for  MSFT\ncalculating KPIs for  AAPL\ncalculating KPIs for  FB\ncalculating KPIs for  AMZN\ncalculating KPIs for  INTC\ncalculating KPIs for  CSCO\ncalculating KPIs for  VZ\ncalculating KPIs for  IBM\ncalculating KPIs for  TSLA\ncalculating KPIs for  AMD\ncalculating KPIs for  DIS\ncalculating KPIs for  JNJ\ncalculating KPIs for  BA\ncalculating KPIs for  KO\ncalculating KPIs for  MCD\n"
     ]
    },
    {
     "output_type": "execute_result",
     "data": {
      "text/plain": [
       "        Return  Sharp Ratio  Max Drawdown\n",
       "MSFT  0.000011    -0.026018      0.011295\n",
       "AAPL -0.000071    -0.034810      0.025794\n",
       "FB   -0.000116    -0.018124      0.036869\n",
       "AMZN  0.000020    -0.030594      0.008599\n",
       "INTC -0.000043    -0.022833      0.032573\n",
       "CSCO -0.000005    -0.030297      0.013016\n",
       "VZ   -0.000035    -0.050299      0.013182\n",
       "IBM  -0.000024    -0.029510      0.017361\n",
       "TSLA  0.000068    -0.011577      0.031630\n",
       "AMD  -0.000012    -0.018460      0.045399\n",
       "DIS   0.000072    -0.012784      0.024099\n",
       "JNJ   0.000194    -0.009440      0.012253\n",
       "BA    0.000165    -0.011947      0.022043\n",
       "KO    0.000105    -0.024476      0.011906\n",
       "MCD   0.000063    -0.023288      0.008729"
      ],
      "text/html": "<div>\n<style scoped>\n    .dataframe tbody tr th:only-of-type {\n        vertical-align: middle;\n    }\n\n    .dataframe tbody tr th {\n        vertical-align: top;\n    }\n\n    .dataframe thead th {\n        text-align: right;\n    }\n</style>\n<table border=\"1\" class=\"dataframe\">\n  <thead>\n    <tr style=\"text-align: right;\">\n      <th></th>\n      <th>Return</th>\n      <th>Sharp Ratio</th>\n      <th>Max Drawdown</th>\n    </tr>\n  </thead>\n  <tbody>\n    <tr>\n      <th>MSFT</th>\n      <td>0.000011</td>\n      <td>-0.026018</td>\n      <td>0.011295</td>\n    </tr>\n    <tr>\n      <th>AAPL</th>\n      <td>-0.000071</td>\n      <td>-0.034810</td>\n      <td>0.025794</td>\n    </tr>\n    <tr>\n      <th>FB</th>\n      <td>-0.000116</td>\n      <td>-0.018124</td>\n      <td>0.036869</td>\n    </tr>\n    <tr>\n      <th>AMZN</th>\n      <td>0.000020</td>\n      <td>-0.030594</td>\n      <td>0.008599</td>\n    </tr>\n    <tr>\n      <th>INTC</th>\n      <td>-0.000043</td>\n      <td>-0.022833</td>\n      <td>0.032573</td>\n    </tr>\n    <tr>\n      <th>CSCO</th>\n      <td>-0.000005</td>\n      <td>-0.030297</td>\n      <td>0.013016</td>\n    </tr>\n    <tr>\n      <th>VZ</th>\n      <td>-0.000035</td>\n      <td>-0.050299</td>\n      <td>0.013182</td>\n    </tr>\n    <tr>\n      <th>IBM</th>\n      <td>-0.000024</td>\n      <td>-0.029510</td>\n      <td>0.017361</td>\n    </tr>\n    <tr>\n      <th>TSLA</th>\n      <td>0.000068</td>\n      <td>-0.011577</td>\n      <td>0.031630</td>\n    </tr>\n    <tr>\n      <th>AMD</th>\n      <td>-0.000012</td>\n      <td>-0.018460</td>\n      <td>0.045399</td>\n    </tr>\n    <tr>\n      <th>DIS</th>\n      <td>0.000072</td>\n      <td>-0.012784</td>\n      <td>0.024099</td>\n    </tr>\n    <tr>\n      <th>JNJ</th>\n      <td>0.000194</td>\n      <td>-0.009440</td>\n      <td>0.012253</td>\n    </tr>\n    <tr>\n      <th>BA</th>\n      <td>0.000165</td>\n      <td>-0.011947</td>\n      <td>0.022043</td>\n    </tr>\n    <tr>\n      <th>KO</th>\n      <td>0.000105</td>\n      <td>-0.024476</td>\n      <td>0.011906</td>\n    </tr>\n    <tr>\n      <th>MCD</th>\n      <td>0.000063</td>\n      <td>-0.023288</td>\n      <td>0.008729</td>\n    </tr>\n  </tbody>\n</table>\n</div>"
     },
     "metadata": {},
     "execution_count": 269
    }
   ],
   "source": [
    "cagr = {}\n",
    "sharp_ratios = {}\n",
    "max_drawdown = {}\n",
    "for ticker in tickers:\n",
    "    print(\"calculating KPIs for \",ticker)      \n",
    "    cagr[ticker] =  CAGR(ohlc_dict[ticker])\n",
    "    sharp_ratios[ticker] =  Sharp(ohlc_dict[ticker],0.025)\n",
    "    max_drawdown[ticker] =  Max_DD(ohlc_dict[ticker])\n",
    "\n",
    "KPI_df = pd.DataFrame([cagr,sharp_ratios,max_drawdown],index=[\"Return\",\"Sharp Ratio\",\"Max Drawdown\"])  \n",
    "# KPI_df    \n",
    "KPI_df.T\n"
   ]
  },
  {
   "source": [
    "### 6. Visualization:"
   ],
   "cell_type": "markdown",
   "metadata": {}
  },
  {
   "cell_type": "code",
   "execution_count": 270,
   "metadata": {},
   "outputs": [
    {
     "output_type": "execute_result",
     "data": {
      "text/plain": [
       "<AxesSubplot:xlabel='date'>"
      ]
     },
     "metadata": {},
     "execution_count": 270
    },
    {
     "output_type": "display_data",
     "data": {
      "text/plain": "<Figure size 432x288 with 1 Axes>",
      "image/svg+xml": "<?xml version=\"1.0\" encoding=\"utf-8\" standalone=\"no\"?>\r\n<!DOCTYPE svg PUBLIC \"-//W3C//DTD SVG 1.1//EN\"\r\n  \"http://www.w3.org/Graphics/SVG/1.1/DTD/svg11.dtd\">\r\n<!-- Created with matplotlib (https://matplotlib.org/) -->\r\n<svg height=\"268.680151pt\" version=\"1.1\" viewBox=\"0 0 391.190625 268.680151\" width=\"391.190625pt\" xmlns=\"http://www.w3.org/2000/svg\" xmlns:xlink=\"http://www.w3.org/1999/xlink\">\r\n <metadata>\r\n  <rdf:RDF xmlns:cc=\"http://creativecommons.org/ns#\" xmlns:dc=\"http://purl.org/dc/elements/1.1/\" xmlns:rdf=\"http://www.w3.org/1999/02/22-rdf-syntax-ns#\">\r\n   <cc:Work>\r\n    <dc:type rdf:resource=\"http://purl.org/dc/dcmitype/StillImage\"/>\r\n    <dc:date>2021-01-30T23:05:35.211875</dc:date>\r\n    <dc:format>image/svg+xml</dc:format>\r\n    <dc:creator>\r\n     <cc:Agent>\r\n      <dc:title>Matplotlib v3.3.2, https://matplotlib.org/</dc:title>\r\n     </cc:Agent>\r\n    </dc:creator>\r\n   </cc:Work>\r\n  </rdf:RDF>\r\n </metadata>\r\n <defs>\r\n  <style type=\"text/css\">*{stroke-linecap:butt;stroke-linejoin:round;}</style>\r\n </defs>\r\n <g id=\"figure_1\">\r\n  <g id=\"patch_1\">\r\n   <path d=\"M 0 268.680151 \r\nL 391.190625 268.680151 \r\nL 391.190625 0 \r\nL 0 0 \r\nz\r\n\" style=\"fill:none;\"/>\r\n  </g>\r\n  <g id=\"axes_1\">\r\n   <g id=\"patch_2\">\r\n    <path d=\"M 49.190625 203.362712 \r\nL 383.990625 203.362712 \r\nL 383.990625 7.522712 \r\nL 49.190625 7.522712 \r\nz\r\n\" style=\"fill:#ffffff;\"/>\r\n   </g>\r\n   <g id=\"matplotlib.axis_1\">\r\n    <g id=\"xtick_1\">\r\n     <g id=\"line2d_1\">\r\n      <defs>\r\n       <path d=\"M 0 0 \r\nL 0 3.5 \r\n\" id=\"mf351c0fc04\" style=\"stroke:#000000;stroke-width:0.8;\"/>\r\n      </defs>\r\n      <g>\r\n       <use style=\"stroke:#000000;stroke-width:0.8;\" x=\"70.825733\" xlink:href=\"#mf351c0fc04\" y=\"203.362712\"/>\r\n      </g>\r\n     </g>\r\n     <g id=\"text_1\">\r\n      <!-- 2021-01-05 -->\r\n      <g transform=\"translate(19.456282 246.000964)rotate(-30)scale(0.1 -0.1)\">\r\n       <defs>\r\n        <path d=\"M 19.1875 8.296875 \r\nL 53.609375 8.296875 \r\nL 53.609375 0 \r\nL 7.328125 0 \r\nL 7.328125 8.296875 \r\nQ 12.9375 14.109375 22.625 23.890625 \r\nQ 32.328125 33.6875 34.8125 36.53125 \r\nQ 39.546875 41.84375 41.421875 45.53125 \r\nQ 43.3125 49.21875 43.3125 52.78125 \r\nQ 43.3125 58.59375 39.234375 62.25 \r\nQ 35.15625 65.921875 28.609375 65.921875 \r\nQ 23.96875 65.921875 18.8125 64.3125 \r\nQ 13.671875 62.703125 7.8125 59.421875 \r\nL 7.8125 69.390625 \r\nQ 13.765625 71.78125 18.9375 73 \r\nQ 24.125 74.21875 28.421875 74.21875 \r\nQ 39.75 74.21875 46.484375 68.546875 \r\nQ 53.21875 62.890625 53.21875 53.421875 \r\nQ 53.21875 48.921875 51.53125 44.890625 \r\nQ 49.859375 40.875 45.40625 35.40625 \r\nQ 44.1875 33.984375 37.640625 27.21875 \r\nQ 31.109375 20.453125 19.1875 8.296875 \r\nz\r\n\" id=\"DejaVuSans-50\"/>\r\n        <path d=\"M 31.78125 66.40625 \r\nQ 24.171875 66.40625 20.328125 58.90625 \r\nQ 16.5 51.421875 16.5 36.375 \r\nQ 16.5 21.390625 20.328125 13.890625 \r\nQ 24.171875 6.390625 31.78125 6.390625 \r\nQ 39.453125 6.390625 43.28125 13.890625 \r\nQ 47.125 21.390625 47.125 36.375 \r\nQ 47.125 51.421875 43.28125 58.90625 \r\nQ 39.453125 66.40625 31.78125 66.40625 \r\nz\r\nM 31.78125 74.21875 \r\nQ 44.046875 74.21875 50.515625 64.515625 \r\nQ 56.984375 54.828125 56.984375 36.375 \r\nQ 56.984375 17.96875 50.515625 8.265625 \r\nQ 44.046875 -1.421875 31.78125 -1.421875 \r\nQ 19.53125 -1.421875 13.0625 8.265625 \r\nQ 6.59375 17.96875 6.59375 36.375 \r\nQ 6.59375 54.828125 13.0625 64.515625 \r\nQ 19.53125 74.21875 31.78125 74.21875 \r\nz\r\n\" id=\"DejaVuSans-48\"/>\r\n        <path d=\"M 12.40625 8.296875 \r\nL 28.515625 8.296875 \r\nL 28.515625 63.921875 \r\nL 10.984375 60.40625 \r\nL 10.984375 69.390625 \r\nL 28.421875 72.90625 \r\nL 38.28125 72.90625 \r\nL 38.28125 8.296875 \r\nL 54.390625 8.296875 \r\nL 54.390625 0 \r\nL 12.40625 0 \r\nz\r\n\" id=\"DejaVuSans-49\"/>\r\n        <path d=\"M 4.890625 31.390625 \r\nL 31.203125 31.390625 \r\nL 31.203125 23.390625 \r\nL 4.890625 23.390625 \r\nz\r\n\" id=\"DejaVuSans-45\"/>\r\n        <path d=\"M 10.796875 72.90625 \r\nL 49.515625 72.90625 \r\nL 49.515625 64.59375 \r\nL 19.828125 64.59375 \r\nL 19.828125 46.734375 \r\nQ 21.96875 47.46875 24.109375 47.828125 \r\nQ 26.265625 48.1875 28.421875 48.1875 \r\nQ 40.625 48.1875 47.75 41.5 \r\nQ 54.890625 34.8125 54.890625 23.390625 \r\nQ 54.890625 11.625 47.5625 5.09375 \r\nQ 40.234375 -1.421875 26.90625 -1.421875 \r\nQ 22.3125 -1.421875 17.546875 -0.640625 \r\nQ 12.796875 0.140625 7.71875 1.703125 \r\nL 7.71875 11.625 \r\nQ 12.109375 9.234375 16.796875 8.0625 \r\nQ 21.484375 6.890625 26.703125 6.890625 \r\nQ 35.15625 6.890625 40.078125 11.328125 \r\nQ 45.015625 15.765625 45.015625 23.390625 \r\nQ 45.015625 31 40.078125 35.4375 \r\nQ 35.15625 39.890625 26.703125 39.890625 \r\nQ 22.75 39.890625 18.8125 39.015625 \r\nQ 14.890625 38.140625 10.796875 36.28125 \r\nz\r\n\" id=\"DejaVuSans-53\"/>\r\n       </defs>\r\n       <use xlink:href=\"#DejaVuSans-50\"/>\r\n       <use x=\"63.623047\" xlink:href=\"#DejaVuSans-48\"/>\r\n       <use x=\"127.246094\" xlink:href=\"#DejaVuSans-50\"/>\r\n       <use x=\"190.869141\" xlink:href=\"#DejaVuSans-49\"/>\r\n       <use x=\"254.492188\" xlink:href=\"#DejaVuSans-45\"/>\r\n       <use x=\"290.576172\" xlink:href=\"#DejaVuSans-48\"/>\r\n       <use x=\"354.199219\" xlink:href=\"#DejaVuSans-49\"/>\r\n       <use x=\"417.822266\" xlink:href=\"#DejaVuSans-45\"/>\r\n       <use x=\"453.90625\" xlink:href=\"#DejaVuSans-48\"/>\r\n       <use x=\"517.529297\" xlink:href=\"#DejaVuSans-53\"/>\r\n      </g>\r\n     </g>\r\n    </g>\r\n    <g id=\"xtick_2\">\r\n     <g id=\"line2d_2\">\r\n      <g>\r\n       <use style=\"stroke:#000000;stroke-width:0.8;\" x=\"119.141416\" xlink:href=\"#mf351c0fc04\" y=\"203.362712\"/>\r\n      </g>\r\n     </g>\r\n     <g id=\"text_2\">\r\n      <!-- 2021-01-09 -->\r\n      <g transform=\"translate(67.771965 246.000964)rotate(-30)scale(0.1 -0.1)\">\r\n       <defs>\r\n        <path d=\"M 10.984375 1.515625 \r\nL 10.984375 10.5 \r\nQ 14.703125 8.734375 18.5 7.8125 \r\nQ 22.3125 6.890625 25.984375 6.890625 \r\nQ 35.75 6.890625 40.890625 13.453125 \r\nQ 46.046875 20.015625 46.78125 33.40625 \r\nQ 43.953125 29.203125 39.59375 26.953125 \r\nQ 35.25 24.703125 29.984375 24.703125 \r\nQ 19.046875 24.703125 12.671875 31.3125 \r\nQ 6.296875 37.9375 6.296875 49.421875 \r\nQ 6.296875 60.640625 12.9375 67.421875 \r\nQ 19.578125 74.21875 30.609375 74.21875 \r\nQ 43.265625 74.21875 49.921875 64.515625 \r\nQ 56.59375 54.828125 56.59375 36.375 \r\nQ 56.59375 19.140625 48.40625 8.859375 \r\nQ 40.234375 -1.421875 26.421875 -1.421875 \r\nQ 22.703125 -1.421875 18.890625 -0.6875 \r\nQ 15.09375 0.046875 10.984375 1.515625 \r\nz\r\nM 30.609375 32.421875 \r\nQ 37.25 32.421875 41.125 36.953125 \r\nQ 45.015625 41.5 45.015625 49.421875 \r\nQ 45.015625 57.28125 41.125 61.84375 \r\nQ 37.25 66.40625 30.609375 66.40625 \r\nQ 23.96875 66.40625 20.09375 61.84375 \r\nQ 16.21875 57.28125 16.21875 49.421875 \r\nQ 16.21875 41.5 20.09375 36.953125 \r\nQ 23.96875 32.421875 30.609375 32.421875 \r\nz\r\n\" id=\"DejaVuSans-57\"/>\r\n       </defs>\r\n       <use xlink:href=\"#DejaVuSans-50\"/>\r\n       <use x=\"63.623047\" xlink:href=\"#DejaVuSans-48\"/>\r\n       <use x=\"127.246094\" xlink:href=\"#DejaVuSans-50\"/>\r\n       <use x=\"190.869141\" xlink:href=\"#DejaVuSans-49\"/>\r\n       <use x=\"254.492188\" xlink:href=\"#DejaVuSans-45\"/>\r\n       <use x=\"290.576172\" xlink:href=\"#DejaVuSans-48\"/>\r\n       <use x=\"354.199219\" xlink:href=\"#DejaVuSans-49\"/>\r\n       <use x=\"417.822266\" xlink:href=\"#DejaVuSans-45\"/>\r\n       <use x=\"453.90625\" xlink:href=\"#DejaVuSans-48\"/>\r\n       <use x=\"517.529297\" xlink:href=\"#DejaVuSans-57\"/>\r\n      </g>\r\n     </g>\r\n    </g>\r\n    <g id=\"xtick_3\">\r\n     <g id=\"line2d_3\">\r\n      <g>\r\n       <use style=\"stroke:#000000;stroke-width:0.8;\" x=\"167.457099\" xlink:href=\"#mf351c0fc04\" y=\"203.362712\"/>\r\n      </g>\r\n     </g>\r\n     <g id=\"text_3\">\r\n      <!-- 2021-01-13 -->\r\n      <g transform=\"translate(116.087647 246.000964)rotate(-30)scale(0.1 -0.1)\">\r\n       <defs>\r\n        <path d=\"M 40.578125 39.3125 \r\nQ 47.65625 37.796875 51.625 33 \r\nQ 55.609375 28.21875 55.609375 21.1875 \r\nQ 55.609375 10.40625 48.1875 4.484375 \r\nQ 40.765625 -1.421875 27.09375 -1.421875 \r\nQ 22.515625 -1.421875 17.65625 -0.515625 \r\nQ 12.796875 0.390625 7.625 2.203125 \r\nL 7.625 11.71875 \r\nQ 11.71875 9.328125 16.59375 8.109375 \r\nQ 21.484375 6.890625 26.8125 6.890625 \r\nQ 36.078125 6.890625 40.9375 10.546875 \r\nQ 45.796875 14.203125 45.796875 21.1875 \r\nQ 45.796875 27.640625 41.28125 31.265625 \r\nQ 36.765625 34.90625 28.71875 34.90625 \r\nL 20.21875 34.90625 \r\nL 20.21875 43.015625 \r\nL 29.109375 43.015625 \r\nQ 36.375 43.015625 40.234375 45.921875 \r\nQ 44.09375 48.828125 44.09375 54.296875 \r\nQ 44.09375 59.90625 40.109375 62.90625 \r\nQ 36.140625 65.921875 28.71875 65.921875 \r\nQ 24.65625 65.921875 20.015625 65.03125 \r\nQ 15.375 64.15625 9.8125 62.3125 \r\nL 9.8125 71.09375 \r\nQ 15.4375 72.65625 20.34375 73.4375 \r\nQ 25.25 74.21875 29.59375 74.21875 \r\nQ 40.828125 74.21875 47.359375 69.109375 \r\nQ 53.90625 64.015625 53.90625 55.328125 \r\nQ 53.90625 49.265625 50.4375 45.09375 \r\nQ 46.96875 40.921875 40.578125 39.3125 \r\nz\r\n\" id=\"DejaVuSans-51\"/>\r\n       </defs>\r\n       <use xlink:href=\"#DejaVuSans-50\"/>\r\n       <use x=\"63.623047\" xlink:href=\"#DejaVuSans-48\"/>\r\n       <use x=\"127.246094\" xlink:href=\"#DejaVuSans-50\"/>\r\n       <use x=\"190.869141\" xlink:href=\"#DejaVuSans-49\"/>\r\n       <use x=\"254.492188\" xlink:href=\"#DejaVuSans-45\"/>\r\n       <use x=\"290.576172\" xlink:href=\"#DejaVuSans-48\"/>\r\n       <use x=\"354.199219\" xlink:href=\"#DejaVuSans-49\"/>\r\n       <use x=\"417.822266\" xlink:href=\"#DejaVuSans-45\"/>\r\n       <use x=\"453.90625\" xlink:href=\"#DejaVuSans-49\"/>\r\n       <use x=\"517.529297\" xlink:href=\"#DejaVuSans-51\"/>\r\n      </g>\r\n     </g>\r\n    </g>\r\n    <g id=\"xtick_4\">\r\n     <g id=\"line2d_4\">\r\n      <g>\r\n       <use style=\"stroke:#000000;stroke-width:0.8;\" x=\"215.772781\" xlink:href=\"#mf351c0fc04\" y=\"203.362712\"/>\r\n      </g>\r\n     </g>\r\n     <g id=\"text_4\">\r\n      <!-- 2021-01-17 -->\r\n      <g transform=\"translate(164.40333 246.000964)rotate(-30)scale(0.1 -0.1)\">\r\n       <defs>\r\n        <path d=\"M 8.203125 72.90625 \r\nL 55.078125 72.90625 \r\nL 55.078125 68.703125 \r\nL 28.609375 0 \r\nL 18.3125 0 \r\nL 43.21875 64.59375 \r\nL 8.203125 64.59375 \r\nz\r\n\" id=\"DejaVuSans-55\"/>\r\n       </defs>\r\n       <use xlink:href=\"#DejaVuSans-50\"/>\r\n       <use x=\"63.623047\" xlink:href=\"#DejaVuSans-48\"/>\r\n       <use x=\"127.246094\" xlink:href=\"#DejaVuSans-50\"/>\r\n       <use x=\"190.869141\" xlink:href=\"#DejaVuSans-49\"/>\r\n       <use x=\"254.492188\" xlink:href=\"#DejaVuSans-45\"/>\r\n       <use x=\"290.576172\" xlink:href=\"#DejaVuSans-48\"/>\r\n       <use x=\"354.199219\" xlink:href=\"#DejaVuSans-49\"/>\r\n       <use x=\"417.822266\" xlink:href=\"#DejaVuSans-45\"/>\r\n       <use x=\"453.90625\" xlink:href=\"#DejaVuSans-49\"/>\r\n       <use x=\"517.529297\" xlink:href=\"#DejaVuSans-55\"/>\r\n      </g>\r\n     </g>\r\n    </g>\r\n    <g id=\"xtick_5\">\r\n     <g id=\"line2d_5\">\r\n      <g>\r\n       <use style=\"stroke:#000000;stroke-width:0.8;\" x=\"264.088464\" xlink:href=\"#mf351c0fc04\" y=\"203.362712\"/>\r\n      </g>\r\n     </g>\r\n     <g id=\"text_5\">\r\n      <!-- 2021-01-21 -->\r\n      <g transform=\"translate(212.719013 246.000964)rotate(-30)scale(0.1 -0.1)\">\r\n       <use xlink:href=\"#DejaVuSans-50\"/>\r\n       <use x=\"63.623047\" xlink:href=\"#DejaVuSans-48\"/>\r\n       <use x=\"127.246094\" xlink:href=\"#DejaVuSans-50\"/>\r\n       <use x=\"190.869141\" xlink:href=\"#DejaVuSans-49\"/>\r\n       <use x=\"254.492188\" xlink:href=\"#DejaVuSans-45\"/>\r\n       <use x=\"290.576172\" xlink:href=\"#DejaVuSans-48\"/>\r\n       <use x=\"354.199219\" xlink:href=\"#DejaVuSans-49\"/>\r\n       <use x=\"417.822266\" xlink:href=\"#DejaVuSans-45\"/>\r\n       <use x=\"453.90625\" xlink:href=\"#DejaVuSans-50\"/>\r\n       <use x=\"517.529297\" xlink:href=\"#DejaVuSans-49\"/>\r\n      </g>\r\n     </g>\r\n    </g>\r\n    <g id=\"xtick_6\">\r\n     <g id=\"line2d_6\">\r\n      <g>\r\n       <use style=\"stroke:#000000;stroke-width:0.8;\" x=\"312.404147\" xlink:href=\"#mf351c0fc04\" y=\"203.362712\"/>\r\n      </g>\r\n     </g>\r\n     <g id=\"text_6\">\r\n      <!-- 2021-01-25 -->\r\n      <g transform=\"translate(261.034695 246.000964)rotate(-30)scale(0.1 -0.1)\">\r\n       <use xlink:href=\"#DejaVuSans-50\"/>\r\n       <use x=\"63.623047\" xlink:href=\"#DejaVuSans-48\"/>\r\n       <use x=\"127.246094\" xlink:href=\"#DejaVuSans-50\"/>\r\n       <use x=\"190.869141\" xlink:href=\"#DejaVuSans-49\"/>\r\n       <use x=\"254.492188\" xlink:href=\"#DejaVuSans-45\"/>\r\n       <use x=\"290.576172\" xlink:href=\"#DejaVuSans-48\"/>\r\n       <use x=\"354.199219\" xlink:href=\"#DejaVuSans-49\"/>\r\n       <use x=\"417.822266\" xlink:href=\"#DejaVuSans-45\"/>\r\n       <use x=\"453.90625\" xlink:href=\"#DejaVuSans-50\"/>\r\n       <use x=\"517.529297\" xlink:href=\"#DejaVuSans-53\"/>\r\n      </g>\r\n     </g>\r\n    </g>\r\n    <g id=\"xtick_7\">\r\n     <g id=\"line2d_7\">\r\n      <g>\r\n       <use style=\"stroke:#000000;stroke-width:0.8;\" x=\"360.719829\" xlink:href=\"#mf351c0fc04\" y=\"203.362712\"/>\r\n      </g>\r\n     </g>\r\n     <g id=\"text_7\">\r\n      <!-- 2021-01-29 -->\r\n      <g transform=\"translate(309.350378 246.000964)rotate(-30)scale(0.1 -0.1)\">\r\n       <use xlink:href=\"#DejaVuSans-50\"/>\r\n       <use x=\"63.623047\" xlink:href=\"#DejaVuSans-48\"/>\r\n       <use x=\"127.246094\" xlink:href=\"#DejaVuSans-50\"/>\r\n       <use x=\"190.869141\" xlink:href=\"#DejaVuSans-49\"/>\r\n       <use x=\"254.492188\" xlink:href=\"#DejaVuSans-45\"/>\r\n       <use x=\"290.576172\" xlink:href=\"#DejaVuSans-48\"/>\r\n       <use x=\"354.199219\" xlink:href=\"#DejaVuSans-49\"/>\r\n       <use x=\"417.822266\" xlink:href=\"#DejaVuSans-45\"/>\r\n       <use x=\"453.90625\" xlink:href=\"#DejaVuSans-50\"/>\r\n       <use x=\"517.529297\" xlink:href=\"#DejaVuSans-57\"/>\r\n      </g>\r\n     </g>\r\n    </g>\r\n    <g id=\"text_8\">\r\n     <!-- date -->\r\n     <g transform=\"translate(205.315625 259.400464)scale(0.1 -0.1)\">\r\n      <defs>\r\n       <path d=\"M 45.40625 46.390625 \r\nL 45.40625 75.984375 \r\nL 54.390625 75.984375 \r\nL 54.390625 0 \r\nL 45.40625 0 \r\nL 45.40625 8.203125 \r\nQ 42.578125 3.328125 38.25 0.953125 \r\nQ 33.9375 -1.421875 27.875 -1.421875 \r\nQ 17.96875 -1.421875 11.734375 6.484375 \r\nQ 5.515625 14.40625 5.515625 27.296875 \r\nQ 5.515625 40.1875 11.734375 48.09375 \r\nQ 17.96875 56 27.875 56 \r\nQ 33.9375 56 38.25 53.625 \r\nQ 42.578125 51.265625 45.40625 46.390625 \r\nz\r\nM 14.796875 27.296875 \r\nQ 14.796875 17.390625 18.875 11.75 \r\nQ 22.953125 6.109375 30.078125 6.109375 \r\nQ 37.203125 6.109375 41.296875 11.75 \r\nQ 45.40625 17.390625 45.40625 27.296875 \r\nQ 45.40625 37.203125 41.296875 42.84375 \r\nQ 37.203125 48.484375 30.078125 48.484375 \r\nQ 22.953125 48.484375 18.875 42.84375 \r\nQ 14.796875 37.203125 14.796875 27.296875 \r\nz\r\n\" id=\"DejaVuSans-100\"/>\r\n       <path d=\"M 34.28125 27.484375 \r\nQ 23.390625 27.484375 19.1875 25 \r\nQ 14.984375 22.515625 14.984375 16.5 \r\nQ 14.984375 11.71875 18.140625 8.90625 \r\nQ 21.296875 6.109375 26.703125 6.109375 \r\nQ 34.1875 6.109375 38.703125 11.40625 \r\nQ 43.21875 16.703125 43.21875 25.484375 \r\nL 43.21875 27.484375 \r\nz\r\nM 52.203125 31.203125 \r\nL 52.203125 0 \r\nL 43.21875 0 \r\nL 43.21875 8.296875 \r\nQ 40.140625 3.328125 35.546875 0.953125 \r\nQ 30.953125 -1.421875 24.3125 -1.421875 \r\nQ 15.921875 -1.421875 10.953125 3.296875 \r\nQ 6 8.015625 6 15.921875 \r\nQ 6 25.140625 12.171875 29.828125 \r\nQ 18.359375 34.515625 30.609375 34.515625 \r\nL 43.21875 34.515625 \r\nL 43.21875 35.40625 \r\nQ 43.21875 41.609375 39.140625 45 \r\nQ 35.0625 48.390625 27.6875 48.390625 \r\nQ 23 48.390625 18.546875 47.265625 \r\nQ 14.109375 46.140625 10.015625 43.890625 \r\nL 10.015625 52.203125 \r\nQ 14.9375 54.109375 19.578125 55.046875 \r\nQ 24.21875 56 28.609375 56 \r\nQ 40.484375 56 46.34375 49.84375 \r\nQ 52.203125 43.703125 52.203125 31.203125 \r\nz\r\n\" id=\"DejaVuSans-97\"/>\r\n       <path d=\"M 18.3125 70.21875 \r\nL 18.3125 54.6875 \r\nL 36.8125 54.6875 \r\nL 36.8125 47.703125 \r\nL 18.3125 47.703125 \r\nL 18.3125 18.015625 \r\nQ 18.3125 11.328125 20.140625 9.421875 \r\nQ 21.96875 7.515625 27.59375 7.515625 \r\nL 36.8125 7.515625 \r\nL 36.8125 0 \r\nL 27.59375 0 \r\nQ 17.1875 0 13.234375 3.875 \r\nQ 9.28125 7.765625 9.28125 18.015625 \r\nL 9.28125 47.703125 \r\nL 2.6875 47.703125 \r\nL 2.6875 54.6875 \r\nL 9.28125 54.6875 \r\nL 9.28125 70.21875 \r\nz\r\n\" id=\"DejaVuSans-116\"/>\r\n       <path d=\"M 56.203125 29.59375 \r\nL 56.203125 25.203125 \r\nL 14.890625 25.203125 \r\nQ 15.484375 15.921875 20.484375 11.0625 \r\nQ 25.484375 6.203125 34.421875 6.203125 \r\nQ 39.59375 6.203125 44.453125 7.46875 \r\nQ 49.3125 8.734375 54.109375 11.28125 \r\nL 54.109375 2.78125 \r\nQ 49.265625 0.734375 44.1875 -0.34375 \r\nQ 39.109375 -1.421875 33.890625 -1.421875 \r\nQ 20.796875 -1.421875 13.15625 6.1875 \r\nQ 5.515625 13.8125 5.515625 26.8125 \r\nQ 5.515625 40.234375 12.765625 48.109375 \r\nQ 20.015625 56 32.328125 56 \r\nQ 43.359375 56 49.78125 48.890625 \r\nQ 56.203125 41.796875 56.203125 29.59375 \r\nz\r\nM 47.21875 32.234375 \r\nQ 47.125 39.59375 43.09375 43.984375 \r\nQ 39.0625 48.390625 32.421875 48.390625 \r\nQ 24.90625 48.390625 20.390625 44.140625 \r\nQ 15.875 39.890625 15.1875 32.171875 \r\nz\r\n\" id=\"DejaVuSans-101\"/>\r\n      </defs>\r\n      <use xlink:href=\"#DejaVuSans-100\"/>\r\n      <use x=\"63.476562\" xlink:href=\"#DejaVuSans-97\"/>\r\n      <use x=\"124.755859\" xlink:href=\"#DejaVuSans-116\"/>\r\n      <use x=\"163.964844\" xlink:href=\"#DejaVuSans-101\"/>\r\n     </g>\r\n    </g>\r\n   </g>\r\n   <g id=\"matplotlib.axis_2\">\r\n    <g id=\"ytick_1\">\r\n     <g id=\"line2d_8\">\r\n      <defs>\r\n       <path d=\"M 0 0 \r\nL -3.5 0 \r\n\" id=\"m0ed26dbdb4\" style=\"stroke:#000000;stroke-width:0.8;\"/>\r\n      </defs>\r\n      <g>\r\n       <use style=\"stroke:#000000;stroke-width:0.8;\" x=\"49.190625\" xlink:href=\"#m0ed26dbdb4\" y=\"195.454582\"/>\r\n      </g>\r\n     </g>\r\n     <g id=\"text_9\">\r\n      <!-- 0.9925 -->\r\n      <g transform=\"translate(7.2 199.253801)scale(0.1 -0.1)\">\r\n       <defs>\r\n        <path d=\"M 10.6875 12.40625 \r\nL 21 12.40625 \r\nL 21 0 \r\nL 10.6875 0 \r\nz\r\n\" id=\"DejaVuSans-46\"/>\r\n       </defs>\r\n       <use xlink:href=\"#DejaVuSans-48\"/>\r\n       <use x=\"63.623047\" xlink:href=\"#DejaVuSans-46\"/>\r\n       <use x=\"95.410156\" xlink:href=\"#DejaVuSans-57\"/>\r\n       <use x=\"159.033203\" xlink:href=\"#DejaVuSans-57\"/>\r\n       <use x=\"222.65625\" xlink:href=\"#DejaVuSans-50\"/>\r\n       <use x=\"286.279297\" xlink:href=\"#DejaVuSans-53\"/>\r\n      </g>\r\n     </g>\r\n    </g>\r\n    <g id=\"ytick_2\">\r\n     <g id=\"line2d_9\">\r\n      <g>\r\n       <use style=\"stroke:#000000;stroke-width:0.8;\" x=\"49.190625\" xlink:href=\"#m0ed26dbdb4\" y=\"169.103816\"/>\r\n      </g>\r\n     </g>\r\n     <g id=\"text_10\">\r\n      <!-- 0.9950 -->\r\n      <g transform=\"translate(7.2 172.903034)scale(0.1 -0.1)\">\r\n       <use xlink:href=\"#DejaVuSans-48\"/>\r\n       <use x=\"63.623047\" xlink:href=\"#DejaVuSans-46\"/>\r\n       <use x=\"95.410156\" xlink:href=\"#DejaVuSans-57\"/>\r\n       <use x=\"159.033203\" xlink:href=\"#DejaVuSans-57\"/>\r\n       <use x=\"222.65625\" xlink:href=\"#DejaVuSans-53\"/>\r\n       <use x=\"286.279297\" xlink:href=\"#DejaVuSans-48\"/>\r\n      </g>\r\n     </g>\r\n    </g>\r\n    <g id=\"ytick_3\">\r\n     <g id=\"line2d_10\">\r\n      <g>\r\n       <use style=\"stroke:#000000;stroke-width:0.8;\" x=\"49.190625\" xlink:href=\"#m0ed26dbdb4\" y=\"142.75305\"/>\r\n      </g>\r\n     </g>\r\n     <g id=\"text_11\">\r\n      <!-- 0.9975 -->\r\n      <g transform=\"translate(7.2 146.552268)scale(0.1 -0.1)\">\r\n       <use xlink:href=\"#DejaVuSans-48\"/>\r\n       <use x=\"63.623047\" xlink:href=\"#DejaVuSans-46\"/>\r\n       <use x=\"95.410156\" xlink:href=\"#DejaVuSans-57\"/>\r\n       <use x=\"159.033203\" xlink:href=\"#DejaVuSans-57\"/>\r\n       <use x=\"222.65625\" xlink:href=\"#DejaVuSans-55\"/>\r\n       <use x=\"286.279297\" xlink:href=\"#DejaVuSans-53\"/>\r\n      </g>\r\n     </g>\r\n    </g>\r\n    <g id=\"ytick_4\">\r\n     <g id=\"line2d_11\">\r\n      <g>\r\n       <use style=\"stroke:#000000;stroke-width:0.8;\" x=\"49.190625\" xlink:href=\"#m0ed26dbdb4\" y=\"116.402283\"/>\r\n      </g>\r\n     </g>\r\n     <g id=\"text_12\">\r\n      <!-- 1.0000 -->\r\n      <g transform=\"translate(7.2 120.201502)scale(0.1 -0.1)\">\r\n       <use xlink:href=\"#DejaVuSans-49\"/>\r\n       <use x=\"63.623047\" xlink:href=\"#DejaVuSans-46\"/>\r\n       <use x=\"95.410156\" xlink:href=\"#DejaVuSans-48\"/>\r\n       <use x=\"159.033203\" xlink:href=\"#DejaVuSans-48\"/>\r\n       <use x=\"222.65625\" xlink:href=\"#DejaVuSans-48\"/>\r\n       <use x=\"286.279297\" xlink:href=\"#DejaVuSans-48\"/>\r\n      </g>\r\n     </g>\r\n    </g>\r\n    <g id=\"ytick_5\">\r\n     <g id=\"line2d_12\">\r\n      <g>\r\n       <use style=\"stroke:#000000;stroke-width:0.8;\" x=\"49.190625\" xlink:href=\"#m0ed26dbdb4\" y=\"90.051517\"/>\r\n      </g>\r\n     </g>\r\n     <g id=\"text_13\">\r\n      <!-- 1.0025 -->\r\n      <g transform=\"translate(7.2 93.850736)scale(0.1 -0.1)\">\r\n       <use xlink:href=\"#DejaVuSans-49\"/>\r\n       <use x=\"63.623047\" xlink:href=\"#DejaVuSans-46\"/>\r\n       <use x=\"95.410156\" xlink:href=\"#DejaVuSans-48\"/>\r\n       <use x=\"159.033203\" xlink:href=\"#DejaVuSans-48\"/>\r\n       <use x=\"222.65625\" xlink:href=\"#DejaVuSans-50\"/>\r\n       <use x=\"286.279297\" xlink:href=\"#DejaVuSans-53\"/>\r\n      </g>\r\n     </g>\r\n    </g>\r\n    <g id=\"ytick_6\">\r\n     <g id=\"line2d_13\">\r\n      <g>\r\n       <use style=\"stroke:#000000;stroke-width:0.8;\" x=\"49.190625\" xlink:href=\"#m0ed26dbdb4\" y=\"63.700751\"/>\r\n      </g>\r\n     </g>\r\n     <g id=\"text_14\">\r\n      <!-- 1.0050 -->\r\n      <g transform=\"translate(7.2 67.49997)scale(0.1 -0.1)\">\r\n       <use xlink:href=\"#DejaVuSans-49\"/>\r\n       <use x=\"63.623047\" xlink:href=\"#DejaVuSans-46\"/>\r\n       <use x=\"95.410156\" xlink:href=\"#DejaVuSans-48\"/>\r\n       <use x=\"159.033203\" xlink:href=\"#DejaVuSans-48\"/>\r\n       <use x=\"222.65625\" xlink:href=\"#DejaVuSans-53\"/>\r\n       <use x=\"286.279297\" xlink:href=\"#DejaVuSans-48\"/>\r\n      </g>\r\n     </g>\r\n    </g>\r\n    <g id=\"ytick_7\">\r\n     <g id=\"line2d_14\">\r\n      <g>\r\n       <use style=\"stroke:#000000;stroke-width:0.8;\" x=\"49.190625\" xlink:href=\"#m0ed26dbdb4\" y=\"37.349985\"/>\r\n      </g>\r\n     </g>\r\n     <g id=\"text_15\">\r\n      <!-- 1.0075 -->\r\n      <g transform=\"translate(7.2 41.149204)scale(0.1 -0.1)\">\r\n       <use xlink:href=\"#DejaVuSans-49\"/>\r\n       <use x=\"63.623047\" xlink:href=\"#DejaVuSans-46\"/>\r\n       <use x=\"95.410156\" xlink:href=\"#DejaVuSans-48\"/>\r\n       <use x=\"159.033203\" xlink:href=\"#DejaVuSans-48\"/>\r\n       <use x=\"222.65625\" xlink:href=\"#DejaVuSans-55\"/>\r\n       <use x=\"286.279297\" xlink:href=\"#DejaVuSans-53\"/>\r\n      </g>\r\n     </g>\r\n    </g>\r\n    <g id=\"ytick_8\">\r\n     <g id=\"line2d_15\">\r\n      <g>\r\n       <use style=\"stroke:#000000;stroke-width:0.8;\" x=\"49.190625\" xlink:href=\"#m0ed26dbdb4\" y=\"10.999219\"/>\r\n      </g>\r\n     </g>\r\n     <g id=\"text_16\">\r\n      <!-- 1.0100 -->\r\n      <g transform=\"translate(7.2 14.798438)scale(0.1 -0.1)\">\r\n       <use xlink:href=\"#DejaVuSans-49\"/>\r\n       <use x=\"63.623047\" xlink:href=\"#DejaVuSans-46\"/>\r\n       <use x=\"95.410156\" xlink:href=\"#DejaVuSans-48\"/>\r\n       <use x=\"159.033203\" xlink:href=\"#DejaVuSans-49\"/>\r\n       <use x=\"222.65625\" xlink:href=\"#DejaVuSans-48\"/>\r\n       <use x=\"286.279297\" xlink:href=\"#DejaVuSans-48\"/>\r\n      </g>\r\n     </g>\r\n    </g>\r\n   </g>\r\n   <g id=\"line2d_16\">\r\n    <path clip-path=\"url(#p3fc9a7d68a)\" d=\"M 64.408807 116.402283 \r\nL 66.42196 116.402283 \r\nL 66.589723 119.102849 \r\nL 66.631664 118.983807 \r\nL 66.799427 122.017901 \r\nL 75.648914 130.391347 \r\nL 75.774736 133.374931 \r\nL 77.326541 133.374931 \r\nL 77.368482 132.171412 \r\nL 77.452364 132.705737 \r\nL 77.704008 131.547922 \r\nL 77.745948 131.681372 \r\nL 77.87177 132.436763 \r\nL 77.913711 132.436763 \r\nL 78.123415 130.157457 \r\nL 78.207296 129.547129 \r\nL 78.249237 129.666096 \r\nL 78.291177 130.105164 \r\nL 78.417 131.949458 \r\nL 78.752525 131.949458 \r\nL 78.836407 129.098701 \r\nL 78.878347 131.098771 \r\nL 87.727834 129.989497 \r\nL 87.811716 128.173458 \r\nL 88.021419 133.545694 \r\nL 89.740988 133.545694 \r\nL 89.782928 133.830545 \r\nL 89.90875 130.90201 \r\nL 89.992632 131.168366 \r\nL 90.328157 139.965253 \r\nL 90.537861 139.965253 \r\nL 90.705624 143.989966 \r\nL 90.915327 143.989966 \r\nL 90.957268 140.798468 \r\nL 99.806755 147.721869 \r\nL 99.932577 155.266327 \r\nL 100.10034 137.611953 \r\nL 100.14228 138.586362 \r\nL 100.226162 143.700898 \r\nL 100.268103 143.240234 \r\nL 100.393925 145.34667 \r\nL 100.603628 137.506215 \r\nL 100.645569 137.432045 \r\nL 100.897213 131.236118 \r\nL 101.023035 134.156103 \r\nL 102.826485 134.156103 \r\nL 102.868426 133.949256 \r\nL 102.910366 131.664169 \r\nL 102.952307 132.974515 \r\nL 102.994248 133.359829 \r\nL 103.036189 131.616643 \r\nL 111.885676 131.688975 \r\nL 112.011498 141.75148 \r\nL 113.269719 141.75148 \r\nL 113.311659 142.877904 \r\nL 113.3536 142.332433 \r\nL 113.479422 140.814709 \r\nL 113.605244 142.514632 \r\nL 113.647185 141.724091 \r\nL 113.773007 143.564864 \r\nL 113.814948 143.564864 \r\nL 113.856888 144.177459 \r\nL 113.898829 143.427975 \r\nL 113.94077 144.108711 \r\nL 114.024651 143.167255 \r\nL 114.234355 146.02072 \r\nL 114.611821 146.02072 \r\nL 114.737643 148.064896 \r\nL 114.821524 148.064896 \r\nL 114.863465 148.196189 \r\nL 115.031228 147.539805 \r\nL 115.115109 151.359935 \r\nL 148.122438 155.604013 \r\nL 148.2902 130.512799 \r\nL 148.416022 140.903124 \r\nL 149.800065 140.972416 \r\nL 149.883947 144.375382 \r\nL 149.925888 144.331763 \r\nL 150.009769 144.37538 \r\nL 150.05171 144.636978 \r\nL 150.261413 139.247789 \r\nL 150.345294 140.020498 \r\nL 150.513057 140.020498 \r\nL 150.638879 141.070456 \r\nL 150.890524 141.070456 \r\nL 151.016346 142.429329 \r\nL 151.058286 142.429329 \r\nL 151.184108 141.67341 \r\nL 151.30993 143.424917 \r\nL 151.351871 142.814603 \r\nL 160.201358 144.315366 \r\nL 160.243299 147.377569 \r\nL 160.28524 143.321558 \r\nL 160.32718 143.182901 \r\nL 160.369121 145.857167 \r\nL 160.578824 131.415814 \r\nL 160.620765 131.970653 \r\nL 160.662706 131.480718 \r\nL 160.704647 127.568525 \r\nL 160.788528 129.578142 \r\nL 160.830469 127.921973 \r\nL 160.872409 128.900498 \r\nL 160.998231 132.695531 \r\nL 161.040172 132.09078 \r\nL 161.124054 128.151846 \r\nL 161.165994 129.474243 \r\nL 161.585401 141.102103 \r\nL 161.627342 138.796548 \r\nL 161.669283 141.213239 \r\nL 161.753164 143.412597 \r\nL 161.795105 143.050593 \r\nL 161.837045 142.800069 \r\nL 161.920927 144.190834 \r\nL 161.962867 143.661546 \r\nL 162.004808 142.659309 \r\nL 162.13063 144.781526 \r\nL 162.172571 144.781526 \r\nL 162.466156 141.785233 \r\nL 162.508097 142.245052 \r\nL 162.550037 142.168369 \r\nL 162.7178 140.712025 \r\nL 162.843622 142.495514 \r\nL 162.927503 141.635861 \r\nL 162.969444 141.768101 \r\nL 163.011385 141.900315 \r\nL 163.053326 141.304856 \r\nL 163.095266 141.503297 \r\nL 163.388851 144.368777 \r\nL 163.430792 147.870228 \r\nL 172.280279 153.480945 \r\nL 172.448042 164.44846 \r\nL 174.545077 164.44846 \r\nL 174.670899 166.030308 \r\nL 174.838661 163.753132 \r\nL 174.880602 164.612131 \r\nL 174.964483 164.140582 \r\nL 175.006424 164.112858 \r\nL 175.048365 163.738598 \r\nL 175.174187 164.904405 \r\nL 175.425831 164.904405 \r\nL 175.467772 165.573192 \r\nL 175.509713 164.222033 \r\nL 184.40114 164.030896 \r\nL 184.526962 169.227747 \r\nL 184.652784 165.411091 \r\nL 184.694725 163.664325 \r\nL 184.736666 164.523084 \r\nL 184.820547 166.732724 \r\nL 184.862488 165.112685 \r\nL 184.904429 165.360037 \r\nL 184.98831 167.633874 \r\nL 185.030251 166.54906 \r\nL 185.072191 166.496991 \r\nL 185.114132 166.144994 \r\nL 185.198013 166.285716 \r\nL 185.281895 167.199742 \r\nL 185.323836 170.865657 \r\nL 185.407717 169.599726 \r\nL 185.533539 167.484208 \r\nL 185.57548 163.651361 \r\nL 185.659361 164.85169 \r\nL 185.701302 164.79784 \r\nL 185.743243 165.047147 \r\nL 185.827124 164.420809 \r\nL 185.869065 165.551008 \r\nL 185.911005 163.826198 \r\nL 185.994887 164.310262 \r\nL 186.036827 163.960488 \r\nL 186.078768 163.843618 \r\nL 186.120709 162.65308 \r\nL 186.16265 163.084059 \r\nL 186.330412 165.361433 \r\nL 186.875641 165.361433 \r\nL 187.001463 166.294476 \r\nL 187.253108 166.294476 \r\nL 187.462811 169.302387 \r\nL 187.546692 158.073887 \r\nL 187.588633 165.501805 \r\nL 196.43812 166.5739 \r\nL 196.480061 158.725061 \r\nL 196.522002 162.558106 \r\nL 196.689764 170.333042 \r\nL 198.283511 170.333042 \r\nL 198.409333 171.136712 \r\nL 198.702918 171.136712 \r\nL 198.786799 168.549177 \r\nL 198.870681 168.553165 \r\nL 198.912621 169.392694 \r\nL 198.954562 168.252194 \r\nL 198.996503 167.955622 \r\nL 199.038443 168.284131 \r\nL 199.080384 169.478015 \r\nL 199.122325 168.747482 \r\nL 199.164265 166.2444 \r\nL 199.248147 166.308265 \r\nL 199.373969 167.593354 \r\nL 199.583672 167.593354 \r\nL 199.667554 168.836165 \r\nL 244.753803 180.174534 \r\nL 244.921566 185.823917 \r\nL 244.963506 185.508594 \r\nL 245.005447 185.786708 \r\nL 245.047388 182.280737 \r\nL 245.089328 182.982741 \r\nL 245.131269 186.611787 \r\nL 245.215151 186.456513 \r\nL 245.299032 185.0255 \r\nL 245.466795 192.452127 \r\nL 245.508735 189.312536 \r\nL 245.550676 188.324574 \r\nL 245.592617 188.478692 \r\nL 245.676498 190.144857 \r\nL 245.76038 186.897301 \r\nL 245.80232 187.809368 \r\nL 245.886202 189.605405 \r\nL 245.928142 188.637981 \r\nL 246.012024 186.906269 \r\nL 246.053964 187.089101 \r\nL 246.305609 189.327569 \r\nL 246.38949 188.578811 \r\nL 246.431431 189.459706 \r\nL 246.473371 188.742468 \r\nL 246.515312 188.700813 \r\nL 246.557253 188.425988 \r\nL 246.766956 190.798528 \r\nL 246.808897 190.381342 \r\nL 246.934719 191.657962 \r\nL 246.97666 191.657962 \r\nL 247.0186 190.031276 \r\nL 247.060541 190.362268 \r\nL 247.186363 191.840264 \r\nL 247.228304 191.840264 \r\nL 247.438007 193.557639 \r\nL 247.56383 194.460893 \r\nL 247.60577 194.331738 \r\nL 247.941296 190.636665 \r\nL 247.983237 193.780655 \r\nL 256.832724 168.794436 \r\nL 256.874664 151.499822 \r\nL 256.958546 159.292368 \r\nL 257.084368 162.58062 \r\nL 258.761996 162.58029 \r\nL 258.845877 161.427294 \r\nL 258.887818 162.050509 \r\nL 258.971699 163.798843 \r\nL 259.05558 163.133356 \r\nL 259.097521 163.48492 \r\nL 259.139462 162.676537 \r\nL 259.223343 162.973011 \r\nL 259.265284 162.874093 \r\nL 259.349165 161.885368 \r\nL 259.391106 162.447067 \r\nL 259.433047 162.47804 \r\nL 259.474987 162.14853 \r\nL 259.516928 162.24734 \r\nL 259.64275 163.565682 \r\nL 259.768572 164.553619 \r\nL 260.020216 161.164764 \r\nL 260.062157 161.566763 \r\nL 268.911644 164.845776 \r\nL 268.953585 153.430246 \r\nL 269.037466 154.3165 \r\nL 269.121348 153.578718 \r\nL 269.205229 150.819617 \r\nL 269.24717 152.827603 \r\nL 269.918221 152.827603 \r\nL 270.127924 154.443104 \r\nL 271.008679 154.443088 \r\nL 271.176442 155.911378 \r\nL 271.218383 154.914769 \r\nL 271.260323 155.858344 \r\nL 271.302264 155.858344 \r\nL 271.428086 157.094433 \r\nL 272.057196 157.094433 \r\nL 272.141078 162.078596 \r\nL 280.990565 161.161584 \r\nL 281.032506 152.700045 \r\nL 281.116387 155.073832 \r\nL 281.158328 155.847104 \r\nL 281.200268 155.466237 \r\nL 281.242209 155.251926 \r\nL 281.32609 157.667328 \r\nL 281.368031 156.021084 \r\nL 281.493853 162.139381 \r\nL 282.248786 162.139381 \r\nL 282.50043 159.691076 \r\nL 282.584311 161.052962 \r\nL 282.626252 160.564648 \r\nL 282.668193 160.6283 \r\nL 282.877896 162.228469 \r\nL 283.590888 162.228469 \r\nL 283.632829 162.074446 \r\nL 283.758651 162.847658 \r\nL 284.136117 162.847658 \r\nL 284.178058 164.02486 \r\nL 284.219999 163.348852 \r\nL 317.227327 154.716032 \r\nL 317.269268 138.411363 \r\nL 317.311208 150.313938 \r\nL 317.43703 150.313938 \r\nL 317.562852 147.282941 \r\nL 317.604793 148.326495 \r\nL 317.646734 147.860623 \r\nL 318.0242 133.179585 \r\nL 318.191963 141.020564 \r\nL 319.82765 141.020564 \r\nL 319.869591 139.894611 \r\nL 319.995413 142.128393 \r\nL 320.121235 142.128393 \r\nL 320.247057 142.809442 \r\nL 320.41482 142.768664 \r\nL 320.456761 141.84714 \r\nL 329.306248 86.455117 \r\nL 329.43207 98.425068 \r\nL 329.557892 99.69623 \r\nL 331.23552 99.69623 \r\nL 331.403282 96.713579 \r\nL 331.571045 89.446266 \r\nL 331.696867 91.021056 \r\nL 331.906571 91.021056 \r\nL 332.032393 92.090719 \r\nL 332.074334 91.828829 \r\nL 332.200156 93.008387 \r\nL 332.242096 93.008387 \r\nL 332.284037 92.573284 \r\nL 332.325978 93.286909 \r\nL 332.4518 93.286909 \r\nL 332.535681 96.999443 \r\nL 341.385168 52.97234 \r\nL 341.51099 50.668794 \r\nL 341.594872 50.117504 \r\nL 341.720694 54.658372 \r\nL 342.517567 54.658372 \r\nL 342.601448 51.900036 \r\nL 342.643389 53.498281 \r\nL 342.68533 54.185314 \r\nL 342.72727 53.164526 \r\nL 342.769211 51.818533 \r\nL 342.853093 52.58003 \r\nL 342.895033 54.104926 \r\nL 342.936974 53.952129 \r\nL 343.104737 51.419457 \r\nL 343.31444 58.577957 \r\nL 343.356381 57.04566 \r\nL 343.398322 57.886721 \r\nL 343.440262 58.192902 \r\nL 343.566084 59.865477 \r\nL 343.608025 59.865477 \r\nL 343.733847 62.013741 \r\nL 343.859669 62.013741 \r\nL 343.90161 61.509901 \r\nL 343.985491 66.033703 \r\nL 344.027432 62.738989 \r\nL 344.069373 63.860433 \r\nL 344.237136 69.683631 \r\nL 344.279076 68.176256 \r\nL 344.404898 63.548543 \r\nL 344.446839 66.004914 \r\nL 344.48878 66.004914 \r\nL 344.572661 68.990425 \r\nL 344.614602 67.864544 \r\nL 353.464089 74.110134 \r\nL 353.50603 75.3112 \r\nL 353.673792 93.232175 \r\nL 356.609641 93.232175 \r\nL 356.651582 93.855021 \r\nL 356.693523 89.737265 \r\nL 365.54301 39.567967 \r\nL 365.626891 27.81991 \r\nL 365.668832 33.60977 \r\nL 365.710772 33.965013 \r\nL 365.794654 28.596323 \r\nL 365.836594 31.877052 \r\nL 366.927053 31.877052 \r\nL 367.010934 30.649519 \r\nL 367.178697 16.42453 \r\nL 367.304519 24.939146 \r\nL 368.394977 24.939146 \r\nL 368.436918 24.59907 \r\nL 368.478858 22.542537 \r\nL 368.520799 23.930847 \r\nL 368.730502 23.930847 \r\nL 368.772443 25.559322 \r\nL 368.772443 25.559322 \r\n\" style=\"fill:none;stroke:#1f77b4;stroke-linecap:square;stroke-width:1.5;\"/>\r\n   </g>\r\n   <g id=\"patch_3\">\r\n    <path d=\"M 49.190625 203.362712 \r\nL 49.190625 7.522712 \r\n\" style=\"fill:none;stroke:#000000;stroke-linecap:square;stroke-linejoin:miter;stroke-width:0.8;\"/>\r\n   </g>\r\n   <g id=\"patch_4\">\r\n    <path d=\"M 383.990625 203.362712 \r\nL 383.990625 7.522712 \r\n\" style=\"fill:none;stroke:#000000;stroke-linecap:square;stroke-linejoin:miter;stroke-width:0.8;\"/>\r\n   </g>\r\n   <g id=\"patch_5\">\r\n    <path d=\"M 49.190625 203.362712 \r\nL 383.990625 203.362712 \r\n\" style=\"fill:none;stroke:#000000;stroke-linecap:square;stroke-linejoin:miter;stroke-width:0.8;\"/>\r\n   </g>\r\n   <g id=\"patch_6\">\r\n    <path d=\"M 49.190625 7.522712 \r\nL 383.990625 7.522712 \r\n\" style=\"fill:none;stroke:#000000;stroke-linecap:square;stroke-linejoin:miter;stroke-width:0.8;\"/>\r\n   </g>\r\n  </g>\r\n </g>\r\n <defs>\r\n  <clipPath id=\"p3fc9a7d68a\">\r\n   <rect height=\"195.84\" width=\"334.8\" x=\"49.190625\" y=\"7.522712\"/>\r\n  </clipPath>\r\n </defs>\r\n</svg>\r\n",
      "image/png": "[encoded data removed]"
     },
     "metadata": {
      "needs_background": "light"
     }
    }
   ],
   "source": [
    "(1 + strategy_df['Return']).cumprod().plot()"
   ]
  },
  {
   "source": [
    "這個策略的假設:  \n",
    "- 一定可以買或賣在當天的 close price  \n",
    "- Time frame 是 intraday，但此策略可以持有到隔天。 (即不考慮 overnight risk)  \n",
    "- 沒有考慮到其他手續費   \n"
   ],
   "cell_type": "markdown",
   "metadata": {}
  },
  {
   "cell_type": "code",
   "execution_count": null,
   "metadata": {},
   "outputs": [],
   "source": []
  }
 ]
}