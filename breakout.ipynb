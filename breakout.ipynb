{
 "metadata": {
  "language_info": {
   "codemirror_mode": {
    "name": "ipython",
    "version": 3
   },
   "file_extension": ".py",
   "mimetype": "text/x-python",
   "name": "python",
   "nbconvert_exporter": "python",
   "pygments_lexer": "ipython3",
   "version": "3.8.5-final"
  },
  "orig_nbformat": 2,
  "kernelspec": {
   "name": "python3",
   "display_name": "Python 3.8.5 64-bit ('quantTrading': conda)",
   "metadata": {
    "interpreter": {
     "hash": "f12840f8c3ee55eac1a5e8d37cc606a61527ff262478fc717919659d7e61c84d"
    }
   }
  }
 },
 "nbformat": 4,
 "nbformat_minor": 2,
 "cells": [
  {
   "source": [
    "## Support-Resistance Breakout Strategy"
   ],
   "cell_type": "markdown",
   "metadata": {}
  },
  {
   "source": [
    "原則:  \n",
    "- 選擇股價波動大且成交量大的標的  \n",
    "- 定義 ```breakout rule```  \n",
    "- 定義 ```exit/stop loss signal```  \n",
    "- 用 cumulative return 計算每個標的的 returnm"
   ],
   "cell_type": "markdown",
   "metadata": {}
  },
  {
   "source": [
    "策略:  \n",
    "- ```breakout rule```: 20 period rolling max/min + 20 days rolling volume  \n",
    "- ```exit/stop loss```: previous price +- 20 period ATR"
   ],
   "cell_type": "markdown",
   "metadata": {}
  },
  {
   "source": [
    "### 1. 引入套件及 KPI functions:"
   ],
   "cell_type": "markdown",
   "metadata": {}
  },
  {
   "cell_type": "code",
   "execution_count": 44,
   "metadata": {},
   "outputs": [],
   "source": [
    "import tejapi"
   ]
  },
  {
   "cell_type": "code",
   "execution_count": 61,
   "metadata": {},
   "outputs": [],
   "source": [
    "tejapi.ApiConfig.api_key = \"09vOL7Mk5yamPfvzSffVkl6iKb0fHJ\""
   ]
  },
  {
   "cell_type": "code",
   "execution_count": 62,
   "metadata": {},
   "outputs": [],
   "source": [
    "info = tejapi.ApiConfig.info()"
   ]
  },
  {
   "cell_type": "code",
   "execution_count": 64,
   "metadata": {},
   "outputs": [],
   "source": [
    "data = tejapi.get('TRAIL/TAGIN')"
   ]
  },
  {
   "cell_type": "code",
   "execution_count": 65,
   "metadata": {},
   "outputs": [
    {
     "output_type": "execute_result",
     "data": {
      "text/plain": [
       "       coid                     mdate  gin0   l0ng_ta  buy_l   buy_la  sell_l  \\\n",
       "None                                                                            \n",
       "0      0050 2020-01-02 00:00:00+00:00   374  36513.62     20  1952.60       6   \n",
       "1      0050 2020-01-03 00:00:00+00:00   388  37907.60     30  2931.00      16   \n",
       "2      0050 2020-01-06 00:00:00+00:00   381  36827.46      7   676.62      14   \n",
       "3      0050 2020-01-07 00:00:00+00:00   410  39351.80     41  3935.18      12   \n",
       "4      0050 2020-01-08 00:00:00+00:00   441  42133.14     51  4872.54      20   \n",
       "...     ...                       ...   ...       ...    ...      ...     ...   \n",
       "9995  00657 2020-10-23 00:00:00+00:00     0      0.00      0     0.00       0   \n",
       "9996  00657 2020-10-26 00:00:00+00:00     0      0.00      0     0.00       0   \n",
       "9997  00657 2020-10-27 00:00:00+00:00     0      0.00      0     0.00       0   \n",
       "9998  00657 2020-10-28 00:00:00+00:00     0      0.00      0     0.00       0   \n",
       "9999  00657 2020-10-29 00:00:00+00:00     0      0.00      0     0.00       0   \n",
       "\n",
       "      sell_la  cash_l  cash_la  ...  limit_b1  limit_b2    sbls_k  shorts_k  \\\n",
       "None                            ...                                           \n",
       "0      585.78       0      0.0  ...      1006     68700  31990.95     195.4   \n",
       "1     1563.20       0      0.0  ...      1041     66950  21216.45     195.7   \n",
       "2     1353.24       0      0.0  ...      1120     66950  33959.20     386.5   \n",
       "3     1151.76       0      0.0  ...      1158     66950  49379.95     287.6   \n",
       "4     1910.80       0      0.0  ...      1205     66050  53815.30     477.8   \n",
       "...       ...     ...      ...  ...       ...       ...       ...       ...   \n",
       "9995     0.00       0      0.0  ...        32       432      0.00       0.0   \n",
       "9996     0.00       0      0.0  ...        32       432      0.00       0.0   \n",
       "9997     0.00       0      0.0  ...        32       432      0.00       0.0   \n",
       "9998     0.00       0      0.0  ...        32       432      0.00       0.0   \n",
       "9999     0.00       0      0.0  ...        32       432      0.00       0.0   \n",
       "\n",
       "           ap    alc   asc1     lmr     smr     tmr  \n",
       "None                                                 \n",
       "0     97.6300  95.93  87.11  169.65  169.49  169.58  \n",
       "1     97.7000  96.07  87.23  169.41  169.73  169.55  \n",
       "2     96.6600  96.08  87.45  167.23  172.36  169.44  \n",
       "3     95.9800  96.07  87.61  166.72  173.21  169.32  \n",
       "4     95.5400  96.01  87.84  166.05  174.49  169.33  \n",
       "...       ...    ...    ...     ...     ...     ...  \n",
       "9995  29.2496    NaN    NaN     NaN     NaN     NaN  \n",
       "9996  29.1601    NaN    NaN     NaN     NaN     NaN  \n",
       "9997  29.0498    NaN    NaN     NaN     NaN     NaN  \n",
       "9998  29.0103    NaN    NaN     NaN     NaN     NaN  \n",
       "9999  28.9600    NaN    NaN     NaN     NaN     NaN  \n",
       "\n",
       "[10000 rows x 50 columns]"
      ],
      "text/html": "<div>\n<style scoped>\n    .dataframe tbody tr th:only-of-type {\n        vertical-align: middle;\n    }\n\n    .dataframe tbody tr th {\n        vertical-align: top;\n    }\n\n    .dataframe thead th {\n        text-align: right;\n    }\n</style>\n<table border=\"1\" class=\"dataframe\">\n  <thead>\n    <tr style=\"text-align: right;\">\n      <th></th>\n      <th>coid</th>\n      <th>mdate</th>\n      <th>gin0</th>\n      <th>l0ng_ta</th>\n      <th>buy_l</th>\n      <th>buy_la</th>\n      <th>sell_l</th>\n      <th>sell_la</th>\n      <th>cash_l</th>\n      <th>cash_la</th>\n      <th>...</th>\n      <th>limit_b1</th>\n      <th>limit_b2</th>\n      <th>sbls_k</th>\n      <th>shorts_k</th>\n      <th>ap</th>\n      <th>alc</th>\n      <th>asc1</th>\n      <th>lmr</th>\n      <th>smr</th>\n      <th>tmr</th>\n    </tr>\n    <tr>\n      <th>None</th>\n      <th></th>\n      <th></th>\n      <th></th>\n      <th></th>\n      <th></th>\n      <th></th>\n      <th></th>\n      <th></th>\n      <th></th>\n      <th></th>\n      <th></th>\n      <th></th>\n      <th></th>\n      <th></th>\n      <th></th>\n      <th></th>\n      <th></th>\n      <th></th>\n      <th></th>\n      <th></th>\n      <th></th>\n    </tr>\n  </thead>\n  <tbody>\n    <tr>\n      <th>0</th>\n      <td>0050</td>\n      <td>2020-01-02 00:00:00+00:00</td>\n      <td>374</td>\n      <td>36513.62</td>\n      <td>20</td>\n      <td>1952.60</td>\n      <td>6</td>\n      <td>585.78</td>\n      <td>0</td>\n      <td>0.0</td>\n      <td>...</td>\n      <td>1006</td>\n      <td>68700</td>\n      <td>31990.95</td>\n      <td>195.4</td>\n      <td>97.6300</td>\n      <td>95.93</td>\n      <td>87.11</td>\n      <td>169.65</td>\n      <td>169.49</td>\n      <td>169.58</td>\n    </tr>\n    <tr>\n      <th>1</th>\n      <td>0050</td>\n      <td>2020-01-03 00:00:00+00:00</td>\n      <td>388</td>\n      <td>37907.60</td>\n      <td>30</td>\n      <td>2931.00</td>\n      <td>16</td>\n      <td>1563.20</td>\n      <td>0</td>\n      <td>0.0</td>\n      <td>...</td>\n      <td>1041</td>\n      <td>66950</td>\n      <td>21216.45</td>\n      <td>195.7</td>\n      <td>97.7000</td>\n      <td>96.07</td>\n      <td>87.23</td>\n      <td>169.41</td>\n      <td>169.73</td>\n      <td>169.55</td>\n    </tr>\n    <tr>\n      <th>2</th>\n      <td>0050</td>\n      <td>2020-01-06 00:00:00+00:00</td>\n      <td>381</td>\n      <td>36827.46</td>\n      <td>7</td>\n      <td>676.62</td>\n      <td>14</td>\n      <td>1353.24</td>\n      <td>0</td>\n      <td>0.0</td>\n      <td>...</td>\n      <td>1120</td>\n      <td>66950</td>\n      <td>33959.20</td>\n      <td>386.5</td>\n      <td>96.6600</td>\n      <td>96.08</td>\n      <td>87.45</td>\n      <td>167.23</td>\n      <td>172.36</td>\n      <td>169.44</td>\n    </tr>\n    <tr>\n      <th>3</th>\n      <td>0050</td>\n      <td>2020-01-07 00:00:00+00:00</td>\n      <td>410</td>\n      <td>39351.80</td>\n      <td>41</td>\n      <td>3935.18</td>\n      <td>12</td>\n      <td>1151.76</td>\n      <td>0</td>\n      <td>0.0</td>\n      <td>...</td>\n      <td>1158</td>\n      <td>66950</td>\n      <td>49379.95</td>\n      <td>287.6</td>\n      <td>95.9800</td>\n      <td>96.07</td>\n      <td>87.61</td>\n      <td>166.72</td>\n      <td>173.21</td>\n      <td>169.32</td>\n    </tr>\n    <tr>\n      <th>4</th>\n      <td>0050</td>\n      <td>2020-01-08 00:00:00+00:00</td>\n      <td>441</td>\n      <td>42133.14</td>\n      <td>51</td>\n      <td>4872.54</td>\n      <td>20</td>\n      <td>1910.80</td>\n      <td>0</td>\n      <td>0.0</td>\n      <td>...</td>\n      <td>1205</td>\n      <td>66050</td>\n      <td>53815.30</td>\n      <td>477.8</td>\n      <td>95.5400</td>\n      <td>96.01</td>\n      <td>87.84</td>\n      <td>166.05</td>\n      <td>174.49</td>\n      <td>169.33</td>\n    </tr>\n    <tr>\n      <th>...</th>\n      <td>...</td>\n      <td>...</td>\n      <td>...</td>\n      <td>...</td>\n      <td>...</td>\n      <td>...</td>\n      <td>...</td>\n      <td>...</td>\n      <td>...</td>\n      <td>...</td>\n      <td>...</td>\n      <td>...</td>\n      <td>...</td>\n      <td>...</td>\n      <td>...</td>\n      <td>...</td>\n      <td>...</td>\n      <td>...</td>\n      <td>...</td>\n      <td>...</td>\n      <td>...</td>\n    </tr>\n    <tr>\n      <th>9995</th>\n      <td>00657</td>\n      <td>2020-10-23 00:00:00+00:00</td>\n      <td>0</td>\n      <td>0.00</td>\n      <td>0</td>\n      <td>0.00</td>\n      <td>0</td>\n      <td>0.00</td>\n      <td>0</td>\n      <td>0.0</td>\n      <td>...</td>\n      <td>32</td>\n      <td>432</td>\n      <td>0.00</td>\n      <td>0.0</td>\n      <td>29.2496</td>\n      <td>NaN</td>\n      <td>NaN</td>\n      <td>NaN</td>\n      <td>NaN</td>\n      <td>NaN</td>\n    </tr>\n    <tr>\n      <th>9996</th>\n      <td>00657</td>\n      <td>2020-10-26 00:00:00+00:00</td>\n      <td>0</td>\n      <td>0.00</td>\n      <td>0</td>\n      <td>0.00</td>\n      <td>0</td>\n      <td>0.00</td>\n      <td>0</td>\n      <td>0.0</td>\n      <td>...</td>\n      <td>32</td>\n      <td>432</td>\n      <td>0.00</td>\n      <td>0.0</td>\n      <td>29.1601</td>\n      <td>NaN</td>\n      <td>NaN</td>\n      <td>NaN</td>\n      <td>NaN</td>\n      <td>NaN</td>\n    </tr>\n    <tr>\n      <th>9997</th>\n      <td>00657</td>\n      <td>2020-10-27 00:00:00+00:00</td>\n      <td>0</td>\n      <td>0.00</td>\n      <td>0</td>\n      <td>0.00</td>\n      <td>0</td>\n      <td>0.00</td>\n      <td>0</td>\n      <td>0.0</td>\n      <td>...</td>\n      <td>32</td>\n      <td>432</td>\n      <td>0.00</td>\n      <td>0.0</td>\n      <td>29.0498</td>\n      <td>NaN</td>\n      <td>NaN</td>\n      <td>NaN</td>\n      <td>NaN</td>\n      <td>NaN</td>\n    </tr>\n    <tr>\n      <th>9998</th>\n      <td>00657</td>\n      <td>2020-10-28 00:00:00+00:00</td>\n      <td>0</td>\n      <td>0.00</td>\n      <td>0</td>\n      <td>0.00</td>\n      <td>0</td>\n      <td>0.00</td>\n      <td>0</td>\n      <td>0.0</td>\n      <td>...</td>\n      <td>32</td>\n      <td>432</td>\n      <td>0.00</td>\n      <td>0.0</td>\n      <td>29.0103</td>\n      <td>NaN</td>\n      <td>NaN</td>\n      <td>NaN</td>\n      <td>NaN</td>\n      <td>NaN</td>\n    </tr>\n    <tr>\n      <th>9999</th>\n      <td>00657</td>\n      <td>2020-10-29 00:00:00+00:00</td>\n      <td>0</td>\n      <td>0.00</td>\n      <td>0</td>\n      <td>0.00</td>\n      <td>0</td>\n      <td>0.00</td>\n      <td>0</td>\n      <td>0.0</td>\n      <td>...</td>\n      <td>32</td>\n      <td>432</td>\n      <td>0.00</td>\n      <td>0.0</td>\n      <td>28.9600</td>\n      <td>NaN</td>\n      <td>NaN</td>\n      <td>NaN</td>\n      <td>NaN</td>\n      <td>NaN</td>\n    </tr>\n  </tbody>\n</table>\n<p>10000 rows × 50 columns</p>\n</div>"
     },
     "metadata": {},
     "execution_count": 65
    }
   ],
   "source": [
    "data"
   ]
  },
  {
   "cell_type": "code",
   "execution_count": 47,
   "metadata": {},
   "outputs": [],
   "source": [
    "import numpy as np\n",
    "import pandas as pd\n",
    "import copy\n",
    "import time"
   ]
  },
  {
   "cell_type": "code",
   "execution_count": 48,
   "metadata": {},
   "outputs": [],
   "source": [
    "from alpha_vantage.timeseries import TimeSeries"
   ]
  },
  {
   "cell_type": "code",
   "execution_count": 149,
   "metadata": {},
   "outputs": [],
   "source": [
    "def ATR(DF, n):\n",
    "    df = DF.copy()\n",
    "    df[\"H-L\"] = abs(df[\"High\"] - df[\"Low\"]) \n",
    "    df[\"H-PC\"] = abs(df[\"High\"] - df[\"Close\"].shift(1)) # 今天跳空上漲的情況\n",
    "    df[\"L-PC\"] = abs(df[\"Low\"] - df[\"Close\"].shift(1)) # 今天跳空下跌\n",
    "    # 取三者裡的最大者，且不忽略 NaN\n",
    "    df[\"TR\"] = df[ [\"H-L\", \"H-PC\", \"L-PC\"] ].max(axis=1, skipna=False)\n",
    "    df[\"ATR\"] = df[\"TR\"].rolling(n).mean() # rolling 的天數自訂，通常用 20\n",
    "    # 刪除暫時的 columns\n",
    "    df = df.drop( [\"H-L\", \"H-PC\", \"L-PC\"], axis=1)\n",
    "    return df[\"ATR\"]"
   ]
  },
  {
   "cell_type": "code",
   "execution_count": 150,
   "metadata": {},
   "outputs": [],
   "source": [
    "def CAGR(DF):\n",
    "    df = DF.copy()\n",
    "    df['Daily Return'] = df['Adj Close'].pct_change() # first we need to calculate daily return\n",
    "    df['Cumulative Return'] = (1 + df['Daily Return']).cumprod() # calculate cumulative return\n",
    "    n = len(df) / 250*54 # assume there are 250 trading days in a year\n",
    "    cagr = (df['Cumulative Return'][-1])**(1/n) - 1 # we need the latest data to calculate CAGR\n",
    "    return cagr"
   ]
  },
  {
   "source": [
    "注意: 上面 CAGR function 的 ```n``` 必須多除 ```54```，因為這個策略每五分鐘執行一次，而台股一天有四個半小時 (```270``` 分鐘)的交易時間  \n",
    "，故總次數為 ```270 / 5 = 54```"
   ],
   "cell_type": "markdown",
   "metadata": {}
  },
  {
   "cell_type": "code",
   "execution_count": null,
   "metadata": {},
   "outputs": [],
   "source": [
    "def Volatility(DF):\n",
    "    df = DF.copy()\n",
    "    df['Daily Return'] = df['Adj Close'].pct_change()\n",
    "    vol = df['Daily Return'].std() * (250*54 ** 0.5) # converst daily volatility to annual volatility\n",
    "    return vol"
   ]
  },
  {
   "source": [
    "Same as ```Volatility```"
   ],
   "cell_type": "markdown",
   "metadata": {}
  },
  {
   "cell_type": "code",
   "execution_count": 29,
   "metadata": {},
   "outputs": [],
   "source": [
    "def Sharp(DF, rf): # rf stands for \"risk free rate\"\n",
    "    df = DF.copy()\n",
    "    sr = (CAGR(df) - rf) / Volatility(df)\n",
    "    return sr"
   ]
  },
  {
   "cell_type": "code",
   "execution_count": 30,
   "metadata": {},
   "outputs": [],
   "source": [
    "def Max_DD(DF):\n",
    "    df = DF.copy()\n",
    "    df['Daily Return'] = df['Adj Close'].pct_change()\n",
    "    df['Cumulative Return'] = (1 + df['Daily Return']).cumprod() # 這麼多天的總報酬\n",
    "    df['Cumulative Rolling Max'] = df['Cumulative Return'].cummax() # ?\n",
    "\n",
    "    df['Draw Down'] = df['Cumulative Rolling Max'] - df['Cumulative Return']\n",
    "    df['Draw Down Percentage'] = df['Draw Down'] / df['Cumulative Rolling Max']\n",
    "\n",
    "    max_dd = df['Draw Down Percentage'].max()\n",
    "    return max_dd"
   ]
  },
  {
   "source": [
    "### 2.1. 選擇交易標的:"
   ],
   "cell_type": "markdown",
   "metadata": {}
  },
  {
   "source": [
    "先用一個股票拆解，之後再用迴圈取得多個股票:"
   ],
   "cell_type": "markdown",
   "metadata": {}
  },
  {
   "cell_type": "code",
   "execution_count": 95,
   "metadata": {},
   "outputs": [],
   "source": [
    "key_path = r\"C:\\\\Users\\User\\\\Quant_Trading\\\\alpha_vantage\\\\api_key.txt\"\n",
    "ts = TimeSeries(key=open(key_path, 'r').read(), output_format='pandas')"
   ]
  },
  {
   "cell_type": "code",
   "execution_count": 96,
   "metadata": {},
   "outputs": [],
   "source": [
    "data = ts.get_intraday(symbol='MSFT', interval='5min', outputsize='full')"
   ]
  },
  {
   "cell_type": "code",
   "execution_count": 97,
   "metadata": {},
   "outputs": [
    {
     "output_type": "execute_result",
     "data": {
      "text/plain": [
       "tuple"
      ]
     },
     "metadata": {},
     "execution_count": 97
    }
   ],
   "source": [
    "type(data) # return tuple object"
   ]
  },
  {
   "cell_type": "code",
   "execution_count": 98,
   "metadata": {},
   "outputs": [
    {
     "output_type": "execute_result",
     "data": {
      "text/plain": [
       "(                     1. open  2. high  3. low  4. close  5. volume\n",
       " date                                                              \n",
       " 2021-01-28 20:00:00   236.60   236.62  236.42    236.42     3142.0\n",
       " 2021-01-28 19:55:00   236.65   236.76  236.60    236.61     1710.0\n",
       " 2021-01-28 19:50:00   236.30   236.75  236.30    236.75     1660.0\n",
       " 2021-01-28 19:45:00   236.70   236.75  236.30    236.31     5428.0\n",
       " 2021-01-28 19:40:00   236.45   236.45  236.41    236.41     1229.0\n",
       " ...                      ...      ...     ...       ...        ...\n",
       " 2020-12-31 07:05:00   222.05   222.11  222.01    222.02     1752.0\n",
       " 2020-12-31 06:55:00   222.35   222.35  222.35    222.35      111.0\n",
       " 2020-12-31 05:15:00   222.54   222.68  222.54    222.68      538.0\n",
       " 2020-12-31 04:55:00   222.45   222.45  222.45    222.45      241.0\n",
       " 2020-12-31 04:20:00   221.90   221.90  221.85    221.85      600.0\n",
       " \n",
       " [3290 rows x 5 columns],\n",
       " {'1. Information': 'Intraday (5min) open, high, low, close prices and volume',\n",
       "  '2. Symbol': 'MSFT',\n",
       "  '3. Last Refreshed': '2021-01-28 20:00:00',\n",
       "  '4. Interval': '5min',\n",
       "  '5. Output Size': 'Full size',\n",
       "  '6. Time Zone': 'US/Eastern'})"
      ]
     },
     "metadata": {},
     "execution_count": 98
    }
   ],
   "source": [
    "data"
   ]
  },
  {
   "cell_type": "code",
   "execution_count": 99,
   "metadata": {},
   "outputs": [
    {
     "output_type": "execute_result",
     "data": {
      "text/plain": [
       "                     1. open  2. high  3. low  4. close  5. volume\n",
       "date                                                              \n",
       "2021-01-28 20:00:00   236.60   236.62  236.42    236.42     3142.0\n",
       "2021-01-28 19:55:00   236.65   236.76  236.60    236.61     1710.0\n",
       "2021-01-28 19:50:00   236.30   236.75  236.30    236.75     1660.0\n",
       "2021-01-28 19:45:00   236.70   236.75  236.30    236.31     5428.0\n",
       "2021-01-28 19:40:00   236.45   236.45  236.41    236.41     1229.0\n",
       "...                      ...      ...     ...       ...        ...\n",
       "2020-12-31 07:05:00   222.05   222.11  222.01    222.02     1752.0\n",
       "2020-12-31 06:55:00   222.35   222.35  222.35    222.35      111.0\n",
       "2020-12-31 05:15:00   222.54   222.68  222.54    222.68      538.0\n",
       "2020-12-31 04:55:00   222.45   222.45  222.45    222.45      241.0\n",
       "2020-12-31 04:20:00   221.90   221.90  221.85    221.85      600.0\n",
       "\n",
       "[3290 rows x 5 columns]"
      ],
      "text/html": "<div>\n<style scoped>\n    .dataframe tbody tr th:only-of-type {\n        vertical-align: middle;\n    }\n\n    .dataframe tbody tr th {\n        vertical-align: top;\n    }\n\n    .dataframe thead th {\n        text-align: right;\n    }\n</style>\n<table border=\"1\" class=\"dataframe\">\n  <thead>\n    <tr style=\"text-align: right;\">\n      <th></th>\n      <th>1. open</th>\n      <th>2. high</th>\n      <th>3. low</th>\n      <th>4. close</th>\n      <th>5. volume</th>\n    </tr>\n    <tr>\n      <th>date</th>\n      <th></th>\n      <th></th>\n      <th></th>\n      <th></th>\n      <th></th>\n    </tr>\n  </thead>\n  <tbody>\n    <tr>\n      <th>2021-01-28 20:00:00</th>\n      <td>236.60</td>\n      <td>236.62</td>\n      <td>236.42</td>\n      <td>236.42</td>\n      <td>3142.0</td>\n    </tr>\n    <tr>\n      <th>2021-01-28 19:55:00</th>\n      <td>236.65</td>\n      <td>236.76</td>\n      <td>236.60</td>\n      <td>236.61</td>\n      <td>1710.0</td>\n    </tr>\n    <tr>\n      <th>2021-01-28 19:50:00</th>\n      <td>236.30</td>\n      <td>236.75</td>\n      <td>236.30</td>\n      <td>236.75</td>\n      <td>1660.0</td>\n    </tr>\n    <tr>\n      <th>2021-01-28 19:45:00</th>\n      <td>236.70</td>\n      <td>236.75</td>\n      <td>236.30</td>\n      <td>236.31</td>\n      <td>5428.0</td>\n    </tr>\n    <tr>\n      <th>2021-01-28 19:40:00</th>\n      <td>236.45</td>\n      <td>236.45</td>\n      <td>236.41</td>\n      <td>236.41</td>\n      <td>1229.0</td>\n    </tr>\n    <tr>\n      <th>...</th>\n      <td>...</td>\n      <td>...</td>\n      <td>...</td>\n      <td>...</td>\n      <td>...</td>\n    </tr>\n    <tr>\n      <th>2020-12-31 07:05:00</th>\n      <td>222.05</td>\n      <td>222.11</td>\n      <td>222.01</td>\n      <td>222.02</td>\n      <td>1752.0</td>\n    </tr>\n    <tr>\n      <th>2020-12-31 06:55:00</th>\n      <td>222.35</td>\n      <td>222.35</td>\n      <td>222.35</td>\n      <td>222.35</td>\n      <td>111.0</td>\n    </tr>\n    <tr>\n      <th>2020-12-31 05:15:00</th>\n      <td>222.54</td>\n      <td>222.68</td>\n      <td>222.54</td>\n      <td>222.68</td>\n      <td>538.0</td>\n    </tr>\n    <tr>\n      <th>2020-12-31 04:55:00</th>\n      <td>222.45</td>\n      <td>222.45</td>\n      <td>222.45</td>\n      <td>222.45</td>\n      <td>241.0</td>\n    </tr>\n    <tr>\n      <th>2020-12-31 04:20:00</th>\n      <td>221.90</td>\n      <td>221.90</td>\n      <td>221.85</td>\n      <td>221.85</td>\n      <td>600.0</td>\n    </tr>\n  </tbody>\n</table>\n<p>3290 rows × 5 columns</p>\n</div>"
     },
     "metadata": {},
     "execution_count": 99
    }
   ],
   "source": [
    "data[0] # 這裡的資料由最新到最就是由上往下，應該把它倒過來"
   ]
  },
  {
   "cell_type": "code",
   "execution_count": 100,
   "metadata": {},
   "outputs": [
    {
     "output_type": "execute_result",
     "data": {
      "text/plain": [
       "pandas.core.frame.DataFrame"
      ]
     },
     "metadata": {},
     "execution_count": 100
    }
   ],
   "source": [
    "type(data[0]) # we only need this data frame"
   ]
  },
  {
   "cell_type": "code",
   "execution_count": 101,
   "metadata": {},
   "outputs": [
    {
     "output_type": "execute_result",
     "data": {
      "text/plain": [
       "                     1. open  2. high  3. low  4. close  5. volume\n",
       "date                                                              \n",
       "2020-12-31 04:20:00   221.90   221.90  221.85    221.85      600.0\n",
       "2020-12-31 04:55:00   222.45   222.45  222.45    222.45      241.0\n",
       "2020-12-31 05:15:00   222.54   222.68  222.54    222.68      538.0\n",
       "2020-12-31 06:55:00   222.35   222.35  222.35    222.35      111.0\n",
       "2020-12-31 07:05:00   222.05   222.11  222.01    222.02     1752.0\n",
       "...                      ...      ...     ...       ...        ...\n",
       "2021-01-28 19:40:00   236.45   236.45  236.41    236.41     1229.0\n",
       "2021-01-28 19:45:00   236.70   236.75  236.30    236.31     5428.0\n",
       "2021-01-28 19:50:00   236.30   236.75  236.30    236.75     1660.0\n",
       "2021-01-28 19:55:00   236.65   236.76  236.60    236.61     1710.0\n",
       "2021-01-28 20:00:00   236.60   236.62  236.42    236.42     3142.0\n",
       "\n",
       "[3290 rows x 5 columns]"
      ],
      "text/html": "<div>\n<style scoped>\n    .dataframe tbody tr th:only-of-type {\n        vertical-align: middle;\n    }\n\n    .dataframe tbody tr th {\n        vertical-align: top;\n    }\n\n    .dataframe thead th {\n        text-align: right;\n    }\n</style>\n<table border=\"1\" class=\"dataframe\">\n  <thead>\n    <tr style=\"text-align: right;\">\n      <th></th>\n      <th>1. open</th>\n      <th>2. high</th>\n      <th>3. low</th>\n      <th>4. close</th>\n      <th>5. volume</th>\n    </tr>\n    <tr>\n      <th>date</th>\n      <th></th>\n      <th></th>\n      <th></th>\n      <th></th>\n      <th></th>\n    </tr>\n  </thead>\n  <tbody>\n    <tr>\n      <th>2020-12-31 04:20:00</th>\n      <td>221.90</td>\n      <td>221.90</td>\n      <td>221.85</td>\n      <td>221.85</td>\n      <td>600.0</td>\n    </tr>\n    <tr>\n      <th>2020-12-31 04:55:00</th>\n      <td>222.45</td>\n      <td>222.45</td>\n      <td>222.45</td>\n      <td>222.45</td>\n      <td>241.0</td>\n    </tr>\n    <tr>\n      <th>2020-12-31 05:15:00</th>\n      <td>222.54</td>\n      <td>222.68</td>\n      <td>222.54</td>\n      <td>222.68</td>\n      <td>538.0</td>\n    </tr>\n    <tr>\n      <th>2020-12-31 06:55:00</th>\n      <td>222.35</td>\n      <td>222.35</td>\n      <td>222.35</td>\n      <td>222.35</td>\n      <td>111.0</td>\n    </tr>\n    <tr>\n      <th>2020-12-31 07:05:00</th>\n      <td>222.05</td>\n      <td>222.11</td>\n      <td>222.01</td>\n      <td>222.02</td>\n      <td>1752.0</td>\n    </tr>\n    <tr>\n      <th>...</th>\n      <td>...</td>\n      <td>...</td>\n      <td>...</td>\n      <td>...</td>\n      <td>...</td>\n    </tr>\n    <tr>\n      <th>2021-01-28 19:40:00</th>\n      <td>236.45</td>\n      <td>236.45</td>\n      <td>236.41</td>\n      <td>236.41</td>\n      <td>1229.0</td>\n    </tr>\n    <tr>\n      <th>2021-01-28 19:45:00</th>\n      <td>236.70</td>\n      <td>236.75</td>\n      <td>236.30</td>\n      <td>236.31</td>\n      <td>5428.0</td>\n    </tr>\n    <tr>\n      <th>2021-01-28 19:50:00</th>\n      <td>236.30</td>\n      <td>236.75</td>\n      <td>236.30</td>\n      <td>236.75</td>\n      <td>1660.0</td>\n    </tr>\n    <tr>\n      <th>2021-01-28 19:55:00</th>\n      <td>236.65</td>\n      <td>236.76</td>\n      <td>236.60</td>\n      <td>236.61</td>\n      <td>1710.0</td>\n    </tr>\n    <tr>\n      <th>2021-01-28 20:00:00</th>\n      <td>236.60</td>\n      <td>236.62</td>\n      <td>236.42</td>\n      <td>236.42</td>\n      <td>3142.0</td>\n    </tr>\n  </tbody>\n</table>\n<p>3290 rows × 5 columns</p>\n</div>"
     },
     "metadata": {},
     "execution_count": 101
    }
   ],
   "source": [
    "data[0].iloc[::-1] # change the order of the dates"
   ]
  },
  {
   "cell_type": "code",
   "execution_count": 106,
   "metadata": {},
   "outputs": [
    {
     "output_type": "execute_result",
     "data": {
      "text/plain": [
       "(                     1. open  2. high  3. low  4. close  5. volume\n",
       " date                                                              \n",
       " 2021-01-28 20:00:00   236.60   236.62  236.42    236.42     3142.0\n",
       " 2021-01-28 19:55:00   236.65   236.76  236.60    236.61     1710.0\n",
       " 2021-01-28 19:50:00   236.30   236.75  236.30    236.75     1660.0\n",
       " 2021-01-28 19:45:00   236.70   236.75  236.30    236.31     5428.0\n",
       " 2021-01-28 19:40:00   236.45   236.45  236.41    236.41     1229.0\n",
       " ...                      ...      ...     ...       ...        ...\n",
       " 2020-12-31 07:05:00   222.05   222.11  222.01    222.02     1752.0\n",
       " 2020-12-31 06:55:00   222.35   222.35  222.35    222.35      111.0\n",
       " 2020-12-31 05:15:00   222.54   222.68  222.54    222.68      538.0\n",
       " 2020-12-31 04:55:00   222.45   222.45  222.45    222.45      241.0\n",
       " 2020-12-31 04:20:00   221.90   221.90  221.85    221.85      600.0\n",
       " \n",
       " [3290 rows x 5 columns],\n",
       " {'1. Information': 'Intraday (5min) open, high, low, close prices and volume',\n",
       "  '2. Symbol': 'MSFT',\n",
       "  '3. Last Refreshed': '2021-01-28 20:00:00',\n",
       "  '4. Interval': '5min',\n",
       "  '5. Output Size': 'Full size',\n",
       "  '6. Time Zone': 'US/Eastern'})"
      ]
     },
     "metadata": {},
     "execution_count": 106
    }
   ],
   "source": [
    "data"
   ]
  },
  {
   "cell_type": "code",
   "execution_count": 119,
   "metadata": {},
   "outputs": [],
   "source": [
    "df = pd.DataFrame(data[0])"
   ]
  },
  {
   "cell_type": "code",
   "execution_count": 120,
   "metadata": {},
   "outputs": [
    {
     "output_type": "execute_result",
     "data": {
      "text/plain": [
       "                       Open    High     Low   Close  Volume\n",
       "date                                                       \n",
       "2021-01-28 20:00:00  236.60  236.62  236.42  236.42  3142.0\n",
       "2021-01-28 19:55:00  236.65  236.76  236.60  236.61  1710.0\n",
       "2021-01-28 19:50:00  236.30  236.75  236.30  236.75  1660.0\n",
       "2021-01-28 19:45:00  236.70  236.75  236.30  236.31  5428.0\n",
       "2021-01-28 19:40:00  236.45  236.45  236.41  236.41  1229.0\n",
       "...                     ...     ...     ...     ...     ...\n",
       "2020-12-31 07:05:00  222.05  222.11  222.01  222.02  1752.0\n",
       "2020-12-31 06:55:00  222.35  222.35  222.35  222.35   111.0\n",
       "2020-12-31 05:15:00  222.54  222.68  222.54  222.68   538.0\n",
       "2020-12-31 04:55:00  222.45  222.45  222.45  222.45   241.0\n",
       "2020-12-31 04:20:00  221.90  221.90  221.85  221.85   600.0\n",
       "\n",
       "[3290 rows x 5 columns]"
      ],
      "text/html": "<div>\n<style scoped>\n    .dataframe tbody tr th:only-of-type {\n        vertical-align: middle;\n    }\n\n    .dataframe tbody tr th {\n        vertical-align: top;\n    }\n\n    .dataframe thead th {\n        text-align: right;\n    }\n</style>\n<table border=\"1\" class=\"dataframe\">\n  <thead>\n    <tr style=\"text-align: right;\">\n      <th></th>\n      <th>Open</th>\n      <th>High</th>\n      <th>Low</th>\n      <th>Close</th>\n      <th>Volume</th>\n    </tr>\n    <tr>\n      <th>date</th>\n      <th></th>\n      <th></th>\n      <th></th>\n      <th></th>\n      <th></th>\n    </tr>\n  </thead>\n  <tbody>\n    <tr>\n      <th>2021-01-28 20:00:00</th>\n      <td>236.60</td>\n      <td>236.62</td>\n      <td>236.42</td>\n      <td>236.42</td>\n      <td>3142.0</td>\n    </tr>\n    <tr>\n      <th>2021-01-28 19:55:00</th>\n      <td>236.65</td>\n      <td>236.76</td>\n      <td>236.60</td>\n      <td>236.61</td>\n      <td>1710.0</td>\n    </tr>\n    <tr>\n      <th>2021-01-28 19:50:00</th>\n      <td>236.30</td>\n      <td>236.75</td>\n      <td>236.30</td>\n      <td>236.75</td>\n      <td>1660.0</td>\n    </tr>\n    <tr>\n      <th>2021-01-28 19:45:00</th>\n      <td>236.70</td>\n      <td>236.75</td>\n      <td>236.30</td>\n      <td>236.31</td>\n      <td>5428.0</td>\n    </tr>\n    <tr>\n      <th>2021-01-28 19:40:00</th>\n      <td>236.45</td>\n      <td>236.45</td>\n      <td>236.41</td>\n      <td>236.41</td>\n      <td>1229.0</td>\n    </tr>\n    <tr>\n      <th>...</th>\n      <td>...</td>\n      <td>...</td>\n      <td>...</td>\n      <td>...</td>\n      <td>...</td>\n    </tr>\n    <tr>\n      <th>2020-12-31 07:05:00</th>\n      <td>222.05</td>\n      <td>222.11</td>\n      <td>222.01</td>\n      <td>222.02</td>\n      <td>1752.0</td>\n    </tr>\n    <tr>\n      <th>2020-12-31 06:55:00</th>\n      <td>222.35</td>\n      <td>222.35</td>\n      <td>222.35</td>\n      <td>222.35</td>\n      <td>111.0</td>\n    </tr>\n    <tr>\n      <th>2020-12-31 05:15:00</th>\n      <td>222.54</td>\n      <td>222.68</td>\n      <td>222.54</td>\n      <td>222.68</td>\n      <td>538.0</td>\n    </tr>\n    <tr>\n      <th>2020-12-31 04:55:00</th>\n      <td>222.45</td>\n      <td>222.45</td>\n      <td>222.45</td>\n      <td>222.45</td>\n      <td>241.0</td>\n    </tr>\n    <tr>\n      <th>2020-12-31 04:20:00</th>\n      <td>221.90</td>\n      <td>221.90</td>\n      <td>221.85</td>\n      <td>221.85</td>\n      <td>600.0</td>\n    </tr>\n  </tbody>\n</table>\n<p>3290 rows × 5 columns</p>\n</div>"
     },
     "metadata": {},
     "execution_count": 120
    }
   ],
   "source": [
    "df # 發現到 MSFT 的時間部正確，應該要改成美國股市開盤的時間"
   ]
  },
  {
   "cell_type": "code",
   "execution_count": 121,
   "metadata": {},
   "outputs": [],
   "source": [
    "df.columns = ['Open', 'High', 'Low', 'Close', 'Volume']"
   ]
  },
  {
   "cell_type": "code",
   "execution_count": 122,
   "metadata": {},
   "outputs": [],
   "source": [
    "df = df.between_time('09:35', '16:00')"
   ]
  },
  {
   "cell_type": "code",
   "execution_count": 123,
   "metadata": {},
   "outputs": [
    {
     "output_type": "execute_result",
     "data": {
      "text/plain": [
       "                       Open      High       Low     Close     Volume\n",
       "date                                                                \n",
       "2021-01-28 16:00:00  240.11  240.1200  238.6100  238.9300  1556311.0\n",
       "2021-01-28 15:55:00  239.15  240.2600  238.7201  240.1200  1039693.0\n",
       "2021-01-28 15:50:00  238.74  239.3500  238.2400  239.1300   612485.0\n",
       "2021-01-28 15:45:00  239.36  239.4600  238.6600  238.7599   426632.0\n",
       "2021-01-28 15:40:00  238.89  239.4900  238.5800  239.3600   372897.0\n",
       "...                     ...       ...       ...       ...        ...\n",
       "2020-12-31 09:55:00  221.97  222.3100  221.7400  221.8000   275213.0\n",
       "2020-12-31 09:50:00  222.14  222.3737  221.9238  221.9600   247078.0\n",
       "2020-12-31 09:45:00  222.22  222.5000  222.1200  222.1200   317844.0\n",
       "2020-12-31 09:40:00  221.81  222.2781  221.4500  222.2149   391996.0\n",
       "2020-12-31 09:35:00  221.70  222.3200  221.7000  221.8100   671955.0\n",
       "\n",
       "[1482 rows x 5 columns]"
      ],
      "text/html": "<div>\n<style scoped>\n    .dataframe tbody tr th:only-of-type {\n        vertical-align: middle;\n    }\n\n    .dataframe tbody tr th {\n        vertical-align: top;\n    }\n\n    .dataframe thead th {\n        text-align: right;\n    }\n</style>\n<table border=\"1\" class=\"dataframe\">\n  <thead>\n    <tr style=\"text-align: right;\">\n      <th></th>\n      <th>Open</th>\n      <th>High</th>\n      <th>Low</th>\n      <th>Close</th>\n      <th>Volume</th>\n    </tr>\n    <tr>\n      <th>date</th>\n      <th></th>\n      <th></th>\n      <th></th>\n      <th></th>\n      <th></th>\n    </tr>\n  </thead>\n  <tbody>\n    <tr>\n      <th>2021-01-28 16:00:00</th>\n      <td>240.11</td>\n      <td>240.1200</td>\n      <td>238.6100</td>\n      <td>238.9300</td>\n      <td>1556311.0</td>\n    </tr>\n    <tr>\n      <th>2021-01-28 15:55:00</th>\n      <td>239.15</td>\n      <td>240.2600</td>\n      <td>238.7201</td>\n      <td>240.1200</td>\n      <td>1039693.0</td>\n    </tr>\n    <tr>\n      <th>2021-01-28 15:50:00</th>\n      <td>238.74</td>\n      <td>239.3500</td>\n      <td>238.2400</td>\n      <td>239.1300</td>\n      <td>612485.0</td>\n    </tr>\n    <tr>\n      <th>2021-01-28 15:45:00</th>\n      <td>239.36</td>\n      <td>239.4600</td>\n      <td>238.6600</td>\n      <td>238.7599</td>\n      <td>426632.0</td>\n    </tr>\n    <tr>\n      <th>2021-01-28 15:40:00</th>\n      <td>238.89</td>\n      <td>239.4900</td>\n      <td>238.5800</td>\n      <td>239.3600</td>\n      <td>372897.0</td>\n    </tr>\n    <tr>\n      <th>...</th>\n      <td>...</td>\n      <td>...</td>\n      <td>...</td>\n      <td>...</td>\n      <td>...</td>\n    </tr>\n    <tr>\n      <th>2020-12-31 09:55:00</th>\n      <td>221.97</td>\n      <td>222.3100</td>\n      <td>221.7400</td>\n      <td>221.8000</td>\n      <td>275213.0</td>\n    </tr>\n    <tr>\n      <th>2020-12-31 09:50:00</th>\n      <td>222.14</td>\n      <td>222.3737</td>\n      <td>221.9238</td>\n      <td>221.9600</td>\n      <td>247078.0</td>\n    </tr>\n    <tr>\n      <th>2020-12-31 09:45:00</th>\n      <td>222.22</td>\n      <td>222.5000</td>\n      <td>222.1200</td>\n      <td>222.1200</td>\n      <td>317844.0</td>\n    </tr>\n    <tr>\n      <th>2020-12-31 09:40:00</th>\n      <td>221.81</td>\n      <td>222.2781</td>\n      <td>221.4500</td>\n      <td>222.2149</td>\n      <td>391996.0</td>\n    </tr>\n    <tr>\n      <th>2020-12-31 09:35:00</th>\n      <td>221.70</td>\n      <td>222.3200</td>\n      <td>221.7000</td>\n      <td>221.8100</td>\n      <td>671955.0</td>\n    </tr>\n  </tbody>\n</table>\n<p>1482 rows × 5 columns</p>\n</div>"
     },
     "metadata": {},
     "execution_count": 123
    }
   ],
   "source": [
    "df"
   ]
  },
  {
   "source": [
    "### 2.2. 將上面的 code 用迴圈包起來:"
   ],
   "cell_type": "markdown",
   "metadata": {}
  },
  {
   "cell_type": "code",
   "execution_count": 131,
   "metadata": {},
   "outputs": [],
   "source": [
    "tickers = ['MSFT', 'AAPL', 'AMZN', 'TSLA', 'AMD']"
   ]
  },
  {
   "cell_type": "code",
   "execution_count": 132,
   "metadata": {},
   "outputs": [],
   "source": [
    "key_path = r\"C:\\\\Users\\User\\\\Quant_Trading\\\\alpha_vantage\\\\api_key.txt\"\n",
    "ts = TimeSeries(key=open(key_path, 'r').read(), output_format='pandas')"
   ]
  },
  {
   "cell_type": "code",
   "execution_count": 133,
   "metadata": {},
   "outputs": [],
   "source": [
    "ohlc_intraday = {} # use a dict to store all the tickers' ohlc\n",
    "api_call_count = 1 # track how many times we have done\n",
    "start_time = time.time()"
   ]
  },
  {
   "cell_type": "code",
   "execution_count": 134,
   "metadata": {},
   "outputs": [],
   "source": [
    "for ticker in tickers:\n",
    "    data = ts.get_intraday(symbol=ticker, interval='5min', outputsize='full')[0]\n",
    "    api_call_count += 1\n",
    "    data.columns = [\"Open\", \"High\", \"Low\", \"Close\", \"Volume\"]\n",
    "\n",
    "    data = data.iloc[::-1]\n",
    "    data = data.between_time('09:35', '16:00')\n",
    "\n",
    "    ohlc_intraday[ticker] = data # store particular stock's information\n",
    "\n",
    "    if api_call_count == 5:\n",
    "        api_call_count = 1\n",
    "        time.sleep(60 - ((time.time() - start_time) % 60.0))"
   ]
  },
  {
   "cell_type": "code",
   "execution_count": 146,
   "metadata": {},
   "outputs": [
    {
     "output_type": "execute_result",
     "data": {
      "text/plain": [
       "{'MSFT':                        Open      High       Low     Close     Volume\n",
       " date                                                                \n",
       " 2020-12-31 09:35:00  221.70  222.3200  221.7000  221.8100   671955.0\n",
       " 2020-12-31 09:40:00  221.81  222.2781  221.4500  222.2149   391996.0\n",
       " 2020-12-31 09:45:00  222.22  222.5000  222.1200  222.1200   317844.0\n",
       " 2020-12-31 09:50:00  222.14  222.3737  221.9238  221.9600   247078.0\n",
       " 2020-12-31 09:55:00  221.97  222.3100  221.7400  221.8000   275213.0\n",
       " ...                     ...       ...       ...       ...        ...\n",
       " 2021-01-28 15:40:00  238.89  239.4900  238.5800  239.3600   372897.0\n",
       " 2021-01-28 15:45:00  239.36  239.4600  238.6600  238.7599   426632.0\n",
       " 2021-01-28 15:50:00  238.74  239.3500  238.2400  239.1300   612485.0\n",
       " 2021-01-28 15:55:00  239.15  240.2600  238.7201  240.1200  1039693.0\n",
       " 2021-01-28 16:00:00  240.11  240.1200  238.6100  238.9300  1556311.0\n",
       " \n",
       " [1482 rows x 5 columns],\n",
       " 'AAPL':                          Open    High       Low     Close     Volume\n",
       " date                                                                \n",
       " 2020-12-31 09:35:00  134.0800  134.74  133.7900  134.1700  3151211.0\n",
       " 2020-12-31 09:40:00  134.1700  134.39  133.9400  134.2500  2059117.0\n",
       " 2020-12-31 09:45:00  134.2700  134.48  133.7000  133.7800  2062933.0\n",
       " 2020-12-31 09:50:00  133.7795  133.94  133.4600  133.4993  1965435.0\n",
       " 2020-12-31 09:55:00  133.4900  133.65  133.1900  133.2702  1779647.0\n",
       " ...                       ...     ...       ...       ...        ...\n",
       " 2021-01-28 15:40:00  138.1408  138.29  137.8715  138.2200  1913664.0\n",
       " 2021-01-28 15:45:00  138.2100  138.39  137.7700  138.0300  1903057.0\n",
       " 2021-01-28 15:50:00  138.0292  138.08  137.5700  137.9300  2029187.0\n",
       " 2021-01-28 15:55:00  137.9300  138.03  137.1300  137.1600  3514372.0\n",
       " 2021-01-28 16:00:00  137.1500  137.39  136.7000  137.0400  4960478.0\n",
       " \n",
       " [1482 rows x 5 columns],\n",
       " 'AMZN':                           Open       High        Low     Close    Volume\n",
       " date                                                                    \n",
       " 2020-12-31 09:35:00  3275.0000  3279.0000  3266.0000  3269.240  120467.0\n",
       " 2020-12-31 09:40:00  3269.9950  3281.9482  3262.3100  3281.755   81351.0\n",
       " 2020-12-31 09:45:00  3281.9707  3282.9219  3272.1978  3277.000   40518.0\n",
       " 2020-12-31 09:50:00  3276.3900  3277.0900  3268.0001  3269.880   45157.0\n",
       " 2020-12-31 09:55:00  3270.1409  3275.0300  3268.0000  3273.000   35627.0\n",
       " ...                        ...        ...        ...       ...       ...\n",
       " 2021-01-28 15:40:00  3256.0100  3260.8581  3250.0000  3257.670   46275.0\n",
       " 2021-01-28 15:45:00  3256.8497  3258.5700  3248.4000  3249.060   53410.0\n",
       " 2021-01-28 15:50:00  3249.3600  3252.1000  3239.5580  3249.750   67836.0\n",
       " 2021-01-28 15:55:00  3248.0000  3251.3800  3243.0300  3244.100   60671.0\n",
       " 2021-01-28 16:00:00  3243.2000  3243.2000  3234.0700  3239.700  142961.0\n",
       " \n",
       " [1482 rows x 5 columns],\n",
       " 'TSLA':                          Open      High     Low     Close     Volume\n",
       " date                                                                \n",
       " 2020-12-31 09:35:00  699.9900  703.7399  696.59  698.3800  1844955.0\n",
       " 2020-12-31 09:40:00  698.2900  701.0000  696.00  700.3774  1047052.0\n",
       " 2020-12-31 09:45:00  700.2700  701.7000  697.05  698.5100   856117.0\n",
       " 2020-12-31 09:50:00  698.6140  699.0000  693.33  694.3600   915397.0\n",
       " 2020-12-31 09:55:00  694.2604  696.9900  693.90  695.4980   699458.0\n",
       " ...                       ...       ...     ...       ...        ...\n",
       " 2021-01-28 15:40:00  836.2200  838.0000  834.00  837.3900   268289.0\n",
       " 2021-01-28 15:45:00  837.0600  839.3192  835.50  836.5100   246094.0\n",
       " 2021-01-28 15:50:00  836.4000  836.8800  832.70  835.0600   217818.0\n",
       " 2021-01-28 15:55:00  835.1600  838.1400  834.50  834.5000   322051.0\n",
       " 2021-01-28 16:00:00  835.1400  836.2700  834.00  835.4800   436444.0\n",
       " \n",
       " [1482 rows x 5 columns],\n",
       " 'AMD':                         Open     High      Low    Close     Volume\n",
       " date                                                              \n",
       " 2021-01-04 09:35:00  92.1100  92.4600  91.6000  92.1249  1618015.0\n",
       " 2021-01-04 09:40:00  92.1300  92.2900  91.3966  91.6100  1163891.0\n",
       " 2021-01-04 09:45:00  91.6200  93.0500  91.4700  93.0200  1366712.0\n",
       " 2021-01-04 09:50:00  93.0182  94.2411  93.0000  94.2400  2247378.0\n",
       " 2021-01-04 09:55:00  94.2210  95.1727  94.0900  94.9600  2529831.0\n",
       " ...                      ...      ...      ...      ...        ...\n",
       " 2021-01-28 15:40:00  87.7600  87.8400  87.5300  87.7700   699638.0\n",
       " 2021-01-28 15:45:00  87.7500  87.8700  87.6650  87.7300   505225.0\n",
       " 2021-01-28 15:50:00  87.7300  87.9500  87.6200  87.8900   530217.0\n",
       " 2021-01-28 15:55:00  87.9000  87.9600  87.5600  87.7700   816173.0\n",
       " 2021-01-28 16:00:00  87.7800  87.7800  87.3800  87.5150  1408540.0\n",
       " \n",
       " [1404 rows x 5 columns]}"
      ]
     },
     "metadata": {},
     "execution_count": 146
    }
   ],
   "source": [
    "ohlc_intraday"
   ]
  },
  {
   "cell_type": "code",
   "execution_count": 137,
   "metadata": {},
   "outputs": [],
   "source": [
    "tickers = ohlc_intraday.keys() # 如果在迴圈內有某些股票無資料，則應去掉。故更新過的 ohlc_intraday 的 key 重新定義 tickers"
   ]
  },
  {
   "source": [
    " ### 3. 建構好策略所需的技術指標資料:"
   ],
   "cell_type": "markdown",
   "metadata": {}
  },
  {
   "source": [
    "第一步非常重要: 複製一份 ```ohlc_dict```。 因為 ```ohlc_dict``` 是用迴圈方式取得的，最好不要隨意更動。"
   ],
   "cell_type": "markdown",
   "metadata": {}
  },
  {
   "cell_type": "code",
   "execution_count": 138,
   "metadata": {},
   "outputs": [],
   "source": [
    "ohlc_dict = copy.deepcopy(ohlc_intraday)"
   ]
  },
  {
   "cell_type": "code",
   "execution_count": 139,
   "metadata": {},
   "outputs": [],
   "source": [
    "tickers_signal = {} # 用來放各個股票在所有時點的交易訊號 (buy, sell, hold)"
   ]
  },
  {
   "cell_type": "code",
   "execution_count": 141,
   "metadata": {},
   "outputs": [],
   "source": [
    "tickers_ret = {} "
   ]
  },
  {
   "cell_type": "code",
   "execution_count": 158,
   "metadata": {},
   "outputs": [
    {
     "output_type": "stream",
     "name": "stdout",
     "text": [
      "Calculating ATR and rolling max price for:  MSFT\nCalculating ATR and rolling max price for:  AAPL\nCalculating ATR and rolling max price for:  AMZN\nCalculating ATR and rolling max price for:  TSLA\nCalculating ATR and rolling max price for:  AMD\n"
     ]
    }
   ],
   "source": [
    "for ticker in tickers:\n",
    "    print(\"Calculating ATR and rolling max price for: \", ticker)\n",
    "\n",
    "    # get the technical data\n",
    "    ohlc_dict[ticker][\"ATR\"] = ATR(ohlc_dict[ticker], 20)\n",
    "    ohlc_dict[ticker][\"Rolling_max_cp\"] = ohlc_dict[ticker][\"High\"].rolling(20).max()\n",
    "    ohlc_dict[ticker][\"Rolling_min_cp\"] = ohlc_dict[ticker][\"Low\"].rolling(20).min()\n",
    "    ohlc_dict[ticker][\"Rolling_max_vol\"] = ohlc_dict[ticker][\"Volume\"].rolling(20).max()\n",
    "    ohlc_dict[ticker].dropna(inplace=True)\n",
    "\n",
    "    # set the two di\"ct to original\n",
    "    tickers_signal[ticker] = \"\"\n",
    "    tickers_ret[ticker] = [0]\n"
   ]
  },
  {
   "cell_type": "code",
   "execution_count": 159,
   "metadata": {},
   "outputs": [
    {
     "output_type": "execute_result",
     "data": {
      "text/plain": [
       "{'MSFT': '', 'AAPL': '', 'AMZN': '', 'TSLA': '', 'AMD': ''}"
      ]
     },
     "metadata": {},
     "execution_count": 159
    }
   ],
   "source": [
    "tickers_signal"
   ]
  },
  {
   "cell_type": "code",
   "execution_count": 160,
   "metadata": {},
   "outputs": [
    {
     "output_type": "execute_result",
     "data": {
      "text/plain": [
       "{'MSFT': [0], 'AAPL': [0], 'AMZN': [0], 'TSLA': [0], 'AMD': [0]}"
      ]
     },
     "metadata": {},
     "execution_count": 160
    }
   ],
   "source": [
    "tickers_ret"
   ]
  },
  {
   "cell_type": "code",
   "execution_count": 161,
   "metadata": {},
   "outputs": [
    {
     "output_type": "execute_result",
     "data": {
      "text/plain": [
       "                         Open      High       Low     Close     Volume  \\\n",
       "date                                                                     \n",
       "2020-12-31 11:15:00  220.5000  220.5200  220.2300  220.3900   201061.0   \n",
       "2020-12-31 11:20:00  220.4000  220.6200  220.3600  220.5857   171990.0   \n",
       "2020-12-31 11:25:00  220.5785  220.5900  220.4000  220.5000    85159.0   \n",
       "2020-12-31 11:30:00  220.4950  220.5100  220.2500  220.2800   319535.0   \n",
       "2020-12-31 11:35:00  220.2750  220.3353  220.1900  220.1952   241678.0   \n",
       "...                       ...       ...       ...       ...        ...   \n",
       "2021-01-28 15:40:00  238.8900  239.4900  238.5800  239.3600   372897.0   \n",
       "2021-01-28 15:45:00  239.3600  239.4600  238.6600  238.7599   426632.0   \n",
       "2021-01-28 15:50:00  238.7400  239.3500  238.2400  239.1300   612485.0   \n",
       "2021-01-28 15:55:00  239.1500  240.2600  238.7201  240.1200  1039693.0   \n",
       "2021-01-28 16:00:00  240.1100  240.1200  238.6100  238.9300  1556311.0   \n",
       "\n",
       "                          ATR  Rolling_max_cp  Rolling_min_cp  Rolling_max_vol  \n",
       "date                                                                            \n",
       "2020-12-31 11:15:00  0.352175        222.5000          220.23         391996.0  \n",
       "2020-12-31 11:20:00  0.323770        222.5000          220.23         317844.0  \n",
       "2020-12-31 11:25:00  0.314270        222.3737          220.23         278368.0  \n",
       "2020-12-31 11:30:00  0.304775        222.3100          220.23         319535.0  \n",
       "2020-12-31 11:35:00  0.283540        221.8300          220.19         319535.0  \n",
       "...                       ...             ...             ...              ...  \n",
       "2021-01-28 15:40:00  0.716480        242.5500          238.58         619782.0  \n",
       "2021-01-28 15:45:00  0.732980        242.4637          238.58         619782.0  \n",
       "2021-01-28 15:50:00  0.755045        242.1350          238.24         619782.0  \n",
       "2021-01-28 15:55:00  0.814290        242.0300          238.24        1039693.0  \n",
       "2021-01-28 16:00:00  0.866290        242.0100          238.24        1556311.0  \n",
       "\n",
       "[1462 rows x 9 columns]"
      ],
      "text/html": "<div>\n<style scoped>\n    .dataframe tbody tr th:only-of-type {\n        vertical-align: middle;\n    }\n\n    .dataframe tbody tr th {\n        vertical-align: top;\n    }\n\n    .dataframe thead th {\n        text-align: right;\n    }\n</style>\n<table border=\"1\" class=\"dataframe\">\n  <thead>\n    <tr style=\"text-align: right;\">\n      <th></th>\n      <th>Open</th>\n      <th>High</th>\n      <th>Low</th>\n      <th>Close</th>\n      <th>Volume</th>\n      <th>ATR</th>\n      <th>Rolling_max_cp</th>\n      <th>Rolling_min_cp</th>\n      <th>Rolling_max_vol</th>\n    </tr>\n    <tr>\n      <th>date</th>\n      <th></th>\n      <th></th>\n      <th></th>\n      <th></th>\n      <th></th>\n      <th></th>\n      <th></th>\n      <th></th>\n      <th></th>\n    </tr>\n  </thead>\n  <tbody>\n    <tr>\n      <th>2020-12-31 11:15:00</th>\n      <td>220.5000</td>\n      <td>220.5200</td>\n      <td>220.2300</td>\n      <td>220.3900</td>\n      <td>201061.0</td>\n      <td>0.352175</td>\n      <td>222.5000</td>\n      <td>220.23</td>\n      <td>391996.0</td>\n    </tr>\n    <tr>\n      <th>2020-12-31 11:20:00</th>\n      <td>220.4000</td>\n      <td>220.6200</td>\n      <td>220.3600</td>\n      <td>220.5857</td>\n      <td>171990.0</td>\n      <td>0.323770</td>\n      <td>222.5000</td>\n      <td>220.23</td>\n      <td>317844.0</td>\n    </tr>\n    <tr>\n      <th>2020-12-31 11:25:00</th>\n      <td>220.5785</td>\n      <td>220.5900</td>\n      <td>220.4000</td>\n      <td>220.5000</td>\n      <td>85159.0</td>\n      <td>0.314270</td>\n      <td>222.3737</td>\n      <td>220.23</td>\n      <td>278368.0</td>\n    </tr>\n    <tr>\n      <th>2020-12-31 11:30:00</th>\n      <td>220.4950</td>\n      <td>220.5100</td>\n      <td>220.2500</td>\n      <td>220.2800</td>\n      <td>319535.0</td>\n      <td>0.304775</td>\n      <td>222.3100</td>\n      <td>220.23</td>\n      <td>319535.0</td>\n    </tr>\n    <tr>\n      <th>2020-12-31 11:35:00</th>\n      <td>220.2750</td>\n      <td>220.3353</td>\n      <td>220.1900</td>\n      <td>220.1952</td>\n      <td>241678.0</td>\n      <td>0.283540</td>\n      <td>221.8300</td>\n      <td>220.19</td>\n      <td>319535.0</td>\n    </tr>\n    <tr>\n      <th>...</th>\n      <td>...</td>\n      <td>...</td>\n      <td>...</td>\n      <td>...</td>\n      <td>...</td>\n      <td>...</td>\n      <td>...</td>\n      <td>...</td>\n      <td>...</td>\n    </tr>\n    <tr>\n      <th>2021-01-28 15:40:00</th>\n      <td>238.8900</td>\n      <td>239.4900</td>\n      <td>238.5800</td>\n      <td>239.3600</td>\n      <td>372897.0</td>\n      <td>0.716480</td>\n      <td>242.5500</td>\n      <td>238.58</td>\n      <td>619782.0</td>\n    </tr>\n    <tr>\n      <th>2021-01-28 15:45:00</th>\n      <td>239.3600</td>\n      <td>239.4600</td>\n      <td>238.6600</td>\n      <td>238.7599</td>\n      <td>426632.0</td>\n      <td>0.732980</td>\n      <td>242.4637</td>\n      <td>238.58</td>\n      <td>619782.0</td>\n    </tr>\n    <tr>\n      <th>2021-01-28 15:50:00</th>\n      <td>238.7400</td>\n      <td>239.3500</td>\n      <td>238.2400</td>\n      <td>239.1300</td>\n      <td>612485.0</td>\n      <td>0.755045</td>\n      <td>242.1350</td>\n      <td>238.24</td>\n      <td>619782.0</td>\n    </tr>\n    <tr>\n      <th>2021-01-28 15:55:00</th>\n      <td>239.1500</td>\n      <td>240.2600</td>\n      <td>238.7201</td>\n      <td>240.1200</td>\n      <td>1039693.0</td>\n      <td>0.814290</td>\n      <td>242.0300</td>\n      <td>238.24</td>\n      <td>1039693.0</td>\n    </tr>\n    <tr>\n      <th>2021-01-28 16:00:00</th>\n      <td>240.1100</td>\n      <td>240.1200</td>\n      <td>238.6100</td>\n      <td>238.9300</td>\n      <td>1556311.0</td>\n      <td>0.866290</td>\n      <td>242.0100</td>\n      <td>238.24</td>\n      <td>1556311.0</td>\n    </tr>\n  </tbody>\n</table>\n<p>1462 rows × 9 columns</p>\n</div>"
     },
     "metadata": {},
     "execution_count": 161
    }
   ],
   "source": [
    "ohlc_dict['MSFT']"
   ]
  },
  {
   "cell_type": "code",
   "execution_count": null,
   "metadata": {},
   "outputs": [],
   "source": []
  }
 ]
}