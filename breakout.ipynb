{
 "metadata": {
  "language_info": {
   "codemirror_mode": {
    "name": "ipython",
    "version": 3
   },
   "file_extension": ".py",
   "mimetype": "text/x-python",
   "name": "python",
   "nbconvert_exporter": "python",
   "pygments_lexer": "ipython3",
   "version": "3.8.5-final"
  },
  "orig_nbformat": 2,
  "kernelspec": {
   "name": "python3",
   "display_name": "Python 3.8.5 64-bit ('quantTrading': conda)",
   "metadata": {
    "interpreter": {
     "hash": "f12840f8c3ee55eac1a5e8d37cc606a61527ff262478fc717919659d7e61c84d"
    }
   }
  }
 },
 "nbformat": 4,
 "nbformat_minor": 2,
 "cells": [
  {
   "source": [
    "## Support-Resistance Breakout Strategy"
   ],
   "cell_type": "markdown",
   "metadata": {}
  },
  {
   "source": [
    "原則:  \n",
    "- 選擇股價波動大且成交量大的標的  \n",
    "- 定義 ```breakout rule```  \n",
    "- 定義 ```exit/stop loss signal```  \n",
    "- 用 cumulative return 計算每個標的的 returnm"
   ],
   "cell_type": "markdown",
   "metadata": {}
  },
  {
   "source": [
    "策略:  \n",
    "- ```breakout rule```: 20 period rolling max/min + 20 days rolling volume  \n",
    "- ```exit/stop loss```: previous price +- 20 period ATR"
   ],
   "cell_type": "markdown",
   "metadata": {}
  },
  {
   "source": [
    "### 1. 引入套件:"
   ],
   "cell_type": "markdown",
   "metadata": {}
  },
  {
   "cell_type": "code",
   "execution_count": 169,
   "metadata": {},
   "outputs": [],
   "source": [
    "import tejapi"
   ]
  },
  {
   "cell_type": "code",
   "execution_count": 170,
   "metadata": {},
   "outputs": [],
   "source": [
    "tejapi.ApiConfig.api_key = \"09vOL7Mk5yamPfvzSffVkl6iKb0fHJ\""
   ]
  },
  {
   "cell_type": "code",
   "execution_count": 171,
   "metadata": {},
   "outputs": [],
   "source": [
    "info = tejapi.ApiConfig.info()"
   ]
  },
  {
   "cell_type": "code",
   "execution_count": 172,
   "metadata": {},
   "outputs": [],
   "source": [
    "data = tejapi.get('TRAIL/TAGIN')"
   ]
  },
  {
   "cell_type": "code",
   "execution_count": 173,
   "metadata": {},
   "outputs": [
    {
     "output_type": "execute_result",
     "data": {
      "text/plain": [
       "       coid                     mdate  gin0   l0ng_ta  buy_l   buy_la  sell_l  \\\n",
       "None                                                                            \n",
       "0      0050 2020-01-02 00:00:00+00:00   374  36513.62     20  1952.60       6   \n",
       "1      0050 2020-01-03 00:00:00+00:00   388  37907.60     30  2931.00      16   \n",
       "2      0050 2020-01-06 00:00:00+00:00   381  36827.46      7   676.62      14   \n",
       "3      0050 2020-01-07 00:00:00+00:00   410  39351.80     41  3935.18      12   \n",
       "4      0050 2020-01-08 00:00:00+00:00   441  42133.14     51  4872.54      20   \n",
       "...     ...                       ...   ...       ...    ...      ...     ...   \n",
       "9995  00657 2020-10-23 00:00:00+00:00     0      0.00      0     0.00       0   \n",
       "9996  00657 2020-10-26 00:00:00+00:00     0      0.00      0     0.00       0   \n",
       "9997  00657 2020-10-27 00:00:00+00:00     0      0.00      0     0.00       0   \n",
       "9998  00657 2020-10-28 00:00:00+00:00     0      0.00      0     0.00       0   \n",
       "9999  00657 2020-10-29 00:00:00+00:00     0      0.00      0     0.00       0   \n",
       "\n",
       "      sell_la  cash_l  cash_la  ...  limit_b1  limit_b2    sbls_k  shorts_k  \\\n",
       "None                            ...                                           \n",
       "0      585.78       0      0.0  ...      1006     68700  31990.95     195.4   \n",
       "1     1563.20       0      0.0  ...      1041     66950  21216.45     195.7   \n",
       "2     1353.24       0      0.0  ...      1120     66950  33959.20     386.5   \n",
       "3     1151.76       0      0.0  ...      1158     66950  49379.95     287.6   \n",
       "4     1910.80       0      0.0  ...      1205     66050  53815.30     477.8   \n",
       "...       ...     ...      ...  ...       ...       ...       ...       ...   \n",
       "9995     0.00       0      0.0  ...        32       432      0.00       0.0   \n",
       "9996     0.00       0      0.0  ...        32       432      0.00       0.0   \n",
       "9997     0.00       0      0.0  ...        32       432      0.00       0.0   \n",
       "9998     0.00       0      0.0  ...        32       432      0.00       0.0   \n",
       "9999     0.00       0      0.0  ...        32       432      0.00       0.0   \n",
       "\n",
       "           ap    alc   asc1     lmr     smr     tmr  \n",
       "None                                                 \n",
       "0     97.6300  95.93  87.11  169.65  169.49  169.58  \n",
       "1     97.7000  96.07  87.23  169.41  169.73  169.55  \n",
       "2     96.6600  96.08  87.45  167.23  172.36  169.44  \n",
       "3     95.9800  96.07  87.61  166.72  173.21  169.32  \n",
       "4     95.5400  96.01  87.84  166.05  174.49  169.33  \n",
       "...       ...    ...    ...     ...     ...     ...  \n",
       "9995  29.2496    NaN    NaN     NaN     NaN     NaN  \n",
       "9996  29.1601    NaN    NaN     NaN     NaN     NaN  \n",
       "9997  29.0498    NaN    NaN     NaN     NaN     NaN  \n",
       "9998  29.0103    NaN    NaN     NaN     NaN     NaN  \n",
       "9999  28.9600    NaN    NaN     NaN     NaN     NaN  \n",
       "\n",
       "[10000 rows x 50 columns]"
      ],
      "text/html": "<div>\n<style scoped>\n    .dataframe tbody tr th:only-of-type {\n        vertical-align: middle;\n    }\n\n    .dataframe tbody tr th {\n        vertical-align: top;\n    }\n\n    .dataframe thead th {\n        text-align: right;\n    }\n</style>\n<table border=\"1\" class=\"dataframe\">\n  <thead>\n    <tr style=\"text-align: right;\">\n      <th></th>\n      <th>coid</th>\n      <th>mdate</th>\n      <th>gin0</th>\n      <th>l0ng_ta</th>\n      <th>buy_l</th>\n      <th>buy_la</th>\n      <th>sell_l</th>\n      <th>sell_la</th>\n      <th>cash_l</th>\n      <th>cash_la</th>\n      <th>...</th>\n      <th>limit_b1</th>\n      <th>limit_b2</th>\n      <th>sbls_k</th>\n      <th>shorts_k</th>\n      <th>ap</th>\n      <th>alc</th>\n      <th>asc1</th>\n      <th>lmr</th>\n      <th>smr</th>\n      <th>tmr</th>\n    </tr>\n    <tr>\n      <th>None</th>\n      <th></th>\n      <th></th>\n      <th></th>\n      <th></th>\n      <th></th>\n      <th></th>\n      <th></th>\n      <th></th>\n      <th></th>\n      <th></th>\n      <th></th>\n      <th></th>\n      <th></th>\n      <th></th>\n      <th></th>\n      <th></th>\n      <th></th>\n      <th></th>\n      <th></th>\n      <th></th>\n      <th></th>\n    </tr>\n  </thead>\n  <tbody>\n    <tr>\n      <th>0</th>\n      <td>0050</td>\n      <td>2020-01-02 00:00:00+00:00</td>\n      <td>374</td>\n      <td>36513.62</td>\n      <td>20</td>\n      <td>1952.60</td>\n      <td>6</td>\n      <td>585.78</td>\n      <td>0</td>\n      <td>0.0</td>\n      <td>...</td>\n      <td>1006</td>\n      <td>68700</td>\n      <td>31990.95</td>\n      <td>195.4</td>\n      <td>97.6300</td>\n      <td>95.93</td>\n      <td>87.11</td>\n      <td>169.65</td>\n      <td>169.49</td>\n      <td>169.58</td>\n    </tr>\n    <tr>\n      <th>1</th>\n      <td>0050</td>\n      <td>2020-01-03 00:00:00+00:00</td>\n      <td>388</td>\n      <td>37907.60</td>\n      <td>30</td>\n      <td>2931.00</td>\n      <td>16</td>\n      <td>1563.20</td>\n      <td>0</td>\n      <td>0.0</td>\n      <td>...</td>\n      <td>1041</td>\n      <td>66950</td>\n      <td>21216.45</td>\n      <td>195.7</td>\n      <td>97.7000</td>\n      <td>96.07</td>\n      <td>87.23</td>\n      <td>169.41</td>\n      <td>169.73</td>\n      <td>169.55</td>\n    </tr>\n    <tr>\n      <th>2</th>\n      <td>0050</td>\n      <td>2020-01-06 00:00:00+00:00</td>\n      <td>381</td>\n      <td>36827.46</td>\n      <td>7</td>\n      <td>676.62</td>\n      <td>14</td>\n      <td>1353.24</td>\n      <td>0</td>\n      <td>0.0</td>\n      <td>...</td>\n      <td>1120</td>\n      <td>66950</td>\n      <td>33959.20</td>\n      <td>386.5</td>\n      <td>96.6600</td>\n      <td>96.08</td>\n      <td>87.45</td>\n      <td>167.23</td>\n      <td>172.36</td>\n      <td>169.44</td>\n    </tr>\n    <tr>\n      <th>3</th>\n      <td>0050</td>\n      <td>2020-01-07 00:00:00+00:00</td>\n      <td>410</td>\n      <td>39351.80</td>\n      <td>41</td>\n      <td>3935.18</td>\n      <td>12</td>\n      <td>1151.76</td>\n      <td>0</td>\n      <td>0.0</td>\n      <td>...</td>\n      <td>1158</td>\n      <td>66950</td>\n      <td>49379.95</td>\n      <td>287.6</td>\n      <td>95.9800</td>\n      <td>96.07</td>\n      <td>87.61</td>\n      <td>166.72</td>\n      <td>173.21</td>\n      <td>169.32</td>\n    </tr>\n    <tr>\n      <th>4</th>\n      <td>0050</td>\n      <td>2020-01-08 00:00:00+00:00</td>\n      <td>441</td>\n      <td>42133.14</td>\n      <td>51</td>\n      <td>4872.54</td>\n      <td>20</td>\n      <td>1910.80</td>\n      <td>0</td>\n      <td>0.0</td>\n      <td>...</td>\n      <td>1205</td>\n      <td>66050</td>\n      <td>53815.30</td>\n      <td>477.8</td>\n      <td>95.5400</td>\n      <td>96.01</td>\n      <td>87.84</td>\n      <td>166.05</td>\n      <td>174.49</td>\n      <td>169.33</td>\n    </tr>\n    <tr>\n      <th>...</th>\n      <td>...</td>\n      <td>...</td>\n      <td>...</td>\n      <td>...</td>\n      <td>...</td>\n      <td>...</td>\n      <td>...</td>\n      <td>...</td>\n      <td>...</td>\n      <td>...</td>\n      <td>...</td>\n      <td>...</td>\n      <td>...</td>\n      <td>...</td>\n      <td>...</td>\n      <td>...</td>\n      <td>...</td>\n      <td>...</td>\n      <td>...</td>\n      <td>...</td>\n      <td>...</td>\n    </tr>\n    <tr>\n      <th>9995</th>\n      <td>00657</td>\n      <td>2020-10-23 00:00:00+00:00</td>\n      <td>0</td>\n      <td>0.00</td>\n      <td>0</td>\n      <td>0.00</td>\n      <td>0</td>\n      <td>0.00</td>\n      <td>0</td>\n      <td>0.0</td>\n      <td>...</td>\n      <td>32</td>\n      <td>432</td>\n      <td>0.00</td>\n      <td>0.0</td>\n      <td>29.2496</td>\n      <td>NaN</td>\n      <td>NaN</td>\n      <td>NaN</td>\n      <td>NaN</td>\n      <td>NaN</td>\n    </tr>\n    <tr>\n      <th>9996</th>\n      <td>00657</td>\n      <td>2020-10-26 00:00:00+00:00</td>\n      <td>0</td>\n      <td>0.00</td>\n      <td>0</td>\n      <td>0.00</td>\n      <td>0</td>\n      <td>0.00</td>\n      <td>0</td>\n      <td>0.0</td>\n      <td>...</td>\n      <td>32</td>\n      <td>432</td>\n      <td>0.00</td>\n      <td>0.0</td>\n      <td>29.1601</td>\n      <td>NaN</td>\n      <td>NaN</td>\n      <td>NaN</td>\n      <td>NaN</td>\n      <td>NaN</td>\n    </tr>\n    <tr>\n      <th>9997</th>\n      <td>00657</td>\n      <td>2020-10-27 00:00:00+00:00</td>\n      <td>0</td>\n      <td>0.00</td>\n      <td>0</td>\n      <td>0.00</td>\n      <td>0</td>\n      <td>0.00</td>\n      <td>0</td>\n      <td>0.0</td>\n      <td>...</td>\n      <td>32</td>\n      <td>432</td>\n      <td>0.00</td>\n      <td>0.0</td>\n      <td>29.0498</td>\n      <td>NaN</td>\n      <td>NaN</td>\n      <td>NaN</td>\n      <td>NaN</td>\n      <td>NaN</td>\n    </tr>\n    <tr>\n      <th>9998</th>\n      <td>00657</td>\n      <td>2020-10-28 00:00:00+00:00</td>\n      <td>0</td>\n      <td>0.00</td>\n      <td>0</td>\n      <td>0.00</td>\n      <td>0</td>\n      <td>0.00</td>\n      <td>0</td>\n      <td>0.0</td>\n      <td>...</td>\n      <td>32</td>\n      <td>432</td>\n      <td>0.00</td>\n      <td>0.0</td>\n      <td>29.0103</td>\n      <td>NaN</td>\n      <td>NaN</td>\n      <td>NaN</td>\n      <td>NaN</td>\n      <td>NaN</td>\n    </tr>\n    <tr>\n      <th>9999</th>\n      <td>00657</td>\n      <td>2020-10-29 00:00:00+00:00</td>\n      <td>0</td>\n      <td>0.00</td>\n      <td>0</td>\n      <td>0.00</td>\n      <td>0</td>\n      <td>0.00</td>\n      <td>0</td>\n      <td>0.0</td>\n      <td>...</td>\n      <td>32</td>\n      <td>432</td>\n      <td>0.00</td>\n      <td>0.0</td>\n      <td>28.9600</td>\n      <td>NaN</td>\n      <td>NaN</td>\n      <td>NaN</td>\n      <td>NaN</td>\n      <td>NaN</td>\n    </tr>\n  </tbody>\n</table>\n<p>10000 rows × 50 columns</p>\n</div>"
     },
     "metadata": {},
     "execution_count": 173
    }
   ],
   "source": [
    "data"
   ]
  },
  {
   "cell_type": "code",
   "execution_count": 174,
   "metadata": {},
   "outputs": [],
   "source": [
    "import numpy as np\n",
    "import pandas as pd\n",
    "import copy\n",
    "import time"
   ]
  },
  {
   "cell_type": "code",
   "execution_count": 175,
   "metadata": {},
   "outputs": [],
   "source": [
    "from alpha_vantage.timeseries import TimeSeries"
   ]
  },
  {
   "cell_type": "code",
   "execution_count": 176,
   "metadata": {},
   "outputs": [],
   "source": [
    "def ATR(DF, n):\n",
    "    df = DF.copy()\n",
    "    df[\"H-L\"] = abs(df[\"High\"] - df[\"Low\"]) \n",
    "    df[\"H-PC\"] = abs(df[\"High\"] - df[\"Close\"].shift(1)) # 今天跳空上漲的情況\n",
    "    df[\"L-PC\"] = abs(df[\"Low\"] - df[\"Close\"].shift(1)) # 今天跳空下跌\n",
    "    # 取三者裡的最大者，且不忽略 NaN\n",
    "    df[\"TR\"] = df[ [\"H-L\", \"H-PC\", \"L-PC\"] ].max(axis=1, skipna=False)\n",
    "    df[\"ATR\"] = df[\"TR\"].rolling(n).mean() # rolling 的天數自訂，通常用 20\n",
    "    # 刪除暫時的 columns\n",
    "    df = df.drop( [\"H-L\", \"H-PC\", \"L-PC\"], axis=1)\n",
    "    return df[\"ATR\"]"
   ]
  },
  {
   "source": [
    "### 2.1. 選擇交易標的:"
   ],
   "cell_type": "markdown",
   "metadata": {}
  },
  {
   "source": [
    "先用一個股票拆解，之後再用迴圈取得多個股票:"
   ],
   "cell_type": "markdown",
   "metadata": {}
  },
  {
   "cell_type": "code",
   "execution_count": 177,
   "metadata": {},
   "outputs": [],
   "source": [
    "key_path = r\"C:\\\\Users\\User\\\\Quant_Trading\\\\alpha_vantage\\\\api_key.txt\"\n",
    "ts = TimeSeries(key=open(key_path, 'r').read(), output_format='pandas')"
   ]
  },
  {
   "cell_type": "code",
   "execution_count": 178,
   "metadata": {},
   "outputs": [],
   "source": [
    "data = ts.get_intraday(symbol='MSFT', interval='5min', outputsize='full')"
   ]
  },
  {
   "cell_type": "code",
   "execution_count": 179,
   "metadata": {},
   "outputs": [
    {
     "output_type": "execute_result",
     "data": {
      "text/plain": [
       "tuple"
      ]
     },
     "metadata": {},
     "execution_count": 179
    }
   ],
   "source": [
    "type(data) # return tuple object"
   ]
  },
  {
   "cell_type": "code",
   "execution_count": 180,
   "metadata": {},
   "outputs": [
    {
     "output_type": "execute_result",
     "data": {
      "text/plain": [
       "(                     1. open  2. high    3. low  4. close  5. volume\n",
       " date                                                                \n",
       " 2021-01-29 20:00:00   231.79   231.80  231.6400  231.8000     4474.0\n",
       " 2021-01-29 19:55:00   231.70   231.70  231.7000  231.7000      496.0\n",
       " 2021-01-29 19:50:00   231.77   231.77  231.7000  231.7000     2898.0\n",
       " 2021-01-29 19:45:00   231.84   231.84  231.8199  231.8199      689.0\n",
       " 2021-01-29 19:40:00   231.63   231.89  231.6300  231.8900      633.0\n",
       " ...                      ...      ...       ...       ...        ...\n",
       " 2021-01-04 04:30:00   223.36   223.39  223.3600  223.3900     1063.0\n",
       " 2021-01-04 04:25:00   223.04   223.04  223.0400  223.0400      272.0\n",
       " 2021-01-04 04:20:00   223.40   223.40  223.4000  223.4000      476.0\n",
       " 2021-01-04 04:15:00   223.39   223.40  223.3900  223.4000      752.0\n",
       " 2021-01-04 04:05:00   222.75   223.40  222.7500  223.4000     1281.0\n",
       " \n",
       " [3334 rows x 5 columns],\n",
       " {'1. Information': 'Intraday (5min) open, high, low, close prices and volume',\n",
       "  '2. Symbol': 'MSFT',\n",
       "  '3. Last Refreshed': '2021-01-29 20:00:00',\n",
       "  '4. Interval': '5min',\n",
       "  '5. Output Size': 'Full size',\n",
       "  '6. Time Zone': 'US/Eastern'})"
      ]
     },
     "metadata": {},
     "execution_count": 180
    }
   ],
   "source": [
    "data"
   ]
  },
  {
   "cell_type": "code",
   "execution_count": 181,
   "metadata": {},
   "outputs": [
    {
     "output_type": "execute_result",
     "data": {
      "text/plain": [
       "                     1. open  2. high    3. low  4. close  5. volume\n",
       "date                                                                \n",
       "2021-01-29 20:00:00   231.79   231.80  231.6400  231.8000     4474.0\n",
       "2021-01-29 19:55:00   231.70   231.70  231.7000  231.7000      496.0\n",
       "2021-01-29 19:50:00   231.77   231.77  231.7000  231.7000     2898.0\n",
       "2021-01-29 19:45:00   231.84   231.84  231.8199  231.8199      689.0\n",
       "2021-01-29 19:40:00   231.63   231.89  231.6300  231.8900      633.0\n",
       "...                      ...      ...       ...       ...        ...\n",
       "2021-01-04 04:30:00   223.36   223.39  223.3600  223.3900     1063.0\n",
       "2021-01-04 04:25:00   223.04   223.04  223.0400  223.0400      272.0\n",
       "2021-01-04 04:20:00   223.40   223.40  223.4000  223.4000      476.0\n",
       "2021-01-04 04:15:00   223.39   223.40  223.3900  223.4000      752.0\n",
       "2021-01-04 04:05:00   222.75   223.40  222.7500  223.4000     1281.0\n",
       "\n",
       "[3334 rows x 5 columns]"
      ],
      "text/html": "<div>\n<style scoped>\n    .dataframe tbody tr th:only-of-type {\n        vertical-align: middle;\n    }\n\n    .dataframe tbody tr th {\n        vertical-align: top;\n    }\n\n    .dataframe thead th {\n        text-align: right;\n    }\n</style>\n<table border=\"1\" class=\"dataframe\">\n  <thead>\n    <tr style=\"text-align: right;\">\n      <th></th>\n      <th>1. open</th>\n      <th>2. high</th>\n      <th>3. low</th>\n      <th>4. close</th>\n      <th>5. volume</th>\n    </tr>\n    <tr>\n      <th>date</th>\n      <th></th>\n      <th></th>\n      <th></th>\n      <th></th>\n      <th></th>\n    </tr>\n  </thead>\n  <tbody>\n    <tr>\n      <th>2021-01-29 20:00:00</th>\n      <td>231.79</td>\n      <td>231.80</td>\n      <td>231.6400</td>\n      <td>231.8000</td>\n      <td>4474.0</td>\n    </tr>\n    <tr>\n      <th>2021-01-29 19:55:00</th>\n      <td>231.70</td>\n      <td>231.70</td>\n      <td>231.7000</td>\n      <td>231.7000</td>\n      <td>496.0</td>\n    </tr>\n    <tr>\n      <th>2021-01-29 19:50:00</th>\n      <td>231.77</td>\n      <td>231.77</td>\n      <td>231.7000</td>\n      <td>231.7000</td>\n      <td>2898.0</td>\n    </tr>\n    <tr>\n      <th>2021-01-29 19:45:00</th>\n      <td>231.84</td>\n      <td>231.84</td>\n      <td>231.8199</td>\n      <td>231.8199</td>\n      <td>689.0</td>\n    </tr>\n    <tr>\n      <th>2021-01-29 19:40:00</th>\n      <td>231.63</td>\n      <td>231.89</td>\n      <td>231.6300</td>\n      <td>231.8900</td>\n      <td>633.0</td>\n    </tr>\n    <tr>\n      <th>...</th>\n      <td>...</td>\n      <td>...</td>\n      <td>...</td>\n      <td>...</td>\n      <td>...</td>\n    </tr>\n    <tr>\n      <th>2021-01-04 04:30:00</th>\n      <td>223.36</td>\n      <td>223.39</td>\n      <td>223.3600</td>\n      <td>223.3900</td>\n      <td>1063.0</td>\n    </tr>\n    <tr>\n      <th>2021-01-04 04:25:00</th>\n      <td>223.04</td>\n      <td>223.04</td>\n      <td>223.0400</td>\n      <td>223.0400</td>\n      <td>272.0</td>\n    </tr>\n    <tr>\n      <th>2021-01-04 04:20:00</th>\n      <td>223.40</td>\n      <td>223.40</td>\n      <td>223.4000</td>\n      <td>223.4000</td>\n      <td>476.0</td>\n    </tr>\n    <tr>\n      <th>2021-01-04 04:15:00</th>\n      <td>223.39</td>\n      <td>223.40</td>\n      <td>223.3900</td>\n      <td>223.4000</td>\n      <td>752.0</td>\n    </tr>\n    <tr>\n      <th>2021-01-04 04:05:00</th>\n      <td>222.75</td>\n      <td>223.40</td>\n      <td>222.7500</td>\n      <td>223.4000</td>\n      <td>1281.0</td>\n    </tr>\n  </tbody>\n</table>\n<p>3334 rows × 5 columns</p>\n</div>"
     },
     "metadata": {},
     "execution_count": 181
    }
   ],
   "source": [
    "data[0] # 這裡的資料由最新到最就是由上往下，應該把它倒過來"
   ]
  },
  {
   "cell_type": "code",
   "execution_count": 182,
   "metadata": {},
   "outputs": [
    {
     "output_type": "execute_result",
     "data": {
      "text/plain": [
       "pandas.core.frame.DataFrame"
      ]
     },
     "metadata": {},
     "execution_count": 182
    }
   ],
   "source": [
    "type(data[0]) # we only need this data frame"
   ]
  },
  {
   "cell_type": "code",
   "execution_count": 183,
   "metadata": {},
   "outputs": [
    {
     "output_type": "execute_result",
     "data": {
      "text/plain": [
       "                     1. open  2. high    3. low  4. close  5. volume\n",
       "date                                                                \n",
       "2021-01-04 04:05:00   222.75   223.40  222.7500  223.4000     1281.0\n",
       "2021-01-04 04:15:00   223.39   223.40  223.3900  223.4000      752.0\n",
       "2021-01-04 04:20:00   223.40   223.40  223.4000  223.4000      476.0\n",
       "2021-01-04 04:25:00   223.04   223.04  223.0400  223.0400      272.0\n",
       "2021-01-04 04:30:00   223.36   223.39  223.3600  223.3900     1063.0\n",
       "...                      ...      ...       ...       ...        ...\n",
       "2021-01-29 19:40:00   231.63   231.89  231.6300  231.8900      633.0\n",
       "2021-01-29 19:45:00   231.84   231.84  231.8199  231.8199      689.0\n",
       "2021-01-29 19:50:00   231.77   231.77  231.7000  231.7000     2898.0\n",
       "2021-01-29 19:55:00   231.70   231.70  231.7000  231.7000      496.0\n",
       "2021-01-29 20:00:00   231.79   231.80  231.6400  231.8000     4474.0\n",
       "\n",
       "[3334 rows x 5 columns]"
      ],
      "text/html": "<div>\n<style scoped>\n    .dataframe tbody tr th:only-of-type {\n        vertical-align: middle;\n    }\n\n    .dataframe tbody tr th {\n        vertical-align: top;\n    }\n\n    .dataframe thead th {\n        text-align: right;\n    }\n</style>\n<table border=\"1\" class=\"dataframe\">\n  <thead>\n    <tr style=\"text-align: right;\">\n      <th></th>\n      <th>1. open</th>\n      <th>2. high</th>\n      <th>3. low</th>\n      <th>4. close</th>\n      <th>5. volume</th>\n    </tr>\n    <tr>\n      <th>date</th>\n      <th></th>\n      <th></th>\n      <th></th>\n      <th></th>\n      <th></th>\n    </tr>\n  </thead>\n  <tbody>\n    <tr>\n      <th>2021-01-04 04:05:00</th>\n      <td>222.75</td>\n      <td>223.40</td>\n      <td>222.7500</td>\n      <td>223.4000</td>\n      <td>1281.0</td>\n    </tr>\n    <tr>\n      <th>2021-01-04 04:15:00</th>\n      <td>223.39</td>\n      <td>223.40</td>\n      <td>223.3900</td>\n      <td>223.4000</td>\n      <td>752.0</td>\n    </tr>\n    <tr>\n      <th>2021-01-04 04:20:00</th>\n      <td>223.40</td>\n      <td>223.40</td>\n      <td>223.4000</td>\n      <td>223.4000</td>\n      <td>476.0</td>\n    </tr>\n    <tr>\n      <th>2021-01-04 04:25:00</th>\n      <td>223.04</td>\n      <td>223.04</td>\n      <td>223.0400</td>\n      <td>223.0400</td>\n      <td>272.0</td>\n    </tr>\n    <tr>\n      <th>2021-01-04 04:30:00</th>\n      <td>223.36</td>\n      <td>223.39</td>\n      <td>223.3600</td>\n      <td>223.3900</td>\n      <td>1063.0</td>\n    </tr>\n    <tr>\n      <th>...</th>\n      <td>...</td>\n      <td>...</td>\n      <td>...</td>\n      <td>...</td>\n      <td>...</td>\n    </tr>\n    <tr>\n      <th>2021-01-29 19:40:00</th>\n      <td>231.63</td>\n      <td>231.89</td>\n      <td>231.6300</td>\n      <td>231.8900</td>\n      <td>633.0</td>\n    </tr>\n    <tr>\n      <th>2021-01-29 19:45:00</th>\n      <td>231.84</td>\n      <td>231.84</td>\n      <td>231.8199</td>\n      <td>231.8199</td>\n      <td>689.0</td>\n    </tr>\n    <tr>\n      <th>2021-01-29 19:50:00</th>\n      <td>231.77</td>\n      <td>231.77</td>\n      <td>231.7000</td>\n      <td>231.7000</td>\n      <td>2898.0</td>\n    </tr>\n    <tr>\n      <th>2021-01-29 19:55:00</th>\n      <td>231.70</td>\n      <td>231.70</td>\n      <td>231.7000</td>\n      <td>231.7000</td>\n      <td>496.0</td>\n    </tr>\n    <tr>\n      <th>2021-01-29 20:00:00</th>\n      <td>231.79</td>\n      <td>231.80</td>\n      <td>231.6400</td>\n      <td>231.8000</td>\n      <td>4474.0</td>\n    </tr>\n  </tbody>\n</table>\n<p>3334 rows × 5 columns</p>\n</div>"
     },
     "metadata": {},
     "execution_count": 183
    }
   ],
   "source": [
    "data[0].iloc[::-1] # change the order of the dates"
   ]
  },
  {
   "cell_type": "code",
   "execution_count": 184,
   "metadata": {},
   "outputs": [
    {
     "output_type": "execute_result",
     "data": {
      "text/plain": [
       "(                     1. open  2. high    3. low  4. close  5. volume\n",
       " date                                                                \n",
       " 2021-01-29 20:00:00   231.79   231.80  231.6400  231.8000     4474.0\n",
       " 2021-01-29 19:55:00   231.70   231.70  231.7000  231.7000      496.0\n",
       " 2021-01-29 19:50:00   231.77   231.77  231.7000  231.7000     2898.0\n",
       " 2021-01-29 19:45:00   231.84   231.84  231.8199  231.8199      689.0\n",
       " 2021-01-29 19:40:00   231.63   231.89  231.6300  231.8900      633.0\n",
       " ...                      ...      ...       ...       ...        ...\n",
       " 2021-01-04 04:30:00   223.36   223.39  223.3600  223.3900     1063.0\n",
       " 2021-01-04 04:25:00   223.04   223.04  223.0400  223.0400      272.0\n",
       " 2021-01-04 04:20:00   223.40   223.40  223.4000  223.4000      476.0\n",
       " 2021-01-04 04:15:00   223.39   223.40  223.3900  223.4000      752.0\n",
       " 2021-01-04 04:05:00   222.75   223.40  222.7500  223.4000     1281.0\n",
       " \n",
       " [3334 rows x 5 columns],\n",
       " {'1. Information': 'Intraday (5min) open, high, low, close prices and volume',\n",
       "  '2. Symbol': 'MSFT',\n",
       "  '3. Last Refreshed': '2021-01-29 20:00:00',\n",
       "  '4. Interval': '5min',\n",
       "  '5. Output Size': 'Full size',\n",
       "  '6. Time Zone': 'US/Eastern'})"
      ]
     },
     "metadata": {},
     "execution_count": 184
    }
   ],
   "source": [
    "data"
   ]
  },
  {
   "cell_type": "code",
   "execution_count": 185,
   "metadata": {},
   "outputs": [],
   "source": [
    "df = pd.DataFrame(data[0])"
   ]
  },
  {
   "cell_type": "code",
   "execution_count": 186,
   "metadata": {},
   "outputs": [
    {
     "output_type": "execute_result",
     "data": {
      "text/plain": [
       "                     1. open  2. high    3. low  4. close  5. volume\n",
       "date                                                                \n",
       "2021-01-29 20:00:00   231.79   231.80  231.6400  231.8000     4474.0\n",
       "2021-01-29 19:55:00   231.70   231.70  231.7000  231.7000      496.0\n",
       "2021-01-29 19:50:00   231.77   231.77  231.7000  231.7000     2898.0\n",
       "2021-01-29 19:45:00   231.84   231.84  231.8199  231.8199      689.0\n",
       "2021-01-29 19:40:00   231.63   231.89  231.6300  231.8900      633.0\n",
       "...                      ...      ...       ...       ...        ...\n",
       "2021-01-04 04:30:00   223.36   223.39  223.3600  223.3900     1063.0\n",
       "2021-01-04 04:25:00   223.04   223.04  223.0400  223.0400      272.0\n",
       "2021-01-04 04:20:00   223.40   223.40  223.4000  223.4000      476.0\n",
       "2021-01-04 04:15:00   223.39   223.40  223.3900  223.4000      752.0\n",
       "2021-01-04 04:05:00   222.75   223.40  222.7500  223.4000     1281.0\n",
       "\n",
       "[3334 rows x 5 columns]"
      ],
      "text/html": "<div>\n<style scoped>\n    .dataframe tbody tr th:only-of-type {\n        vertical-align: middle;\n    }\n\n    .dataframe tbody tr th {\n        vertical-align: top;\n    }\n\n    .dataframe thead th {\n        text-align: right;\n    }\n</style>\n<table border=\"1\" class=\"dataframe\">\n  <thead>\n    <tr style=\"text-align: right;\">\n      <th></th>\n      <th>1. open</th>\n      <th>2. high</th>\n      <th>3. low</th>\n      <th>4. close</th>\n      <th>5. volume</th>\n    </tr>\n    <tr>\n      <th>date</th>\n      <th></th>\n      <th></th>\n      <th></th>\n      <th></th>\n      <th></th>\n    </tr>\n  </thead>\n  <tbody>\n    <tr>\n      <th>2021-01-29 20:00:00</th>\n      <td>231.79</td>\n      <td>231.80</td>\n      <td>231.6400</td>\n      <td>231.8000</td>\n      <td>4474.0</td>\n    </tr>\n    <tr>\n      <th>2021-01-29 19:55:00</th>\n      <td>231.70</td>\n      <td>231.70</td>\n      <td>231.7000</td>\n      <td>231.7000</td>\n      <td>496.0</td>\n    </tr>\n    <tr>\n      <th>2021-01-29 19:50:00</th>\n      <td>231.77</td>\n      <td>231.77</td>\n      <td>231.7000</td>\n      <td>231.7000</td>\n      <td>2898.0</td>\n    </tr>\n    <tr>\n      <th>2021-01-29 19:45:00</th>\n      <td>231.84</td>\n      <td>231.84</td>\n      <td>231.8199</td>\n      <td>231.8199</td>\n      <td>689.0</td>\n    </tr>\n    <tr>\n      <th>2021-01-29 19:40:00</th>\n      <td>231.63</td>\n      <td>231.89</td>\n      <td>231.6300</td>\n      <td>231.8900</td>\n      <td>633.0</td>\n    </tr>\n    <tr>\n      <th>...</th>\n      <td>...</td>\n      <td>...</td>\n      <td>...</td>\n      <td>...</td>\n      <td>...</td>\n    </tr>\n    <tr>\n      <th>2021-01-04 04:30:00</th>\n      <td>223.36</td>\n      <td>223.39</td>\n      <td>223.3600</td>\n      <td>223.3900</td>\n      <td>1063.0</td>\n    </tr>\n    <tr>\n      <th>2021-01-04 04:25:00</th>\n      <td>223.04</td>\n      <td>223.04</td>\n      <td>223.0400</td>\n      <td>223.0400</td>\n      <td>272.0</td>\n    </tr>\n    <tr>\n      <th>2021-01-04 04:20:00</th>\n      <td>223.40</td>\n      <td>223.40</td>\n      <td>223.4000</td>\n      <td>223.4000</td>\n      <td>476.0</td>\n    </tr>\n    <tr>\n      <th>2021-01-04 04:15:00</th>\n      <td>223.39</td>\n      <td>223.40</td>\n      <td>223.3900</td>\n      <td>223.4000</td>\n      <td>752.0</td>\n    </tr>\n    <tr>\n      <th>2021-01-04 04:05:00</th>\n      <td>222.75</td>\n      <td>223.40</td>\n      <td>222.7500</td>\n      <td>223.4000</td>\n      <td>1281.0</td>\n    </tr>\n  </tbody>\n</table>\n<p>3334 rows × 5 columns</p>\n</div>"
     },
     "metadata": {},
     "execution_count": 186
    }
   ],
   "source": [
    "df # 發現到 MSFT 的時間部正確，應該要改成美國股市開盤的時間"
   ]
  },
  {
   "cell_type": "code",
   "execution_count": 187,
   "metadata": {},
   "outputs": [],
   "source": [
    "df.columns = ['Open', 'High', 'Low', 'Close', 'Volume']"
   ]
  },
  {
   "cell_type": "code",
   "execution_count": 188,
   "metadata": {},
   "outputs": [],
   "source": [
    "df = df.between_time('09:35', '16:00')"
   ]
  },
  {
   "cell_type": "code",
   "execution_count": 189,
   "metadata": {},
   "outputs": [
    {
     "output_type": "execute_result",
     "data": {
      "text/plain": [
       "                        Open      High       Low    Close     Volume\n",
       "date                                                                \n",
       "2021-01-29 16:00:00  233.100  233.6000  231.4600  231.840  2392250.0\n",
       "2021-01-29 15:55:00  232.760  233.5400  232.7300  233.090   991048.0\n",
       "2021-01-29 15:50:00  233.120  233.2200  232.5000  232.810   728310.0\n",
       "2021-01-29 15:45:00  233.420  233.5700  233.0100  233.130   418329.0\n",
       "2021-01-29 15:40:00  234.000  234.0200  233.3300  233.420   441226.0\n",
       "...                      ...       ...       ...      ...        ...\n",
       "2021-01-04 09:55:00  220.040  220.2101  219.5600  220.130   392078.0\n",
       "2021-01-04 09:50:00  220.015  220.4000  219.7600  220.040   406992.0\n",
       "2021-01-04 09:45:00  219.850  220.0600  219.2827  220.020   762643.0\n",
       "2021-01-04 09:40:00  220.700  220.7500  219.7200  219.857   731172.0\n",
       "2021-01-04 09:35:00  222.530  223.0000  220.5900  220.710  1403951.0\n",
       "\n",
       "[1482 rows x 5 columns]"
      ],
      "text/html": "<div>\n<style scoped>\n    .dataframe tbody tr th:only-of-type {\n        vertical-align: middle;\n    }\n\n    .dataframe tbody tr th {\n        vertical-align: top;\n    }\n\n    .dataframe thead th {\n        text-align: right;\n    }\n</style>\n<table border=\"1\" class=\"dataframe\">\n  <thead>\n    <tr style=\"text-align: right;\">\n      <th></th>\n      <th>Open</th>\n      <th>High</th>\n      <th>Low</th>\n      <th>Close</th>\n      <th>Volume</th>\n    </tr>\n    <tr>\n      <th>date</th>\n      <th></th>\n      <th></th>\n      <th></th>\n      <th></th>\n      <th></th>\n    </tr>\n  </thead>\n  <tbody>\n    <tr>\n      <th>2021-01-29 16:00:00</th>\n      <td>233.100</td>\n      <td>233.6000</td>\n      <td>231.4600</td>\n      <td>231.840</td>\n      <td>2392250.0</td>\n    </tr>\n    <tr>\n      <th>2021-01-29 15:55:00</th>\n      <td>232.760</td>\n      <td>233.5400</td>\n      <td>232.7300</td>\n      <td>233.090</td>\n      <td>991048.0</td>\n    </tr>\n    <tr>\n      <th>2021-01-29 15:50:00</th>\n      <td>233.120</td>\n      <td>233.2200</td>\n      <td>232.5000</td>\n      <td>232.810</td>\n      <td>728310.0</td>\n    </tr>\n    <tr>\n      <th>2021-01-29 15:45:00</th>\n      <td>233.420</td>\n      <td>233.5700</td>\n      <td>233.0100</td>\n      <td>233.130</td>\n      <td>418329.0</td>\n    </tr>\n    <tr>\n      <th>2021-01-29 15:40:00</th>\n      <td>234.000</td>\n      <td>234.0200</td>\n      <td>233.3300</td>\n      <td>233.420</td>\n      <td>441226.0</td>\n    </tr>\n    <tr>\n      <th>...</th>\n      <td>...</td>\n      <td>...</td>\n      <td>...</td>\n      <td>...</td>\n      <td>...</td>\n    </tr>\n    <tr>\n      <th>2021-01-04 09:55:00</th>\n      <td>220.040</td>\n      <td>220.2101</td>\n      <td>219.5600</td>\n      <td>220.130</td>\n      <td>392078.0</td>\n    </tr>\n    <tr>\n      <th>2021-01-04 09:50:00</th>\n      <td>220.015</td>\n      <td>220.4000</td>\n      <td>219.7600</td>\n      <td>220.040</td>\n      <td>406992.0</td>\n    </tr>\n    <tr>\n      <th>2021-01-04 09:45:00</th>\n      <td>219.850</td>\n      <td>220.0600</td>\n      <td>219.2827</td>\n      <td>220.020</td>\n      <td>762643.0</td>\n    </tr>\n    <tr>\n      <th>2021-01-04 09:40:00</th>\n      <td>220.700</td>\n      <td>220.7500</td>\n      <td>219.7200</td>\n      <td>219.857</td>\n      <td>731172.0</td>\n    </tr>\n    <tr>\n      <th>2021-01-04 09:35:00</th>\n      <td>222.530</td>\n      <td>223.0000</td>\n      <td>220.5900</td>\n      <td>220.710</td>\n      <td>1403951.0</td>\n    </tr>\n  </tbody>\n</table>\n<p>1482 rows × 5 columns</p>\n</div>"
     },
     "metadata": {},
     "execution_count": 189
    }
   ],
   "source": [
    "df"
   ]
  },
  {
   "source": [
    "### 2.2. 將上面的 code 用迴圈包起來:"
   ],
   "cell_type": "markdown",
   "metadata": {}
  },
  {
   "cell_type": "code",
   "execution_count": 190,
   "metadata": {},
   "outputs": [],
   "source": [
    "tickers = [\"MSFT\",\"AAPL\",\"FB\",\"AMZN\",\"INTC\", \"CSCO\",\"VZ\",\"IBM\",\"TSLA\",\"AMD\"]"
   ]
  },
  {
   "cell_type": "code",
   "execution_count": 191,
   "metadata": {},
   "outputs": [],
   "source": [
    "key_path = r\"C:\\\\Users\\User\\\\Quant_Trading\\\\alpha_vantage\\\\api_key.txt\"\n",
    "ts = TimeSeries(key=open(key_path, 'r').read(), output_format='pandas')"
   ]
  },
  {
   "cell_type": "code",
   "execution_count": 192,
   "metadata": {},
   "outputs": [],
   "source": [
    "ohlc_intraday = {} # use a dict to store all the tickers' ohlc\n",
    "api_call_count = 1 # track how many times we have done\n",
    "start_time = time.time()"
   ]
  },
  {
   "cell_type": "code",
   "execution_count": 193,
   "metadata": {},
   "outputs": [],
   "source": [
    "for ticker in tickers:\n",
    "    data = ts.get_intraday(symbol=ticker, interval='5min', outputsize='full')[0]\n",
    "    api_call_count += 1\n",
    "    data.columns = [\"Open\", \"High\", \"Low\", \"Close\", \"Volume\"]\n",
    "\n",
    "    data = data.iloc[::-1]\n",
    "    data = data.between_time('09:35', '16:00')\n",
    "\n",
    "    ohlc_intraday[ticker] = data # store particular stock's information\n",
    "\n",
    "    if api_call_count == 5:\n",
    "        api_call_count = 1\n",
    "        time.sleep(60 - ((time.time() - start_time) % 60.0))"
   ]
  },
  {
   "cell_type": "code",
   "execution_count": 194,
   "metadata": {},
   "outputs": [
    {
     "output_type": "execute_result",
     "data": {
      "text/plain": [
       "{'MSFT':                         Open      High       Low    Close     Volume\n",
       " date                                                                \n",
       " 2021-01-04 09:35:00  222.530  223.0000  220.5900  220.710  1403951.0\n",
       " 2021-01-04 09:40:00  220.700  220.7500  219.7200  219.857   731172.0\n",
       " 2021-01-04 09:45:00  219.850  220.0600  219.2827  220.020   762643.0\n",
       " 2021-01-04 09:50:00  220.015  220.4000  219.7600  220.040   406992.0\n",
       " 2021-01-04 09:55:00  220.040  220.2101  219.5600  220.130   392078.0\n",
       " ...                      ...       ...       ...      ...        ...\n",
       " 2021-01-29 15:40:00  234.000  234.0200  233.3300  233.420   441226.0\n",
       " 2021-01-29 15:45:00  233.420  233.5700  233.0100  233.130   418329.0\n",
       " 2021-01-29 15:50:00  233.120  233.2200  232.5000  232.810   728310.0\n",
       " 2021-01-29 15:55:00  232.760  233.5400  232.7300  233.090   991048.0\n",
       " 2021-01-29 16:00:00  233.100  233.6000  231.4600  231.840  2392250.0\n",
       " \n",
       " [1482 rows x 5 columns],\n",
       " 'AAPL':                          Open      High     Low    Close     Volume\n",
       " date                                                               \n",
       " 2021-01-04 09:35:00  133.5200  133.6116  132.39  132.810  4816672.0\n",
       " 2021-01-04 09:40:00  132.8300  132.8900  131.81  131.890  2541397.0\n",
       " 2021-01-04 09:45:00  131.9000  132.3400  131.45  132.060  2492425.0\n",
       " 2021-01-04 09:50:00  132.0694  132.3000  131.86  132.250  1858808.0\n",
       " 2021-01-04 09:55:00  132.2400  132.2400  131.52  131.590  1780307.0\n",
       " ...                       ...       ...     ...      ...        ...\n",
       " 2021-01-29 15:40:00  133.4250  133.5000  132.62  132.655  2264188.0\n",
       " 2021-01-29 15:45:00  132.6559  132.9500  132.58  132.750  1787116.0\n",
       " 2021-01-29 15:50:00  132.7400  132.8450  132.17  132.300  2231377.0\n",
       " 2021-01-29 15:55:00  132.3000  132.8785  132.20  132.540  2459214.0\n",
       " 2021-01-29 16:00:00  132.5300  132.8000  131.72  131.830  6208138.0\n",
       " \n",
       " [1482 rows x 5 columns],\n",
       " 'FB':                          Open     High       Low    Close     Volume\n",
       " date                                                                \n",
       " 2021-01-04 09:35:00  274.7800  275.000  271.6700  272.020   590796.0\n",
       " 2021-01-04 09:40:00  271.9825  272.540  271.0600  271.320   256176.0\n",
       " 2021-01-04 09:45:00  271.1800  271.770  270.7200  271.000   251118.0\n",
       " 2021-01-04 09:50:00  271.0600  271.810  270.8000  271.695   211255.0\n",
       " 2021-01-04 09:55:00  271.6757  271.808  270.5700  271.060   180498.0\n",
       " ...                       ...      ...       ...      ...        ...\n",
       " 2021-01-29 15:40:00  259.8800  259.915  258.5700  258.580   303417.0\n",
       " 2021-01-29 15:45:00  258.6500  258.880  258.2302  258.490   223155.0\n",
       " 2021-01-29 15:50:00  258.4400  258.700  257.6000  258.660   418717.0\n",
       " 2021-01-29 15:55:00  258.6550  259.835  258.4300  259.480   569659.0\n",
       " 2021-01-29 16:00:00  259.4300  260.000  257.9800  258.330  1248024.0\n",
       " \n",
       " [1482 rows x 5 columns],\n",
       " 'AMZN':                           Open       High       Low      Close    Volume\n",
       " date                                                                    \n",
       " 2021-01-04 09:35:00  3270.0000  3272.0000  3255.000  3255.0000  142742.0\n",
       " 2021-01-04 09:40:00  3255.0100  3258.6600  3245.010  3249.4800   69437.0\n",
       " 2021-01-04 09:45:00  3247.0100  3252.9800  3240.020  3243.4079   79839.0\n",
       " 2021-01-04 09:50:00  3245.4200  3253.8700  3243.725  3253.1700   62402.0\n",
       " 2021-01-04 09:55:00  3251.0994  3252.9885  3232.000  3240.3250   71956.0\n",
       " ...                        ...        ...       ...        ...       ...\n",
       " 2021-01-29 15:40:00  3223.3900  3223.6425  3207.000  3210.4000   47393.0\n",
       " 2021-01-29 15:45:00  3209.8200  3216.5000  3209.820  3215.0000   52595.0\n",
       " 2021-01-29 15:50:00  3214.1200  3215.7599  3206.110  3209.2900   61919.0\n",
       " 2021-01-29 15:55:00  3207.6000  3213.2900  3203.680  3213.2900  103313.0\n",
       " 2021-01-29 16:00:00  3213.7400  3216.9500  3203.230  3206.3100  172837.0\n",
       " \n",
       " [1482 rows x 5 columns],\n",
       " 'INTC':                         Open     High     Low    Close     Volume\n",
       " date                                                             \n",
       " 2021-01-04 09:35:00  49.8900  50.1650  49.720  50.1650  1627655.0\n",
       " 2021-01-04 09:40:00  50.1550  50.6600  50.120  50.6250  1149953.0\n",
       " 2021-01-04 09:45:00  50.6300  50.9587  50.560  50.9500  1141376.0\n",
       " 2021-01-04 09:50:00  50.9500  51.1600  50.940  50.9850  1068719.0\n",
       " 2021-01-04 09:55:00  50.9859  51.1700  50.975  51.0977   985889.0\n",
       " ...                      ...      ...     ...      ...        ...\n",
       " 2021-01-29 15:40:00  55.7099  55.7100  55.600  55.6099   302549.0\n",
       " 2021-01-29 15:45:00  55.6100  55.6900  55.590  55.6400   479775.0\n",
       " 2021-01-29 15:50:00  55.6400  55.6800  55.520  55.5550   439714.0\n",
       " 2021-01-29 15:55:00  55.5500  55.8200  55.520  55.7250   927679.0\n",
       " 2021-01-29 16:00:00  55.7300  55.9450  55.460  55.4800  1433365.0\n",
       " \n",
       " [1482 rows x 5 columns],\n",
       " 'CSCO':                         Open    High      Low    Close     Volume\n",
       " date                                                             \n",
       " 2021-01-04 09:35:00  44.3100  44.370  43.9600  43.9750  1052621.0\n",
       " 2021-01-04 09:40:00  43.9796  44.280  43.9300  44.2720   456639.0\n",
       " 2021-01-04 09:45:00  44.2800  44.290  44.1200  44.1850   400337.0\n",
       " 2021-01-04 09:50:00  44.1900  44.250  44.1231  44.1231   297948.0\n",
       " 2021-01-04 09:55:00  44.1200  44.190  44.1100  44.1432   281700.0\n",
       " ...                      ...     ...      ...      ...        ...\n",
       " 2021-01-29 15:40:00  44.8250  44.830  44.6350  44.6350   241504.0\n",
       " 2021-01-29 15:45:00  44.6400  44.660  44.6000  44.6050   232685.0\n",
       " 2021-01-29 15:50:00  44.6100  44.610  44.5200  44.5400   351103.0\n",
       " 2021-01-29 15:55:00  44.5300  44.738  44.4800  44.7184   762168.0\n",
       " 2021-01-29 16:00:00  44.7200  44.865  44.5100  44.5800  1550547.0\n",
       " \n",
       " [1482 rows x 5 columns],\n",
       " 'VZ':                         Open     High      Low    Close     Volume\n",
       " date                                                              \n",
       " 2021-01-04 09:35:00  58.3346  58.3742  58.1070  58.2357  1131040.0\n",
       " 2021-01-04 09:40:00  58.2354  58.5176  58.2109  58.4929   454108.0\n",
       " 2021-01-04 09:45:00  58.4929  58.5018  58.2950  58.3742   293850.0\n",
       " 2021-01-04 09:50:00  58.3741  58.3742  58.2653  58.2896   255978.0\n",
       " 2021-01-04 09:55:00  58.2870  58.3049  58.0872  58.1132   386740.0\n",
       " ...                      ...      ...      ...      ...        ...\n",
       " 2021-01-29 15:40:00  55.0000  55.0075  54.8050  54.8050   295346.0\n",
       " 2021-01-29 15:45:00  54.8100  54.8400  54.7850  54.8150   365401.0\n",
       " 2021-01-29 15:50:00  54.8100  54.8200  54.7600  54.8100   348558.0\n",
       " 2021-01-29 15:55:00  54.8100  55.0219  54.8100  54.8801   723488.0\n",
       " 2021-01-29 16:00:00  54.8850  54.9900  54.6000  54.7300  2136657.0\n",
       " \n",
       " [1482 rows x 5 columns],\n",
       " 'IBM':                         Open      High       Low     Close    Volume\n",
       " date                                                                \n",
       " 2021-01-04 09:35:00  125.850  125.9174  124.8500  125.3400  371147.0\n",
       " 2021-01-04 09:40:00  125.310  125.6700  125.2000  125.6700   64829.0\n",
       " 2021-01-04 09:45:00  125.680  125.7900  125.4048  125.6050   64014.0\n",
       " 2021-01-04 09:50:00  125.605  125.6050  125.0700  125.1250   75224.0\n",
       " 2021-01-04 09:55:00  125.125  125.3590  124.9250  125.2300   65823.0\n",
       " ...                      ...       ...       ...       ...       ...\n",
       " 2021-01-29 15:40:00  119.910  119.9200  119.3316  119.3316  113619.0\n",
       " 2021-01-29 15:45:00  119.360  119.3900  119.1050  119.1100  130877.0\n",
       " 2021-01-29 15:50:00  119.110  119.1300  118.9000  119.0247  285028.0\n",
       " 2021-01-29 15:55:00  119.000  119.5150  118.9300  119.4000  244082.0\n",
       " 2021-01-29 16:00:00  119.390  119.5800  119.0100  119.0400  562659.0\n",
       " \n",
       " [1482 rows x 5 columns],\n",
       " 'TSLA':                          Open      High       Low     Close     Volume\n",
       " date                                                                  \n",
       " 2021-01-04 09:35:00  719.4600  728.2500  717.1895  728.0500  2432959.0\n",
       " 2021-01-04 09:40:00  728.1311  730.8800  725.5800  726.8500  1765320.0\n",
       " 2021-01-04 09:45:00  727.2600  742.8500  726.9384  742.6000  2145894.0\n",
       " 2021-01-04 09:50:00  742.5278  743.7599  739.4100  740.7200  1638782.0\n",
       " 2021-01-04 09:55:00  740.5384  741.8000  735.2200  737.3823  1189914.0\n",
       " ...                       ...       ...       ...       ...        ...\n",
       " 2021-01-29 15:40:00  802.5600  802.9600  798.2500  799.2400   300209.0\n",
       " 2021-01-29 15:45:00  799.2600  801.5000  798.3100  800.0300   283211.0\n",
       " 2021-01-29 15:50:00  799.9025  800.3500  795.5100  796.9900   442427.0\n",
       " 2021-01-29 15:55:00  796.7000  797.4700  795.0100  795.4800   431358.0\n",
       " 2021-01-29 16:00:00  795.2800  796.5900  792.0000  793.3110   915541.0\n",
       " \n",
       " [1482 rows x 5 columns],\n",
       " 'AMD':                         Open     High      Low    Close     Volume\n",
       " date                                                              \n",
       " 2021-01-04 09:35:00  92.1100  92.4600  91.6000  92.1249  1618015.0\n",
       " 2021-01-04 09:40:00  92.1300  92.2900  91.3966  91.6100  1163891.0\n",
       " 2021-01-04 09:45:00  91.6200  93.0500  91.4700  93.0200  1366712.0\n",
       " 2021-01-04 09:50:00  93.0182  94.2411  93.0000  94.2400  2247378.0\n",
       " 2021-01-04 09:55:00  94.2210  95.1727  94.0900  94.9600  2529831.0\n",
       " ...                      ...      ...      ...      ...        ...\n",
       " 2021-01-29 15:40:00  86.3692  86.4100  86.0800  86.1000   501249.0\n",
       " 2021-01-29 15:45:00  86.1000  86.2300  86.0700  86.0900   476654.0\n",
       " 2021-01-29 15:50:00  86.0898  86.1050  85.7600  85.8400   866740.0\n",
       " 2021-01-29 15:55:00  85.8300  86.0500  85.6200  85.8200  1056681.0\n",
       " 2021-01-29 16:00:00  85.8100  85.9400  85.5600  85.6100  1701686.0\n",
       " \n",
       " [1482 rows x 5 columns]}"
      ]
     },
     "metadata": {},
     "execution_count": 194
    }
   ],
   "source": [
    "ohlc_intraday"
   ]
  },
  {
   "cell_type": "code",
   "execution_count": 195,
   "metadata": {},
   "outputs": [],
   "source": [
    "tickers = ohlc_intraday.keys() # 如果在迴圈內有某些股票無資料，則應去掉。故更新過的 ohlc_intraday 的 key 重新定義 tickers"
   ]
  },
  {
   "source": [
    " ### 3. 建構好策略所需的技術指標資料:"
   ],
   "cell_type": "markdown",
   "metadata": {}
  },
  {
   "source": [
    "第一步非常重要: 複製一份 ```ohlc_dict```。 因為 ```ohlc_dict``` 是用迴圈方式取得的，最好不要隨意更動。"
   ],
   "cell_type": "markdown",
   "metadata": {}
  },
  {
   "cell_type": "code",
   "execution_count": 196,
   "metadata": {},
   "outputs": [],
   "source": [
    "ohlc_dict = copy.deepcopy(ohlc_intraday)"
   ]
  },
  {
   "cell_type": "code",
   "execution_count": 197,
   "metadata": {},
   "outputs": [],
   "source": [
    "tickers_signal = {} # 用來放各個股票在所有時點的交易訊號 (buy, sell, hold)"
   ]
  },
  {
   "cell_type": "code",
   "execution_count": 198,
   "metadata": {},
   "outputs": [],
   "source": [
    "tickers_ret = {} "
   ]
  },
  {
   "cell_type": "code",
   "execution_count": 199,
   "metadata": {},
   "outputs": [
    {
     "output_type": "stream",
     "name": "stdout",
     "text": [
      "Calculating ATR and rolling max price for:  MSFT\nCalculating ATR and rolling max price for:  AAPL\nCalculating ATR and rolling max price for:  FB\nCalculating ATR and rolling max price for:  AMZN\nCalculating ATR and rolling max price for:  INTC\nCalculating ATR and rolling max price for:  CSCO\nCalculating ATR and rolling max price for:  VZ\nCalculating ATR and rolling max price for:  IBM\nCalculating ATR and rolling max price for:  TSLA\nCalculating ATR and rolling max price for:  AMD\n"
     ]
    }
   ],
   "source": [
    "for ticker in tickers:\n",
    "    print(\"Calculating ATR and rolling max price for: \", ticker)\n",
    "\n",
    "    # get the technical data\n",
    "    ohlc_dict[ticker][\"ATR\"] = ATR(ohlc_dict[ticker], 20)\n",
    "    ohlc_dict[ticker][\"Rolling_max_cp\"] = ohlc_dict[ticker][\"High\"].rolling(20).max()\n",
    "    ohlc_dict[ticker][\"Rolling_min_cp\"] = ohlc_dict[ticker][\"Low\"].rolling(20).min()\n",
    "    ohlc_dict[ticker][\"Rolling_max_vol\"] = ohlc_dict[ticker][\"Volume\"].rolling(20).max()\n",
    "    ohlc_dict[ticker].dropna(inplace=True)\n",
    "\n",
    "    # set the two dict to original\n",
    "    tickers_signal[ticker] = \"\"\n",
    "    tickers_ret[ticker] = [0]\n"
   ]
  },
  {
   "cell_type": "code",
   "execution_count": 200,
   "metadata": {},
   "outputs": [
    {
     "output_type": "execute_result",
     "data": {
      "text/plain": [
       "{'MSFT': '',\n",
       " 'AAPL': '',\n",
       " 'FB': '',\n",
       " 'AMZN': '',\n",
       " 'INTC': '',\n",
       " 'CSCO': '',\n",
       " 'VZ': '',\n",
       " 'IBM': '',\n",
       " 'TSLA': '',\n",
       " 'AMD': ''}"
      ]
     },
     "metadata": {},
     "execution_count": 200
    }
   ],
   "source": [
    "tickers_signal"
   ]
  },
  {
   "cell_type": "code",
   "execution_count": 201,
   "metadata": {},
   "outputs": [
    {
     "output_type": "execute_result",
     "data": {
      "text/plain": [
       "{'MSFT': [0],\n",
       " 'AAPL': [0],\n",
       " 'FB': [0],\n",
       " 'AMZN': [0],\n",
       " 'INTC': [0],\n",
       " 'CSCO': [0],\n",
       " 'VZ': [0],\n",
       " 'IBM': [0],\n",
       " 'TSLA': [0],\n",
       " 'AMD': [0]}"
      ]
     },
     "metadata": {},
     "execution_count": 201
    }
   ],
   "source": [
    "tickers_ret"
   ]
  },
  {
   "cell_type": "code",
   "execution_count": 202,
   "metadata": {},
   "outputs": [
    {
     "output_type": "execute_result",
     "data": {
      "text/plain": [
       "                       Open    High       Low     Close     Volume       ATR  \\\n",
       "date                                                                           \n",
       "2021-01-04 11:15:00  217.78  218.50  217.4200  218.4257   411422.0  0.653405   \n",
       "2021-01-04 11:20:00  218.41  218.52  218.0600  218.5100   304931.0  0.624905   \n",
       "2021-01-04 11:25:00  218.49  218.51  217.7800  217.7800   292971.0  0.622540   \n",
       "2021-01-04 11:30:00  217.77  218.41  217.6300  218.0800   305631.0  0.629540   \n",
       "2021-01-04 11:35:00  218.05  218.05  217.4136  217.7300   295197.0  0.630355   \n",
       "...                     ...     ...       ...       ...        ...       ...   \n",
       "2021-01-29 15:40:00  234.00  234.02  233.3300  233.4200   441226.0  0.618850   \n",
       "2021-01-29 15:45:00  233.42  233.57  233.0100  233.1300   418329.0  0.601850   \n",
       "2021-01-29 15:50:00  233.12  233.22  232.5000  232.8100   728310.0  0.610350   \n",
       "2021-01-29 15:55:00  232.76  233.54  232.7300  233.0900   991048.0  0.635850   \n",
       "2021-01-29 16:00:00  233.10  233.60  231.4600  231.8400  2392250.0  0.726850   \n",
       "\n",
       "                     Rolling_max_cp  Rolling_min_cp  Rolling_max_vol  \n",
       "date                                                                  \n",
       "2021-01-04 11:15:00          220.95        217.4200         762643.0  \n",
       "2021-01-04 11:20:00          220.95        217.4200         762643.0  \n",
       "2021-01-04 11:25:00          220.95        217.4200         525120.0  \n",
       "2021-01-04 11:30:00          220.95        217.4200         525120.0  \n",
       "2021-01-04 11:35:00          220.95        217.4136         525120.0  \n",
       "...                             ...             ...              ...  \n",
       "2021-01-29 15:40:00          234.75        232.4508         584526.0  \n",
       "2021-01-29 15:45:00          234.75        232.4508         584526.0  \n",
       "2021-01-29 15:50:00          234.75        232.4508         728310.0  \n",
       "2021-01-29 15:55:00          234.75        232.4508         991048.0  \n",
       "2021-01-29 16:00:00          234.75        231.4600        2392250.0  \n",
       "\n",
       "[1462 rows x 9 columns]"
      ],
      "text/html": "<div>\n<style scoped>\n    .dataframe tbody tr th:only-of-type {\n        vertical-align: middle;\n    }\n\n    .dataframe tbody tr th {\n        vertical-align: top;\n    }\n\n    .dataframe thead th {\n        text-align: right;\n    }\n</style>\n<table border=\"1\" class=\"dataframe\">\n  <thead>\n    <tr style=\"text-align: right;\">\n      <th></th>\n      <th>Open</th>\n      <th>High</th>\n      <th>Low</th>\n      <th>Close</th>\n      <th>Volume</th>\n      <th>ATR</th>\n      <th>Rolling_max_cp</th>\n      <th>Rolling_min_cp</th>\n      <th>Rolling_max_vol</th>\n    </tr>\n    <tr>\n      <th>date</th>\n      <th></th>\n      <th></th>\n      <th></th>\n      <th></th>\n      <th></th>\n      <th></th>\n      <th></th>\n      <th></th>\n      <th></th>\n    </tr>\n  </thead>\n  <tbody>\n    <tr>\n      <th>2021-01-04 11:15:00</th>\n      <td>217.78</td>\n      <td>218.50</td>\n      <td>217.4200</td>\n      <td>218.4257</td>\n      <td>411422.0</td>\n      <td>0.653405</td>\n      <td>220.95</td>\n      <td>217.4200</td>\n      <td>762643.0</td>\n    </tr>\n    <tr>\n      <th>2021-01-04 11:20:00</th>\n      <td>218.41</td>\n      <td>218.52</td>\n      <td>218.0600</td>\n      <td>218.5100</td>\n      <td>304931.0</td>\n      <td>0.624905</td>\n      <td>220.95</td>\n      <td>217.4200</td>\n      <td>762643.0</td>\n    </tr>\n    <tr>\n      <th>2021-01-04 11:25:00</th>\n      <td>218.49</td>\n      <td>218.51</td>\n      <td>217.7800</td>\n      <td>217.7800</td>\n      <td>292971.0</td>\n      <td>0.622540</td>\n      <td>220.95</td>\n      <td>217.4200</td>\n      <td>525120.0</td>\n    </tr>\n    <tr>\n      <th>2021-01-04 11:30:00</th>\n      <td>217.77</td>\n      <td>218.41</td>\n      <td>217.6300</td>\n      <td>218.0800</td>\n      <td>305631.0</td>\n      <td>0.629540</td>\n      <td>220.95</td>\n      <td>217.4200</td>\n      <td>525120.0</td>\n    </tr>\n    <tr>\n      <th>2021-01-04 11:35:00</th>\n      <td>218.05</td>\n      <td>218.05</td>\n      <td>217.4136</td>\n      <td>217.7300</td>\n      <td>295197.0</td>\n      <td>0.630355</td>\n      <td>220.95</td>\n      <td>217.4136</td>\n      <td>525120.0</td>\n    </tr>\n    <tr>\n      <th>...</th>\n      <td>...</td>\n      <td>...</td>\n      <td>...</td>\n      <td>...</td>\n      <td>...</td>\n      <td>...</td>\n      <td>...</td>\n      <td>...</td>\n      <td>...</td>\n    </tr>\n    <tr>\n      <th>2021-01-29 15:40:00</th>\n      <td>234.00</td>\n      <td>234.02</td>\n      <td>233.3300</td>\n      <td>233.4200</td>\n      <td>441226.0</td>\n      <td>0.618850</td>\n      <td>234.75</td>\n      <td>232.4508</td>\n      <td>584526.0</td>\n    </tr>\n    <tr>\n      <th>2021-01-29 15:45:00</th>\n      <td>233.42</td>\n      <td>233.57</td>\n      <td>233.0100</td>\n      <td>233.1300</td>\n      <td>418329.0</td>\n      <td>0.601850</td>\n      <td>234.75</td>\n      <td>232.4508</td>\n      <td>584526.0</td>\n    </tr>\n    <tr>\n      <th>2021-01-29 15:50:00</th>\n      <td>233.12</td>\n      <td>233.22</td>\n      <td>232.5000</td>\n      <td>232.8100</td>\n      <td>728310.0</td>\n      <td>0.610350</td>\n      <td>234.75</td>\n      <td>232.4508</td>\n      <td>728310.0</td>\n    </tr>\n    <tr>\n      <th>2021-01-29 15:55:00</th>\n      <td>232.76</td>\n      <td>233.54</td>\n      <td>232.7300</td>\n      <td>233.0900</td>\n      <td>991048.0</td>\n      <td>0.635850</td>\n      <td>234.75</td>\n      <td>232.4508</td>\n      <td>991048.0</td>\n    </tr>\n    <tr>\n      <th>2021-01-29 16:00:00</th>\n      <td>233.10</td>\n      <td>233.60</td>\n      <td>231.4600</td>\n      <td>231.8400</td>\n      <td>2392250.0</td>\n      <td>0.726850</td>\n      <td>234.75</td>\n      <td>231.4600</td>\n      <td>2392250.0</td>\n    </tr>\n  </tbody>\n</table>\n<p>1462 rows × 9 columns</p>\n</div>"
     },
     "metadata": {},
     "execution_count": 202
    }
   ],
   "source": [
    "ohlc_dict['MSFT']"
   ]
  },
  {
   "source": [
    "### 4. 建構策略:"
   ],
   "cell_type": "markdown",
   "metadata": {}
  },
  {
   "source": [
    "想法: 做一個 loop，走過所有股票的所有時間，並對每個股票的 row 做判斷，其中:  \n",
    "- 如果 ```ticker_signal``` 是 ```\"\"```，則:  \n",
    "    - 如果今天價格超過 resistance (也就是今日最高價 大於 前 20 日的 rolling 最高價 & 成交量 > 1.5 倍的 20 day rolling Volume) 則將 ```ticker_signal``` 改為 ```Buy```。  \n",
    "    - 如果今天價格跌超過 support (也就是今日最低價 低於 前 20 日的 rolling 最低價 & 成交量 > 1.5 倍的 20 day rolling Volume) 則將 ```ticker_signal``` 改為 ```Sell```。  \n",
    "    - 如前述都不符合，則繼續保持空手  \n",
    "---\n",
    "- 如果 ```ticker_signal``` 是 ```\"Buy\"```，則:  \n",
    "    - 由於現在持有股票，故檢查是否達到停損點，如果今日的最低價 小於 昨日收盤價減昨日的 20 日 ATR，則賣出股票並計算報酬 \n",
    "    - 如果今日最低價 小於 昨日的 rolling 最低價 & 成交量 > 1.5 倍的 20 day rolling Volume，則 breakout 發生，此時應將 ```ticker_signal``` 該為 ```Sell```，並計算報酬    \n",
    "    - 如果上述都不符合，就不動作，並計算報酬。\n",
    "---\n",
    "- 如果 ```ticker_signal``` 是 ```\"Sell\"```，則:  \n",
    "    - 由於現在賣空股票，故檢查是否達到停利點 (也就是股價沒有如預期地往下走)，如果今日的最高價 大於 昨日收盤價加昨日的 20 日 ATR，則買入股票並計算報酬 \n",
    "    - 如果今日最高價 大於 昨日的 rolling 最高價 & 成交量 > 1.5 倍的 20 day rolling Volume，則 breakout 發生，此時應將 ```ticker_signal``` 該為 ```Buy```，並計算報酬    \n",
    "    - 如果上述都不符合，就不動作，並計算報酬。\n"
   ],
   "cell_type": "markdown",
   "metadata": {}
  },
  {
   "cell_type": "code",
   "execution_count": 203,
   "metadata": {},
   "outputs": [
    {
     "output_type": "stream",
     "name": "stdout",
     "text": [
      "Calculating returns for:  MSFT\nCalculating returns for:  AAPL\nCalculating returns for:  FB\nCalculating returns for:  AMZN\nCalculating returns for:  INTC\nCalculating returns for:  CSCO\nCalculating returns for:  VZ\nCalculating returns for:  IBM\nCalculating returns for:  TSLA\nCalculating returns for:  AMD\n"
     ]
    }
   ],
   "source": [
    "for ticker in tickers:\n",
    "    print(\"Calculating returns for: \", ticker)\n",
    "    for i in range(1, len(ohlc_dict[ticker])):\n",
    "        if tickers_signal[ticker] == \"\": # 此時我們在前一個交易時間沒有動作\n",
    "            tickers_ret[ticker].append(0)\n",
    "            if ohlc_dict[ticker][\"High\"][i] >= ohlc_dict[ticker][\"Rolling_max_cp\"][i] and \\\n",
    "                ohlc_dict[ticker][\"Volume\"][i] > 1.5*ohlc_dict[ticker][\"Rolling_max_vol\"][i-1]: # 超過 resistance 則有買入訊號\n",
    "                tickers_signal[ticker] = \"Buy\"\n",
    "\n",
    "            elif ohlc_dict[ticker][\"Low\"][i] <= ohlc_dict[ticker][\"Rolling_min_cp\"][i] and \\\n",
    "                ohlc_dict[ticker][\"Volume\"][i] > 1.5*ohlc_dict[ticker][\"Rolling_max_vol\"][i-1]:\n",
    "                tickers_signal[ticker] = \"Sell\" # 跌過 support 則有賣出訊號\n",
    "\n",
    "        elif tickers_signal[ticker] == \"Buy\":\n",
    "            if ohlc_dict[ticker][\"Low\"][i] < ohlc_dict[ticker][\"Close\"][i-1] - ohlc_dict[ticker][\"ATR\"][i-1]: # 每一輪都會更新一次止損點\n",
    "                tickers_signal[ticker] = \"\" # 當最低價碰到昨日收盤價 - 昨日 ATR 時，將股票賣出 (即止損)\n",
    "                tickers_ret[ticker].append( ((ohlc_dict[ticker][\"Close\"][i-1] - ohlc_dict[ticker][\"ATR\"][i-1]  ) / ohlc_dict[ticker][\"Close\"][i-1] ) - 1 )\n",
    "\n",
    "            elif ohlc_dict[ticker][\"Low\"][i] <= ohlc_dict[ticker][\"Rolling_min_cp\"][i] and \\\n",
    "                  ohlc_dict[ticker][\"Volume\"][i] > 1.5*ohlc_dict[ticker][\"Rolling_max_vol\"][i-1]: \n",
    "                tickers_signal[ticker] = \"Sell\"\n",
    "                tickers_ret[ticker].append( (ohlc_dict[ticker][\"Close\"][i]  / ohlc_dict[ticker][\"Close\"][i-1]) - 1 ) # 此時賣出，故報酬為: 買入價格 / 目前市價 (已經有 reverse 的訊號，但尚為達到止損點，但因已經有訊號，就要出場了。發生此種情況的機率較低)\n",
    "\n",
    "            else: # 買賣訊號不變，則只計算報酬\n",
    "                tickers_ret[ticker].append( (ohlc_dict[ticker][\"Close\"][i]  / ohlc_dict[ticker][\"Close\"][i-1]) - 1 )\n",
    "\n",
    "        elif tickers_signal[ticker] == \"Sell\": # 假設可以放空\n",
    "            if ohlc_dict[ticker][\"High\"][i] > ohlc_dict[ticker][\"Close\"][i-1] + ohlc_dict[ticker][\"ATR\"][i-1]: # 達到停利點，則賣出 (即放空失敗))\n",
    "                tickers_signal[ticker] = \"\"\n",
    "                tickers_ret[ticker].append( (ohlc_dict[ticker][\"Close\"][i-1] / (ohlc_dict[ticker][\"Close\"][i-1] + ohlc_dict[ticker][\"ATR\"][i-1]) )- 1 )\n",
    "\n",
    "            elif ohlc_dict[ticker][\"High\"][i] >= ohlc_dict[ticker][\"Rolling_max_cp\"][i-1] and \\\n",
    "                ohlc_dict[ticker][\"Volume\"][i] > 1.5*ohlc_dict[ticker][\"Rolling_max_vol\"][i-1]:\n",
    "                tickers_signal[ticker] = \"Buy\"\n",
    "                tickers_ret[ticker].append( ( ohlc_dict[ticker][\"Close\"][i-1]  / ohlc_dict[ticker][\"Close\"][i] ) - 1)\n",
    "\n",
    "            else:\n",
    "                tickers_ret[ticker].append( (ohlc_dict[ticker][\"Close\"][i-1]  / ohlc_dict[ticker][\"Close\"][i] ) - 1)\n",
    "    ohlc_dict[ticker][\"Return\"] = np.array(tickers_ret[ticker])\n",
    "            "
   ]
  },
  {
   "cell_type": "code",
   "execution_count": 204,
   "metadata": {},
   "outputs": [
    {
     "output_type": "stream",
     "name": "stdout",
     "text": [
      "1462\n"
     ]
    }
   ],
   "source": [
    "print(len(tickers_ret['MSFT']))"
   ]
  },
  {
   "cell_type": "code",
   "execution_count": 205,
   "metadata": {},
   "outputs": [
    {
     "output_type": "execute_result",
     "data": {
      "text/plain": [
       "date\n",
       "2021-01-04 11:15:00    0.0\n",
       "2021-01-04 11:20:00    0.0\n",
       "2021-01-04 11:25:00    0.0\n",
       "2021-01-04 11:30:00    0.0\n",
       "2021-01-04 11:35:00    0.0\n",
       "                      ... \n",
       "2021-01-29 15:40:00    0.0\n",
       "2021-01-29 15:45:00    0.0\n",
       "2021-01-29 15:50:00    0.0\n",
       "2021-01-29 15:55:00    0.0\n",
       "2021-01-29 16:00:00    0.0\n",
       "Name: Return, Length: 1462, dtype: float64"
      ]
     },
     "metadata": {},
     "execution_count": 205
    }
   ],
   "source": [
    "ohlc_dict['AAPL']['Return']"
   ]
  },
  {
   "source": [
    "### 5. 檢視策略的 KPIs:"
   ],
   "cell_type": "markdown",
   "metadata": {}
  },
  {
   "cell_type": "code",
   "execution_count": 206,
   "metadata": {},
   "outputs": [],
   "source": [
    "strategy_df = pd.DataFrame()\n",
    "for ticker in tickers:\n",
    "    strategy_df[ticker] = ohlc_dict[ticker]['Return']"
   ]
  },
  {
   "cell_type": "code",
   "execution_count": 207,
   "metadata": {},
   "outputs": [
    {
     "output_type": "execute_result",
     "data": {
      "text/plain": [
       "                     MSFT  AAPL   FB  AMZN  INTC      CSCO   VZ  IBM  TSLA  \\\n",
       "date                                                                         \n",
       "2021-01-04 11:15:00   0.0   0.0  0.0   0.0   0.0  0.000000  0.0  0.0   0.0   \n",
       "2021-01-04 11:20:00   0.0   0.0  0.0   0.0   0.0  0.000000  0.0  0.0   0.0   \n",
       "2021-01-04 11:25:00   0.0   0.0  0.0   0.0   0.0  0.000000  0.0  0.0   0.0   \n",
       "2021-01-04 11:30:00   0.0   0.0  0.0   0.0   0.0  0.000000  0.0  0.0   0.0   \n",
       "2021-01-04 11:35:00   0.0   0.0  0.0   0.0   0.0  0.000000  0.0  0.0   0.0   \n",
       "...                   ...   ...  ...   ...   ...       ...  ...  ...   ...   \n",
       "2021-01-29 15:40:00   0.0   0.0  0.0   0.0   0.0  0.000000  0.0  0.0   0.0   \n",
       "2021-01-29 15:45:00   0.0   0.0  0.0   0.0   0.0  0.000000  0.0  0.0   0.0   \n",
       "2021-01-29 15:50:00   0.0   0.0  0.0   0.0   0.0  0.000000  0.0  0.0   0.0   \n",
       "2021-01-29 15:55:00   0.0   0.0  0.0   0.0   0.0  0.000000  0.0  0.0   0.0   \n",
       "2021-01-29 16:00:00   0.0   0.0  0.0   0.0   0.0 -0.002297  0.0  0.0   0.0   \n",
       "\n",
       "                     AMD  \n",
       "date                      \n",
       "2021-01-04 11:15:00  0.0  \n",
       "2021-01-04 11:20:00  0.0  \n",
       "2021-01-04 11:25:00  0.0  \n",
       "2021-01-04 11:30:00  0.0  \n",
       "2021-01-04 11:35:00  0.0  \n",
       "...                  ...  \n",
       "2021-01-29 15:40:00  0.0  \n",
       "2021-01-29 15:45:00  0.0  \n",
       "2021-01-29 15:50:00  0.0  \n",
       "2021-01-29 15:55:00  0.0  \n",
       "2021-01-29 16:00:00  0.0  \n",
       "\n",
       "[1462 rows x 10 columns]"
      ],
      "text/html": "<div>\n<style scoped>\n    .dataframe tbody tr th:only-of-type {\n        vertical-align: middle;\n    }\n\n    .dataframe tbody tr th {\n        vertical-align: top;\n    }\n\n    .dataframe thead th {\n        text-align: right;\n    }\n</style>\n<table border=\"1\" class=\"dataframe\">\n  <thead>\n    <tr style=\"text-align: right;\">\n      <th></th>\n      <th>MSFT</th>\n      <th>AAPL</th>\n      <th>FB</th>\n      <th>AMZN</th>\n      <th>INTC</th>\n      <th>CSCO</th>\n      <th>VZ</th>\n      <th>IBM</th>\n      <th>TSLA</th>\n      <th>AMD</th>\n    </tr>\n    <tr>\n      <th>date</th>\n      <th></th>\n      <th></th>\n      <th></th>\n      <th></th>\n      <th></th>\n      <th></th>\n      <th></th>\n      <th></th>\n      <th></th>\n      <th></th>\n    </tr>\n  </thead>\n  <tbody>\n    <tr>\n      <th>2021-01-04 11:15:00</th>\n      <td>0.0</td>\n      <td>0.0</td>\n      <td>0.0</td>\n      <td>0.0</td>\n      <td>0.0</td>\n      <td>0.000000</td>\n      <td>0.0</td>\n      <td>0.0</td>\n      <td>0.0</td>\n      <td>0.0</td>\n    </tr>\n    <tr>\n      <th>2021-01-04 11:20:00</th>\n      <td>0.0</td>\n      <td>0.0</td>\n      <td>0.0</td>\n      <td>0.0</td>\n      <td>0.0</td>\n      <td>0.000000</td>\n      <td>0.0</td>\n      <td>0.0</td>\n      <td>0.0</td>\n      <td>0.0</td>\n    </tr>\n    <tr>\n      <th>2021-01-04 11:25:00</th>\n      <td>0.0</td>\n      <td>0.0</td>\n      <td>0.0</td>\n      <td>0.0</td>\n      <td>0.0</td>\n      <td>0.000000</td>\n      <td>0.0</td>\n      <td>0.0</td>\n      <td>0.0</td>\n      <td>0.0</td>\n    </tr>\n    <tr>\n      <th>2021-01-04 11:30:00</th>\n      <td>0.0</td>\n      <td>0.0</td>\n      <td>0.0</td>\n      <td>0.0</td>\n      <td>0.0</td>\n      <td>0.000000</td>\n      <td>0.0</td>\n      <td>0.0</td>\n      <td>0.0</td>\n      <td>0.0</td>\n    </tr>\n    <tr>\n      <th>2021-01-04 11:35:00</th>\n      <td>0.0</td>\n      <td>0.0</td>\n      <td>0.0</td>\n      <td>0.0</td>\n      <td>0.0</td>\n      <td>0.000000</td>\n      <td>0.0</td>\n      <td>0.0</td>\n      <td>0.0</td>\n      <td>0.0</td>\n    </tr>\n    <tr>\n      <th>...</th>\n      <td>...</td>\n      <td>...</td>\n      <td>...</td>\n      <td>...</td>\n      <td>...</td>\n      <td>...</td>\n      <td>...</td>\n      <td>...</td>\n      <td>...</td>\n      <td>...</td>\n    </tr>\n    <tr>\n      <th>2021-01-29 15:40:00</th>\n      <td>0.0</td>\n      <td>0.0</td>\n      <td>0.0</td>\n      <td>0.0</td>\n      <td>0.0</td>\n      <td>0.000000</td>\n      <td>0.0</td>\n      <td>0.0</td>\n      <td>0.0</td>\n      <td>0.0</td>\n    </tr>\n    <tr>\n      <th>2021-01-29 15:45:00</th>\n      <td>0.0</td>\n      <td>0.0</td>\n      <td>0.0</td>\n      <td>0.0</td>\n      <td>0.0</td>\n      <td>0.000000</td>\n      <td>0.0</td>\n      <td>0.0</td>\n      <td>0.0</td>\n      <td>0.0</td>\n    </tr>\n    <tr>\n      <th>2021-01-29 15:50:00</th>\n      <td>0.0</td>\n      <td>0.0</td>\n      <td>0.0</td>\n      <td>0.0</td>\n      <td>0.0</td>\n      <td>0.000000</td>\n      <td>0.0</td>\n      <td>0.0</td>\n      <td>0.0</td>\n      <td>0.0</td>\n    </tr>\n    <tr>\n      <th>2021-01-29 15:55:00</th>\n      <td>0.0</td>\n      <td>0.0</td>\n      <td>0.0</td>\n      <td>0.0</td>\n      <td>0.0</td>\n      <td>0.000000</td>\n      <td>0.0</td>\n      <td>0.0</td>\n      <td>0.0</td>\n      <td>0.0</td>\n    </tr>\n    <tr>\n      <th>2021-01-29 16:00:00</th>\n      <td>0.0</td>\n      <td>0.0</td>\n      <td>0.0</td>\n      <td>0.0</td>\n      <td>0.0</td>\n      <td>-0.002297</td>\n      <td>0.0</td>\n      <td>0.0</td>\n      <td>0.0</td>\n      <td>0.0</td>\n    </tr>\n  </tbody>\n</table>\n<p>1462 rows × 10 columns</p>\n</div>"
     },
     "metadata": {},
     "execution_count": 207
    }
   ],
   "source": [
    "strategy_df"
   ]
  },
  {
   "cell_type": "code",
   "execution_count": 208,
   "metadata": {},
   "outputs": [],
   "source": [
    "strategy_df['Return'] = strategy_df.mean(axis=1)"
   ]
  },
  {
   "cell_type": "code",
   "execution_count": 209,
   "metadata": {},
   "outputs": [
    {
     "output_type": "execute_result",
     "data": {
      "text/plain": [
       "date\n",
       "2021-01-04 11:15:00    0.00000\n",
       "2021-01-04 11:20:00    0.00000\n",
       "2021-01-04 11:25:00    0.00000\n",
       "2021-01-04 11:30:00    0.00000\n",
       "2021-01-04 11:35:00    0.00000\n",
       "                        ...   \n",
       "2021-01-29 15:40:00    0.00000\n",
       "2021-01-29 15:45:00    0.00000\n",
       "2021-01-29 15:50:00    0.00000\n",
       "2021-01-29 15:55:00    0.00000\n",
       "2021-01-29 16:00:00   -0.00023\n",
       "Name: Return, Length: 1462, dtype: float64"
      ]
     },
     "metadata": {},
     "execution_count": 209
    }
   ],
   "source": [
    "strategy_df['Return'] "
   ]
  },
  {
   "source": [
    "#### 引入 KPI functions，並根據前面的 column 名稱做對應的修改:"
   ],
   "cell_type": "markdown",
   "metadata": {}
  },
  {
   "cell_type": "code",
   "execution_count": 210,
   "metadata": {},
   "outputs": [],
   "source": [
    "def CAGR(DF):\n",
    "    df = DF.copy()\n",
    "    df['Cumulative Return'] = (1 + df['Return']).cumprod() # calculate cumulative return\n",
    "    n = len(df) / 250*54 # assume there are 250 trading days in a year\n",
    "    cagr = (df['Cumulative Return'].tolist()[-1])**(1/n) - 1 # we need the latest data to calculate CAGR\n",
    "    return cagr"
   ]
  },
  {
   "source": [
    "注意: 上面 CAGR function 的 ```n``` 必須多除 ```54```，因為這個策略每五分鐘執行一次，而台股一天有四個半小時 (```270``` 分鐘)的交易時間  \n",
    "，故總次數為 ```270 / 5 = 54```"
   ],
   "cell_type": "markdown",
   "metadata": {}
  },
  {
   "cell_type": "code",
   "execution_count": 211,
   "metadata": {},
   "outputs": [],
   "source": [
    "def Volatility(DF):\n",
    "    df = DF.copy()\n",
    "    vol = df['Return'].std() * (250*54 ** 0.5) # converst daily volatility to annual volatility\n",
    "    return vol"
   ]
  },
  {
   "source": [
    "Same as ```Volatility```"
   ],
   "cell_type": "markdown",
   "metadata": {}
  },
  {
   "cell_type": "code",
   "execution_count": 212,
   "metadata": {},
   "outputs": [],
   "source": [
    "def Sharp(DF, rf): # rf stands for \"risk free rate\"\n",
    "    df = DF.copy()\n",
    "    sr = (CAGR(df) - rf) / Volatility(df)\n",
    "    return sr"
   ]
  },
  {
   "cell_type": "code",
   "execution_count": 213,
   "metadata": {},
   "outputs": [],
   "source": [
    "def Max_DD(DF):\n",
    "    df = DF.copy()\n",
    "    df['Cumulative Return'] = (1 + df['Return']).cumprod() # 這麼多天的總報酬\n",
    "    df['Cumulative Rolling Max'] = df['Cumulative Return'].cummax() # ?\n",
    "\n",
    "    df['Draw Down'] = df['Cumulative Rolling Max'] - df['Cumulative Return']\n",
    "    df['Draw Down Percentage'] = df['Draw Down'] / df['Cumulative Rolling Max']\n",
    "\n",
    "    max_dd = df['Draw Down Percentage'].max()\n",
    "    return max_dd"
   ]
  },
  {
   "cell_type": "code",
   "execution_count": 214,
   "metadata": {},
   "outputs": [
    {
     "output_type": "stream",
     "name": "stdout",
     "text": [
      "-2.0059020897300606e-05\n"
     ]
    }
   ],
   "source": [
    "cagr = CAGR(strategy_df)\n",
    "print(cagr)"
   ]
  },
  {
   "cell_type": "code",
   "execution_count": 215,
   "metadata": {},
   "outputs": [
    {
     "output_type": "execute_result",
     "data": {
      "text/plain": [
       "0.42744880777583694"
      ]
     },
     "metadata": {},
     "execution_count": 215
    }
   ],
   "source": [
    "vol = Volatility(strategy_df)\n",
    "vol"
   ]
  },
  {
   "cell_type": "code",
   "execution_count": 216,
   "metadata": {},
   "outputs": [
    {
     "output_type": "execute_result",
     "data": {
      "text/plain": [
       "-0.05853346310891652"
      ]
     },
     "metadata": {},
     "execution_count": 216
    }
   ],
   "source": [
    "sr = Sharp(strategy_df, 0.025)\n",
    "sr"
   ]
  },
  {
   "cell_type": "code",
   "execution_count": 217,
   "metadata": {},
   "outputs": [
    {
     "output_type": "execute_result",
     "data": {
      "text/plain": [
       "0.00890572376357566"
      ]
     },
     "metadata": {},
     "execution_count": 217
    }
   ],
   "source": [
    "dd = Max_DD(strategy_df)\n",
    "dd"
   ]
  },
  {
   "source": [
    "計算個別股票的 KPIs:"
   ],
   "cell_type": "markdown",
   "metadata": {}
  },
  {
   "cell_type": "code",
   "execution_count": 218,
   "metadata": {},
   "outputs": [
    {
     "output_type": "stream",
     "name": "stdout",
     "text": [
      "calculating KPIs for  MSFT\ncalculating KPIs for  AAPL\ncalculating KPIs for  FB\ncalculating KPIs for  AMZN\ncalculating KPIs for  INTC\ncalculating KPIs for  CSCO\ncalculating KPIs for  VZ\ncalculating KPIs for  IBM\ncalculating KPIs for  TSLA\ncalculating KPIs for  AMD\n"
     ]
    },
    {
     "output_type": "execute_result",
     "data": {
      "text/plain": [
       "        Return  Sharp Ratio  Max Drawdown\n",
       "MSFT  0.000011    -0.026018      0.011295\n",
       "AAPL -0.000071    -0.034810      0.025794\n",
       "FB   -0.000116    -0.018124      0.036869\n",
       "AMZN  0.000020    -0.030594      0.008599\n",
       "INTC -0.000043    -0.022833      0.032573\n",
       "CSCO -0.000005    -0.030297      0.013016\n",
       "VZ   -0.000035    -0.050299      0.013182\n",
       "IBM  -0.000024    -0.029510      0.017361\n",
       "TSLA  0.000068    -0.011577      0.031630\n",
       "AMD  -0.000012    -0.018460      0.045399"
      ],
      "text/html": "<div>\n<style scoped>\n    .dataframe tbody tr th:only-of-type {\n        vertical-align: middle;\n    }\n\n    .dataframe tbody tr th {\n        vertical-align: top;\n    }\n\n    .dataframe thead th {\n        text-align: right;\n    }\n</style>\n<table border=\"1\" class=\"dataframe\">\n  <thead>\n    <tr style=\"text-align: right;\">\n      <th></th>\n      <th>Return</th>\n      <th>Sharp Ratio</th>\n      <th>Max Drawdown</th>\n    </tr>\n  </thead>\n  <tbody>\n    <tr>\n      <th>MSFT</th>\n      <td>0.000011</td>\n      <td>-0.026018</td>\n      <td>0.011295</td>\n    </tr>\n    <tr>\n      <th>AAPL</th>\n      <td>-0.000071</td>\n      <td>-0.034810</td>\n      <td>0.025794</td>\n    </tr>\n    <tr>\n      <th>FB</th>\n      <td>-0.000116</td>\n      <td>-0.018124</td>\n      <td>0.036869</td>\n    </tr>\n    <tr>\n      <th>AMZN</th>\n      <td>0.000020</td>\n      <td>-0.030594</td>\n      <td>0.008599</td>\n    </tr>\n    <tr>\n      <th>INTC</th>\n      <td>-0.000043</td>\n      <td>-0.022833</td>\n      <td>0.032573</td>\n    </tr>\n    <tr>\n      <th>CSCO</th>\n      <td>-0.000005</td>\n      <td>-0.030297</td>\n      <td>0.013016</td>\n    </tr>\n    <tr>\n      <th>VZ</th>\n      <td>-0.000035</td>\n      <td>-0.050299</td>\n      <td>0.013182</td>\n    </tr>\n    <tr>\n      <th>IBM</th>\n      <td>-0.000024</td>\n      <td>-0.029510</td>\n      <td>0.017361</td>\n    </tr>\n    <tr>\n      <th>TSLA</th>\n      <td>0.000068</td>\n      <td>-0.011577</td>\n      <td>0.031630</td>\n    </tr>\n    <tr>\n      <th>AMD</th>\n      <td>-0.000012</td>\n      <td>-0.018460</td>\n      <td>0.045399</td>\n    </tr>\n  </tbody>\n</table>\n</div>"
     },
     "metadata": {},
     "execution_count": 218
    }
   ],
   "source": [
    "cagr = {}\n",
    "sharp_ratios = {}\n",
    "max_drawdown = {}\n",
    "for ticker in tickers:\n",
    "    print(\"calculating KPIs for \",ticker)      \n",
    "    cagr[ticker] =  CAGR(ohlc_dict[ticker])\n",
    "    sharp_ratios[ticker] =  Sharp(ohlc_dict[ticker],0.025)\n",
    "    max_drawdown[ticker] =  Max_DD(ohlc_dict[ticker])\n",
    "\n",
    "KPI_df = pd.DataFrame([cagr,sharp_ratios,max_drawdown],index=[\"Return\",\"Sharp Ratio\",\"Max Drawdown\"])  \n",
    "# KPI_df    \n",
    "KPI_df.T\n"
   ]
  },
  {
   "source": [
    "### 6. Visualization:"
   ],
   "cell_type": "markdown",
   "metadata": {}
  },
  {
   "cell_type": "code",
   "execution_count": 219,
   "metadata": {},
   "outputs": [
    {
     "output_type": "execute_result",
     "data": {
      "text/plain": [
       "<AxesSubplot:xlabel='date'>"
      ]
     },
     "metadata": {},
     "execution_count": 219
    },
    {
     "output_type": "display_data",
     "data": {
      "text/plain": "<Figure size 432x288 with 1 Axes>",
      "image/svg+xml": "<?xml version=\"1.0\" encoding=\"utf-8\" standalone=\"no\"?>\r\n<!DOCTYPE svg PUBLIC \"-//W3C//DTD SVG 1.1//EN\"\r\n  \"http://www.w3.org/Graphics/SVG/1.1/DTD/svg11.dtd\">\r\n<!-- Created with matplotlib (https://matplotlib.org/) -->\r\n<svg height=\"268.35744pt\" version=\"1.1\" viewBox=\"0 0 384.828125 268.35744\" width=\"384.828125pt\" xmlns=\"http://www.w3.org/2000/svg\" xmlns:xlink=\"http://www.w3.org/1999/xlink\">\r\n <metadata>\r\n  <rdf:RDF xmlns:cc=\"http://creativecommons.org/ns#\" xmlns:dc=\"http://purl.org/dc/elements/1.1/\" xmlns:rdf=\"http://www.w3.org/1999/02/22-rdf-syntax-ns#\">\r\n   <cc:Work>\r\n    <dc:type rdf:resource=\"http://purl.org/dc/dcmitype/StillImage\"/>\r\n    <dc:date>2021-01-30T22:36:52.750638</dc:date>\r\n    <dc:format>image/svg+xml</dc:format>\r\n    <dc:creator>\r\n     <cc:Agent>\r\n      <dc:title>Matplotlib v3.3.2, https://matplotlib.org/</dc:title>\r\n     </cc:Agent>\r\n    </dc:creator>\r\n   </cc:Work>\r\n  </rdf:RDF>\r\n </metadata>\r\n <defs>\r\n  <style type=\"text/css\">*{stroke-linecap:butt;stroke-linejoin:round;}</style>\r\n </defs>\r\n <g id=\"figure_1\">\r\n  <g id=\"patch_1\">\r\n   <path d=\"M 0 268.35744 \r\nL 384.828125 268.35744 \r\nL 384.828125 0 \r\nL 0 0 \r\nz\r\n\" style=\"fill:none;\"/>\r\n  </g>\r\n  <g id=\"axes_1\">\r\n   <g id=\"patch_2\">\r\n    <path d=\"M 42.828125 203.04 \r\nL 377.628125 203.04 \r\nL 377.628125 7.2 \r\nL 42.828125 7.2 \r\nz\r\n\" style=\"fill:#ffffff;\"/>\r\n   </g>\r\n   <g id=\"matplotlib.axis_1\">\r\n    <g id=\"xtick_1\">\r\n     <g id=\"line2d_1\">\r\n      <defs>\r\n       <path d=\"M 0 0 \r\nL 0 3.5 \r\n\" id=\"mc3b5793a5c\" style=\"stroke:#000000;stroke-width:0.8;\"/>\r\n      </defs>\r\n      <g>\r\n       <use style=\"stroke:#000000;stroke-width:0.8;\" x=\"64.463233\" xlink:href=\"#mc3b5793a5c\" y=\"203.04\"/>\r\n      </g>\r\n     </g>\r\n     <g id=\"text_1\">\r\n      <!-- 2021-01-05 -->\r\n      <g transform=\"translate(13.093782 245.678252)rotate(-30)scale(0.1 -0.1)\">\r\n       <defs>\r\n        <path d=\"M 19.1875 8.296875 \r\nL 53.609375 8.296875 \r\nL 53.609375 0 \r\nL 7.328125 0 \r\nL 7.328125 8.296875 \r\nQ 12.9375 14.109375 22.625 23.890625 \r\nQ 32.328125 33.6875 34.8125 36.53125 \r\nQ 39.546875 41.84375 41.421875 45.53125 \r\nQ 43.3125 49.21875 43.3125 52.78125 \r\nQ 43.3125 58.59375 39.234375 62.25 \r\nQ 35.15625 65.921875 28.609375 65.921875 \r\nQ 23.96875 65.921875 18.8125 64.3125 \r\nQ 13.671875 62.703125 7.8125 59.421875 \r\nL 7.8125 69.390625 \r\nQ 13.765625 71.78125 18.9375 73 \r\nQ 24.125 74.21875 28.421875 74.21875 \r\nQ 39.75 74.21875 46.484375 68.546875 \r\nQ 53.21875 62.890625 53.21875 53.421875 \r\nQ 53.21875 48.921875 51.53125 44.890625 \r\nQ 49.859375 40.875 45.40625 35.40625 \r\nQ 44.1875 33.984375 37.640625 27.21875 \r\nQ 31.109375 20.453125 19.1875 8.296875 \r\nz\r\n\" id=\"DejaVuSans-50\"/>\r\n        <path d=\"M 31.78125 66.40625 \r\nQ 24.171875 66.40625 20.328125 58.90625 \r\nQ 16.5 51.421875 16.5 36.375 \r\nQ 16.5 21.390625 20.328125 13.890625 \r\nQ 24.171875 6.390625 31.78125 6.390625 \r\nQ 39.453125 6.390625 43.28125 13.890625 \r\nQ 47.125 21.390625 47.125 36.375 \r\nQ 47.125 51.421875 43.28125 58.90625 \r\nQ 39.453125 66.40625 31.78125 66.40625 \r\nz\r\nM 31.78125 74.21875 \r\nQ 44.046875 74.21875 50.515625 64.515625 \r\nQ 56.984375 54.828125 56.984375 36.375 \r\nQ 56.984375 17.96875 50.515625 8.265625 \r\nQ 44.046875 -1.421875 31.78125 -1.421875 \r\nQ 19.53125 -1.421875 13.0625 8.265625 \r\nQ 6.59375 17.96875 6.59375 36.375 \r\nQ 6.59375 54.828125 13.0625 64.515625 \r\nQ 19.53125 74.21875 31.78125 74.21875 \r\nz\r\n\" id=\"DejaVuSans-48\"/>\r\n        <path d=\"M 12.40625 8.296875 \r\nL 28.515625 8.296875 \r\nL 28.515625 63.921875 \r\nL 10.984375 60.40625 \r\nL 10.984375 69.390625 \r\nL 28.421875 72.90625 \r\nL 38.28125 72.90625 \r\nL 38.28125 8.296875 \r\nL 54.390625 8.296875 \r\nL 54.390625 0 \r\nL 12.40625 0 \r\nz\r\n\" id=\"DejaVuSans-49\"/>\r\n        <path d=\"M 4.890625 31.390625 \r\nL 31.203125 31.390625 \r\nL 31.203125 23.390625 \r\nL 4.890625 23.390625 \r\nz\r\n\" id=\"DejaVuSans-45\"/>\r\n        <path d=\"M 10.796875 72.90625 \r\nL 49.515625 72.90625 \r\nL 49.515625 64.59375 \r\nL 19.828125 64.59375 \r\nL 19.828125 46.734375 \r\nQ 21.96875 47.46875 24.109375 47.828125 \r\nQ 26.265625 48.1875 28.421875 48.1875 \r\nQ 40.625 48.1875 47.75 41.5 \r\nQ 54.890625 34.8125 54.890625 23.390625 \r\nQ 54.890625 11.625 47.5625 5.09375 \r\nQ 40.234375 -1.421875 26.90625 -1.421875 \r\nQ 22.3125 -1.421875 17.546875 -0.640625 \r\nQ 12.796875 0.140625 7.71875 1.703125 \r\nL 7.71875 11.625 \r\nQ 12.109375 9.234375 16.796875 8.0625 \r\nQ 21.484375 6.890625 26.703125 6.890625 \r\nQ 35.15625 6.890625 40.078125 11.328125 \r\nQ 45.015625 15.765625 45.015625 23.390625 \r\nQ 45.015625 31 40.078125 35.4375 \r\nQ 35.15625 39.890625 26.703125 39.890625 \r\nQ 22.75 39.890625 18.8125 39.015625 \r\nQ 14.890625 38.140625 10.796875 36.28125 \r\nz\r\n\" id=\"DejaVuSans-53\"/>\r\n       </defs>\r\n       <use xlink:href=\"#DejaVuSans-50\"/>\r\n       <use x=\"63.623047\" xlink:href=\"#DejaVuSans-48\"/>\r\n       <use x=\"127.246094\" xlink:href=\"#DejaVuSans-50\"/>\r\n       <use x=\"190.869141\" xlink:href=\"#DejaVuSans-49\"/>\r\n       <use x=\"254.492188\" xlink:href=\"#DejaVuSans-45\"/>\r\n       <use x=\"290.576172\" xlink:href=\"#DejaVuSans-48\"/>\r\n       <use x=\"354.199219\" xlink:href=\"#DejaVuSans-49\"/>\r\n       <use x=\"417.822266\" xlink:href=\"#DejaVuSans-45\"/>\r\n       <use x=\"453.90625\" xlink:href=\"#DejaVuSans-48\"/>\r\n       <use x=\"517.529297\" xlink:href=\"#DejaVuSans-53\"/>\r\n      </g>\r\n     </g>\r\n    </g>\r\n    <g id=\"xtick_2\">\r\n     <g id=\"line2d_2\">\r\n      <g>\r\n       <use style=\"stroke:#000000;stroke-width:0.8;\" x=\"112.778916\" xlink:href=\"#mc3b5793a5c\" y=\"203.04\"/>\r\n      </g>\r\n     </g>\r\n     <g id=\"text_2\">\r\n      <!-- 2021-01-09 -->\r\n      <g transform=\"translate(61.409465 245.678252)rotate(-30)scale(0.1 -0.1)\">\r\n       <defs>\r\n        <path d=\"M 10.984375 1.515625 \r\nL 10.984375 10.5 \r\nQ 14.703125 8.734375 18.5 7.8125 \r\nQ 22.3125 6.890625 25.984375 6.890625 \r\nQ 35.75 6.890625 40.890625 13.453125 \r\nQ 46.046875 20.015625 46.78125 33.40625 \r\nQ 43.953125 29.203125 39.59375 26.953125 \r\nQ 35.25 24.703125 29.984375 24.703125 \r\nQ 19.046875 24.703125 12.671875 31.3125 \r\nQ 6.296875 37.9375 6.296875 49.421875 \r\nQ 6.296875 60.640625 12.9375 67.421875 \r\nQ 19.578125 74.21875 30.609375 74.21875 \r\nQ 43.265625 74.21875 49.921875 64.515625 \r\nQ 56.59375 54.828125 56.59375 36.375 \r\nQ 56.59375 19.140625 48.40625 8.859375 \r\nQ 40.234375 -1.421875 26.421875 -1.421875 \r\nQ 22.703125 -1.421875 18.890625 -0.6875 \r\nQ 15.09375 0.046875 10.984375 1.515625 \r\nz\r\nM 30.609375 32.421875 \r\nQ 37.25 32.421875 41.125 36.953125 \r\nQ 45.015625 41.5 45.015625 49.421875 \r\nQ 45.015625 57.28125 41.125 61.84375 \r\nQ 37.25 66.40625 30.609375 66.40625 \r\nQ 23.96875 66.40625 20.09375 61.84375 \r\nQ 16.21875 57.28125 16.21875 49.421875 \r\nQ 16.21875 41.5 20.09375 36.953125 \r\nQ 23.96875 32.421875 30.609375 32.421875 \r\nz\r\n\" id=\"DejaVuSans-57\"/>\r\n       </defs>\r\n       <use xlink:href=\"#DejaVuSans-50\"/>\r\n       <use x=\"63.623047\" xlink:href=\"#DejaVuSans-48\"/>\r\n       <use x=\"127.246094\" xlink:href=\"#DejaVuSans-50\"/>\r\n       <use x=\"190.869141\" xlink:href=\"#DejaVuSans-49\"/>\r\n       <use x=\"254.492188\" xlink:href=\"#DejaVuSans-45\"/>\r\n       <use x=\"290.576172\" xlink:href=\"#DejaVuSans-48\"/>\r\n       <use x=\"354.199219\" xlink:href=\"#DejaVuSans-49\"/>\r\n       <use x=\"417.822266\" xlink:href=\"#DejaVuSans-45\"/>\r\n       <use x=\"453.90625\" xlink:href=\"#DejaVuSans-48\"/>\r\n       <use x=\"517.529297\" xlink:href=\"#DejaVuSans-57\"/>\r\n      </g>\r\n     </g>\r\n    </g>\r\n    <g id=\"xtick_3\">\r\n     <g id=\"line2d_3\">\r\n      <g>\r\n       <use style=\"stroke:#000000;stroke-width:0.8;\" x=\"161.094599\" xlink:href=\"#mc3b5793a5c\" y=\"203.04\"/>\r\n      </g>\r\n     </g>\r\n     <g id=\"text_3\">\r\n      <!-- 2021-01-13 -->\r\n      <g transform=\"translate(109.725147 245.678252)rotate(-30)scale(0.1 -0.1)\">\r\n       <defs>\r\n        <path d=\"M 40.578125 39.3125 \r\nQ 47.65625 37.796875 51.625 33 \r\nQ 55.609375 28.21875 55.609375 21.1875 \r\nQ 55.609375 10.40625 48.1875 4.484375 \r\nQ 40.765625 -1.421875 27.09375 -1.421875 \r\nQ 22.515625 -1.421875 17.65625 -0.515625 \r\nQ 12.796875 0.390625 7.625 2.203125 \r\nL 7.625 11.71875 \r\nQ 11.71875 9.328125 16.59375 8.109375 \r\nQ 21.484375 6.890625 26.8125 6.890625 \r\nQ 36.078125 6.890625 40.9375 10.546875 \r\nQ 45.796875 14.203125 45.796875 21.1875 \r\nQ 45.796875 27.640625 41.28125 31.265625 \r\nQ 36.765625 34.90625 28.71875 34.90625 \r\nL 20.21875 34.90625 \r\nL 20.21875 43.015625 \r\nL 29.109375 43.015625 \r\nQ 36.375 43.015625 40.234375 45.921875 \r\nQ 44.09375 48.828125 44.09375 54.296875 \r\nQ 44.09375 59.90625 40.109375 62.90625 \r\nQ 36.140625 65.921875 28.71875 65.921875 \r\nQ 24.65625 65.921875 20.015625 65.03125 \r\nQ 15.375 64.15625 9.8125 62.3125 \r\nL 9.8125 71.09375 \r\nQ 15.4375 72.65625 20.34375 73.4375 \r\nQ 25.25 74.21875 29.59375 74.21875 \r\nQ 40.828125 74.21875 47.359375 69.109375 \r\nQ 53.90625 64.015625 53.90625 55.328125 \r\nQ 53.90625 49.265625 50.4375 45.09375 \r\nQ 46.96875 40.921875 40.578125 39.3125 \r\nz\r\n\" id=\"DejaVuSans-51\"/>\r\n       </defs>\r\n       <use xlink:href=\"#DejaVuSans-50\"/>\r\n       <use x=\"63.623047\" xlink:href=\"#DejaVuSans-48\"/>\r\n       <use x=\"127.246094\" xlink:href=\"#DejaVuSans-50\"/>\r\n       <use x=\"190.869141\" xlink:href=\"#DejaVuSans-49\"/>\r\n       <use x=\"254.492188\" xlink:href=\"#DejaVuSans-45\"/>\r\n       <use x=\"290.576172\" xlink:href=\"#DejaVuSans-48\"/>\r\n       <use x=\"354.199219\" xlink:href=\"#DejaVuSans-49\"/>\r\n       <use x=\"417.822266\" xlink:href=\"#DejaVuSans-45\"/>\r\n       <use x=\"453.90625\" xlink:href=\"#DejaVuSans-49\"/>\r\n       <use x=\"517.529297\" xlink:href=\"#DejaVuSans-51\"/>\r\n      </g>\r\n     </g>\r\n    </g>\r\n    <g id=\"xtick_4\">\r\n     <g id=\"line2d_4\">\r\n      <g>\r\n       <use style=\"stroke:#000000;stroke-width:0.8;\" x=\"209.410281\" xlink:href=\"#mc3b5793a5c\" y=\"203.04\"/>\r\n      </g>\r\n     </g>\r\n     <g id=\"text_4\">\r\n      <!-- 2021-01-17 -->\r\n      <g transform=\"translate(158.04083 245.678252)rotate(-30)scale(0.1 -0.1)\">\r\n       <defs>\r\n        <path d=\"M 8.203125 72.90625 \r\nL 55.078125 72.90625 \r\nL 55.078125 68.703125 \r\nL 28.609375 0 \r\nL 18.3125 0 \r\nL 43.21875 64.59375 \r\nL 8.203125 64.59375 \r\nz\r\n\" id=\"DejaVuSans-55\"/>\r\n       </defs>\r\n       <use xlink:href=\"#DejaVuSans-50\"/>\r\n       <use x=\"63.623047\" xlink:href=\"#DejaVuSans-48\"/>\r\n       <use x=\"127.246094\" xlink:href=\"#DejaVuSans-50\"/>\r\n       <use x=\"190.869141\" xlink:href=\"#DejaVuSans-49\"/>\r\n       <use x=\"254.492188\" xlink:href=\"#DejaVuSans-45\"/>\r\n       <use x=\"290.576172\" xlink:href=\"#DejaVuSans-48\"/>\r\n       <use x=\"354.199219\" xlink:href=\"#DejaVuSans-49\"/>\r\n       <use x=\"417.822266\" xlink:href=\"#DejaVuSans-45\"/>\r\n       <use x=\"453.90625\" xlink:href=\"#DejaVuSans-49\"/>\r\n       <use x=\"517.529297\" xlink:href=\"#DejaVuSans-55\"/>\r\n      </g>\r\n     </g>\r\n    </g>\r\n    <g id=\"xtick_5\">\r\n     <g id=\"line2d_5\">\r\n      <g>\r\n       <use style=\"stroke:#000000;stroke-width:0.8;\" x=\"257.725964\" xlink:href=\"#mc3b5793a5c\" y=\"203.04\"/>\r\n      </g>\r\n     </g>\r\n     <g id=\"text_5\">\r\n      <!-- 2021-01-21 -->\r\n      <g transform=\"translate(206.356513 245.678252)rotate(-30)scale(0.1 -0.1)\">\r\n       <use xlink:href=\"#DejaVuSans-50\"/>\r\n       <use x=\"63.623047\" xlink:href=\"#DejaVuSans-48\"/>\r\n       <use x=\"127.246094\" xlink:href=\"#DejaVuSans-50\"/>\r\n       <use x=\"190.869141\" xlink:href=\"#DejaVuSans-49\"/>\r\n       <use x=\"254.492188\" xlink:href=\"#DejaVuSans-45\"/>\r\n       <use x=\"290.576172\" xlink:href=\"#DejaVuSans-48\"/>\r\n       <use x=\"354.199219\" xlink:href=\"#DejaVuSans-49\"/>\r\n       <use x=\"417.822266\" xlink:href=\"#DejaVuSans-45\"/>\r\n       <use x=\"453.90625\" xlink:href=\"#DejaVuSans-50\"/>\r\n       <use x=\"517.529297\" xlink:href=\"#DejaVuSans-49\"/>\r\n      </g>\r\n     </g>\r\n    </g>\r\n    <g id=\"xtick_6\">\r\n     <g id=\"line2d_6\">\r\n      <g>\r\n       <use style=\"stroke:#000000;stroke-width:0.8;\" x=\"306.041647\" xlink:href=\"#mc3b5793a5c\" y=\"203.04\"/>\r\n      </g>\r\n     </g>\r\n     <g id=\"text_6\">\r\n      <!-- 2021-01-25 -->\r\n      <g transform=\"translate(254.672195 245.678252)rotate(-30)scale(0.1 -0.1)\">\r\n       <use xlink:href=\"#DejaVuSans-50\"/>\r\n       <use x=\"63.623047\" xlink:href=\"#DejaVuSans-48\"/>\r\n       <use x=\"127.246094\" xlink:href=\"#DejaVuSans-50\"/>\r\n       <use x=\"190.869141\" xlink:href=\"#DejaVuSans-49\"/>\r\n       <use x=\"254.492188\" xlink:href=\"#DejaVuSans-45\"/>\r\n       <use x=\"290.576172\" xlink:href=\"#DejaVuSans-48\"/>\r\n       <use x=\"354.199219\" xlink:href=\"#DejaVuSans-49\"/>\r\n       <use x=\"417.822266\" xlink:href=\"#DejaVuSans-45\"/>\r\n       <use x=\"453.90625\" xlink:href=\"#DejaVuSans-50\"/>\r\n       <use x=\"517.529297\" xlink:href=\"#DejaVuSans-53\"/>\r\n      </g>\r\n     </g>\r\n    </g>\r\n    <g id=\"xtick_7\">\r\n     <g id=\"line2d_7\">\r\n      <g>\r\n       <use style=\"stroke:#000000;stroke-width:0.8;\" x=\"354.357329\" xlink:href=\"#mc3b5793a5c\" y=\"203.04\"/>\r\n      </g>\r\n     </g>\r\n     <g id=\"text_7\">\r\n      <!-- 2021-01-29 -->\r\n      <g transform=\"translate(302.987878 245.678252)rotate(-30)scale(0.1 -0.1)\">\r\n       <use xlink:href=\"#DejaVuSans-50\"/>\r\n       <use x=\"63.623047\" xlink:href=\"#DejaVuSans-48\"/>\r\n       <use x=\"127.246094\" xlink:href=\"#DejaVuSans-50\"/>\r\n       <use x=\"190.869141\" xlink:href=\"#DejaVuSans-49\"/>\r\n       <use x=\"254.492188\" xlink:href=\"#DejaVuSans-45\"/>\r\n       <use x=\"290.576172\" xlink:href=\"#DejaVuSans-48\"/>\r\n       <use x=\"354.199219\" xlink:href=\"#DejaVuSans-49\"/>\r\n       <use x=\"417.822266\" xlink:href=\"#DejaVuSans-45\"/>\r\n       <use x=\"453.90625\" xlink:href=\"#DejaVuSans-50\"/>\r\n       <use x=\"517.529297\" xlink:href=\"#DejaVuSans-57\"/>\r\n      </g>\r\n     </g>\r\n    </g>\r\n    <g id=\"text_8\">\r\n     <!-- date -->\r\n     <g transform=\"translate(198.953125 259.077752)scale(0.1 -0.1)\">\r\n      <defs>\r\n       <path d=\"M 45.40625 46.390625 \r\nL 45.40625 75.984375 \r\nL 54.390625 75.984375 \r\nL 54.390625 0 \r\nL 45.40625 0 \r\nL 45.40625 8.203125 \r\nQ 42.578125 3.328125 38.25 0.953125 \r\nQ 33.9375 -1.421875 27.875 -1.421875 \r\nQ 17.96875 -1.421875 11.734375 6.484375 \r\nQ 5.515625 14.40625 5.515625 27.296875 \r\nQ 5.515625 40.1875 11.734375 48.09375 \r\nQ 17.96875 56 27.875 56 \r\nQ 33.9375 56 38.25 53.625 \r\nQ 42.578125 51.265625 45.40625 46.390625 \r\nz\r\nM 14.796875 27.296875 \r\nQ 14.796875 17.390625 18.875 11.75 \r\nQ 22.953125 6.109375 30.078125 6.109375 \r\nQ 37.203125 6.109375 41.296875 11.75 \r\nQ 45.40625 17.390625 45.40625 27.296875 \r\nQ 45.40625 37.203125 41.296875 42.84375 \r\nQ 37.203125 48.484375 30.078125 48.484375 \r\nQ 22.953125 48.484375 18.875 42.84375 \r\nQ 14.796875 37.203125 14.796875 27.296875 \r\nz\r\n\" id=\"DejaVuSans-100\"/>\r\n       <path d=\"M 34.28125 27.484375 \r\nQ 23.390625 27.484375 19.1875 25 \r\nQ 14.984375 22.515625 14.984375 16.5 \r\nQ 14.984375 11.71875 18.140625 8.90625 \r\nQ 21.296875 6.109375 26.703125 6.109375 \r\nQ 34.1875 6.109375 38.703125 11.40625 \r\nQ 43.21875 16.703125 43.21875 25.484375 \r\nL 43.21875 27.484375 \r\nz\r\nM 52.203125 31.203125 \r\nL 52.203125 0 \r\nL 43.21875 0 \r\nL 43.21875 8.296875 \r\nQ 40.140625 3.328125 35.546875 0.953125 \r\nQ 30.953125 -1.421875 24.3125 -1.421875 \r\nQ 15.921875 -1.421875 10.953125 3.296875 \r\nQ 6 8.015625 6 15.921875 \r\nQ 6 25.140625 12.171875 29.828125 \r\nQ 18.359375 34.515625 30.609375 34.515625 \r\nL 43.21875 34.515625 \r\nL 43.21875 35.40625 \r\nQ 43.21875 41.609375 39.140625 45 \r\nQ 35.0625 48.390625 27.6875 48.390625 \r\nQ 23 48.390625 18.546875 47.265625 \r\nQ 14.109375 46.140625 10.015625 43.890625 \r\nL 10.015625 52.203125 \r\nQ 14.9375 54.109375 19.578125 55.046875 \r\nQ 24.21875 56 28.609375 56 \r\nQ 40.484375 56 46.34375 49.84375 \r\nQ 52.203125 43.703125 52.203125 31.203125 \r\nz\r\n\" id=\"DejaVuSans-97\"/>\r\n       <path d=\"M 18.3125 70.21875 \r\nL 18.3125 54.6875 \r\nL 36.8125 54.6875 \r\nL 36.8125 47.703125 \r\nL 18.3125 47.703125 \r\nL 18.3125 18.015625 \r\nQ 18.3125 11.328125 20.140625 9.421875 \r\nQ 21.96875 7.515625 27.59375 7.515625 \r\nL 36.8125 7.515625 \r\nL 36.8125 0 \r\nL 27.59375 0 \r\nQ 17.1875 0 13.234375 3.875 \r\nQ 9.28125 7.765625 9.28125 18.015625 \r\nL 9.28125 47.703125 \r\nL 2.6875 47.703125 \r\nL 2.6875 54.6875 \r\nL 9.28125 54.6875 \r\nL 9.28125 70.21875 \r\nz\r\n\" id=\"DejaVuSans-116\"/>\r\n       <path d=\"M 56.203125 29.59375 \r\nL 56.203125 25.203125 \r\nL 14.890625 25.203125 \r\nQ 15.484375 15.921875 20.484375 11.0625 \r\nQ 25.484375 6.203125 34.421875 6.203125 \r\nQ 39.59375 6.203125 44.453125 7.46875 \r\nQ 49.3125 8.734375 54.109375 11.28125 \r\nL 54.109375 2.78125 \r\nQ 49.265625 0.734375 44.1875 -0.34375 \r\nQ 39.109375 -1.421875 33.890625 -1.421875 \r\nQ 20.796875 -1.421875 13.15625 6.1875 \r\nQ 5.515625 13.8125 5.515625 26.8125 \r\nQ 5.515625 40.234375 12.765625 48.109375 \r\nQ 20.015625 56 32.328125 56 \r\nQ 43.359375 56 49.78125 48.890625 \r\nQ 56.203125 41.796875 56.203125 29.59375 \r\nz\r\nM 47.21875 32.234375 \r\nQ 47.125 39.59375 43.09375 43.984375 \r\nQ 39.0625 48.390625 32.421875 48.390625 \r\nQ 24.90625 48.390625 20.390625 44.140625 \r\nQ 15.875 39.890625 15.1875 32.171875 \r\nz\r\n\" id=\"DejaVuSans-101\"/>\r\n      </defs>\r\n      <use xlink:href=\"#DejaVuSans-100\"/>\r\n      <use x=\"63.476562\" xlink:href=\"#DejaVuSans-97\"/>\r\n      <use x=\"124.755859\" xlink:href=\"#DejaVuSans-116\"/>\r\n      <use x=\"163.964844\" xlink:href=\"#DejaVuSans-101\"/>\r\n     </g>\r\n    </g>\r\n   </g>\r\n   <g id=\"matplotlib.axis_2\">\r\n    <g id=\"ytick_1\">\r\n     <g id=\"line2d_8\">\r\n      <defs>\r\n       <path d=\"M 0 0 \r\nL -3.5 0 \r\n\" id=\"m06e7166439\" style=\"stroke:#000000;stroke-width:0.8;\"/>\r\n      </defs>\r\n      <g>\r\n       <use style=\"stroke:#000000;stroke-width:0.8;\" x=\"42.828125\" xlink:href=\"#m06e7166439\" y=\"182.318868\"/>\r\n      </g>\r\n     </g>\r\n     <g id=\"text_9\">\r\n      <!-- 0.992 -->\r\n      <g transform=\"translate(7.2 186.118087)scale(0.1 -0.1)\">\r\n       <defs>\r\n        <path d=\"M 10.6875 12.40625 \r\nL 21 12.40625 \r\nL 21 0 \r\nL 10.6875 0 \r\nz\r\n\" id=\"DejaVuSans-46\"/>\r\n       </defs>\r\n       <use xlink:href=\"#DejaVuSans-48\"/>\r\n       <use x=\"63.623047\" xlink:href=\"#DejaVuSans-46\"/>\r\n       <use x=\"95.410156\" xlink:href=\"#DejaVuSans-57\"/>\r\n       <use x=\"159.033203\" xlink:href=\"#DejaVuSans-57\"/>\r\n       <use x=\"222.65625\" xlink:href=\"#DejaVuSans-50\"/>\r\n      </g>\r\n     </g>\r\n    </g>\r\n    <g id=\"ytick_2\">\r\n     <g id=\"line2d_9\">\r\n      <g>\r\n       <use style=\"stroke:#000000;stroke-width:0.8;\" x=\"42.828125\" xlink:href=\"#m06e7166439\" y=\"142.349086\"/>\r\n      </g>\r\n     </g>\r\n     <g id=\"text_10\">\r\n      <!-- 0.994 -->\r\n      <g transform=\"translate(7.2 146.148305)scale(0.1 -0.1)\">\r\n       <defs>\r\n        <path d=\"M 37.796875 64.3125 \r\nL 12.890625 25.390625 \r\nL 37.796875 25.390625 \r\nz\r\nM 35.203125 72.90625 \r\nL 47.609375 72.90625 \r\nL 47.609375 25.390625 \r\nL 58.015625 25.390625 \r\nL 58.015625 17.1875 \r\nL 47.609375 17.1875 \r\nL 47.609375 0 \r\nL 37.796875 0 \r\nL 37.796875 17.1875 \r\nL 4.890625 17.1875 \r\nL 4.890625 26.703125 \r\nz\r\n\" id=\"DejaVuSans-52\"/>\r\n       </defs>\r\n       <use xlink:href=\"#DejaVuSans-48\"/>\r\n       <use x=\"63.623047\" xlink:href=\"#DejaVuSans-46\"/>\r\n       <use x=\"95.410156\" xlink:href=\"#DejaVuSans-57\"/>\r\n       <use x=\"159.033203\" xlink:href=\"#DejaVuSans-57\"/>\r\n       <use x=\"222.65625\" xlink:href=\"#DejaVuSans-52\"/>\r\n      </g>\r\n     </g>\r\n    </g>\r\n    <g id=\"ytick_3\">\r\n     <g id=\"line2d_10\">\r\n      <g>\r\n       <use style=\"stroke:#000000;stroke-width:0.8;\" x=\"42.828125\" xlink:href=\"#m06e7166439\" y=\"102.379304\"/>\r\n      </g>\r\n     </g>\r\n     <g id=\"text_11\">\r\n      <!-- 0.996 -->\r\n      <g transform=\"translate(7.2 106.178522)scale(0.1 -0.1)\">\r\n       <defs>\r\n        <path d=\"M 33.015625 40.375 \r\nQ 26.375 40.375 22.484375 35.828125 \r\nQ 18.609375 31.296875 18.609375 23.390625 \r\nQ 18.609375 15.53125 22.484375 10.953125 \r\nQ 26.375 6.390625 33.015625 6.390625 \r\nQ 39.65625 6.390625 43.53125 10.953125 \r\nQ 47.40625 15.53125 47.40625 23.390625 \r\nQ 47.40625 31.296875 43.53125 35.828125 \r\nQ 39.65625 40.375 33.015625 40.375 \r\nz\r\nM 52.59375 71.296875 \r\nL 52.59375 62.3125 \r\nQ 48.875 64.0625 45.09375 64.984375 \r\nQ 41.3125 65.921875 37.59375 65.921875 \r\nQ 27.828125 65.921875 22.671875 59.328125 \r\nQ 17.53125 52.734375 16.796875 39.40625 \r\nQ 19.671875 43.65625 24.015625 45.921875 \r\nQ 28.375 48.1875 33.59375 48.1875 \r\nQ 44.578125 48.1875 50.953125 41.515625 \r\nQ 57.328125 34.859375 57.328125 23.390625 \r\nQ 57.328125 12.15625 50.6875 5.359375 \r\nQ 44.046875 -1.421875 33.015625 -1.421875 \r\nQ 20.359375 -1.421875 13.671875 8.265625 \r\nQ 6.984375 17.96875 6.984375 36.375 \r\nQ 6.984375 53.65625 15.1875 63.9375 \r\nQ 23.390625 74.21875 37.203125 74.21875 \r\nQ 40.921875 74.21875 44.703125 73.484375 \r\nQ 48.484375 72.75 52.59375 71.296875 \r\nz\r\n\" id=\"DejaVuSans-54\"/>\r\n       </defs>\r\n       <use xlink:href=\"#DejaVuSans-48\"/>\r\n       <use x=\"63.623047\" xlink:href=\"#DejaVuSans-46\"/>\r\n       <use x=\"95.410156\" xlink:href=\"#DejaVuSans-57\"/>\r\n       <use x=\"159.033203\" xlink:href=\"#DejaVuSans-57\"/>\r\n       <use x=\"222.65625\" xlink:href=\"#DejaVuSans-54\"/>\r\n      </g>\r\n     </g>\r\n    </g>\r\n    <g id=\"ytick_4\">\r\n     <g id=\"line2d_11\">\r\n      <g>\r\n       <use style=\"stroke:#000000;stroke-width:0.8;\" x=\"42.828125\" xlink:href=\"#m06e7166439\" y=\"62.409521\"/>\r\n      </g>\r\n     </g>\r\n     <g id=\"text_12\">\r\n      <!-- 0.998 -->\r\n      <g transform=\"translate(7.2 66.20874)scale(0.1 -0.1)\">\r\n       <defs>\r\n        <path d=\"M 31.78125 34.625 \r\nQ 24.75 34.625 20.71875 30.859375 \r\nQ 16.703125 27.09375 16.703125 20.515625 \r\nQ 16.703125 13.921875 20.71875 10.15625 \r\nQ 24.75 6.390625 31.78125 6.390625 \r\nQ 38.8125 6.390625 42.859375 10.171875 \r\nQ 46.921875 13.96875 46.921875 20.515625 \r\nQ 46.921875 27.09375 42.890625 30.859375 \r\nQ 38.875 34.625 31.78125 34.625 \r\nz\r\nM 21.921875 38.8125 \r\nQ 15.578125 40.375 12.03125 44.71875 \r\nQ 8.5 49.078125 8.5 55.328125 \r\nQ 8.5 64.0625 14.71875 69.140625 \r\nQ 20.953125 74.21875 31.78125 74.21875 \r\nQ 42.671875 74.21875 48.875 69.140625 \r\nQ 55.078125 64.0625 55.078125 55.328125 \r\nQ 55.078125 49.078125 51.53125 44.71875 \r\nQ 48 40.375 41.703125 38.8125 \r\nQ 48.828125 37.15625 52.796875 32.3125 \r\nQ 56.78125 27.484375 56.78125 20.515625 \r\nQ 56.78125 9.90625 50.3125 4.234375 \r\nQ 43.84375 -1.421875 31.78125 -1.421875 \r\nQ 19.734375 -1.421875 13.25 4.234375 \r\nQ 6.78125 9.90625 6.78125 20.515625 \r\nQ 6.78125 27.484375 10.78125 32.3125 \r\nQ 14.796875 37.15625 21.921875 38.8125 \r\nz\r\nM 18.3125 54.390625 \r\nQ 18.3125 48.734375 21.84375 45.5625 \r\nQ 25.390625 42.390625 31.78125 42.390625 \r\nQ 38.140625 42.390625 41.71875 45.5625 \r\nQ 45.3125 48.734375 45.3125 54.390625 \r\nQ 45.3125 60.0625 41.71875 63.234375 \r\nQ 38.140625 66.40625 31.78125 66.40625 \r\nQ 25.390625 66.40625 21.84375 63.234375 \r\nQ 18.3125 60.0625 18.3125 54.390625 \r\nz\r\n\" id=\"DejaVuSans-56\"/>\r\n       </defs>\r\n       <use xlink:href=\"#DejaVuSans-48\"/>\r\n       <use x=\"63.623047\" xlink:href=\"#DejaVuSans-46\"/>\r\n       <use x=\"95.410156\" xlink:href=\"#DejaVuSans-57\"/>\r\n       <use x=\"159.033203\" xlink:href=\"#DejaVuSans-57\"/>\r\n       <use x=\"222.65625\" xlink:href=\"#DejaVuSans-56\"/>\r\n      </g>\r\n     </g>\r\n    </g>\r\n    <g id=\"ytick_5\">\r\n     <g id=\"line2d_12\">\r\n      <g>\r\n       <use style=\"stroke:#000000;stroke-width:0.8;\" x=\"42.828125\" xlink:href=\"#m06e7166439\" y=\"22.439739\"/>\r\n      </g>\r\n     </g>\r\n     <g id=\"text_13\">\r\n      <!-- 1.000 -->\r\n      <g transform=\"translate(7.2 26.238958)scale(0.1 -0.1)\">\r\n       <use xlink:href=\"#DejaVuSans-49\"/>\r\n       <use x=\"63.623047\" xlink:href=\"#DejaVuSans-46\"/>\r\n       <use x=\"95.410156\" xlink:href=\"#DejaVuSans-48\"/>\r\n       <use x=\"159.033203\" xlink:href=\"#DejaVuSans-48\"/>\r\n       <use x=\"222.65625\" xlink:href=\"#DejaVuSans-48\"/>\r\n      </g>\r\n     </g>\r\n    </g>\r\n   </g>\r\n   <g id=\"line2d_13\">\r\n    <path clip-path=\"url(#pe26e10282b)\" d=\"M 58.046307 22.439739 \r\nL 60.353045 22.439739 \r\nL 60.394986 21.149651 \r\nL 60.436927 21.651025 \r\nL 69.286414 40.372794 \r\nL 69.412236 48.86196 \r\nL 71.551211 48.86196 \r\nL 71.760915 42.377918 \r\nL 71.844796 40.641564 \r\nL 71.886737 40.980027 \r\nL 71.928677 42.22918 \r\nL 72.0545 47.476104 \r\nL 72.390025 47.476104 \r\nL 72.473907 39.366296 \r\nL 72.515847 45.056663 \r\nL 81.365334 53.599467 \r\nL 81.533097 79.812061 \r\nL 83.462369 79.812061 \r\nL 83.54625 71.525477 \r\nL 83.630132 72.501567 \r\nL 83.965657 94.18926 \r\nL 84.175361 94.18926 \r\nL 84.343124 105.619727 \r\nL 84.552827 105.619727 \r\nL 84.594768 96.556953 \r\nL 93.444255 124.440002 \r\nL 93.653958 94.140244 \r\nL 93.73784 70.710948 \r\nL 93.77978 73.481113 \r\nL 93.863662 88.020437 \r\nL 93.905603 86.711186 \r\nL 94.031425 92.697822 \r\nL 94.241128 70.413308 \r\nL 94.283069 70.202447 \r\nL 94.534713 52.586017 \r\nL 94.660535 60.889809 \r\nL 96.463985 60.889809 \r\nL 96.505926 60.301664 \r\nL 96.547866 53.804219 \r\nL 96.589807 57.530477 \r\nL 96.631748 58.626135 \r\nL 96.673689 53.669401 \r\nL 105.523176 48.468035 \r\nL 105.648998 71.88407 \r\nL 106.907219 71.88407 \r\nL 106.949159 75.087474 \r\nL 106.9911 73.536307 \r\nL 107.116922 69.220136 \r\nL 107.242744 74.054668 \r\nL 107.284685 71.806554 \r\nL 107.410507 77.041482 \r\nL 107.452448 77.041482 \r\nL 107.494388 78.783471 \r\nL 107.536329 76.652282 \r\nL 107.57827 78.588052 \r\nL 107.662151 75.910944 \r\nL 107.871855 84.024946 \r\nL 108.249321 84.024946 \r\nL 108.375143 89.837138 \r\nL 108.668728 89.837138 \r\nL 108.752609 98.704119 \r\nL 141.759938 102.524032 \r\nL 141.9277 20.786088 \r\nL 142.053522 50.378929 \r\nL 143.395625 50.378929 \r\nL 143.437565 50.576184 \r\nL 143.563388 57.654954 \r\nL 144.150557 57.654954 \r\nL 144.276379 60.642539 \r\nL 144.695786 60.642539 \r\nL 144.821608 58.491454 \r\nL 144.94743 63.475722 \r\nL 144.989371 61.739058 \r\nL 153.838858 63.354974 \r\nL 153.880799 77.178419 \r\nL 153.92274 60.943426 \r\nL 153.96468 60.548829 \r\nL 154.006621 68.159452 \r\nL 154.216324 27.056772 \r\nL 154.258265 28.636656 \r\nL 154.300206 27.241621 \r\nL 154.342147 16.101818 \r\nL 154.426028 21.825104 \r\nL 154.467969 17.108809 \r\nL 154.509909 19.895587 \r\nL 154.635731 30.702501 \r\nL 154.677672 28.980598 \r\nL 154.761554 17.764458 \r\nL 154.803494 21.530522 \r\nL 155.222901 54.636075 \r\nL 155.264842 48.074109 \r\nL 155.306783 54.953138 \r\nL 155.390664 61.212658 \r\nL 155.432605 60.182451 \r\nL 155.474545 59.469487 \r\nL 155.558427 63.427442 \r\nL 155.600367 61.921226 \r\nL 155.642308 59.069053 \r\nL 155.76813 65.108762 \r\nL 155.810071 65.108762 \r\nL 156.103656 56.581887 \r\nL 156.145597 57.890562 \r\nL 156.187537 57.67232 \r\nL 156.3553 53.527502 \r\nL 156.481122 58.603573 \r\nL 156.565003 56.157031 \r\nL 156.606944 56.533398 \r\nL 156.648885 56.909686 \r\nL 156.690826 55.214983 \r\nL 156.732766 55.779772 \r\nL 157.026351 63.934946 \r\nL 157.068292 71.449767 \r\nL 165.917779 81.982592 \r\nL 166.085542 107.829663 \r\nL 168.182577 107.829663 \r\nL 168.308399 112.32974 \r\nL 168.476161 105.851734 \r\nL 168.518102 108.295567 \r\nL 168.601983 106.95407 \r\nL 168.643924 106.875197 \r\nL 168.685865 105.810454 \r\nL 168.811687 109.12715 \r\nL 169.063331 109.12715 \r\nL 169.105272 111.029731 \r\nL 169.147213 107.186048 \r\nL 177.9967 107.555614 \r\nL 178.03864 106.076601 \r\nL 178.080581 121.342517 \r\nL 178.164462 120.467811 \r\nL 178.332225 116.433757 \r\nL 178.458047 122.558953 \r\nL 178.499988 120.354084 \r\nL 178.541929 119.657304 \r\nL 178.583869 120.28388 \r\nL 178.709691 123.694679 \r\nL 178.919395 123.694679 \r\nL 179.045217 133.11942 \r\nL 179.296861 133.11942 \r\nL 179.338802 132.966412 \r\nL 179.380743 133.67479 \r\nL 179.464624 131.895133 \r\nL 179.506565 135.106522 \r\nL 179.548505 130.20585 \r\nL 179.632387 131.581316 \r\nL 179.716268 131.115511 \r\nL 179.758209 127.85555 \r\nL 179.80015 129.817196 \r\nL 179.925972 132.280682 \r\nL 180.890608 132.280682 \r\nL 181.100311 142.026553 \r\nL 181.184192 119.056265 \r\nL 181.226133 134.326588 \r\nL 190.07562 137.372819 \r\nL 190.117561 129.726395 \r\nL 190.201442 133.921417 \r\nL 190.285324 133.132049 \r\nL 190.453086 146.439199 \r\nL 192.340418 146.439199 \r\nL 192.508181 138.228394 \r\nL 192.634003 132.909024 \r\nL 192.675943 136.338309 \r\nL 192.717884 139.966089 \r\nL 192.759825 139.07602 \r\nL 192.801765 133.755392 \r\nL 192.843706 138.739752 \r\nL 193.221172 138.739752 \r\nL 193.305054 137.350495 \r\nL 238.391303 157.824284 \r\nL 238.559066 173.162855 \r\nL 238.601006 172.266918 \r\nL 238.642947 173.057144 \r\nL 238.684888 163.095503 \r\nL 238.726828 165.090465 \r\nL 238.768769 175.403187 \r\nL 238.852651 174.962035 \r\nL 238.936532 170.896121 \r\nL 239.104295 191.996001 \r\nL 239.146235 183.078208 \r\nL 239.188176 180.271549 \r\nL 239.230117 180.709398 \r\nL 239.313998 185.442856 \r\nL 239.39788 176.217032 \r\nL 239.43982 178.808385 \r\nL 239.523702 183.910947 \r\nL 239.565642 181.162669 \r\nL 239.649524 176.242867 \r\nL 239.691464 176.762327 \r\nL 239.943109 183.121979 \r\nL 240.02699 180.994855 \r\nL 240.068931 183.497438 \r\nL 240.110871 181.459881 \r\nL 240.152812 181.341542 \r\nL 240.194753 180.56078 \r\nL 240.404456 184.868 \r\nL 240.446397 183.682772 \r\nL 240.572219 187.309727 \r\nL 240.61416 187.309727 \r\nL 240.6561 182.688497 \r\nL 240.698041 183.628879 \r\nL 240.823863 187.827961 \r\nL 241.578796 187.827961 \r\nL 241.620737 194.138182 \r\nL 250.470224 135.635181 \r\nL 250.554105 81.724792 \r\nL 250.596046 101.330668 \r\nL 250.721868 110.683819 \r\nL 253.406072 110.683819 \r\nL 253.699657 102.601115 \r\nL 262.549144 111.92941 \r\nL 262.591085 81.067538 \r\nL 262.674966 96.155785 \r\nL 263.555721 96.155785 \r\nL 263.765424 100.749221 \r\nL 264.772001 100.749221 \r\nL 264.897823 104.433917 \r\nL 264.939764 104.433917 \r\nL 265.065586 107.948166 \r\nL 265.694696 107.948166 \r\nL 265.778578 122.116777 \r\nL 274.628065 128.997696 \r\nL 274.670006 115.239064 \r\nL 274.753887 115.409611 \r\nL 274.795828 117.606679 \r\nL 274.837768 116.524577 \r\nL 274.879709 115.915675 \r\nL 274.96359 122.77826 \r\nL 275.005531 118.101429 \r\nL 275.131353 135.484323 \r\nL 277.228388 135.484323 \r\nL 277.270329 135.046849 \r\nL 277.396151 137.24304 \r\nL 277.773617 137.24304 \r\nL 277.815558 140.586582 \r\nL 277.857499 138.666661 \r\nL 310.864827 119.087123 \r\nL 310.906768 78.688884 \r\nL 310.948708 107.138965 \r\nL 311.07453 107.138965 \r\nL 311.200352 98.527429 \r\nL 311.242293 101.492753 \r\nL 311.284234 100.169012 \r\nL 311.6617 58.440638 \r\nL 311.829463 80.734243 \r\nL 313.46515 80.734243 \r\nL 313.507091 77.533821 \r\nL 313.632913 83.883485 \r\nL 313.758735 83.883485 \r\nL 313.884557 85.819203 \r\nL 314.05232 85.819203 \r\nL 314.094261 83.605702 \r\nL 322.943748 47.335583 \r\nL 323.06957 70.939067 \r\nL 324.87302 70.939067 \r\nL 325.040782 62.489753 \r\nL 325.208545 41.898411 \r\nL 325.334367 46.361446 \r\nL 325.669893 46.361446 \r\nL 325.711834 45.619218 \r\nL 325.837656 48.962276 \r\nL 325.879596 48.962276 \r\nL 325.921537 47.72919 \r\nL 325.963478 49.751647 \r\nL 326.0893 49.751647 \r\nL 326.173181 60.272478 \r\nL 335.022668 68.114048 \r\nL 335.14849 95.523833 \r\nL 336.155067 95.523833 \r\nL 336.238948 87.752948 \r\nL 336.280889 92.256052 \r\nL 336.32283 94.191642 \r\nL 336.36477 91.31585 \r\nL 336.406711 87.523699 \r\nL 336.490593 89.669268 \r\nL 336.532533 93.965571 \r\nL 336.574474 93.535105 \r\nL 336.742237 86.399716 \r\nL 336.95194 106.567087 \r\nL 336.993881 102.251155 \r\nL 337.035822 104.620295 \r\nL 337.077762 105.482724 \r\nL 337.203584 110.193856 \r\nL 337.245525 110.193856 \r\nL 337.371347 116.244378 \r\nL 337.497169 116.244378 \r\nL 337.53911 114.825473 \r\nL 337.622991 124.499165 \r\nL 337.664932 115.220969 \r\nL 337.706873 117.19584 \r\nL 337.874636 130.360108 \r\nL 338.042398 113.080449 \r\nL 338.084339 120.000149 \r\nL 338.12628 120.000149 \r\nL 338.210161 123.917913 \r\nL 338.252102 120.746357 \r\nL 347.101589 138.340834 \r\nL 347.14353 141.723363 \r\nL 347.311292 192.181772 \r\nL 350.289082 192.181772 \r\nL 350.331023 183.437222 \r\nL 359.18051 163.25108 \r\nL 359.264391 132.048328 \r\nL 359.306332 144.202595 \r\nL 359.474094 154.823871 \r\nL 360.606493 154.823871 \r\nL 360.648434 155.19315 \r\nL 360.690375 143.761691 \r\nL 360.732315 153.184726 \r\nL 360.774256 153.184726 \r\nL 360.816197 131.04265 \r\nL 360.900078 144.071483 \r\nL 362.368002 144.071483 \r\nL 362.409943 148.634753 \r\nL 362.409943 148.634753 \r\n\" style=\"fill:none;stroke:#1f77b4;stroke-linecap:square;stroke-width:1.5;\"/>\r\n   </g>\r\n   <g id=\"patch_3\">\r\n    <path d=\"M 42.828125 203.04 \r\nL 42.828125 7.2 \r\n\" style=\"fill:none;stroke:#000000;stroke-linecap:square;stroke-linejoin:miter;stroke-width:0.8;\"/>\r\n   </g>\r\n   <g id=\"patch_4\">\r\n    <path d=\"M 377.628125 203.04 \r\nL 377.628125 7.2 \r\n\" style=\"fill:none;stroke:#000000;stroke-linecap:square;stroke-linejoin:miter;stroke-width:0.8;\"/>\r\n   </g>\r\n   <g id=\"patch_5\">\r\n    <path d=\"M 42.828125 203.04 \r\nL 377.628125 203.04 \r\n\" style=\"fill:none;stroke:#000000;stroke-linecap:square;stroke-linejoin:miter;stroke-width:0.8;\"/>\r\n   </g>\r\n   <g id=\"patch_6\">\r\n    <path d=\"M 42.828125 7.2 \r\nL 377.628125 7.2 \r\n\" style=\"fill:none;stroke:#000000;stroke-linecap:square;stroke-linejoin:miter;stroke-width:0.8;\"/>\r\n   </g>\r\n  </g>\r\n </g>\r\n <defs>\r\n  <clipPath id=\"pe26e10282b\">\r\n   <rect height=\"195.84\" width=\"334.8\" x=\"42.828125\" y=\"7.2\"/>\r\n  </clipPath>\r\n </defs>\r\n</svg>\r\n",
      "image/png": "[encoded data removed]"
     },
     "metadata": {
      "needs_background": "light"
     }
    }
   ],
   "source": [
    "(1 + strategy_df['Return']).cumprod().plot()"
   ]
  },
  {
   "source": [
    "這個策略的假設:  \n",
    "- 一定可以買或賣在當天的 close price  \n",
    "- Time frame 是 intraday，但此策略可以持有到隔天。 (即不考慮 overnight risk)  \n",
    "- 沒有考慮到其他手續費   \n"
   ],
   "cell_type": "markdown",
   "metadata": {}
  },
  {
   "cell_type": "code",
   "execution_count": null,
   "metadata": {},
   "outputs": [],
   "source": []
  }
 ]
}